{
 "cells": [
  {
   "cell_type": "code",
   "execution_count": 2,
   "metadata": {},
   "outputs": [],
   "source": [
    "# Load Packages - KEEP MINIMAL FOR FISHTANK COMPATIBILITY\n",
    "import pandas as pd\n",
    "import numpy as np\n",
    "import os\n",
    "import sys"
   ]
  },
  {
   "cell_type": "code",
   "execution_count": 3,
   "metadata": {},
   "outputs": [
    {
     "name": "stdout",
     "output_type": "stream",
     "text": [
      "Usage: python iter-params.py <automation_dir> <attpcroot_dir>\n",
      "Assuming testing directories\n"
     ]
    }
   ],
   "source": [
    "# set locations for working files\n",
    "if len(sys.argv) != 3:\n",
    "    print(\"Usage: python3 iter-params.py <automation_dir> <attpcroot_dir>\")\n",
    "    print('Assuming testing directories')\n",
    "    automation_dir = '/mnt/analysis/e17023/Adam/GADGET2/'\n",
    "    attpcroot_dir = '/mnt/analysis/e17023/Adam/ATTPCROOTv2/'\n",
    "else:\n",
    "    # Automation directory\n",
    "    automation_dir = sys.argv[1]\n",
    "    \n",
    "    # ATTPCROOTv2 directory\n",
    "    attpcroot_dir = sys.argv[2]"
   ]
  },
  {
   "cell_type": "code",
   "execution_count": 78,
   "metadata": {},
   "outputs": [],
   "source": [
    "def indicator_file(file_type, indicator_directory=automation_dir):\n",
    "    df = pd.DataFrame([0])\n",
    "    df.to_csv(indicator_directory + file_type + '.csv', index=False)\n",
    "    print(file_type + ' FILE CREATED')"
   ]
  },
  {
   "cell_type": "code",
   "execution_count": 16,
   "metadata": {},
   "outputs": [
    {
     "data": {
      "text/plain": [
       "0.06141748903593503"
      ]
     },
     "execution_count": 16,
     "metadata": {},
     "output_type": "execute_result"
    }
   ],
   "source": [
    "def energy_to_momentum(energy, particle):\n",
    "    # input energy in KeV, convert to MeV\n",
    "    energy = energy/1000\n",
    "\n",
    "    # Mass values from NIST\n",
    "    if particle == 'a':\n",
    "        mass = 3727.3794066 # MeV/c^2\n",
    "    elif particle == 'p':\n",
    "        mass = 938.27208816 # MeV/c^2\n",
    "    else:\n",
    "        indicator_file('STOP')\n",
    "        raise Exception('Error: particle must be \"a\" or \"p\"')\n",
    "    momentum = np.sqrt(2*mass*energy)/1000 # GeV/c\n",
    "    return momentum\n",
    "\n",
    "energy_to_momentum(506, 'a')"
   ]
  },
  {
   "cell_type": "code",
   "execution_count": 80,
   "metadata": {},
   "outputs": [],
   "source": [
    "parameters = pd.read_csv(automation_dir + 'simInput/parameters.csv')"
   ]
  },
  {
   "cell_type": "code",
   "execution_count": 22,
   "metadata": {},
   "outputs": [
    {
     "name": "stdout",
     "output_type": "stream",
     "text": [
      "STOP FILE CREATED\n"
     ]
    },
    {
     "ename": "Exception",
     "evalue": "Could not find output file",
     "output_type": "error",
     "traceback": [
      "\u001b[0;31m---------------------------------------------------------------------------\u001b[0m",
      "\u001b[0;31mException\u001b[0m                                 Traceback (most recent call last)",
      "\u001b[0;32m/tmp/ipykernel_43187/1309809363.py\u001b[0m in \u001b[0;36m<module>\u001b[0;34m\u001b[0m\n\u001b[1;32m     35\u001b[0m     \u001b[0;32melse\u001b[0m\u001b[0;34m:\u001b[0m\u001b[0;34m\u001b[0m\u001b[0;34m\u001b[0m\u001b[0m\n\u001b[1;32m     36\u001b[0m         \u001b[0mindicator_file\u001b[0m\u001b[0;34m(\u001b[0m\u001b[0;34m'STOP'\u001b[0m\u001b[0;34m)\u001b[0m\u001b[0;34m\u001b[0m\u001b[0;34m\u001b[0m\u001b[0m\n\u001b[0;32m---> 37\u001b[0;31m         \u001b[0;32mraise\u001b[0m \u001b[0mException\u001b[0m\u001b[0;34m(\u001b[0m\u001b[0;34m'Could not find output file'\u001b[0m\u001b[0;34m)\u001b[0m\u001b[0;34m\u001b[0m\u001b[0;34m\u001b[0m\u001b[0m\n\u001b[0m",
      "\u001b[0;31mException\u001b[0m: Could not find output file"
     ]
    }
   ],
   "source": [
    "# check for and complete any active simulations\n",
    "\n",
    "# 0 = inactive\n",
    "# 1 = active\n",
    "# 2 = complete\n",
    "\n",
    "# todo: check for changes that require a rebuild\n",
    "\n",
    "if not parameters['Sim'].is_unique:\n",
    "    indicator_file('STOP')\n",
    "    raise Exception('Simulation names are not unique')\n",
    "\n",
    "active_sims = parameters[parameters['Status'] == 1]\n",
    "if len(active_sims) > 0:\n",
    "    \n",
    "    if len(active_sims) > 1:\n",
    "        indicator_file('STOP')\n",
    "        raise Exception('More than one active simulation')\n",
    "    \n",
    "    # Search for output.h5 and rename\n",
    "    Complete = False\n",
    "    for filename in os.listdir(automation_dir + 'simOutput/'):\n",
    "        f = os.path.join(automation_dir + 'simOutput/', filename)\n",
    "        # checking if it is a file\n",
    "        if os.path.isfile(f):\n",
    "            if filename == 'output.h5':\n",
    "                os.rename(f, automation_dir + 'simOutput/hdf5/' + active_sims.loc[active_sims.index[0],'Sim']+'.h5')\n",
    "                Complete = True\n",
    "    \n",
    "    # Set Status in parameters\n",
    "    if Complete:\n",
    "        parameters.loc[active_sims.index[0], 'Status'] = 2\n",
    "        print('Simulation', parameters.loc[active_sims.index[0], 'Sim'] + ' complete')\n",
    "        \n",
    "    else:\n",
    "        indicator_file('STOP')\n",
    "        raise Exception('Could not find output file')"
   ]
  },
  {
   "cell_type": "code",
   "execution_count": null,
   "metadata": {},
   "outputs": [
    {
     "name": "stdout",
     "output_type": "stream",
     "text": [
      "next simulation:  Reference\n"
     ]
    }
   ],
   "source": [
    "# Determine next simulation to run and mark as active\n",
    "inactive_sims = parameters[parameters['Status'] == 0]\n",
    "if len(inactive_sims) == 0:\n",
    "    indicator_file('STOP')\n",
    "    parameters.to_csv(automation_dir + 'simInput/parameters.csv', index=False)\n",
    "    raise Exception('Finished with all simulations')\n",
    "else:\n",
    "    if len(active_sims) > 0: # not first iteration\n",
    "        # check for parameter sets that don't require a rebuild but have not been run\n",
    "        for i in inactive_sims.index:\n",
    "            score = 0\n",
    "            building_params = ['P0', 'E0', 'P1', 'E1']\n",
    "            for param in building_params:\n",
    "                score += inactive_sims.loc[i, param] == active_sims.loc[active_sims.index[0], param]\n",
    "            if score == 4:\n",
    "                active_sim = i\n",
    "                break # found a match, break out of loop\n",
    "            else:\n",
    "                if i == inactive_sims.index[-1]: # no match found\n",
    "                    active_sim = inactive_sims.index[0]\n",
    "                    indicator_file('BUILD')\n",
    "                    \n",
    "    else: # first iteration, no active sims to compare to\n",
    "        active_sim = inactive_sims.index[0]\n",
    "        indicator_file('BUILD')\n",
    "    \n",
    "    parameters.loc[active_sim, 'Status'] = 1\n",
    "    print(\"next simulation: \", parameters.loc[active_sim, 'Sim'])"
   ]
  },
  {
   "cell_type": "code",
   "execution_count": null,
   "metadata": {},
   "outputs": [],
   "source": [
    "# run check on parameters to confirm they are valid\n",
    "# TODO - generally fixes itself by erroring out, but should be fixed to avoid wasting time on bad parameters"
   ]
  },
  {
   "cell_type": "code",
   "execution_count": 34,
   "metadata": {},
   "outputs": [],
   "source": [
    "# Modify GADGET.sim.par\n",
    "with open(automation_dir + 'simInput/templates/GADGET.sim.par', 'r') as file :\n",
    "    filedata = file.readlines()\n",
    "    \n",
    "# replace target parameters\n",
    "for param in parameters.columns:\n",
    "    for i, line in enumerate(filedata):\n",
    "        if param == line.split(':')[0]:\n",
    "            # Line composition:     param:ptype_t   paramval   # units / comments\n",
    "            \n",
    "            ptype = line.split(':')[1].split('_')[0]\n",
    "            paramval = parameters.loc[active_sim, param]\n",
    "            filedata[i] = param + ': ' + ptype + '_t     ' + str(paramval) + '     #' + line.split('#')[1]\n",
    " \n",
    "# write file\n",
    "with open(automation_dir + 'simInput/queue/GADGET.sim.par', 'w') as file:\n",
    "    file.writelines(filedata)\n"
   ]
  },
  {
   "cell_type": "code",
   "execution_count": 51,
   "metadata": {},
   "outputs": [
    {
     "name": "stdout",
     "output_type": "stream",
     "text": [
      "PA\n",
      "   Double32_t pabsProton = 0.04745369333976018; // P0 E0\n",
      "\n",
      "   Double32_t pabsAlpha = 0.0610522678252004; // P1 E1\n",
      "\n"
     ]
    }
   ],
   "source": [
    "# Modify AtTPC20MgDecay_pag.cxx (Generators)\n",
    "P0 = parameters.loc[active_sim, 'P0']; E0 = parameters.loc[active_sim, 'E0']\n",
    "P1 = parameters.loc[active_sim, 'P1']; E1 = parameters.loc[active_sim, 'E1']\n",
    "\n",
    "ParticleString = str(P0)\n",
    "if E1 != 0:\n",
    "    ParticleString = ParticleString + str(P1)\n",
    "\n",
    "ParticleString = ParticleString.upper()\n",
    "\n",
    "\n",
    "# Determine order of particles for generator file and existance of file\n",
    "# allows for two-particle generators to be called in any order\n",
    "if os.path.isfile(automation_dir + 'simInput/templates/Generator' + ParticleString + '.txt'):\n",
    "    pass\n",
    "elif os.path.isfile(automation_dir + 'simInput/templates/Generator' + ParticleString[::-1] + '.txt'):\n",
    "    ParticleString = ParticleString[::-1]\n",
    "    P0 = parameters.loc[active_sim, 'P1']; E0 = parameters.loc[active_sim, 'E1']\n",
    "    P1 = parameters.loc[active_sim, 'P0']; E1 = parameters.loc[active_sim, 'E0']\n",
    "else:\n",
    "    indicator_file('STOP')\n",
    "    print('Generator file', ParticleString ,'does not exist')\n",
    "    raise Exception('Generator file not found')\n",
    "\n",
    "# TEST FOR EXISTING GENERATOR FILE AND EDIT WITH PARTICLE ENERGIES\n",
    "with open(automation_dir + 'simInput/templates/Generator' + ParticleString + '.txt', 'r') as file :\n",
    "    filedata = file.readlines()\n",
    "    \n",
    "# locate and replace particle energies (Comment lines in generators with P0 E0 or P1 E1 to specify which line to replace)\n",
    "for i, line in enumerate(filedata):\n",
    "    if 'P0 E0' in line.split('//')[-1]:\n",
    "        filedata[i] = line.split('=')[0] + '= ' + str(energy_to_momentum(E0, P0)) + '; // P0 E0\\n'\n",
    "\n",
    "    if 'P1 E1' in line.split('//')[-1]:\n",
    "        filedata[i] = line.split('=')[0] + '= ' + str(energy_to_momentum(E1, P1)) + '; // P1 E1\\n'\n",
    "    \n",
    "    if \"Seed\" in line.split('//')[-1]:\n",
    "        if 'Seed' in parameters.columns:\n",
    "            if parameters.loc[active_sim, 'Seed'] != 0:\n",
    "                filedata[i] = line.split('(')[0] + '(' + str(parameters.loc[active_sim, 'Seed']) + '); // Seed\\n'\n",
    "\n",
    "# write file\n",
    "with open(automation_dir + 'simInput/queue/AtTPC20MgDecay_pag.cxx', 'w') as file:\n",
    "    file.writelines(filedata)"
   ]
  },
  {
   "cell_type": "code",
   "execution_count": 81,
   "metadata": {},
   "outputs": [],
   "source": [
    "# MODIFY Mg20_test_sim.C \n",
    "with open(automation_dir + 'simInput/templates/Mg20_test_sim_pag.C', 'r') as file:\n",
    "    filedata = file.readlines()\n",
    "\n",
    "# Modify particle momentum\n",
    "for i, line in enumerate(filedata):\n",
    "    if 'P0 E0' in line.split('//')[-1]:\n",
    "        filedata[i] = line.split('(')[0] + '(' + str(E0 / 1000000) + ', 1); // P0 E0\\n'\n",
    "\n",
    "    if 'P1 E1' in line.split('//')[-1]:\n",
    "        if E1 == 0:\n",
    "            filedata[i] = '// ' + line\n",
    "        else:\n",
    "            filedata[i] = line.split('(')[0] + '(' + str(E1 / 1000000) + ', 1); // P1 E1\\n'\n",
    "\n",
    "# modify particle origin\n",
    "for i, line in enumerate(filedata):\n",
    "    if 'bounds' in line.split('//')[-1]:\n",
    "        Xb = 0; Yb = 0; Zb1 = 10; Zb2 = 40\n",
    "        if 'Xb' in parameters.columns:\n",
    "            Xb = parameters.loc[active_sim, 'Xb']\n",
    "        if 'Yb' in parameters.columns:\n",
    "            Yb = parameters.loc[active_sim, 'Yb']\n",
    "        if 'Zb1' in parameters.columns:\n",
    "            Zb1 = parameters.loc[active_sim, 'Zb1']\n",
    "        if 'Zb2' in parameters.columns:\n",
    "            Zb2 = parameters.loc[active_sim, 'Zb2']\n",
    "            \n",
    "        filedata[i] = line.split('(')[0] + '(' + str(-Xb) + ', ' + str(-Yb) + ', ' + str(Zb1) + ', ' + str(Xb) + ', ' + str(Yb) + ', ' + str(Zb2) + '); // bounds\\n'\n",
    "\n",
    "# modify number of particles\n",
    "if 'N' in parameters.columns:\n",
    "    filedata[0] = filedata[0].split('=')[0] + '= ' + str(int(parameters.loc[active_sim, 'N'])) + ',' + filedata[0].split(',')[-1]\n",
    "\n",
    "# modify directory for accurate locations\n",
    "#for i, line in enumerate(filedata):\n",
    "    # test for output file\n",
    "#    if 'Output file name' in line.split('//')[-1]:\n",
    "#        filedata[i] = line.split('\"')[0] + '\"' + attpcroot_dir + 'macro/Simulation/Charge_Dispersion/data/gadgetsim.root\"' + line.split('\"')[-1] \n",
    "#    elif 'Parameter file name' in line.split('//')[-1]:\n",
    "#        filedata[i] = line.split('\"')[0] + '\"' + attpcroot_dir + 'macro/Simulation/Charge_Dispersion/data/gadgetpar.root\"' + line.split('\"')[-1]\n",
    "#    elif 'GeoFile location' in line.split('//')[-1]:\n",
    "#        filedata[i] = line.split('\"')[0] + '\"' + attpcroot_dir + 'macro/Simulation/Charge_Dispersion/data/geofile_proto_full.root\"' + line.split('\"')[-1]\n",
    "\n",
    "# write file\n",
    "with open(automation_dir + 'simInput/queue/Mg20_test_sim_pag.C', 'w') as file:\n",
    "    file.writelines(filedata)"
   ]
  },
  {
   "cell_type": "code",
   "execution_count": 98,
   "metadata": {},
   "outputs": [],
   "source": [
    "# Modify rundigi_sim.C\n",
    "with open(automation_dir + 'simInput/templates/rundigi_sim_CD.C', 'r') as file:\n",
    "    filedata = file.readlines()\n",
    "\n",
    "# modify number of particles\n",
    "for i, line in enumerate(filedata):\n",
    "    if ' N\\n' == line.split('//')[-1]:\n",
    "        if 'N' in parameters.columns:\n",
    "            filedata[i] = line.split(',')[0] + ', ' + str(int(parameters.loc[active_sim, 'N'])) + '); // N\\n'\n",
    "\n",
    "# modify Threshold\n",
    "for i, line in enumerate(filedata):\n",
    "    if 'Threshold' in line.split('//')[-1]:\n",
    "        if 'Threshold' in parameters.columns:\n",
    "            threshold = parameters.loc[active_sim, 'Threshold']\n",
    "        else:\n",
    "            threshold = 20\n",
    "\n",
    "        filedata[i] = line.split('(')[0] + '(' + str(threshold) + '); // Threshold\\n'\n",
    "\n",
    "# modify Charge Dispersion Adjacent Pads\n",
    "for i, line in enumerate(filedata):\n",
    "    if 'Charge Dispersion' in line.split('//')[-1]:\n",
    "        if 'CD' in parameters.columns:\n",
    "            filedata[i] = line.split('(')[0] + '(' + str(int(parameters.loc[active_sim, 'CD'])) + '); // Charge Dispersion\\n'\n",
    "\n",
    "# Modify directory for accurate locations\n",
    "#for i, line in enumerate(filedata):\n",
    "#    if 'gadgetsim root file' in line.split('//')[-1]:\n",
    "#        filedata[i] = line.split('\"')[0] + '\"' + attpcroot_dir + 'macro/Simulation/Charge_Dispersion/data/gadgetsim.root\"' + line.split('\"')[-1]\n",
    "\n",
    "# write file\n",
    "with open(automation_dir + 'simInput/queue/rundigi_sim_CD.C', 'w') as file:\n",
    "    file.writelines(filedata)"
   ]
  },
  {
   "cell_type": "code",
   "execution_count": 99,
   "metadata": {},
   "outputs": [],
   "source": [
    "# POSSIBLE FUTURE FILE MODIFICATIONS (NOT CURRENTLY IMPLEMENTED)\n",
    "# Modify R2HMain.cc\n",
    "# TODO\n",
    "# Modify media.geo\n",
    "# TODO\n",
    "# Modify GADGET_II.C\n",
    "# TODO\n",
    "# Modify GADGET_II_lp.C\n",
    "# TODO"
   ]
  },
  {
   "cell_type": "code",
   "execution_count": null,
   "metadata": {},
   "outputs": [],
   "source": [
    "# Update parameters.csv\n",
    "parameters.to_csv(automation_dir + 'simInput/parameters.csv', index=False)"
   ]
  }
 ],
 "metadata": {
  "kernelspec": {
   "display_name": "Python 3",
   "language": "python",
   "name": "python3"
  },
  "language_info": {
   "codemirror_mode": {
    "name": "ipython",
    "version": 3
   },
   "file_extension": ".py",
   "mimetype": "text/x-python",
   "name": "python",
   "nbconvert_exporter": "python",
   "pygments_lexer": "ipython3",
   "version": "3.7.3"
  },
  "vscode": {
   "interpreter": {
    "hash": "916dbcbb3f70747c44a77c7bcd40155683ae19c65e1c03b4aa3499c5328201f1"
   }
  }
 },
 "nbformat": 4,
 "nbformat_minor": 4
}
