{
 "cells": [
  {
   "cell_type": "code",
   "execution_count": 5,
   "metadata": {},
   "outputs": [],
   "source": [
    "import pandas as pd\n",
    "import numpy as np\n",
    "import matplotlib.pyplot as plt\n",
    "import random\n",
    "import math\n",
    "import sys, os"
   ]
  },
  {
   "cell_type": "code",
   "execution_count": 6,
   "metadata": {},
   "outputs": [],
   "source": [
    "P0 = 'p'\n",
    "P1 = 'a'\n",
    "N = 100\n",
    "N_full = 20000\n",
    "uniform_params = {\n",
    "    'E0' : [950, 1450],\n",
    "    'E1' : [480, 520],\n",
    "    'CD' : [1, 3],\n",
    "    'CDH' : [1, 3]}\n",
    "multiplicative_params = {\n",
    "    'Threshold' : [100,4],\n",
    "    'EIonize' : [22.3, 1.1],\n",
    "    'Fano' : [0.24, 1.1],\n",
    "    'CoefL' : [0.000114, 1.1],\n",
    "    'CoefT' : [0.00284, 1.1],\n",
    "    'Gain' : [8000, 1.1],\n",
    "    'GETGain' : [120, 1.1],\n",
    "    'PeakingTime' : [1014, 1.1]}"
   ]
  },
  {
   "cell_type": "code",
   "execution_count": 7,
   "metadata": {},
   "outputs": [],
   "source": [
    "param_df = pd.DataFrame(columns=['Sim', 'Status', 'P0', 'E0', 'P1', 'E1', 'N'])\n",
    "N_sim = N_full // N\n",
    "for i in range(N_sim):\n",
    "    param_df = param_df.append({'Sim' : f'VarSim{i}', 'Status' : 0, 'N' : N}, ignore_index=True)\n",
    "\n",
    "param_df['P0'] = P0\n",
    "param_df['P1'] = P1\n",
    "\n",
    "for key, value in uniform_params.items():\n",
    "    param_df[key] = np.random.randint(value[0], value[1]+1, N_sim)\n",
    "for key, value in multiplicative_params.items():\n",
    "    dev_k = np.random.uniform(-1,1,N_sim)\n",
    "    param_df[key] = value[0] * (value[1] ** dev_k)\n",
    "\n",
    "# integer keys fix\n",
    "for key in ['CD', 'CDH', 'Threshold', 'Gain', 'GETGain', 'PeakingTime', 'E0', 'E1', 'N']:\n",
    "    param_df[key] = param_df[key].astype(int)"
   ]
  },
  {
   "cell_type": "code",
   "execution_count": 8,
   "metadata": {},
   "outputs": [],
   "source": [
    "param_df.to_csv('parameters.csv', index=False)"
   ]
  }
 ],
 "metadata": {
  "kernelspec": {
   "display_name": "Python 3",
   "language": "python",
   "name": "python3"
  },
  "language_info": {
   "codemirror_mode": {
    "name": "ipython",
    "version": 3
   },
   "file_extension": ".py",
   "mimetype": "text/x-python",
   "name": "python",
   "nbconvert_exporter": "python",
   "pygments_lexer": "ipython3",
   "version": "3.7.3"
  }
 },
 "nbformat": 4,
 "nbformat_minor": 2
}
