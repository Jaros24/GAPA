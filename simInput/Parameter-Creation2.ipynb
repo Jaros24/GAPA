{
 "cells": [
  {
   "cell_type": "code",
   "execution_count": 102,
   "metadata": {},
   "outputs": [],
   "source": [
    "import numpy as np\n",
    "import pandas as pd\n",
    "import math\n",
    "import random\n",
    "\n",
    "# set the seed for reproducibility\n",
    "random.seed(123)\n",
    "\n",
    "# particle specification, will be made variable later\n",
    "P0 = 'p'; E0 = 800\n",
    "P1 = 'a'; E1 = 0\n",
    "\n",
    "# number of events per simulation\n",
    "nEvents = 100\n",
    "\n",
    "# number of simulations\n",
    "nSim = 10\n",
    "\n",
    "# standard variation of parameters\n",
    "sigma = 0.1\n",
    "\n",
    "# determine if parameter file should be overwritten or appended\n",
    "overwrite = True\n",
    "\n",
    "# name of simulations\n",
    "simName = 'April4-'"
   ]
  },
  {
   "cell_type": "code",
   "execution_count": 108,
   "metadata": {},
   "outputs": [],
   "source": [
    "# read in the default parameters from GADGET.sim.par\n",
    "# and store them in a dictionary\n",
    "# key: parameter name\n",
    "\n",
    "param_dict = {}\n",
    "\n",
    "with open('templates/GADGET.sim.par') as f:\n",
    "    lines = f.readlines()\n",
    "for i in range(len(lines)):\n",
    "    # if line is commented, skip\n",
    "    if lines[i][0] == '#':\n",
    "        continue\n",
    "\n",
    "    seg0 = lines[i].split(':')[0]\n",
    "    seg1 = lines[i].split(':')[-1]\n",
    "    if 'Int_t' in seg1 or 'Double_t' in seg1:\n",
    "        # extract the number from seg1\n",
    "        for j in seg1.split('#')[0].split(' '):\n",
    "            if j != '':\n",
    "                try:\n",
    "                    float(j)\n",
    "                    if 'Int_t' in seg1:\n",
    "                        param_dict[seg0] = [int(j), 0]\n",
    "                    else:\n",
    "                        param_dict[seg0] = [float(j)]\n",
    "                        # determine precision of parameter\n",
    "                        if '.' in j:\n",
    "                            param_dict[seg0].append(len(j.split('.')[1]))\n",
    "                        else:\n",
    "                            param_dict[seg0].append(1)\n",
    "\n",
    "                except:\n",
    "                    pass\n",
    "\n",
    "# Add additional parameters by hand\n",
    "param_dict['E0'] = [E0, 0]\n",
    "param_dict['E1'] = [E1, 0]\n",
    "\n",
    "param_dict['Xb'] = [2, 0]\n",
    "param_dict['Yb'] = [2, 0]\n",
    "param_dict['Zb1'] = [10, 0]\n",
    "param_dict['Zb2'] = [40, 0]\n",
    "\n",
    "param_dict['Threshold'] = [20, 0]"
   ]
  },
  {
   "cell_type": "code",
   "execution_count": 104,
   "metadata": {},
   "outputs": [],
   "source": [
    "def param_variation(val0, var, nSim=10, var_type='uniform', fraction = False, decimal=0):\n",
    "    # val0: the base value\n",
    "    # var: the variation\n",
    "    # var_type: the type of distribution to use\n",
    "    # fraction: whether the variation is a fraction of the base value\n",
    "    # decimal: the number of decimal places to round to\n",
    "\n",
    "    if fraction == True:\n",
    "        var *= val0\n",
    "\n",
    "    if var_type == 'uniform':\n",
    "        val = np.random.uniform(val0-var, val0+var, nSim)\n",
    "    elif var_type == 'normal':\n",
    "        val = np.random.normal(val0, var, nSim)\n",
    "    elif var_type == 'triangular':\n",
    "        val = np.random.triangular(val0-var, val0, val0+var, nSim)\n",
    "    else:\n",
    "        raise ValueError('var_type not valid')\n",
    "    \n",
    "    val = np.round(val, decimal)\n",
    "    if decimal == 0:\n",
    "        val = val.astype(int)\n",
    "    return val"
   ]
  },
  {
   "cell_type": "code",
   "execution_count": 105,
   "metadata": {},
   "outputs": [],
   "source": [
    "if overwrite:\n",
    "    param_df = pd.DataFrame(columns=['Sim', 'Status', 'N', 'P0', 'E0', 'P1', 'E1', 'Xb', 'Yb', 'Zb1', 'Zb2', 'Threshold'])\n",
    "else:\n",
    "    param_df = pd.read_csv('parameters.csv')"
   ]
  },
  {
   "cell_type": "code",
   "execution_count": 106,
   "metadata": {},
   "outputs": [
    {
     "data": {
      "text/html": [
       "<div>\n",
       "<style scoped>\n",
       "    .dataframe tbody tr th:only-of-type {\n",
       "        vertical-align: middle;\n",
       "    }\n",
       "\n",
       "    .dataframe tbody tr th {\n",
       "        vertical-align: top;\n",
       "    }\n",
       "\n",
       "    .dataframe thead th {\n",
       "        text-align: right;\n",
       "    }\n",
       "</style>\n",
       "<table border=\"1\" class=\"dataframe\">\n",
       "  <thead>\n",
       "    <tr style=\"text-align: right;\">\n",
       "      <th></th>\n",
       "      <th>Sim</th>\n",
       "      <th>Status</th>\n",
       "      <th>N</th>\n",
       "      <th>P0</th>\n",
       "      <th>E0</th>\n",
       "      <th>P1</th>\n",
       "      <th>E1</th>\n",
       "      <th>Xb</th>\n",
       "      <th>Yb</th>\n",
       "      <th>Zb1</th>\n",
       "      <th>Zb2</th>\n",
       "      <th>Threshold</th>\n",
       "    </tr>\n",
       "  </thead>\n",
       "  <tbody>\n",
       "  </tbody>\n",
       "</table>\n",
       "</div>"
      ],
      "text/plain": [
       "Empty DataFrame\n",
       "Columns: [Sim, Status, N, P0, E0, P1, E1, Xb, Yb, Zb1, Zb2, Threshold]\n",
       "Index: []"
      ]
     },
     "execution_count": 106,
     "metadata": {},
     "output_type": "execute_result"
    }
   ],
   "source": [
    "for i in range(nSim):\n",
    "    # create a new row in the dataframe\n",
    "    param_df.loc[i] = [simName + str(i+1), 0, nEvents, P0, E0, P1, E1, 2, 2, 10, 40, 20]\n",
    "\n",
    "    # vary the parameters\n",
    "    for key in param_dict:\n",
    "        if key in ['Sim', 'Status', 'N', 'P0', 'E0', 'P1', 'E1', 'Xb', 'Yb', 'Zb1', 'Zb2', 'Threshold']:\n",
    "            continue\n",
    "        val = param_variation(param_dict[key][0], sigma*param_dict[key][0], 1, 'normal', False, param_dict[key][1])\n",
    "        param_df.loc[i, key] = val[0]"
   ]
  },
  {
   "cell_type": "code",
   "execution_count": null,
   "metadata": {},
   "outputs": [],
   "source": []
  }
 ],
 "metadata": {
  "kernelspec": {
   "display_name": "Python 3",
   "language": "python",
   "name": "python3"
  },
  "language_info": {
   "codemirror_mode": {
    "name": "ipython",
    "version": 3
   },
   "file_extension": ".py",
   "mimetype": "text/x-python",
   "name": "python",
   "nbconvert_exporter": "python",
   "pygments_lexer": "ipython3",
   "version": "3.10.10"
  },
  "orig_nbformat": 4,
  "vscode": {
   "interpreter": {
    "hash": "c295b91a4a4f8e66f37da6a2fbf5c84e6919990d10548059361442497be2c972"
   }
  }
 },
 "nbformat": 4,
 "nbformat_minor": 2
}
