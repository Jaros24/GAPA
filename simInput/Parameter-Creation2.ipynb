{
 "cells": [
  {
   "cell_type": "code",
   "execution_count": 1,
   "metadata": {},
   "outputs": [],
   "source": [
    "import numpy as np\n",
    "import pandas as pd\n",
    "import math"
   ]
  },
  {
   "cell_type": "code",
   "execution_count": 2,
   "metadata": {},
   "outputs": [],
   "source": [
    "overwrite = True"
   ]
  },
  {
   "cell_type": "code",
   "execution_count": 4,
   "metadata": {},
   "outputs": [],
   "source": [
    "if overwrite:\n",
    "    param_df = pd.read_csv('parameters-template.csv')\n",
    "else:\n",
    "    param_df = pd.read_csv('parameters.csv')"
   ]
  },
  {
   "cell_type": "code",
   "execution_count": 5,
   "metadata": {},
   "outputs": [
    {
     "data": {
      "text/html": [
       "<div>\n",
       "<style scoped>\n",
       "    .dataframe tbody tr th:only-of-type {\n",
       "        vertical-align: middle;\n",
       "    }\n",
       "\n",
       "    .dataframe tbody tr th {\n",
       "        vertical-align: top;\n",
       "    }\n",
       "\n",
       "    .dataframe thead th {\n",
       "        text-align: right;\n",
       "    }\n",
       "</style>\n",
       "<table border=\"1\" class=\"dataframe\">\n",
       "  <thead>\n",
       "    <tr style=\"text-align: right;\">\n",
       "      <th></th>\n",
       "      <th>Sim</th>\n",
       "      <th>CoefL</th>\n",
       "      <th>CoefT</th>\n",
       "      <th>Gain</th>\n",
       "      <th>GETGain</th>\n",
       "      <th>PeakingTime</th>\n",
       "      <th>N</th>\n",
       "      <th>P0</th>\n",
       "      <th>E0</th>\n",
       "      <th>P1</th>\n",
       "      <th>E1</th>\n",
       "      <th>Status</th>\n",
       "    </tr>\n",
       "  </thead>\n",
       "  <tbody>\n",
       "    <tr>\n",
       "      <th>0</th>\n",
       "      <td>800p_Ref</td>\n",
       "      <td>0.000114</td>\n",
       "      <td>0.00037</td>\n",
       "      <td>10000</td>\n",
       "      <td>1000</td>\n",
       "      <td>720</td>\n",
       "      <td>100</td>\n",
       "      <td>p</td>\n",
       "      <td>800</td>\n",
       "      <td>0</td>\n",
       "      <td>0</td>\n",
       "      <td>0</td>\n",
       "    </tr>\n",
       "  </tbody>\n",
       "</table>\n",
       "</div>"
      ],
      "text/plain": [
       "        Sim     CoefL    CoefT   Gain  GETGain  PeakingTime    N P0   E0  P1  \\\n",
       "0  800p_Ref  0.000114  0.00037  10000     1000          720  100  p  800   0   \n",
       "\n",
       "   E1  Status  \n",
       "0   0       0  "
      ]
     },
     "execution_count": 5,
     "metadata": {},
     "output_type": "execute_result"
    }
   ],
   "source": [
    "param_df"
   ]
  },
  {
   "cell_type": "code",
   "execution_count": null,
   "metadata": {},
   "outputs": [],
   "source": [
    "P0, E0 = 'p', 800\n",
    "P1, E1 = '0', 0\n",
    "\n",
    "parameter_guesses = {\n",
    "    'CoefL' : 0.000114,\n",
    "    'CoefT' : 0.00037,\n",
    "    'Gain' : 10000,\n",
    "    'GETGain' : 1000,\n",
    "    'PeakingTime' : 720,\n",
    "    'N' : 100}\n"
   ]
  }
 ],
 "metadata": {
  "kernelspec": {
   "display_name": "Python 3",
   "language": "python",
   "name": "python3"
  },
  "language_info": {
   "codemirror_mode": {
    "name": "ipython",
    "version": 3
   },
   "file_extension": ".py",
   "mimetype": "text/x-python",
   "name": "python",
   "nbconvert_exporter": "python",
   "pygments_lexer": "ipython3",
   "version": "3.10.10"
  },
  "orig_nbformat": 4,
  "vscode": {
   "interpreter": {
    "hash": "c295b91a4a4f8e66f37da6a2fbf5c84e6919990d10548059361442497be2c972"
   }
  }
 },
 "nbformat": 4,
 "nbformat_minor": 2
}
