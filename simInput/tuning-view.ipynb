{
 "cells": [
  {
   "cell_type": "code",
   "execution_count": 1,
   "metadata": {},
   "outputs": [
    {
     "ename": "NameError",
     "evalue": "name 'pd' is not defined",
     "output_type": "error",
     "traceback": [
      "\u001b[0;31m---------------------------------------------------------------------------\u001b[0m",
      "\u001b[0;31mNameError\u001b[0m                                 Traceback (most recent call last)",
      "\u001b[0;32m/tmp/ipykernel_3671/3515876379.py\u001b[0m in \u001b[0;36m<module>\u001b[0;34m\u001b[0m\n\u001b[0;32m----> 1\u001b[0;31m \u001b[0mparam_df\u001b[0m \u001b[0;34m=\u001b[0m \u001b[0mpd\u001b[0m\u001b[0;34m.\u001b[0m\u001b[0mread_csv\u001b[0m\u001b[0;34m(\u001b[0m\u001b[0;34m'/mnt/analysis/e17023/Adam/GADGET2/simInput/parameters.csv'\u001b[0m\u001b[0;34m)\u001b[0m\u001b[0;34m\u001b[0m\u001b[0;34m\u001b[0m\u001b[0m\n\u001b[0m\u001b[1;32m      2\u001b[0m \u001b[0mparam_df\u001b[0m \u001b[0;34m=\u001b[0m \u001b[0mparam_df\u001b[0m\u001b[0;34m[\u001b[0m\u001b[0mparam_df\u001b[0m\u001b[0;34m[\u001b[0m\u001b[0;34m'Score'\u001b[0m\u001b[0;34m]\u001b[0m \u001b[0;34m>\u001b[0m \u001b[0;36m0\u001b[0m\u001b[0;34m]\u001b[0m\u001b[0;34m\u001b[0m\u001b[0;34m\u001b[0m\u001b[0m\n\u001b[1;32m      3\u001b[0m \u001b[0;34m\u001b[0m\u001b[0m\n\u001b[1;32m      4\u001b[0m \u001b[0;32mwith\u001b[0m \u001b[0mopen\u001b[0m\u001b[0;34m(\u001b[0m\u001b[0;34m'/mnt/analysis/e17023/Adam/GADGET2/simOutput/tuning_params.json'\u001b[0m\u001b[0;34m,\u001b[0m \u001b[0;34m'r'\u001b[0m\u001b[0;34m)\u001b[0m \u001b[0;32mas\u001b[0m \u001b[0mf\u001b[0m\u001b[0;34m:\u001b[0m\u001b[0;34m\u001b[0m\u001b[0;34m\u001b[0m\u001b[0m\n\u001b[1;32m      5\u001b[0m     \u001b[0mtuning_params\u001b[0m \u001b[0;34m=\u001b[0m \u001b[0mjson\u001b[0m\u001b[0;34m.\u001b[0m\u001b[0mload\u001b[0m\u001b[0;34m(\u001b[0m\u001b[0mf\u001b[0m\u001b[0;34m)\u001b[0m\u001b[0;34m\u001b[0m\u001b[0;34m\u001b[0m\u001b[0m\n",
      "\u001b[0;31mNameError\u001b[0m: name 'pd' is not defined"
     ]
    }
   ],
   "source": [
    "import numpy as np\n",
    "import pandas as pd\n",
    "import matplotlib.pyplot as plt\n",
    "import json\n",
    "\n",
    "param_df = pd.read_csv('/mnt/analysis/e17023/Adam/GADGET2/simInput/parameters.csv')\n",
    "param_df = param_df[param_df['Score'] > 0]\n",
    "\n",
    "with open('/mnt/analysis/e17023/Adam/GADGET2/simOutput/tuning_params.json', 'r') as f:\n",
    "    tuning_params = json.load(f)\n",
    "\n",
    "offset = 0\n",
    "for param in tuning_params:\n",
    "    if param not in ['Settings']:\n",
    "        min_val = tuning_params[param][1]\n",
    "        max_val = tuning_params[param][2]\n",
    "        best_val = tuning_params[param][0]\n",
    "        param_df[param] = param_df[param].apply(lambda x: (x - min_val) / (max_val - min_val))\n",
    "        param_df[param] = np.clip(param_df[param], 0, 1) + offset\n",
    "        \n",
    "        plt.plot([0, len(param_df)], [offset, offset], 'k')\n",
    "        \n",
    "        # print best value in the middle of the plot\n",
    "        plt.text(len(param_df), offset + 0.4, str(round(best_val,6)), horizontalalignment='center', verticalalignment='center')\n",
    "        \n",
    "        offset -= 1\n",
    "        plt.plot(param_df[param], label = param)\n",
    "\n",
    "# don't show y axis ticks or labels, legend on the left\n",
    "plt.legend(loc='center left')\n",
    "plt.yticks([])\n",
    "\n",
    "# save plot\n",
    "plt.savefig('/mnt/analysis/e17023/Adam/GADGET2/simOutput/params.png')\n",
    "\n",
    "# make new plot of score over time\n",
    "plt.clf()\n",
    "\n",
    "\n",
    "new_best_score = []\n",
    "nb_i = []\n",
    "for i in range(len(param_df)):\n",
    "    if i == 0:\n",
    "        new_best_score.append(param_df['Score'].iloc[i])\n",
    "        nb_i.append(i)\n",
    "    else:\n",
    "        if param_df['Score'].iloc[i] < new_best_score[-1]:\n",
    "            new_best_score.append(param_df['Score'].iloc[i])\n",
    "            nb_i.append(i)\n",
    "\n",
    "new_best_score.append(new_best_score[-1])\n",
    "nb_i.append(len(param_df))\n",
    "\n",
    "plt.plot(param_df['Score'], 'o')\n",
    "plt.plot(nb_i, new_best_score, label = str(new_best_score[-2]) + ' at ' + str(nb_i[-2]))\n",
    "\n",
    "# fit an exponential to the data\n",
    "from scipy.optimize import curve_fit\n",
    "def func(x, a, b, c):\n",
    "    x = np.array(x)\n",
    "    return a * np.exp(-b * x) + c\n",
    "\n",
    "popt, pcov = curve_fit(func, nb_i, new_best_score)\n",
    "plt.plot(nb_i, func(nb_i, *popt), 'r-', label = 'fit: a=%5.3f, b=%5.3f, c=%5.3f' % tuple(popt))\n",
    "\n",
    "plt.legend()\n",
    "plt.savefig('/mnt/analysis/e17023/Adam/GADGET2/simOutput/score.png')\n",
    "\n"
   ]
  },
  {
   "cell_type": "code",
   "execution_count": null,
   "metadata": {},
   "outputs": [],
   "source": []
  }
 ],
 "metadata": {
  "kernelspec": {
   "display_name": "Python 3",
   "language": "python",
   "name": "python3"
  },
  "language_info": {
   "codemirror_mode": {
    "name": "ipython",
    "version": 3
   },
   "file_extension": ".py",
   "mimetype": "text/x-python",
   "name": "python",
   "nbconvert_exporter": "python",
   "pygments_lexer": "ipython3",
   "version": "3.7.3"
  },
  "orig_nbformat": 4
 },
 "nbformat": 4,
 "nbformat_minor": 2
}
