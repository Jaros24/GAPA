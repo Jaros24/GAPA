{
 "cells": [
  {
   "cell_type": "code",
   "execution_count": 1,
   "metadata": {},
   "outputs": [],
   "source": [
    "# Load Packages - KEEP MINIMAL FOR FISHTANK COMPATIBILITY\n",
    "import pandas as pd\n",
    "import numpy as np\n",
    "import os"
   ]
  },
  {
   "cell_type": "code",
   "execution_count": 1,
   "metadata": {},
   "outputs": [],
   "source": [
    "# set locations for working files\n",
    "\n",
    "# ATTPCROOTv2 directories\n",
    "attpcroot_dir = '/mnt/analysis/e17023/Adam/ATTPCROOTv2/'\n",
    "\n",
    "attpcroot_param = attpcroot_dir + 'parameters/GADGET.sim.par'\n",
    "attpcroot_mg20_cxx = attpcroot_dir + 'AtGenerators/AtTPC20MgDecay.cxx'\n",
    "attpcroot_mg20_h = attpcroot_dir + 'AtGenerators/AtTPC20MgDecay.h'\n",
    "attpcroot_rundigi = attpcroot_dir + 'macro/Simulation/GADGET/rundigi_sim.C'\n",
    "attpcroot_r2h = attpcroot_dir + 'compiled/ROOT2HDF/R2HMain.cc'\n",
    "\n",
    "\n",
    "\n",
    "# Automation directories\n",
    "automation_dir = '/mnt/analysis/e17023/Adam/GADGET2/'\n",
    "parameters_dir = automation_dir + 'simInput/parameters.csv'\n",
    "output_dir = automation_dir + 'simOutput/'\n",
    "default_name = 'output.h5'\n",
    "\n",
    "\n",
    "alpha_gen = automation_dir + 'simInput/generators/GeneratorA.txt'\n",
    "proton_gen = automation_dir + 'simInput/generators/GeneratorP.txt'\n",
    "pa_gen = automation_dir + 'simInput/generators/GeneratorPA.txt'\n",
    "next_gen = automation_dir + 'simInput/generators/nextGenerator.txt'\n",
    "\n",
    "attpcroot_mg20_testsim = automation_dir + 'simInput/generators/Mg20_test_sim.txt'\n",
    "attpcroot_mg20_testsim_template = automation_dir + 'simInput/generators/Mg20_test_sim_template.txt'\n"
   ]
  },
  {
   "cell_type": "code",
   "execution_count": 5,
   "metadata": {},
   "outputs": [],
   "source": [
    "def indicator_file(file_type, indicator_directory=automation_dir):\n",
    "    df = pd.DataFrame([0])\n",
    "    df.to_csv(indicator_directory + file_type + '.csv', index=False)\n",
    "    print(file_type + ' FILE CREATED')"
   ]
  },
  {
   "cell_type": "code",
   "execution_count": 6,
   "metadata": {},
   "outputs": [],
   "source": [
    "def energy_to_momentum(energy, particle):\n",
    "    # input energy in KeV, convert to MeV\n",
    "    energy = energy/1000\n",
    "\n",
    "    # Mass values from NIST\n",
    "    if particle == 'a':\n",
    "        mass = 3727.3794066 # MeV/c^2\n",
    "    elif particle == 'p':\n",
    "        mass = 938.27208816 # MeV/c^2\n",
    "    else:\n",
    "        indicator_file('STOP')\n",
    "        raise Exception('Error: particle must be \"a\" or \"p\"')\n",
    "    momentum = np.sqrt(2*mass*energy)/1000 # GeV/c\n",
    "    return momentum"
   ]
  },
  {
   "cell_type": "code",
   "execution_count": 17,
   "metadata": {},
   "outputs": [],
   "source": [
    "parameters = pd.read_csv(parameters_dir)"
   ]
  },
  {
   "cell_type": "code",
   "execution_count": 6,
   "metadata": {},
   "outputs": [],
   "source": [
    "# check for and complete any active simulations\n",
    "\n",
    "# 0 = inactive\n",
    "# 1 = active\n",
    "# 2 = complete\n",
    "\n",
    "previous_N = 0\n",
    "previous_Particles = (0,0,0,0)\n",
    "\n",
    "if not parameters['Sim'].is_unique:\n",
    "    indicator_file('STOP')\n",
    "    raise Exception('Simulation names are not unique')\n",
    "\n",
    "active_sims = parameters[parameters['Status'] == 1]\n",
    "if len(active_sims) > 0:\n",
    "    \n",
    "    if len(active_sims) > 1:\n",
    "        indicator_file('STOP')\n",
    "        raise Exception('More than one active simulation')\n",
    "    \n",
    "    # Search for output.h5 and rename\n",
    "    Complete = False\n",
    "    for filename in os.listdir(output_dir):\n",
    "        f = os.path.join(output_dir, filename)\n",
    "        # checking if it is a file\n",
    "        if os.path.isfile(f):\n",
    "            if filename == default_name:\n",
    "                os.rename(f, output_dir+active_sims.loc[active_sims.index[0],'Sim']+'.h5')\n",
    "                Complete = True\n",
    "    # Set Status in parameters\n",
    "    if Complete:\n",
    "        previous_N  = parameters.loc[active_sims.index[0], 'N']\n",
    "        previous_Particles = (parameters.loc[active_sims.index[0], 'P0'], parameters.loc[active_sims.index[0], 'E0'], parameters.loc[active_sims.index[0], 'P1'], parameters.loc[active_sims.index[0], 'E1'])\n",
    "        parameters.loc[active_sims.index[0], 'Status'] = 2\n",
    "        print('Simulation', parameters.loc[active_sims.index[0], 'Sim'] + ' complete')\n",
    "        \n",
    "    else:\n",
    "        indicator_file('STOP')\n",
    "        raise Exception('Could not find output file')"
   ]
  },
  {
   "cell_type": "code",
   "execution_count": 7,
   "metadata": {},
   "outputs": [
    {
     "name": "stdout",
     "output_type": "stream",
     "text": [
      "next simulation:  Reference\n"
     ]
    }
   ],
   "source": [
    "# Determine next simulation to run and mark as active\n",
    "inactive_sims = parameters[parameters['Status'] == 0]\n",
    "if len(inactive_sims) == 0:\n",
    "    indicator_file('STOP')\n",
    "    parameters.to_csv(parameters_dir, index=False)\n",
    "    raise Exception('Finished with all simulations')\n",
    "else:\n",
    "    active_sim = inactive_sims.index[0]\n",
    "    parameters.loc[active_sim, 'Status'] = 1\n",
    "    print(\"next simulation: \", parameters.loc[active_sim, 'Sim'])"
   ]
  },
  {
   "cell_type": "code",
   "execution_count": 8,
   "metadata": {},
   "outputs": [
    {
     "name": "stdout",
     "output_type": "stream",
     "text": [
      "New parameters:\n",
      "CoefL:Double_t      0.000114 # Longitudal coefficient of diffusion [cm2/us]\n",
      "\n",
      "CoefT:Double_t      0.00037 # Transverse coefficient of diffusion [cm2/us]\n",
      "\n",
      "Gain:Double_t       10000 # Average gain of micromegas\n",
      "\n",
      "GETGain:Double_t    1000 # Gain of the GET electronics in fC\n",
      "\n",
      "PeakingTime:Int_t   720 # Electronic peaking time in ns\n",
      "\n"
     ]
    }
   ],
   "source": [
    "# write new params to GADGET.sim.par\n",
    "with open(attpcroot_param, 'r') as f:\n",
    "    lines = f.readlines()\n",
    "\n",
    "lines[38] = 'CoefL:Double_t      ' + str(parameters.loc[active_sim, 'CoefL']) +   ' # Longitudal coefficient of diffusion [cm2/us]\\n'\n",
    "lines[39] = 'CoefT:Double_t      ' + str(parameters.loc[active_sim, 'CoefT']) +   ' # Transverse coefficient of diffusion [cm2/us]\\n'\n",
    "lines[40] = 'Gain:Double_t       ' + str(parameters.loc[active_sim, 'Gain']) +    ' # Average gain of micromegas\\n'\n",
    "lines[41] = 'GETGain:Double_t    ' + str(parameters.loc[active_sim, 'GETGain']) + ' # Gain of the GET electronics in fC\\n'\n",
    "lines[42] = 'PeakingTime:Int_t   ' + str(parameters.loc[active_sim, 'PeakingTime']) +' # Electronic peaking time in ns\\n'\n",
    "\n",
    "print('New parameters:')\n",
    "[print(line) for line in lines[38:43]]\n",
    "\n",
    "with open(attpcroot_param, \"w\") as f:\n",
    "    f.writelines(lines)"
   ]
  },
  {
   "cell_type": "code",
   "execution_count": 9,
   "metadata": {},
   "outputs": [],
   "source": [
    "# IF N is different, change Mg20_test_sim.C and rundigi_sim.C\n",
    "if parameters.loc[active_sim, 'N'] != previous_N:\n",
    "    # modify Mg20_test_sim.C\n",
    "    with open(attpcroot_mg20_testsim_template, 'r') as f:\n",
    "        lines = f.readlines()\n",
    "    lines[0] = 'void Mg20_test_sim(Int_t nEvents = ' + str(parameters.loc[active_sim,'N']) +', TString mcEngine = \"TGeant4\")'\n",
    "    with open(attpcroot_mg20_testsim, \"w\") as f:\n",
    "        f.writelines(lines)\n",
    "    \n",
    "    # modify rundigi_sim.C\n",
    "    with open(attpcroot_rundigi, 'r+') as f:\n",
    "        lines = f.readlines()\n",
    "        lines[68] = 'fRun->Run(0, ' + str(parameters.loc[active_sim,'N']) +');}'\n",
    "        f.seek(0)\n",
    "        f.writelines(lines)"
   ]
  },
  {
   "cell_type": "code",
   "execution_count": 2,
   "metadata": {},
   "outputs": [
    {
     "ename": "SyntaxError",
     "evalue": "invalid syntax (<ipython-input-2-b5883dbb1e2f>, line 48)",
     "output_type": "error",
     "traceback": [
      "\u001b[0;36m  File \u001b[0;32m\"<ipython-input-2-b5883dbb1e2f>\"\u001b[0;36m, line \u001b[0;32m48\u001b[0m\n\u001b[0;31m    with open(attpcroot_mg20_cxx, )\u001b[0m\n\u001b[0m                                   ^\u001b[0m\n\u001b[0;31mSyntaxError\u001b[0m\u001b[0;31m:\u001b[0m invalid syntax\n"
     ]
    }
   ],
   "source": [
    "# If particle energies are different, change AtTPC20MgDecay.cxx\n",
    "# particle notation:\n",
    "# P0 = primary particle, P1 = secondary particle\n",
    "# a = alpha, p = proton, 0 = none\n",
    "# if only one particle, P1 = 0, E1 is ignored\n",
    "# for proton-alpha events, P0 = p, P1 = a, not reversed\n",
    "# E0/E1 = energy of primary/secondary particle, KeV\n",
    "\n",
    "if (parameters.loc[active_sim, 'P0'], parameters.loc[active_sim, 'E0'], parameters.loc[active_sim, 'P1'], parameters.loc[active_sim, 'E1']) != previous_Particles:\n",
    "    \n",
    "    # check if particle types and energies are valid\n",
    "    if parameters.loc[active_sim, 'P0'] not in ['a', 'p']:\n",
    "        indicator_file('STOP')\n",
    "        raise Exception('Primary particle not specified')\n",
    "    elif parameters.loc[active_sim, 'E0'] <= 0:\n",
    "        indicator_file('STOP')\n",
    "        raise Exception('Primary particle energy not specified or invalid')\n",
    "    elif parameters.loc[active_sim, 'P1'] not in ['a', 'p', '0']:\n",
    "        indicator_file('STOP')\n",
    "        raise Exception('Secondary particle not specified')\n",
    "    elif parameters.loc[active_sim, 'P1'] in ['a', 'p'] and parameters.loc[active_sim, 'E1'] <= 0:\n",
    "        indicator_file('STOP')\n",
    "        raise Exception('Secondary particle energy not specified or invalid')\n",
    "    elif parameters.loc[active_sim, 'P0'] == 'a' and parameters.loc[active_sim, 'P1'] == 'a':\n",
    "        indicator_file('STOP')\n",
    "        raise Exception('Alpha-alpha events not supported yet')\n",
    "    elif parameters.loc[active_sim, 'P0'] == 'p' and parameters.loc[active_sim, 'P1'] == 'p':\n",
    "        indicator_file('STOP')\n",
    "        raise Exception('Proton-proton events not supported yet')\n",
    "    elif parameters.loc[active_sim, 'P0'] == 'a' and parameters.loc[active_sim, 'P1'] == 'p':\n",
    "        indicator_file('STOP')\n",
    "        raise Exception('Proton-Alpha events need to be in order (P0 = p, P1 = a)')\n",
    "    \n",
    "    # determine type of decay specified\n",
    "    if parameters.loc[active_sim, 'P0'] == 'p':\n",
    "        # proton decay \n",
    "        with open(proton_gen, 'r') as f:\n",
    "            lines = f.readlines()\n",
    "        lines[36] = '   Double32_t pabsProton = ' + str(energy_to_momentum(parameters.loc[active_sim, 'E0'], 'p')) + '; // GeV/c\\n'\n",
    "        with open(attpcroot_mg20_cxx, \"w\") as f:\n",
    "            f.writelines(lines)\n",
    "    \n",
    "    elif parameters.loc[active_sim, 'P0'] == 'a':\n",
    "        # alpha decay\n",
    "        with open(alpha_gen, 'r') as f:\n",
    "            lines = f.readlines()\n",
    "        lines[36] = '   Double32_t pabsAlpha = ' + str(energy_to_momentum(parameters.loc[active_sim, 'E0'], 'a')) + '; // GeV/c'\n",
    "        with open(attpcroot_mg20_cxx, \"w\") as f:\n",
    "            f.writelines(lines)\n",
    "        \n",
    "    elif parameters.loc[active_sim, 'P0'] == 'p' and parameters.loc[active_sim, 'P1'] == 'a':\n",
    "        # proton-alpha decay\n",
    "        with open(pa_gen, 'r') as f:\n",
    "            lines = f.readlines()\n",
    "        lines[78] = '   Double32_t pabsProton = ' + str(energy_to_momentum(parameters.loc[active_sim, 'E0', 'p'])) + '; // GeV/c'\n",
    "        lines[89] = '   Double32_t pabsAlpha = ' + str(energy_to_momentum(parameters.loc[active_sim, 'E1', 'a'])) + '; // GeV/c'\n",
    "        with open(attpcroot_mg20_cxx, \"w\") as f:\n",
    "            f.writelines(lines)\n",
    "    \n",
    "    \n",
    "    # modify Mg20_test_sim.C for two-particle decay\n",
    "    with open(attpcroot_mg20_testsim_template, 'r') as f:\n",
    "        lines = f.readlines()\n",
    "    # set primary particle\n",
    "    lines[54] = '   decay->SetDecayChainPoint('+ str(energy_to_momentum(parameters.loc[active_sim, 'E0'], parameters.loc[active_sim, 'P0'])) + ', 1);        // p0'\n",
    "    \n",
    "    # set secondary particle\n",
    "    if parameters.loc[active_sim, 'P1'] == 'a':\n",
    "        lines[55] = '   decay->SetDecayChainPoint('+ str(energy_to_momentum(parameters.loc[active_sim, 'E1'], parameters.loc[active_sim, 'P1'])) + ', 2);        // p1'\n",
    "    else: # comment out 2nd particle\n",
    "        lines[55] = '//   decay->SetDecayChainPoint('+ str(0) + ', 1);        // p1'\n",
    "    \n",
    "    lines[0] = 'void Mg20_test_sim(Int_t nEvents = ' + str(parameters.loc[active_sim,'N']) +', TString mcEngine = \"TGeant4\")'\n",
    "    \n",
    "    with open(attpcroot_mg20_testsim, \"w\") as f:\n",
    "        f.writelines(lines)\n",
    "\n",
    "    indicator_file('BUILD')"
   ]
  },
  {
   "cell_type": "code",
   "execution_count": 11,
   "metadata": {},
   "outputs": [],
   "source": [
    "# Update parameters.csv\n",
    "parameters.to_csv(parameters_dir, index=False)"
   ]
  }
 ],
 "metadata": {
  "kernelspec": {
   "display_name": "Python 3",
   "language": "python",
   "name": "python3"
  },
  "language_info": {
   "codemirror_mode": {
    "name": "ipython",
    "version": 3
   },
   "file_extension": ".py",
   "mimetype": "text/x-python",
   "name": "python",
   "nbconvert_exporter": "python",
   "pygments_lexer": "ipython3",
   "version": "3.7.3"
  },
  "vscode": {
   "interpreter": {
    "hash": "916dbcbb3f70747c44a77c7bcd40155683ae19c65e1c03b4aa3499c5328201f1"
   }
  }
 },
 "nbformat": 4,
 "nbformat_minor": 4
}
