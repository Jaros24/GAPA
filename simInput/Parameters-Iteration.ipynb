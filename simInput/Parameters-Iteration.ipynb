{
 "cells": [
  {
   "cell_type": "code",
   "execution_count": 18,
   "metadata": {},
   "outputs": [],
   "source": [
    "# Load Packages - KEEP MINIMAL FOR FISHTANK COMPATIBILITY\n",
    "import pandas as pd\n",
    "import numpy as np\n",
    "import os"
   ]
  },
  {
   "cell_type": "code",
   "execution_count": 19,
   "metadata": {},
   "outputs": [],
   "source": [
    "# set locations for working files\n",
    "# ATTPCROOTv2 directory\n",
    "attpcroot_dir = '/mnt/analysis/e17023/Adam/ATTPCROOTv2/'\n",
    "\n",
    "# Automation directory\n",
    "automation_dir = 'C:/Users/Adam/OneDrive - Tenundra, Inc/Desktop/Programming/GADGET2/' #'/mnt/analysis/e17023/Adam/GADGET2/'"
   ]
  },
  {
   "cell_type": "code",
   "execution_count": 20,
   "metadata": {},
   "outputs": [],
   "source": [
    "def indicator_file(file_type, indicator_directory=automation_dir):\n",
    "    df = pd.DataFrame([0])\n",
    "    df.to_csv(indicator_directory + file_type + '.csv', index=False)\n",
    "    print(file_type + ' FILE CREATED')"
   ]
  },
  {
   "cell_type": "code",
   "execution_count": 21,
   "metadata": {},
   "outputs": [],
   "source": [
    "def energy_to_momentum(energy, particle):\n",
    "    # input energy in KeV, convert to MeV\n",
    "    energy = energy/1000\n",
    "\n",
    "    # Mass values from NIST\n",
    "    if particle == 'a':\n",
    "        mass = 3727.3794066 # MeV/c^2\n",
    "    elif particle == 'p':\n",
    "        mass = 938.27208816 # MeV/c^2\n",
    "    else:\n",
    "        indicator_file('STOP')\n",
    "        raise Exception('Error: particle must be \"a\" or \"p\"')\n",
    "    momentum = np.sqrt(2*mass*energy)/1000 # GeV/c\n",
    "    return momentum"
   ]
  },
  {
   "cell_type": "code",
   "execution_count": 22,
   "metadata": {},
   "outputs": [],
   "source": [
    "parameters = pd.read_csv(automation_dir + 'simInput/parameters.csv')"
   ]
  },
  {
   "cell_type": "code",
   "execution_count": 22,
   "metadata": {},
   "outputs": [
    {
     "name": "stdout",
     "output_type": "stream",
     "text": [
      "STOP FILE CREATED\n"
     ]
    },
    {
     "ename": "Exception",
     "evalue": "Could not find output file",
     "output_type": "error",
     "traceback": [
      "\u001b[0;31m---------------------------------------------------------------------------\u001b[0m",
      "\u001b[0;31mException\u001b[0m                                 Traceback (most recent call last)",
      "\u001b[0;32m/tmp/ipykernel_43187/1309809363.py\u001b[0m in \u001b[0;36m<module>\u001b[0;34m\u001b[0m\n\u001b[1;32m     35\u001b[0m     \u001b[0;32melse\u001b[0m\u001b[0;34m:\u001b[0m\u001b[0;34m\u001b[0m\u001b[0;34m\u001b[0m\u001b[0m\n\u001b[1;32m     36\u001b[0m         \u001b[0mindicator_file\u001b[0m\u001b[0;34m(\u001b[0m\u001b[0;34m'STOP'\u001b[0m\u001b[0;34m)\u001b[0m\u001b[0;34m\u001b[0m\u001b[0;34m\u001b[0m\u001b[0m\n\u001b[0;32m---> 37\u001b[0;31m         \u001b[0;32mraise\u001b[0m \u001b[0mException\u001b[0m\u001b[0;34m(\u001b[0m\u001b[0;34m'Could not find output file'\u001b[0m\u001b[0;34m)\u001b[0m\u001b[0;34m\u001b[0m\u001b[0;34m\u001b[0m\u001b[0m\n\u001b[0m",
      "\u001b[0;31mException\u001b[0m: Could not find output file"
     ]
    }
   ],
   "source": [
    "# check for and complete any active simulations\n",
    "\n",
    "# 0 = inactive\n",
    "# 1 = active\n",
    "# 2 = complete\n",
    "\n",
    "# todo: check for changes that require a rebuild\n",
    "\n",
    "if not parameters['Sim'].is_unique:\n",
    "    indicator_file('STOP')\n",
    "    raise Exception('Simulation names are not unique')\n",
    "\n",
    "active_sims = parameters[parameters['Status'] == 1]\n",
    "if len(active_sims) > 0:\n",
    "    \n",
    "    if len(active_sims) > 1:\n",
    "        indicator_file('STOP')\n",
    "        raise Exception('More than one active simulation')\n",
    "    \n",
    "    # Search for output.h5 and rename\n",
    "    Complete = False\n",
    "    for filename in os.listdir(automation_dir + 'simOutput/'):\n",
    "        f = os.path.join(automation_dir + 'simOutput/', filename)\n",
    "        # checking if it is a file\n",
    "        if os.path.isfile(f):\n",
    "            if filename == 'output.h5':\n",
    "                os.rename(f, automation_dir + 'simOutput/' + active_sims.loc[active_sims.index[0],'Sim']+'.h5')\n",
    "                Complete = True\n",
    "    \n",
    "    # Set Status in parameters\n",
    "    if Complete:\n",
    "        parameters.loc[active_sims.index[0], 'Status'] = 2\n",
    "        print('Simulation', parameters.loc[active_sims.index[0], 'Sim'] + ' complete')\n",
    "        \n",
    "    else:\n",
    "        indicator_file('STOP')\n",
    "        raise Exception('Could not find output file')"
   ]
  },
  {
   "cell_type": "code",
   "execution_count": null,
   "metadata": {},
   "outputs": [
    {
     "name": "stdout",
     "output_type": "stream",
     "text": [
      "next simulation:  Reference\n"
     ]
    }
   ],
   "source": [
    "# Determine next simulation to run and mark as active\n",
    "inactive_sims = parameters[parameters['Status'] == 0]\n",
    "if len(inactive_sims) == 0:\n",
    "    indicator_file('STOP')\n",
    "    parameters.to_csv(automation_dir + 'simInput/parameters.csv', index=False)\n",
    "    raise Exception('Finished with all simulations')\n",
    "else:\n",
    "    active_sim = inactive_sims.index[0]\n",
    "    parameters.loc[active_sim, 'Status'] = 1\n",
    "    print(\"next simulation: \", parameters.loc[active_sim, 'Sim'])"
   ]
  },
  {
   "cell_type": "code",
   "execution_count": null,
   "metadata": {},
   "outputs": [],
   "source": [
    "# run check on parameters to confirm they are valid\n",
    "# TODO"
   ]
  },
  {
   "cell_type": "code",
   "execution_count": 34,
   "metadata": {},
   "outputs": [],
   "source": [
    "# Modify GADGET.sim.par\n",
    "with open(automation_dir + 'simInput/templates/GADGET.sim.par', 'r') as file :\n",
    "    filedata = file.readlines()\n",
    "    \n",
    "# replace target parameters\n",
    "for param in parameters.columns:\n",
    "    for i, line in enumerate(filedata):\n",
    "        if param == line.split(':')[0]:\n",
    "            # Line composition:     param:ptype_t   paramval   # units / comments\n",
    "            \n",
    "            ptype = line.split(':')[1].split('_')[0]\n",
    "            paramval = parameters.loc[active_sim, param]\n",
    "            filedata[i] = param + ': ' + ptype + '_t     ' + str(paramval) + '     #' + line.split('#')[1]\n",
    " \n",
    "# write file\n",
    "with open(automation_dir + 'simInput/queue/GADGET.sim.par', 'w') as file:\n",
    "    file.writelines(filedata)\n"
   ]
  },
  {
   "cell_type": "code",
   "execution_count": 41,
   "metadata": {},
   "outputs": [
    {
     "name": "stdout",
     "output_type": "stream",
     "text": [
      "PA\n",
      "   Double32_t pabsProton = 0.04745369333976018; // P0 E0\n",
      "\n",
      "   Double32_t pabsAlpha = 0.0610522678252004; // P1 E1\n",
      "\n"
     ]
    }
   ],
   "source": [
    "# TESTING\n",
    "active_sim = 3\n",
    "\n",
    "# Modify AtTPC20MgDecay.cxx\n",
    "P0 = parameters.loc[active_sim, 'P0']; E0 = parameters.loc[active_sim, 'E0']\n",
    "P1 = parameters.loc[active_sim, 'P1']; E1 = parameters.loc[active_sim, 'E1']\n",
    "\n",
    "ParticleString = str(P0)\n",
    "if E1 != 0:\n",
    "    ParticleString = ParticleString + str(P1)\n",
    "\n",
    "ParticleString = ParticleString.upper()\n",
    "print(ParticleString)\n",
    "\n",
    "# TEST FOR EXISTING GENERATOR FILE AND EDIT WITH PARTICLE ENERGIES\n",
    "if os.path.isfile(automation_dir + 'simInput/templates/Generator' + ParticleString + '.txt'):\n",
    "    with open(automation_dir + 'simInput/templates/Generator' + ParticleString + '.txt', 'r') as file :\n",
    "        filedata = file.readlines()\n",
    "    \n",
    "    # locate and replace particle energies (Comment lines in generators with P0 E0 or P1 E1 to specify which line to replace)\n",
    "    for i, line in enumerate(filedata):\n",
    "        if 'P0 E0' in line.split('//')[-1]:\n",
    "            filedata[i] = line.split('=')[0] + '= ' + str(energy_to_momentum(E0, P0)) + '; // P0 E0\\n'\n",
    "            print(filedata[i])\n",
    "        if 'P1 E1' in line.split('//')[-1]:\n",
    "            filedata[i] = line.split('=')[0] + '= ' + str(energy_to_momentum(E1, P1)) + '; // P1 E1\\n'\n",
    "            print(filedata[i])\n",
    "    \n",
    "    # write file\n",
    "    with open(automation_dir + 'simInput/queue/AtTPC20MgDecay.cxx', 'w') as file:\n",
    "        file.writelines(filedata)\n",
    "\n",
    "else: # STOP SIMULATIONS, GENERATOR FILE DOES NOT EXIST\n",
    "    indicator_file('STOP')\n",
    "    print('Generator file', ParticleString ,'does not exist')\n",
    "    raise Exception('Generator file does not exist')"
   ]
  },
  {
   "cell_type": "code",
   "execution_count": null,
   "metadata": {},
   "outputs": [],
   "source": [
    "# Update parameters.csv\n",
    "parameters.to_csv(automation_dir + 'simInput/parameters.csv', index=False)"
   ]
  }
 ],
 "metadata": {
  "kernelspec": {
   "display_name": "Python 3",
   "language": "python",
   "name": "python3"
  },
  "language_info": {
   "codemirror_mode": {
    "name": "ipython",
    "version": 3
   },
   "file_extension": ".py",
   "mimetype": "text/x-python",
   "name": "python",
   "nbconvert_exporter": "python",
   "pygments_lexer": "ipython3",
   "version": "3.10.10"
  },
  "vscode": {
   "interpreter": {
    "hash": "916dbcbb3f70747c44a77c7bcd40155683ae19c65e1c03b4aa3499c5328201f1"
   }
  }
 },
 "nbformat": 4,
 "nbformat_minor": 4
}
