{
 "cells": [
  {
   "cell_type": "code",
   "execution_count": 1,
   "metadata": {},
   "outputs": [],
   "source": [
    "# Load Packages - KEEP MINIMAL FOR FISHTANK COMPATIBILITY\n",
    "import pandas as pd\n",
    "import numpy as np\n",
    "import os\n",
    "import sys\n",
    "import time"
   ]
  },
  {
   "cell_type": "code",
   "execution_count": 3,
   "metadata": {},
   "outputs": [
    {
     "name": "stdout",
     "output_type": "stream",
     "text": [
      "Usage: python iter-params.py <automation_dir> <attpcroot_dir>\n",
      "Assuming testing directories\n"
     ]
    }
   ],
   "source": [
    "# set locations for working files\n",
    "if len(sys.argv) != 3:\n",
    "    print(\"Usage: python3 process-sim.py <automation_dir> <attpcroot_dir>\")\n",
    "    print('Assuming testing directories')\n",
    "    automation_dir = '/mnt/analysis/e17023/Adam/GADGET2/'\n",
    "    attpcroot_dir = '/mnt/analysis/e17023/Adam/ATTPCROOTv2/'\n",
    "else:\n",
    "    # Automation directory\n",
    "    automation_dir = sys.argv[1]\n",
    "    \n",
    "    # ATTPCROOTv2 directory\n",
    "    attpcroot_dir = sys.argv[2]"
   ]
  },
  {
   "cell_type": "code",
   "execution_count": 78,
   "metadata": {},
   "outputs": [],
   "source": [
    "def indicator_file(file_type, indicator_directory=automation_dir):\n",
    "    df = pd.DataFrame([0])\n",
    "    df.to_csv(indicator_directory + file_type + '.csv', index=False)\n",
    "    #print(file_type + ' FILE CREATED')"
   ]
  },
  {
   "cell_type": "code",
   "execution_count": 80,
   "metadata": {},
   "outputs": [],
   "source": [
    "parameters = pd.read_csv(automation_dir + 'simInput/parameters.csv')"
   ]
  },
  {
   "cell_type": "code",
   "execution_count": 22,
   "metadata": {},
   "outputs": [
    {
     "name": "stdout",
     "output_type": "stream",
     "text": [
      "STOP FILE CREATED\n"
     ]
    },
    {
     "ename": "Exception",
     "evalue": "Could not find output file",
     "output_type": "error",
     "traceback": [
      "\u001b[0;31m---------------------------------------------------------------------------\u001b[0m",
      "\u001b[0;31mException\u001b[0m                                 Traceback (most recent call last)",
      "\u001b[0;32m/tmp/ipykernel_43187/1309809363.py\u001b[0m in \u001b[0;36m<module>\u001b[0;34m\u001b[0m\n\u001b[1;32m     35\u001b[0m     \u001b[0;32melse\u001b[0m\u001b[0;34m:\u001b[0m\u001b[0;34m\u001b[0m\u001b[0;34m\u001b[0m\u001b[0m\n\u001b[1;32m     36\u001b[0m         \u001b[0mindicator_file\u001b[0m\u001b[0;34m(\u001b[0m\u001b[0;34m'STOP'\u001b[0m\u001b[0;34m)\u001b[0m\u001b[0;34m\u001b[0m\u001b[0;34m\u001b[0m\u001b[0m\n\u001b[0;32m---> 37\u001b[0;31m         \u001b[0;32mraise\u001b[0m \u001b[0mException\u001b[0m\u001b[0;34m(\u001b[0m\u001b[0;34m'Could not find output file'\u001b[0m\u001b[0;34m)\u001b[0m\u001b[0;34m\u001b[0m\u001b[0;34m\u001b[0m\u001b[0m\n\u001b[0m",
      "\u001b[0;31mException\u001b[0m: Could not find output file"
     ]
    }
   ],
   "source": [
    "# check for and complete any active simulations\n",
    "\n",
    "# 0 = inactive\n",
    "# 1 = active\n",
    "# 2 = complete\n",
    "\n",
    "active_sims = parameters[parameters['Status'] == 1]\n",
    "\n",
    "if len(active_sims) > 1:\n",
    "    indicator_file('STOP')\n",
    "    raise Exception('More than one simulation marked as active')\n",
    "\n",
    "# Search for output.h5 and rename\n",
    "Complete = False\n",
    "for filename in os.listdir(automation_dir + 'simOutput/'):\n",
    "    f = os.path.join(automation_dir + 'simOutput/', filename)\n",
    "    # checking if it is a file\n",
    "    if os.path.isfile(f):\n",
    "        if filename == 'output.h5':\n",
    "            os.rename(f, automation_dir + 'simOutput/hdf5/' + active_sims.loc[active_sims.index[0],'Sim']+'.h5')\n",
    "            Complete = True\n",
    "\n",
    "# Set Status in parameters\n",
    "if Complete:\n",
    "    parameters.loc[active_sims.index[0], 'Status'] = 2\n",
    "    #print('Simulation', parameters.loc[active_sims.index[0], 'Sim'] + ' complete')\n",
    "    if 'time' in parameters.columns:\n",
    "        parameters.loc[active_sims.index[0], 'time'] = time.time() - parameters.loc[active_sims.index[0], 'time']\n",
    "else:\n",
    "    indicator_file('STOP')\n",
    "    raise Exception('Could not find output file')"
   ]
  },
  {
   "cell_type": "code",
   "execution_count": null,
   "metadata": {},
   "outputs": [],
   "source": [
    "# Update parameters.csv\n",
    "parameters.to_csv(automation_dir + 'simInput/parameters.csv', index=False)"
   ]
  }
 ],
 "metadata": {
  "kernelspec": {
   "display_name": "Python 3",
   "language": "python",
   "name": "python3"
  },
  "language_info": {
   "codemirror_mode": {
    "name": "ipython",
    "version": 3
   },
   "file_extension": ".py",
   "mimetype": "text/x-python",
   "name": "python",
   "nbconvert_exporter": "python",
   "pygments_lexer": "ipython3",
   "version": "3.7.3"
  },
  "vscode": {
   "interpreter": {
    "hash": "916dbcbb3f70747c44a77c7bcd40155683ae19c65e1c03b4aa3499c5328201f1"
   }
  }
 },
 "nbformat": 4,
 "nbformat_minor": 4
}
