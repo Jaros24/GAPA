{
 "cells": [
  {
   "cell_type": "code",
   "execution_count": 1,
   "metadata": {},
   "outputs": [],
   "source": [
    "import os\n",
    "import sys"
   ]
  },
  {
   "cell_type": "code",
   "execution_count": 2,
   "metadata": {},
   "outputs": [],
   "source": [
    "# clear images directory\n",
    "for f in [ f for f in os.listdir(\"/mnt/analysis/e17023/Adam/GADGET2/simOutput/images/\") if f.endswith(\".png\") ]:\n",
    "    os.remove(os.path.join(\"/mnt/analysis/e17023/Adam/GADGET2/simOutput/images/\", f))\n",
    "for f in [ f for f in os.listdir(\"/mnt/analysis/e17023/Adam/GADGET2/simOutput/images/\") if f.endswith(\".jpg\") ]:\n",
    "    os.remove(os.path.join(\"/mnt/analysis/e17023/Adam/GADGET2/simOutput/images/\", f))"
   ]
  },
  {
   "cell_type": "code",
   "execution_count": 3,
   "metadata": {},
   "outputs": [],
   "source": [
    "# clear hdf5 directory\n",
    "for f in [ f for f in os.listdir(\"/mnt/analysis/e17023/Adam/GADGET2/simOutput/hdf5/\")]:\n",
    "    os.remove(os.path.join(\"/mnt/analysis/e17023/Adam/GADGET2/simOutput/hdf5/\", f))"
   ]
  },
  {
   "cell_type": "code",
   "execution_count": 4,
   "metadata": {},
   "outputs": [],
   "source": [
    "# clear gif files\n",
    "for f in [ f for f in os.listdir(\"/mnt/analysis/e17023/Adam/GADGET2/simOutput/gifs\") if f.endswith(\".gif\") ]:\n",
    "    os.remove(os.path.join(\"/mnt/analysis/e17023/Adam/GADGET2/simOutput/gifs/\", f))\n",
    "for f in [ f for f in os.listdir(\"/mnt/analysis/e17023/Adam/GADGET2/simOutput/gifs/events/\") if f.endswith(\".gif\") ]:\n",
    "    os.remove(os.path.join(\"/mnt/analysis/e17023/Adam/GADGET2/simOutput/gifs/events/\", f))"
   ]
  },
  {
   "cell_type": "code",
   "execution_count": 5,
   "metadata": {},
   "outputs": [],
   "source": [
    "# clear aug_images directory\n",
    "for f in [ f for f in os.listdir(\"/mnt/analysis/e17023/Adam/GADGET2/simOutput/aug_images/\") if f.endswith(\".png\") ]:\n",
    "    os.remove(os.path.join(\"/mnt/analysis/e17023/Adam/GADGET2/simOutput/aug_images/\", f))\n",
    "for f in [ f for f in os.listdir(\"/mnt/analysis/e17023/Adam/GADGET2/simOutput/aug_images/\") if f.endswith(\".jpg\") ]:\n",
    "    os.remove(os.path.join(\"/mnt/analysis/e17023/Adam/GADGET2/simOutput/aug_images/\", f))"
   ]
  },
  {
   "cell_type": "code",
   "execution_count": 6,
   "metadata": {},
   "outputs": [],
   "source": [
    "# remove parameters.csv\n",
    "try:\n",
    "    os.remove(\"/mnt/analysis/e17023/Adam/GADGET2/simOutput/parameters.csv\")\n",
    "except:\n",
    "    pass"
   ]
  },
  {
   "cell_type": "code",
   "execution_count": 7,
   "metadata": {},
   "outputs": [],
   "source": [
    "# remove zip files\n",
    "for f in [ f for f in os.listdir(\"/mnt/analysis/e17023/Adam/GADGET2/simOutput/\") if f.endswith(\".zip\") ]:\n",
    "    os.remove(os.path.join(\"/mnt/analysis/e17023/Adam/GADGET2/simOutput/\", f))"
   ]
  }
 ],
 "metadata": {
  "kernelspec": {
   "display_name": "Python 3",
   "language": "python",
   "name": "python3"
  },
  "language_info": {
   "codemirror_mode": {
    "name": "ipython",
    "version": 3
   },
   "file_extension": ".py",
   "mimetype": "text/x-python",
   "name": "python",
   "nbconvert_exporter": "python",
   "pygments_lexer": "ipython3",
   "version": "3.7.3"
  }
 },
 "nbformat": 4,
 "nbformat_minor": 2
}
