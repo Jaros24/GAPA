{
 "cells": [
  {
   "cell_type": "code",
   "execution_count": 1,
   "metadata": {},
   "outputs": [],
   "source": [
    "import os\n",
    "import sys"
   ]
  },
  {
   "cell_type": "code",
   "execution_count": 2,
   "metadata": {},
   "outputs": [],
   "source": [
    "# clear images directory\n",
    "for f in [ f for f in os.listdir(\"/mnt/analysis/e17023/Adam/GADGET2/simOutput/images/\") if f.endswith(\".png\") ]:\n",
    "    os.remove(os.path.join(\"/mnt/analysis/e17023/Adam/GADGET2/simOutput/images/\", f))\n",
    "\n",
    "# clear h5 files\n",
    "for f in [ f for f in os.listdir(\"/mnt/analysis/e17023/Adam/GADGET2/simOutput/hdf5/\") if f.endswith(\".h5\") ]:\n",
    "    os.remove(os.path.join(\"/mnt/analysis/e17023/Adam/GADGET2/simOutput/hdf5/\", f))\n",
    "\n",
    "# clear gif files\n",
    "for f in [ f for f in os.listdir(\"/mnt/analysis/e17023/Adam/GADGET2/simOutput/\") if f.endswith(\".gif\") ]:\n",
    "    os.remove(os.path.join(\"/mnt/analysis/e17023/Adam/GADGET2/simOutput/\", f))\n",
    "\n",
    "os.remove(\"/mnt/analysis/e17023/Adam/GADGET2/simOutput/parameters.csv\")"
   ]
  },
  {
   "cell_type": "code",
   "execution_count": null,
   "metadata": {},
   "outputs": [],
   "source": []
  }
 ],
 "metadata": {
  "kernelspec": {
   "display_name": "Python 3",
   "language": "python",
   "name": "python3"
  },
  "language_info": {
   "codemirror_mode": {
    "name": "ipython",
    "version": 3
   },
   "file_extension": ".py",
   "mimetype": "text/x-python",
   "name": "python",
   "nbconvert_exporter": "python",
   "pygments_lexer": "ipython3",
   "version": "3.7.3"
  }
 },
 "nbformat": 4,
 "nbformat_minor": 2
}
