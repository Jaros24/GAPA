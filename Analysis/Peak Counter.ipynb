{
 "cells": [
  {
   "cell_type": "code",
   "execution_count": 8,
   "metadata": {},
   "outputs": [],
   "source": [
    "import numpy as np\n",
    "import matplotlib.pyplot as plt\n",
    "import pandas as pd\n",
    "import random\n",
    "import math\n",
    "import os, sys\n",
    "from PIL import Image\n",
    "from tqdm import tqdm\n",
    "import time"
   ]
  },
  {
   "cell_type": "code",
   "execution_count": 9,
   "metadata": {},
   "outputs": [],
   "source": [
    "image_dir = \"/mnt/analysis/e21072/h5test/run_0277/len90_ic600000_pads21_eps5_samps5_poly2/773941CUT_Date_01_18_2024/\"\n",
    "sorted_dir = \"/mnt/analysis/e17023/Adam/peakFinder/\""
   ]
  },
  {
   "cell_type": "code",
   "execution_count": 10,
   "metadata": {},
   "outputs": [],
   "source": [
    "def get_track(image):\n",
    "    # extract padplane from image\n",
    "    padplane_bounds = ((3,40),(148,185))\n",
    "    padplane = image[padplane_bounds[0][0]:padplane_bounds[1][0], padplane_bounds[0][1]:padplane_bounds[1][1], :]\n",
    "    \n",
    "    # extract track from padplane\n",
    "    track = padplane[:,:,0].copy() # copy red channel for track\n",
    "    track[track == 255] = 0 # set white to black\n",
    "    track_bounds = np.where(track != 0) # get track bounds\n",
    "    track_bounds = ((min(track_bounds[0]), max(track_bounds[0])+1), (min(track_bounds[1]), max(track_bounds[1])+1))\n",
    "    track = track[track_bounds[0][0]:track_bounds[0][1], track_bounds[1][0]:track_bounds[1][1]] # crop track\n",
    "    track = track[::4,::4] # downsample track to remove grid effect\n",
    "    return track"
   ]
  },
  {
   "cell_type": "code",
   "execution_count": 11,
   "metadata": {},
   "outputs": [],
   "source": [
    "def get_trace(image):\n",
    "    trace_img = image[150:,:,0] # extract trace from image\n",
    "    trace_cumsum = np.cumsum(255-trace_img, axis=0) # cumulative sum of trace\n",
    "    trace = trace_cumsum[-1,:].astype(float) # height of trace at each pixel\n",
    "    \n",
    "    trace_diff = np.abs(np.diff(trace))\n",
    "    edges = np.arange(trace_diff.shape[0])[trace_diff > 100] # find edges of trace\n",
    "    \n",
    "    # crop trace_height to edges\n",
    "    trace = trace[edges[0]+5:edges[-1]-5]\n",
    "    \n",
    "    # set baseline to average of first and last 10 pixels\n",
    "    baseline = np.mean(np.concatenate((trace[:10], trace[-10:])))\n",
    "    trace -= baseline # subtract baseline\n",
    "    trace[trace < 0] = 0 # set negative values to 0\n",
    "    \n",
    "    return trace"
   ]
  },
  {
   "cell_type": "code",
   "execution_count": 12,
   "metadata": {},
   "outputs": [],
   "source": [
    "def analyze_trace(trace):\n",
    "    tsum1 = np.cumsum(trace)\n",
    "    tsum2 = np.cumsum(trace[::-1])[::-1]\n",
    "    # find edges of trace peak\n",
    "    cutoff=np.mean(trace) \n",
    "    ledge=np.arange(tsum1.shape[0])[tsum1 >= cutoff][0]\n",
    "    redge=np.arange(tsum2.shape[0])[tsum2 >= cutoff][-1]\n",
    "    \n",
    "    trace = trace[ledge:redge] # crop trace to edges\n",
    "    \n",
    "    # determine number of peaks in trace\n",
    "    trace_diff = np.diff(trace)\n",
    "    trace_diff = np.convolve(trace_diff, np.ones(5), mode='same') # smooth trace_diff with moving average\n",
    "    trace_diff[trace_diff <= 0] = -1 # set negative values to -1\n",
    "    trace_diff[trace_diff > 0] = 1 # set positive values to 1\n",
    "    trace_diff = -1*np.diff(trace_diff) # separate to only look for changes in slope direction\n",
    "    num_peaks = np.sum(trace_diff > 0) # number of peaks in trace\n",
    "    \n",
    "    return num_peaks"
   ]
  },
  {
   "cell_type": "code",
   "execution_count": 23,
   "metadata": {},
   "outputs": [],
   "source": [
    "from scipy.ndimage import label\n",
    "from sklearn.decomposition import PCA\n",
    "def analyze_track(track):\n",
    "\n",
    "    '''\n",
    "    # find largest cluster of pixels in track and set all other pixels to 0\n",
    "    track = track.copy()\n",
    "    track[track > 0] = 1\n",
    "    track[track <= 0] = 0\n",
    "    track = track.astype(int)\n",
    "    track, num_clusters = label(track)\n",
    "    cluster_sizes = np.bincount(track.flatten())\n",
    "    cluster_sizes[0] = 0\n",
    "    # set all clusters except largest to 0\n",
    "    track[track != np.argmax(cluster_sizes)] = 0\n",
    "    track[track == np.argmax(cluster_sizes)] = 1\n",
    "    \n",
    "    # number of pixels in track larger than all surrounding pixels in 3x3 window\n",
    "    num_peaks = np.sum(track[1:-1,1:-1] > np.max(np.array([track[:-2,:-2], track[:-2,1:-1], track[:-2,2:], track[1:-1,:-2], track[1:-1,2:], track[2:,:-2], track[2:,1:-1], track[2:,2:]]), axis=0))\n",
    "    '''\n",
    "    \n",
    "    # use pca to approximate track as a line, then find number of local max peaks in line\n",
    "    track = track.copy()\n",
    "    pca = PCA(n_components=1)\n",
    "    track = pca.fit_transform(track)\n",
    "    track = track.flatten()\n",
    "    track_diff = np.diff(track)\n",
    "    track_diff = np.convolve(track_diff, np.ones(5), mode='same') # smooth track_diff with moving average\n",
    "    track_diff[track_diff <= 0] = -1 # set negative values to -1\n",
    "    track_diff[track_diff > 0] = 1 # set positive values to 1\n",
    "    track_diff = -1*np.diff(track_diff) # separate to only look for changes in slope direction\n",
    "    num_peaks = np.sum(track_diff > 0) # number of peaks in track\n",
    "    \n",
    "    return num_peaks"
   ]
  },
  {
   "cell_type": "code",
   "execution_count": 35,
   "metadata": {},
   "outputs": [
    {
     "name": "stderr",
     "output_type": "stream",
     "text": [
      "100%|██████████| 8635/8635 [02:14<00:00, 64.07it/s]\n"
     ]
    }
   ],
   "source": [
    "file_list = [f for f in os.listdir(image_dir) if f.endswith('.png')]\n",
    "\n",
    "counts = np.zeros((10,10))\n",
    "\n",
    "for i in tqdm(range(len(file_list))):\n",
    "    img = file_list[i]\n",
    "    # name of image and event\n",
    "    sim_name = img.split('_')[0]\n",
    "    event = img.split('_')[-1].split('.')[0]\n",
    "    \n",
    "    img_array = np.array(Image.open(image_dir + img))[:,:,:3]\n",
    "    # extract data from image\n",
    "    track = get_track(img_array)\n",
    "    trace = get_trace(img_array)\n",
    "\n",
    "    trace_peaks = analyze_trace(trace)\n",
    "    track_peaks = analyze_track(track)\n",
    "\n",
    "    num_peaks = np.max((trace_peaks, track_peaks))\n",
    "    \n",
    "    # sort file into appropriate directory\n",
    "    sort_dir = f'{sorted_dir}{num_peaks}_peaks/{trace_peaks}trace-{track_peaks}track/{img}'\n",
    "    os.makedirs(os.path.dirname(sort_dir), exist_ok=True)\n",
    "    # copy file to sorted directory\n",
    "    os.system(f'cp {image_dir}{img} {sort_dir}')\n",
    "    counts[track_peaks][trace_peaks] += 1"
   ]
  },
  {
   "cell_type": "code",
   "execution_count": 46,
   "metadata": {},
   "outputs": [
    {
     "name": "stderr",
     "output_type": "stream",
     "text": [
      "/user/jaros/.local/lib/python3.7/site-packages/ipykernel_launcher.py:2: RuntimeWarning: divide by zero encountered in log10\n",
      "  \n"
     ]
    },
    {
     "data": {
      "image/png": "[encoded data removed]",
      "text/plain": [
       "<Figure size 640x480 with 2 Axes>"
      ]
     },
     "metadata": {},
     "output_type": "display_data"
    }
   ],
   "source": [
    "# grid plot of counts\n",
    "plt.imshow(np.log10(counts))\n",
    "plt.colorbar()\n",
    "plt.xlabel('Trace Peaks')\n",
    "plt.ylabel('Track Peaks')\n",
    "plt.title('Log10 Count of Trace and Track Peaks');"
   ]
  }
 ],
 "metadata": {
  "kernelspec": {
   "display_name": "Python 3",
   "language": "python",
   "name": "python3"
  },
  "language_info": {
   "codemirror_mode": {
    "name": "ipython",
    "version": 3
   },
   "file_extension": ".py",
   "mimetype": "text/x-python",
   "name": "python",
   "nbconvert_exporter": "python",
   "pygments_lexer": "ipython3",
   "version": "3.7.3"
  }
 },
 "nbformat": 4,
 "nbformat_minor": 2
}
