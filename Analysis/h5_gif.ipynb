{
 "cells": [
  {
   "cell_type": "code",
   "execution_count": 1,
   "metadata": {},
   "outputs": [],
   "source": [
    "from PIL import Image\n",
    "import os\n",
    "import numpy as np"
   ]
  },
  {
   "cell_type": "code",
   "execution_count": 4,
   "metadata": {},
   "outputs": [],
   "source": [
    "img_dir = \"/mnt/analysis/e21072/h5test/run_0277/len90_ic600000_pads21_eps5_samps5_poly2/241372CUT_Date_12_20_2023/\" # 1600p\n",
    "#img_dir = \"/mnt/analysis/e21072/h5test/run_0277/len90_ic600000_pads21_eps5_samps5_poly2/673876CUT_Date_12_20_2023\" # 800p\n",
    "\n",
    "imagelist = [ f for f in os.listdir(img_dir) if f.endswith(\".png\")]\n",
    "\n",
    "filt_imglist = np.random.choice(imagelist, 1000, replace=False) #randomly select 1000 images\n",
    "\n",
    "frames = []\n",
    "for i in range(len(filt_imglist)):\n",
    "    new_frame = Image.open(img_dir+filt_imglist[i])\n",
    "    frames.append(new_frame)\n",
    "\n",
    "frames[0].save('1600p.gif', format='GIF', append_images=frames[1:], save_all=True, duration=100, loop=0)"
   ]
  },
  {
   "cell_type": "code",
   "execution_count": 2,
   "metadata": {},
   "outputs": [],
   "source": [
    "h5_dir = \"/mnt/analysis/e17023/Adam/GADGET2/simOutput/hdf5/\"\n",
    "img_dir = \"/mnt/analysis/e17023/Adam/GADGET2/simOutput/images/\"\n",
    "\n",
    "imagelist = [ f for f in os.listdir(img_dir) if f.endswith(\".png\")]\n",
    "h5_list = [f.split(\".h\")[0] for f in os.listdir(h5_dir)]\n",
    "\n",
    "for h5 in h5_list:\n",
    "    filt_imglist = [f for f in imagelist if h5 in f]\n",
    "    # create gif from images in filelist\n",
    "    frames = []\n",
    "    for i in range(len(filt_imglist)):\n",
    "        new_frame = Image.open(img_dir+filt_imglist[i])\n",
    "        frames.append(new_frame)\n",
    "    \n",
    "    # Save into a GIF file\n",
    "    try:\n",
    "        frames[0].save(f'/mnt/analysis/e17023/Adam/GADGET2/simOutput/gifs/{h5}.gif', format='GIF', append_images=frames[1:], save_all=True, duration=250, loop=0)\n",
    "    except:\n",
    "        print(f\"Error with {h5}\")\n",
    "        continue"
   ]
  },
  {
   "cell_type": "code",
   "execution_count": 16,
   "metadata": {},
   "outputs": [
    {
     "name": "stdout",
     "output_type": "stream",
     "text": [
      "Error with 12\n"
     ]
    }
   ],
   "source": [
    "img_dir = \"/mnt/analysis/e17023/Adam/GADGET2/simOutput/images/\"\n",
    "imagelist = [ f for f in os.listdir(img_dir) if f.endswith(\".png\")]\n",
    "\n",
    "image_nums = set([int(f.split(\".png\")[0].split('_')[-1]) for f in imagelist])\n",
    "\n",
    "for i in image_nums:\n",
    "    filt_imglist = [f for f in imagelist if f\"_{i}.png\" in f]\n",
    "    # create gif from images in filelist\n",
    "    frames = []\n",
    "    for i in range(len(filt_imglist)):\n",
    "        new_frame = Image.open(img_dir+filt_imglist[i])\n",
    "        frames.append(new_frame)\n",
    "    \n",
    "    # Save into a GIF file\n",
    "    try:\n",
    "        frames[0].save(f'/mnt/analysis/e17023/Adam/GADGET2/simOutput/gifs/events/{i}.gif', format='GIF', append_images=frames[1:], save_all=True, duration=250, loop=0)\n",
    "    except:\n",
    "        print(f\"Error with {i}\")\n",
    "        continue"
   ]
  },
  {
   "cell_type": "code",
   "execution_count": 4,
   "metadata": {},
   "outputs": [
    {
     "data": {
      "text/plain": [
       "Text(0, 0.5, 'Percentage of Images')"
      ]
     },
     "execution_count": 4,
     "metadata": {},
     "output_type": "execute_result"
    },
    {
     "data": {
      "image/png": "[encoded data removed]",
      "text/plain": [
       "<Figure size 640x480 with 1 Axes>"
      ]
     },
     "metadata": {},
     "output_type": "display_data"
    }
   ],
   "source": [
    "img_dir = \"/mnt/analysis/e17023/Adam/GADGET2/simOutput/images/\"\n",
    "imagelist = [ f for f in os.listdir(img_dir) if f.endswith(\".png\")]\n",
    "\n",
    "threshold = []\n",
    "img_len = []\n",
    "\n",
    "sims = set([f.split(\"_\")[0] for f in imagelist])\n",
    "# sort sims in order of threshold\n",
    "sims = sorted(sims, key=lambda x: int(x.split(\"T\")[0]))\n",
    "for sim in sims:\n",
    "    filt_imglist = [f for f in imagelist if sim in f]\n",
    "    \n",
    "    threshold.append(int(sim.split(\"T\")[0]))\n",
    "    img_len.append(len(filt_imglist)/5000 * 100)\n",
    "    \n",
    "import matplotlib.pyplot as plt\n",
    "plt.plot(threshold, img_len, 'o--')\n",
    "plt.xlabel(\"Threshold\")\n",
    "plt.ylabel(\"Percentage of Images\")"
   ]
  },
  {
   "cell_type": "code",
   "execution_count": 8,
   "metadata": {},
   "outputs": [],
   "source": [
    "img_dir = \"/mnt/analysis/e17023/Adam/GADGET2/simOutput/aug_images/\"\n",
    "imagelist = [ f for f in os.listdir(img_dir) if f.endswith(\".png\")]\n",
    "frames = []\n",
    "for i in range(len(imagelist)):\n",
    "    new_frame = Image.open(img_dir+imagelist[i])\n",
    "    frames.append(new_frame)\n",
    "frames[0].save(f'/mnt/analysis/e17023/Adam/GADGET2/simOutput/aug.gif', format='GIF', append_images=frames[1:], save_all=True, duration=50, loop=0)"
   ]
  },
  {
   "cell_type": "code",
   "execution_count": null,
   "metadata": {},
   "outputs": [],
   "source": []
  }
 ],
 "metadata": {
  "kernelspec": {
   "display_name": "Python 3",
   "language": "python",
   "name": "python3"
  },
  "language_info": {
   "codemirror_mode": {
    "name": "ipython",
    "version": 3
   },
   "file_extension": ".py",
   "mimetype": "text/x-python",
   "name": "python",
   "nbconvert_exporter": "python",
   "pygments_lexer": "ipython3",
   "version": "3.7.3"
  }
 },
 "nbformat": 4,
 "nbformat_minor": 2
}
