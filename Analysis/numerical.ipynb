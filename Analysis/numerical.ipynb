{
 "cells": [
  {
   "cell_type": "code",
   "execution_count": 1,
   "metadata": {},
   "outputs": [],
   "source": [
    "import numpy as np\n",
    "import h5py\n",
    "import math\n",
    "from sklearn.decomposition import PCA\n",
    "from pca import pca\n",
    "import pandas as pd\n",
    "import matplotlib.pyplot as plt\n",
    "from matplotlib.colors import LinearSegmentedColormap\n",
    "from tqdm import tqdm\n",
    "import peakutils\n",
    "import os, sys\n",
    "from BaselineRemoval import BaselineRemoval\n",
    "from sklearn.cluster import DBSCAN\n",
    "import scipy\n",
    "from sklearn.linear_model import LinearRegression\n",
    "import seaborn as sns"
   ]
  },
  {
   "cell_type": "code",
   "execution_count": 2,
   "metadata": {},
   "outputs": [],
   "source": [
    "class HiddenPrints:\n",
    "\tdef __enter__(self):\n",
    "\t\tself._original_stdout = sys.stdout\n",
    "\t\tsys.stdout = open(os.devnull, 'w')"
   ]
  },
  {
   "cell_type": "code",
   "execution_count": 3,
   "metadata": {},
   "outputs": [],
   "source": [
    "def __exit__(self, exc_type, exc_val, exc_tb):\n",
    "\tsys.stdout.close()\n",
    "\tsys.stdout = self._original_stdout"
   ]
  },
  {
   "cell_type": "code",
   "execution_count": 4,
   "metadata": {},
   "outputs": [],
   "source": [
    "def remove_outliers(xset, yset, zset, eset, threshold):\n",
    "\t\"\"\"\n",
    "\tUses DBSCAN to find and remove outliers in 3D data\n",
    "\t\"\"\"\n",
    "\tdata = np.array([xset.T, yset.T, zset.T]).T\n",
    "\tDBSCAN_cluster = DBSCAN(eps=7, min_samples=10).fit(data)\n",
    "\tout_of_cluster_index = np.where(DBSCAN_cluster.labels_==-1)\n",
    "\tdel data\n",
    "\trev = out_of_cluster_index[0][::-1]\n",
    "\t#if len(out_of_cluster_index[0]) > 0:\n",
    "\tfor i in rev:\n",
    "\t\txset = np.delete(xset, i)\n",
    "\t\tyset = np.delete(yset, i)\n",
    "\t\tzset = np.delete(zset, i)\n",
    "\t\teset = np.delete(eset, i)\n",
    "\t#if len(xset) <= threshold:\n",
    "\t#\tveto = True\n",
    "\t#else:\n",
    "    #veto = False\n",
    "\treturn xset, yset, zset, eset, False"
   ]
  },
  {
   "cell_type": "code",
   "execution_count": 5,
   "metadata": {
    "scrolled": true
   },
   "outputs": [
    {
     "name": "stdout",
     "output_type": "stream",
     "text": [
      "Veto on Length @ 70 mm\n",
      "Veto on Integrated Charge @ 800k\n"
     ]
    }
   ],
   "source": [
    "print('Veto on Length @ 70 mm')\n",
    "print('Veto on Integrated Charge @ 800k')\n",
    "def track_len(xset, yset, zset):\n",
    "    \"\"\"\n",
    "    Uses PCA to find the length of a track\n",
    "    \"\"\"\n",
    "    veto_on_length = False\n",
    " \n",
    "    # Form data matrix\n",
    "    data = np.concatenate((xset[:, np.newaxis], \n",
    "                           yset[:, np.newaxis], \n",
    "                           zset[:, np.newaxis]), \n",
    "                           axis=1)\n",
    "\n",
    "    # Use PCA to find track length\n",
    "    pca = PCA(n_components=3)\n",
    "    principalComponents = pca.fit(data)\n",
    "    principalComponents = pca.transform(data)\n",
    "    principalDf = pd.DataFrame(data = principalComponents\n",
    "             , columns = ['principal component 1', 'principal component 2', 'principal component 3'])\n",
    "    \n",
    "    track_len = 2.35*principalDf.std()[0]\n",
    "    track_width = 2.35*principalDf.std()[1]\n",
    "    track_depth = 2.35*principalDf.std()[2]\n",
    "    #if track_len > 70:\n",
    "    #    veto_on_length = True\n",
    "    \n",
    "    return track_len, veto_on_length, track_width, track_depth"
   ]
  },
  {
   "cell_type": "code",
   "execution_count": 6,
   "metadata": {},
   "outputs": [],
   "source": [
    "def main(h5file, threshold):\n",
    "    \"\"\"\n",
    "    This functions does the following: \n",
    "    - Converts h5 files into ndarrays. \n",
    "    - Removes outliers.\n",
    "    - Calls PCA to return track length.\n",
    "    - Sums mesh signal to return energy.\n",
    "    \"\"\"\n",
    "    # Converts h5 files into ndarrays, and output each event dataset as a separte list\n",
    "    num_events = int(len(list(h5file.keys()))/2) \n",
    "    \n",
    "    len_list = []\n",
    "    width_list = []\n",
    "    depth_list = []\n",
    "    good_events = []\n",
    "    tot_energy = []\n",
    "    tracemax_list = []\n",
    "    tracedev_list = []\n",
    "    pads_list = []\n",
    "    \n",
    "    skipped_events = 0\n",
    "    veto_events = 0\n",
    "    \n",
    "    pbar = tqdm(total=num_events+1)\n",
    "    for i in range(0, num_events):\n",
    "        str_event = f\"Event_[{i}]\"\n",
    "        \n",
    "        # Apply pad threshold\n",
    "        event = np.array(h5file[str_event][:])\n",
    "        if len(event) <= threshold:\n",
    "            skipped_events += 1\n",
    "            pbar.update(n=1)\n",
    "            continue\n",
    "            \n",
    "        # Make copy of datasets\n",
    "        dset_0_copyx = event['x']\n",
    "        dset_0_copyy = event['y'] \n",
    "        dset_0_copyz = event['z'] - min(event['z'])\n",
    "        dset_0_copye = event['A']\n",
    "\n",
    "        \n",
    "        # Apply veto condition\n",
    "        R = 36                           # Radius of the pad plane\n",
    "        r = np.sqrt(dset_0_copyx**2 + dset_0_copyy**2)\n",
    "        statements = np.greater(r, R)    # Check if any point lies outside of R\n",
    "      \n",
    "        if np.any(statements) == True:\n",
    "            veto_events += 1\n",
    "            pbar.update(n=1)\n",
    "            continue\n",
    "        \n",
    "        \n",
    "        # Call remove_outliers to get dataset w/ outliers removed\n",
    "        dset_0_copyx, dset_0_copyy, dset_0_copyz, dset_0_copye, veto = remove_outliers(dset_0_copyx, dset_0_copyy, dset_0_copyz, dset_0_copye, threshold)\n",
    "        if veto == True:\n",
    "            skipped_events += 1\n",
    "            pbar.update(n=1)\n",
    "            continue\n",
    "\n",
    "        \n",
    "        # Call track_len() to create lists of all track lengths\n",
    "        length, veto_on_length, width, depth = track_len(dset_0_copyx, dset_0_copyy, dset_0_copyz)\n",
    "        if veto_on_length == True:\n",
    "            veto_events += 1\n",
    "            pbar.update(n=1)\n",
    "            continue\n",
    "\n",
    "        \n",
    "       \tstr_trace = f\"Trace_[{i}]\"\n",
    "        trace = np.array(h5file[str_trace][:])\n",
    "        max_val = np.argmax(trace)\n",
    "        low_bound = max_val - 75\n",
    "        if low_bound < 0:\n",
    "            low_bound = 5\n",
    "        upper_bound = max_val + 75\n",
    "        if upper_bound > 511:\n",
    "            upper_bound = 506\n",
    "        trace = trace[low_bound:upper_bound]\n",
    "\n",
    "        polynomial_degree=2 \n",
    "        baseObj=BaselineRemoval(trace)\n",
    "        trace=baseObj.IModPoly(polynomial_degree)\n",
    "\n",
    "        #if np.sum(trace) > 800000:\n",
    "        #    veto_events += 1\n",
    "        #    pbar.update(n=1)\n",
    "        #    continue\n",
    "\n",
    "        len_list.append(length)\n",
    "        width_list.append(width)\n",
    "        depth_list.append(depth)\n",
    "        tot_energy.append(np.sum(trace))\n",
    "        tracemax_list.append(np.max(trace))\n",
    "        tracedev_list.append(np.std(trace))\n",
    "        pads_list.append(len(trace[trace > 0]))\n",
    "\n",
    "        # Track event number of good events\n",
    "        good_events.append(i)  \n",
    "        pbar.update(n=1)\n",
    "\n",
    "    return (tot_energy, skipped_events, veto_events, good_events, len_list, width_list, depth_list, tracemax_list, tracedev_list, pads_list)"
   ]
  },
  {
   "cell_type": "code",
   "execution_count": 7,
   "metadata": {
    "scrolled": true
   },
   "outputs": [
    {
     "name": "stdout",
     "output_type": "stream",
     "text": [
      "C:/Users/Adam/OneDrive - Tenundra, Inc/Desktop/Programming/GADGET2/simOutput/273_800p.h5\n"
     ]
    },
    {
     "name": "stderr",
     "output_type": "stream",
     "text": [
      "100%|█████████▉| 676/677 [00:13<00:00, 50.73it/s]\n"
     ]
    },
    {
     "name": "stdout",
     "output_type": "stream",
     "text": [
      "C:/Users/Adam/OneDrive - Tenundra, Inc/Desktop/Programming/GADGET2/simOutput/tuning2protons0-800p.h5\n"
     ]
    },
    {
     "name": "stderr",
     "output_type": "stream",
     "text": [
      " 98%|█████████▊| 50/51 [00:01<00:00, 42.86it/s]\n"
     ]
    },
    {
     "name": "stdout",
     "output_type": "stream",
     "text": [
      "C:/Users/Adam/OneDrive - Tenundra, Inc/Desktop/Programming/GADGET2/simOutput/tuning2protons1-800p.h5\n"
     ]
    },
    {
     "name": "stderr",
     "output_type": "stream",
     "text": [
      " 98%|█████████▊| 50/51 [00:01<00:00, 43.94it/s]\n"
     ]
    },
    {
     "name": "stdout",
     "output_type": "stream",
     "text": [
      "C:/Users/Adam/OneDrive - Tenundra, Inc/Desktop/Programming/GADGET2/simOutput/tuning2protons10-800p.h5\n"
     ]
    },
    {
     "name": "stderr",
     "output_type": "stream",
     "text": [
      " 98%|█████████▊| 50/51 [00:01<00:00, 42.00it/s]\n"
     ]
    },
    {
     "name": "stdout",
     "output_type": "stream",
     "text": [
      "C:/Users/Adam/OneDrive - Tenundra, Inc/Desktop/Programming/GADGET2/simOutput/tuning2protons11-800p.h5\n"
     ]
    },
    {
     "name": "stderr",
     "output_type": "stream",
     "text": [
      " 98%|█████████▊| 50/51 [00:01<00:00, 43.95it/s]\n"
     ]
    },
    {
     "name": "stdout",
     "output_type": "stream",
     "text": [
      "C:/Users/Adam/OneDrive - Tenundra, Inc/Desktop/Programming/GADGET2/simOutput/tuning2protons12-800p.h5\n"
     ]
    },
    {
     "name": "stderr",
     "output_type": "stream",
     "text": [
      " 98%|█████████▊| 50/51 [00:01<00:00, 29.10it/s]\n"
     ]
    },
    {
     "name": "stdout",
     "output_type": "stream",
     "text": [
      "C:/Users/Adam/OneDrive - Tenundra, Inc/Desktop/Programming/GADGET2/simOutput/tuning2protons13-800p.h5\n"
     ]
    },
    {
     "name": "stderr",
     "output_type": "stream",
     "text": [
      " 98%|█████████▊| 50/51 [00:01<00:00, 35.51it/s]\n"
     ]
    },
    {
     "name": "stdout",
     "output_type": "stream",
     "text": [
      "C:/Users/Adam/OneDrive - Tenundra, Inc/Desktop/Programming/GADGET2/simOutput/tuning2protons14-800p.h5\n"
     ]
    },
    {
     "name": "stderr",
     "output_type": "stream",
     "text": [
      " 98%|█████████▊| 50/51 [00:01<00:00, 46.84it/s]\n"
     ]
    },
    {
     "name": "stdout",
     "output_type": "stream",
     "text": [
      "C:/Users/Adam/OneDrive - Tenundra, Inc/Desktop/Programming/GADGET2/simOutput/tuning2protons15-800p.h5\n"
     ]
    },
    {
     "name": "stderr",
     "output_type": "stream",
     "text": [
      " 98%|█████████▊| 50/51 [00:01<00:00, 49.92it/s]\n"
     ]
    },
    {
     "name": "stdout",
     "output_type": "stream",
     "text": [
      "C:/Users/Adam/OneDrive - Tenundra, Inc/Desktop/Programming/GADGET2/simOutput/tuning2protons16-800p.h5\n"
     ]
    },
    {
     "name": "stderr",
     "output_type": "stream",
     "text": [
      " 98%|█████████▊| 50/51 [00:01<00:00, 47.48it/s]\n"
     ]
    },
    {
     "name": "stdout",
     "output_type": "stream",
     "text": [
      "C:/Users/Adam/OneDrive - Tenundra, Inc/Desktop/Programming/GADGET2/simOutput/tuning2protons17-800p.h5\n"
     ]
    },
    {
     "name": "stderr",
     "output_type": "stream",
     "text": [
      " 98%|█████████▊| 50/51 [00:00<00:00, 51.41it/s]\n"
     ]
    },
    {
     "name": "stdout",
     "output_type": "stream",
     "text": [
      "C:/Users/Adam/OneDrive - Tenundra, Inc/Desktop/Programming/GADGET2/simOutput/tuning2protons18-800p.h5\n"
     ]
    },
    {
     "name": "stderr",
     "output_type": "stream",
     "text": [
      " 98%|█████████▊| 50/51 [00:01<00:00, 48.19it/s]\n"
     ]
    },
    {
     "name": "stdout",
     "output_type": "stream",
     "text": [
      "C:/Users/Adam/OneDrive - Tenundra, Inc/Desktop/Programming/GADGET2/simOutput/tuning2protons19-800p.h5\n"
     ]
    },
    {
     "name": "stderr",
     "output_type": "stream",
     "text": [
      " 98%|█████████▊| 50/51 [00:01<00:00, 46.92it/s]\n"
     ]
    },
    {
     "name": "stdout",
     "output_type": "stream",
     "text": [
      "C:/Users/Adam/OneDrive - Tenundra, Inc/Desktop/Programming/GADGET2/simOutput/tuning2protons2-800p.h5\n"
     ]
    },
    {
     "name": "stderr",
     "output_type": "stream",
     "text": [
      " 98%|█████████▊| 50/51 [00:01<00:00, 46.60it/s]\n"
     ]
    },
    {
     "name": "stdout",
     "output_type": "stream",
     "text": [
      "C:/Users/Adam/OneDrive - Tenundra, Inc/Desktop/Programming/GADGET2/simOutput/tuning2protons20-800p.h5\n"
     ]
    },
    {
     "name": "stderr",
     "output_type": "stream",
     "text": [
      " 98%|█████████▊| 50/51 [00:01<00:00, 48.26it/s]\n"
     ]
    },
    {
     "name": "stdout",
     "output_type": "stream",
     "text": [
      "C:/Users/Adam/OneDrive - Tenundra, Inc/Desktop/Programming/GADGET2/simOutput/tuning2protons21-800p.h5\n"
     ]
    },
    {
     "name": "stderr",
     "output_type": "stream",
     "text": [
      " 98%|█████████▊| 50/51 [00:01<00:00, 42.33it/s]\n"
     ]
    },
    {
     "name": "stdout",
     "output_type": "stream",
     "text": [
      "C:/Users/Adam/OneDrive - Tenundra, Inc/Desktop/Programming/GADGET2/simOutput/tuning2protons22-800p.h5\n"
     ]
    },
    {
     "name": "stderr",
     "output_type": "stream",
     "text": [
      " 98%|█████████▊| 50/51 [00:01<00:00, 46.01it/s]\n"
     ]
    },
    {
     "name": "stdout",
     "output_type": "stream",
     "text": [
      "C:/Users/Adam/OneDrive - Tenundra, Inc/Desktop/Programming/GADGET2/simOutput/tuning2protons23-800p.h5\n"
     ]
    },
    {
     "name": "stderr",
     "output_type": "stream",
     "text": [
      " 98%|█████████▊| 50/51 [00:01<00:00, 39.01it/s]\n"
     ]
    },
    {
     "name": "stdout",
     "output_type": "stream",
     "text": [
      "C:/Users/Adam/OneDrive - Tenundra, Inc/Desktop/Programming/GADGET2/simOutput/tuning2protons24-800p.h5\n"
     ]
    },
    {
     "name": "stderr",
     "output_type": "stream",
     "text": [
      " 98%|█████████▊| 50/51 [00:01<00:00, 45.17it/s]\n"
     ]
    },
    {
     "name": "stdout",
     "output_type": "stream",
     "text": [
      "C:/Users/Adam/OneDrive - Tenundra, Inc/Desktop/Programming/GADGET2/simOutput/tuning2protons25-800p.h5\n"
     ]
    },
    {
     "name": "stderr",
     "output_type": "stream",
     "text": [
      " 98%|█████████▊| 50/51 [00:01<00:00, 43.73it/s]\n"
     ]
    },
    {
     "name": "stdout",
     "output_type": "stream",
     "text": [
      "C:/Users/Adam/OneDrive - Tenundra, Inc/Desktop/Programming/GADGET2/simOutput/tuning2protons26-800p.h5\n"
     ]
    },
    {
     "name": "stderr",
     "output_type": "stream",
     "text": [
      " 98%|█████████▊| 50/51 [00:01<00:00, 47.32it/s]\n"
     ]
    },
    {
     "name": "stdout",
     "output_type": "stream",
     "text": [
      "C:/Users/Adam/OneDrive - Tenundra, Inc/Desktop/Programming/GADGET2/simOutput/tuning2protons27-800p.h5\n"
     ]
    },
    {
     "name": "stderr",
     "output_type": "stream",
     "text": [
      " 98%|█████████▊| 50/51 [00:01<00:00, 44.60it/s]\n"
     ]
    },
    {
     "name": "stdout",
     "output_type": "stream",
     "text": [
      "C:/Users/Adam/OneDrive - Tenundra, Inc/Desktop/Programming/GADGET2/simOutput/tuning2protons28-800p.h5\n"
     ]
    },
    {
     "name": "stderr",
     "output_type": "stream",
     "text": [
      " 98%|█████████▊| 50/51 [00:00<00:00, 50.12it/s]\n"
     ]
    },
    {
     "name": "stdout",
     "output_type": "stream",
     "text": [
      "C:/Users/Adam/OneDrive - Tenundra, Inc/Desktop/Programming/GADGET2/simOutput/tuning2protons29-800p.h5\n"
     ]
    },
    {
     "name": "stderr",
     "output_type": "stream",
     "text": [
      " 98%|█████████▊| 50/51 [00:01<00:00, 43.18it/s]\n"
     ]
    },
    {
     "name": "stdout",
     "output_type": "stream",
     "text": [
      "C:/Users/Adam/OneDrive - Tenundra, Inc/Desktop/Programming/GADGET2/simOutput/tuning2protons3-800p.h5\n"
     ]
    },
    {
     "name": "stderr",
     "output_type": "stream",
     "text": [
      " 98%|█████████▊| 50/51 [00:01<00:00, 46.13it/s]\n"
     ]
    },
    {
     "name": "stdout",
     "output_type": "stream",
     "text": [
      "C:/Users/Adam/OneDrive - Tenundra, Inc/Desktop/Programming/GADGET2/simOutput/tuning2protons30-800p.h5\n"
     ]
    },
    {
     "name": "stderr",
     "output_type": "stream",
     "text": [
      " 98%|█████████▊| 50/51 [00:00<00:00, 50.17it/s]\n"
     ]
    },
    {
     "name": "stdout",
     "output_type": "stream",
     "text": [
      "C:/Users/Adam/OneDrive - Tenundra, Inc/Desktop/Programming/GADGET2/simOutput/tuning2protons31-800p.h5\n"
     ]
    },
    {
     "name": "stderr",
     "output_type": "stream",
     "text": [
      " 98%|█████████▊| 50/51 [00:01<00:00, 48.48it/s]\n"
     ]
    },
    {
     "name": "stdout",
     "output_type": "stream",
     "text": [
      "C:/Users/Adam/OneDrive - Tenundra, Inc/Desktop/Programming/GADGET2/simOutput/tuning2protons32-800p.h5\n"
     ]
    },
    {
     "name": "stderr",
     "output_type": "stream",
     "text": [
      " 98%|█████████▊| 50/51 [00:01<00:00, 47.85it/s]\n"
     ]
    },
    {
     "name": "stdout",
     "output_type": "stream",
     "text": [
      "C:/Users/Adam/OneDrive - Tenundra, Inc/Desktop/Programming/GADGET2/simOutput/tuning2protons33-800p.h5\n"
     ]
    },
    {
     "name": "stderr",
     "output_type": "stream",
     "text": [
      " 98%|█████████▊| 50/51 [00:00<00:00, 51.71it/s]\n"
     ]
    },
    {
     "name": "stdout",
     "output_type": "stream",
     "text": [
      "C:/Users/Adam/OneDrive - Tenundra, Inc/Desktop/Programming/GADGET2/simOutput/tuning2protons34-800p.h5\n"
     ]
    },
    {
     "name": "stderr",
     "output_type": "stream",
     "text": [
      " 98%|█████████▊| 50/51 [00:00<00:00, 51.05it/s]\n"
     ]
    },
    {
     "name": "stdout",
     "output_type": "stream",
     "text": [
      "C:/Users/Adam/OneDrive - Tenundra, Inc/Desktop/Programming/GADGET2/simOutput/tuning2protons35-800p.h5\n"
     ]
    },
    {
     "name": "stderr",
     "output_type": "stream",
     "text": [
      " 98%|█████████▊| 50/51 [00:01<00:00, 45.51it/s]\n"
     ]
    },
    {
     "name": "stdout",
     "output_type": "stream",
     "text": [
      "C:/Users/Adam/OneDrive - Tenundra, Inc/Desktop/Programming/GADGET2/simOutput/tuning2protons36-800p.h5\n"
     ]
    },
    {
     "name": "stderr",
     "output_type": "stream",
     "text": [
      " 98%|█████████▊| 50/51 [00:01<00:00, 42.63it/s]\n"
     ]
    },
    {
     "name": "stdout",
     "output_type": "stream",
     "text": [
      "C:/Users/Adam/OneDrive - Tenundra, Inc/Desktop/Programming/GADGET2/simOutput/tuning2protons37-800p.h5\n"
     ]
    },
    {
     "name": "stderr",
     "output_type": "stream",
     "text": [
      " 98%|█████████▊| 50/51 [00:00<00:00, 50.57it/s]\n"
     ]
    },
    {
     "name": "stdout",
     "output_type": "stream",
     "text": [
      "C:/Users/Adam/OneDrive - Tenundra, Inc/Desktop/Programming/GADGET2/simOutput/tuning2protons38-800p.h5\n"
     ]
    },
    {
     "name": "stderr",
     "output_type": "stream",
     "text": [
      " 98%|█████████▊| 50/51 [00:00<00:00, 51.85it/s]\n"
     ]
    },
    {
     "name": "stdout",
     "output_type": "stream",
     "text": [
      "C:/Users/Adam/OneDrive - Tenundra, Inc/Desktop/Programming/GADGET2/simOutput/tuning2protons39-800p.h5\n"
     ]
    },
    {
     "name": "stderr",
     "output_type": "stream",
     "text": [
      " 98%|█████████▊| 50/51 [00:00<00:00, 52.69it/s]\n"
     ]
    },
    {
     "name": "stdout",
     "output_type": "stream",
     "text": [
      "C:/Users/Adam/OneDrive - Tenundra, Inc/Desktop/Programming/GADGET2/simOutput/tuning2protons4-800p.h5\n"
     ]
    },
    {
     "name": "stderr",
     "output_type": "stream",
     "text": [
      " 98%|█████████▊| 50/51 [00:01<00:00, 40.56it/s]\n"
     ]
    },
    {
     "name": "stdout",
     "output_type": "stream",
     "text": [
      "C:/Users/Adam/OneDrive - Tenundra, Inc/Desktop/Programming/GADGET2/simOutput/tuning2protons40-800p.h5\n"
     ]
    },
    {
     "name": "stderr",
     "output_type": "stream",
     "text": [
      " 98%|█████████▊| 50/51 [00:01<00:00, 49.95it/s]\n"
     ]
    },
    {
     "name": "stdout",
     "output_type": "stream",
     "text": [
      "C:/Users/Adam/OneDrive - Tenundra, Inc/Desktop/Programming/GADGET2/simOutput/tuning2protons41-800p.h5\n"
     ]
    },
    {
     "name": "stderr",
     "output_type": "stream",
     "text": [
      " 98%|█████████▊| 50/51 [00:00<00:00, 50.91it/s]\n"
     ]
    },
    {
     "name": "stdout",
     "output_type": "stream",
     "text": [
      "C:/Users/Adam/OneDrive - Tenundra, Inc/Desktop/Programming/GADGET2/simOutput/tuning2protons42-800p.h5\n"
     ]
    },
    {
     "name": "stderr",
     "output_type": "stream",
     "text": [
      " 98%|█████████▊| 50/51 [00:01<00:00, 48.73it/s]\n"
     ]
    },
    {
     "name": "stdout",
     "output_type": "stream",
     "text": [
      "C:/Users/Adam/OneDrive - Tenundra, Inc/Desktop/Programming/GADGET2/simOutput/tuning2protons43-800p.h5\n"
     ]
    },
    {
     "name": "stderr",
     "output_type": "stream",
     "text": [
      " 98%|█████████▊| 50/51 [00:01<00:00, 47.39it/s]\n"
     ]
    },
    {
     "name": "stdout",
     "output_type": "stream",
     "text": [
      "C:/Users/Adam/OneDrive - Tenundra, Inc/Desktop/Programming/GADGET2/simOutput/tuning2protons44-800p.h5\n"
     ]
    },
    {
     "name": "stderr",
     "output_type": "stream",
     "text": [
      " 98%|█████████▊| 50/51 [00:01<00:00, 44.66it/s]\n"
     ]
    },
    {
     "name": "stdout",
     "output_type": "stream",
     "text": [
      "C:/Users/Adam/OneDrive - Tenundra, Inc/Desktop/Programming/GADGET2/simOutput/tuning2protons45-800p.h5\n"
     ]
    },
    {
     "name": "stderr",
     "output_type": "stream",
     "text": [
      " 98%|█████████▊| 50/51 [00:00<00:00, 50.05it/s]\n"
     ]
    },
    {
     "name": "stdout",
     "output_type": "stream",
     "text": [
      "C:/Users/Adam/OneDrive - Tenundra, Inc/Desktop/Programming/GADGET2/simOutput/tuning2protons46-800p.h5\n"
     ]
    },
    {
     "name": "stderr",
     "output_type": "stream",
     "text": [
      " 98%|█████████▊| 50/51 [00:00<00:00, 52.69it/s]\n"
     ]
    },
    {
     "name": "stdout",
     "output_type": "stream",
     "text": [
      "C:/Users/Adam/OneDrive - Tenundra, Inc/Desktop/Programming/GADGET2/simOutput/tuning2protons47-800p.h5\n"
     ]
    },
    {
     "name": "stderr",
     "output_type": "stream",
     "text": [
      " 98%|█████████▊| 50/51 [00:01<00:00, 40.85it/s]\n"
     ]
    },
    {
     "name": "stdout",
     "output_type": "stream",
     "text": [
      "C:/Users/Adam/OneDrive - Tenundra, Inc/Desktop/Programming/GADGET2/simOutput/tuning2protons48-800p.h5\n"
     ]
    },
    {
     "name": "stderr",
     "output_type": "stream",
     "text": [
      " 98%|█████████▊| 50/51 [00:00<00:00, 50.15it/s]\n"
     ]
    },
    {
     "name": "stdout",
     "output_type": "stream",
     "text": [
      "C:/Users/Adam/OneDrive - Tenundra, Inc/Desktop/Programming/GADGET2/simOutput/tuning2protons49-800p.h5\n"
     ]
    },
    {
     "name": "stderr",
     "output_type": "stream",
     "text": [
      " 98%|█████████▊| 50/51 [00:01<00:00, 44.40it/s]\n"
     ]
    },
    {
     "name": "stdout",
     "output_type": "stream",
     "text": [
      "C:/Users/Adam/OneDrive - Tenundra, Inc/Desktop/Programming/GADGET2/simOutput/tuning2protons5-800p.h5\n"
     ]
    },
    {
     "name": "stderr",
     "output_type": "stream",
     "text": [
      " 98%|█████████▊| 50/51 [00:00<00:00, 53.19it/s]\n"
     ]
    },
    {
     "name": "stdout",
     "output_type": "stream",
     "text": [
      "C:/Users/Adam/OneDrive - Tenundra, Inc/Desktop/Programming/GADGET2/simOutput/tuning2protons50-800p.h5\n"
     ]
    },
    {
     "name": "stderr",
     "output_type": "stream",
     "text": [
      " 98%|█████████▊| 50/51 [00:00<00:00, 54.48it/s]\n"
     ]
    },
    {
     "name": "stdout",
     "output_type": "stream",
     "text": [
      "C:/Users/Adam/OneDrive - Tenundra, Inc/Desktop/Programming/GADGET2/simOutput/tuning2protons51-800p.h5\n"
     ]
    },
    {
     "name": "stderr",
     "output_type": "stream",
     "text": [
      " 98%|█████████▊| 50/51 [00:00<00:00, 51.41it/s]\n"
     ]
    },
    {
     "name": "stdout",
     "output_type": "stream",
     "text": [
      "C:/Users/Adam/OneDrive - Tenundra, Inc/Desktop/Programming/GADGET2/simOutput/tuning2protons52-800p.h5\n"
     ]
    },
    {
     "name": "stderr",
     "output_type": "stream",
     "text": [
      " 98%|█████████▊| 50/51 [00:01<00:00, 43.57it/s]\n"
     ]
    },
    {
     "name": "stdout",
     "output_type": "stream",
     "text": [
      "C:/Users/Adam/OneDrive - Tenundra, Inc/Desktop/Programming/GADGET2/simOutput/tuning2protons53-800p.h5\n"
     ]
    },
    {
     "name": "stderr",
     "output_type": "stream",
     "text": [
      " 98%|█████████▊| 50/51 [00:01<00:00, 38.94it/s]\n"
     ]
    },
    {
     "name": "stdout",
     "output_type": "stream",
     "text": [
      "C:/Users/Adam/OneDrive - Tenundra, Inc/Desktop/Programming/GADGET2/simOutput/tuning2protons54-800p.h5\n"
     ]
    },
    {
     "name": "stderr",
     "output_type": "stream",
     "text": [
      " 98%|█████████▊| 50/51 [00:00<00:00, 50.05it/s]\n"
     ]
    },
    {
     "name": "stdout",
     "output_type": "stream",
     "text": [
      "C:/Users/Adam/OneDrive - Tenundra, Inc/Desktop/Programming/GADGET2/simOutput/tuning2protons55-800p.h5\n"
     ]
    },
    {
     "name": "stderr",
     "output_type": "stream",
     "text": [
      " 98%|█████████▊| 50/51 [00:01<00:00, 47.15it/s]\n"
     ]
    },
    {
     "name": "stdout",
     "output_type": "stream",
     "text": [
      "C:/Users/Adam/OneDrive - Tenundra, Inc/Desktop/Programming/GADGET2/simOutput/tuning2protons56-800p.h5\n"
     ]
    },
    {
     "name": "stderr",
     "output_type": "stream",
     "text": [
      " 98%|█████████▊| 50/51 [00:00<00:00, 50.71it/s]\n"
     ]
    },
    {
     "name": "stdout",
     "output_type": "stream",
     "text": [
      "C:/Users/Adam/OneDrive - Tenundra, Inc/Desktop/Programming/GADGET2/simOutput/tuning2protons57-800p.h5\n"
     ]
    },
    {
     "name": "stderr",
     "output_type": "stream",
     "text": [
      " 98%|█████████▊| 50/51 [00:01<00:00, 47.32it/s]\n"
     ]
    },
    {
     "name": "stdout",
     "output_type": "stream",
     "text": [
      "C:/Users/Adam/OneDrive - Tenundra, Inc/Desktop/Programming/GADGET2/simOutput/tuning2protons58-800p.h5\n"
     ]
    },
    {
     "name": "stderr",
     "output_type": "stream",
     "text": [
      " 98%|█████████▊| 50/51 [00:01<00:00, 45.55it/s]\n"
     ]
    },
    {
     "name": "stdout",
     "output_type": "stream",
     "text": [
      "C:/Users/Adam/OneDrive - Tenundra, Inc/Desktop/Programming/GADGET2/simOutput/tuning2protons59-800p.h5\n"
     ]
    },
    {
     "name": "stderr",
     "output_type": "stream",
     "text": [
      " 98%|█████████▊| 50/51 [00:01<00:00, 47.30it/s]\n"
     ]
    },
    {
     "name": "stdout",
     "output_type": "stream",
     "text": [
      "C:/Users/Adam/OneDrive - Tenundra, Inc/Desktop/Programming/GADGET2/simOutput/tuning2protons6-800p.h5\n"
     ]
    },
    {
     "name": "stderr",
     "output_type": "stream",
     "text": [
      " 98%|█████████▊| 50/51 [00:00<00:00, 50.39it/s]\n"
     ]
    },
    {
     "name": "stdout",
     "output_type": "stream",
     "text": [
      "C:/Users/Adam/OneDrive - Tenundra, Inc/Desktop/Programming/GADGET2/simOutput/tuning2protons60-800p.h5\n"
     ]
    },
    {
     "name": "stderr",
     "output_type": "stream",
     "text": [
      " 98%|█████████▊| 50/51 [00:01<00:00, 49.02it/s]\n"
     ]
    },
    {
     "name": "stdout",
     "output_type": "stream",
     "text": [
      "C:/Users/Adam/OneDrive - Tenundra, Inc/Desktop/Programming/GADGET2/simOutput/tuning2protons61-800p.h5\n"
     ]
    },
    {
     "name": "stderr",
     "output_type": "stream",
     "text": [
      " 98%|█████████▊| 50/51 [00:01<00:00, 46.17it/s]\n"
     ]
    },
    {
     "name": "stdout",
     "output_type": "stream",
     "text": [
      "C:/Users/Adam/OneDrive - Tenundra, Inc/Desktop/Programming/GADGET2/simOutput/tuning2protons62-800p.h5\n"
     ]
    },
    {
     "name": "stderr",
     "output_type": "stream",
     "text": [
      " 98%|█████████▊| 50/51 [00:01<00:00, 49.55it/s]\n"
     ]
    },
    {
     "name": "stdout",
     "output_type": "stream",
     "text": [
      "C:/Users/Adam/OneDrive - Tenundra, Inc/Desktop/Programming/GADGET2/simOutput/tuning2protons63-800p.h5\n"
     ]
    },
    {
     "name": "stderr",
     "output_type": "stream",
     "text": [
      " 98%|█████████▊| 50/51 [00:00<00:00, 55.82it/s]\n"
     ]
    },
    {
     "name": "stdout",
     "output_type": "stream",
     "text": [
      "C:/Users/Adam/OneDrive - Tenundra, Inc/Desktop/Programming/GADGET2/simOutput/tuning2protons64-800p.h5\n"
     ]
    },
    {
     "name": "stderr",
     "output_type": "stream",
     "text": [
      " 98%|█████████▊| 50/51 [00:01<00:00, 49.57it/s]\n"
     ]
    },
    {
     "name": "stdout",
     "output_type": "stream",
     "text": [
      "C:/Users/Adam/OneDrive - Tenundra, Inc/Desktop/Programming/GADGET2/simOutput/tuning2protons65-800p.h5\n"
     ]
    },
    {
     "name": "stderr",
     "output_type": "stream",
     "text": [
      " 98%|█████████▊| 50/51 [00:01<00:00, 47.02it/s]\n"
     ]
    },
    {
     "name": "stdout",
     "output_type": "stream",
     "text": [
      "C:/Users/Adam/OneDrive - Tenundra, Inc/Desktop/Programming/GADGET2/simOutput/tuning2protons66-800p.h5\n"
     ]
    },
    {
     "name": "stderr",
     "output_type": "stream",
     "text": [
      " 98%|█████████▊| 50/51 [00:01<00:00, 47.06it/s]\n"
     ]
    },
    {
     "name": "stdout",
     "output_type": "stream",
     "text": [
      "C:/Users/Adam/OneDrive - Tenundra, Inc/Desktop/Programming/GADGET2/simOutput/tuning2protons67-800p.h5\n"
     ]
    },
    {
     "name": "stderr",
     "output_type": "stream",
     "text": [
      " 98%|█████████▊| 50/51 [00:01<00:00, 47.82it/s]\n"
     ]
    },
    {
     "name": "stdout",
     "output_type": "stream",
     "text": [
      "C:/Users/Adam/OneDrive - Tenundra, Inc/Desktop/Programming/GADGET2/simOutput/tuning2protons68-800p.h5\n"
     ]
    },
    {
     "name": "stderr",
     "output_type": "stream",
     "text": [
      " 98%|█████████▊| 50/51 [00:01<00:00, 48.12it/s]\n"
     ]
    },
    {
     "name": "stdout",
     "output_type": "stream",
     "text": [
      "C:/Users/Adam/OneDrive - Tenundra, Inc/Desktop/Programming/GADGET2/simOutput/tuning2protons69-800p.h5\n"
     ]
    },
    {
     "name": "stderr",
     "output_type": "stream",
     "text": [
      " 98%|█████████▊| 50/51 [00:01<00:00, 42.99it/s]\n"
     ]
    },
    {
     "name": "stdout",
     "output_type": "stream",
     "text": [
      "C:/Users/Adam/OneDrive - Tenundra, Inc/Desktop/Programming/GADGET2/simOutput/tuning2protons7-800p.h5\n"
     ]
    },
    {
     "name": "stderr",
     "output_type": "stream",
     "text": [
      " 98%|█████████▊| 50/51 [00:01<00:00, 48.19it/s]\n"
     ]
    },
    {
     "name": "stdout",
     "output_type": "stream",
     "text": [
      "C:/Users/Adam/OneDrive - Tenundra, Inc/Desktop/Programming/GADGET2/simOutput/tuning2protons70-800p.h5\n"
     ]
    },
    {
     "name": "stderr",
     "output_type": "stream",
     "text": [
      " 98%|█████████▊| 50/51 [00:01<00:00, 49.12it/s]\n"
     ]
    },
    {
     "name": "stdout",
     "output_type": "stream",
     "text": [
      "C:/Users/Adam/OneDrive - Tenundra, Inc/Desktop/Programming/GADGET2/simOutput/tuning2protons71-800p.h5\n"
     ]
    },
    {
     "name": "stderr",
     "output_type": "stream",
     "text": [
      " 98%|█████████▊| 50/51 [00:00<00:00, 51.07it/s]\n"
     ]
    },
    {
     "name": "stdout",
     "output_type": "stream",
     "text": [
      "C:/Users/Adam/OneDrive - Tenundra, Inc/Desktop/Programming/GADGET2/simOutput/tuning2protons72-800p.h5\n"
     ]
    },
    {
     "name": "stderr",
     "output_type": "stream",
     "text": [
      " 98%|█████████▊| 50/51 [00:01<00:00, 47.71it/s]\n"
     ]
    },
    {
     "name": "stdout",
     "output_type": "stream",
     "text": [
      "C:/Users/Adam/OneDrive - Tenundra, Inc/Desktop/Programming/GADGET2/simOutput/tuning2protons73-800p.h5\n"
     ]
    },
    {
     "name": "stderr",
     "output_type": "stream",
     "text": [
      " 98%|█████████▊| 50/51 [00:00<00:00, 54.14it/s]\n"
     ]
    },
    {
     "name": "stdout",
     "output_type": "stream",
     "text": [
      "C:/Users/Adam/OneDrive - Tenundra, Inc/Desktop/Programming/GADGET2/simOutput/tuning2protons74-800p.h5\n"
     ]
    },
    {
     "name": "stderr",
     "output_type": "stream",
     "text": [
      " 98%|█████████▊| 50/51 [00:01<00:00, 50.00it/s]\n"
     ]
    },
    {
     "name": "stdout",
     "output_type": "stream",
     "text": [
      "C:/Users/Adam/OneDrive - Tenundra, Inc/Desktop/Programming/GADGET2/simOutput/tuning2protons75-800p.h5\n"
     ]
    },
    {
     "name": "stderr",
     "output_type": "stream",
     "text": [
      " 98%|█████████▊| 50/51 [00:01<00:00, 48.36it/s]\n"
     ]
    },
    {
     "name": "stdout",
     "output_type": "stream",
     "text": [
      "C:/Users/Adam/OneDrive - Tenundra, Inc/Desktop/Programming/GADGET2/simOutput/tuning2protons76-800p.h5\n"
     ]
    },
    {
     "name": "stderr",
     "output_type": "stream",
     "text": [
      " 98%|█████████▊| 50/51 [00:00<00:00, 50.99it/s]\n"
     ]
    },
    {
     "name": "stdout",
     "output_type": "stream",
     "text": [
      "C:/Users/Adam/OneDrive - Tenundra, Inc/Desktop/Programming/GADGET2/simOutput/tuning2protons77-800p.h5\n"
     ]
    },
    {
     "name": "stderr",
     "output_type": "stream",
     "text": [
      " 98%|█████████▊| 50/51 [00:00<00:00, 51.94it/s]\n"
     ]
    },
    {
     "name": "stdout",
     "output_type": "stream",
     "text": [
      "C:/Users/Adam/OneDrive - Tenundra, Inc/Desktop/Programming/GADGET2/simOutput/tuning2protons78-800p.h5\n"
     ]
    },
    {
     "name": "stderr",
     "output_type": "stream",
     "text": [
      " 98%|█████████▊| 50/51 [00:00<00:00, 51.02it/s]\n"
     ]
    },
    {
     "name": "stdout",
     "output_type": "stream",
     "text": [
      "C:/Users/Adam/OneDrive - Tenundra, Inc/Desktop/Programming/GADGET2/simOutput/tuning2protons79-800p.h5\n"
     ]
    },
    {
     "name": "stderr",
     "output_type": "stream",
     "text": [
      " 98%|█████████▊| 50/51 [00:00<00:00, 53.00it/s]\n"
     ]
    },
    {
     "name": "stdout",
     "output_type": "stream",
     "text": [
      "C:/Users/Adam/OneDrive - Tenundra, Inc/Desktop/Programming/GADGET2/simOutput/tuning2protons8-800p.h5\n"
     ]
    },
    {
     "name": "stderr",
     "output_type": "stream",
     "text": [
      " 98%|█████████▊| 50/51 [00:01<00:00, 49.07it/s]\n"
     ]
    },
    {
     "name": "stdout",
     "output_type": "stream",
     "text": [
      "C:/Users/Adam/OneDrive - Tenundra, Inc/Desktop/Programming/GADGET2/simOutput/tuning2protons80-800p.h5\n"
     ]
    },
    {
     "name": "stderr",
     "output_type": "stream",
     "text": [
      " 98%|█████████▊| 50/51 [00:01<00:00, 42.27it/s]\n"
     ]
    },
    {
     "name": "stdout",
     "output_type": "stream",
     "text": [
      "C:/Users/Adam/OneDrive - Tenundra, Inc/Desktop/Programming/GADGET2/simOutput/tuning2protons81-800p.h5\n"
     ]
    },
    {
     "name": "stderr",
     "output_type": "stream",
     "text": [
      " 98%|█████████▊| 50/51 [00:01<00:00, 48.94it/s]\n"
     ]
    },
    {
     "name": "stdout",
     "output_type": "stream",
     "text": [
      "C:/Users/Adam/OneDrive - Tenundra, Inc/Desktop/Programming/GADGET2/simOutput/tuning2protons82-800p.h5\n"
     ]
    },
    {
     "name": "stderr",
     "output_type": "stream",
     "text": [
      " 98%|█████████▊| 50/51 [00:00<00:00, 51.98it/s]\n"
     ]
    },
    {
     "name": "stdout",
     "output_type": "stream",
     "text": [
      "C:/Users/Adam/OneDrive - Tenundra, Inc/Desktop/Programming/GADGET2/simOutput/tuning2protons83-800p.h5\n"
     ]
    },
    {
     "name": "stderr",
     "output_type": "stream",
     "text": [
      " 98%|█████████▊| 50/51 [00:01<00:00, 47.91it/s]\n"
     ]
    },
    {
     "name": "stdout",
     "output_type": "stream",
     "text": [
      "C:/Users/Adam/OneDrive - Tenundra, Inc/Desktop/Programming/GADGET2/simOutput/tuning2protons84-800p.h5\n"
     ]
    },
    {
     "name": "stderr",
     "output_type": "stream",
     "text": [
      " 98%|█████████▊| 50/51 [00:01<00:00, 46.48it/s]\n"
     ]
    },
    {
     "name": "stdout",
     "output_type": "stream",
     "text": [
      "C:/Users/Adam/OneDrive - Tenundra, Inc/Desktop/Programming/GADGET2/simOutput/tuning2protons85-800p.h5\n"
     ]
    },
    {
     "name": "stderr",
     "output_type": "stream",
     "text": [
      " 98%|█████████▊| 50/51 [00:00<00:00, 52.55it/s]\n"
     ]
    },
    {
     "name": "stdout",
     "output_type": "stream",
     "text": [
      "C:/Users/Adam/OneDrive - Tenundra, Inc/Desktop/Programming/GADGET2/simOutput/tuning2protons86-800p.h5\n"
     ]
    },
    {
     "name": "stderr",
     "output_type": "stream",
     "text": [
      " 98%|█████████▊| 50/51 [00:01<00:00, 44.80it/s]\n"
     ]
    },
    {
     "name": "stdout",
     "output_type": "stream",
     "text": [
      "C:/Users/Adam/OneDrive - Tenundra, Inc/Desktop/Programming/GADGET2/simOutput/tuning2protons87-800p.h5\n"
     ]
    },
    {
     "name": "stderr",
     "output_type": "stream",
     "text": [
      " 98%|█████████▊| 50/51 [00:01<00:00, 49.71it/s]\n"
     ]
    },
    {
     "name": "stdout",
     "output_type": "stream",
     "text": [
      "C:/Users/Adam/OneDrive - Tenundra, Inc/Desktop/Programming/GADGET2/simOutput/tuning2protons88-800p.h5\n"
     ]
    },
    {
     "name": "stderr",
     "output_type": "stream",
     "text": [
      " 98%|█████████▊| 50/51 [00:00<00:00, 52.05it/s]\n"
     ]
    },
    {
     "name": "stdout",
     "output_type": "stream",
     "text": [
      "C:/Users/Adam/OneDrive - Tenundra, Inc/Desktop/Programming/GADGET2/simOutput/tuning2protons89-800p.h5\n"
     ]
    },
    {
     "name": "stderr",
     "output_type": "stream",
     "text": [
      " 98%|█████████▊| 50/51 [00:00<00:00, 50.30it/s]\n"
     ]
    },
    {
     "name": "stdout",
     "output_type": "stream",
     "text": [
      "C:/Users/Adam/OneDrive - Tenundra, Inc/Desktop/Programming/GADGET2/simOutput/tuning2protons9-800p.h5\n"
     ]
    },
    {
     "name": "stderr",
     "output_type": "stream",
     "text": [
      " 98%|█████████▊| 50/51 [00:00<00:00, 51.97it/s]\n"
     ]
    },
    {
     "name": "stdout",
     "output_type": "stream",
     "text": [
      "C:/Users/Adam/OneDrive - Tenundra, Inc/Desktop/Programming/GADGET2/simOutput/tuning2protons90-800p.h5\n"
     ]
    },
    {
     "name": "stderr",
     "output_type": "stream",
     "text": [
      " 98%|█████████▊| 50/51 [00:01<00:00, 47.98it/s]\n"
     ]
    },
    {
     "name": "stdout",
     "output_type": "stream",
     "text": [
      "C:/Users/Adam/OneDrive - Tenundra, Inc/Desktop/Programming/GADGET2/simOutput/tuning2protons91-800p.h5\n"
     ]
    },
    {
     "name": "stderr",
     "output_type": "stream",
     "text": [
      " 98%|█████████▊| 50/51 [00:00<00:00, 53.20it/s]\n"
     ]
    },
    {
     "name": "stdout",
     "output_type": "stream",
     "text": [
      "C:/Users/Adam/OneDrive - Tenundra, Inc/Desktop/Programming/GADGET2/simOutput/tuning2protons92-800p.h5\n"
     ]
    },
    {
     "name": "stderr",
     "output_type": "stream",
     "text": [
      " 98%|█████████▊| 50/51 [00:01<00:00, 49.18it/s]\n"
     ]
    },
    {
     "name": "stdout",
     "output_type": "stream",
     "text": [
      "C:/Users/Adam/OneDrive - Tenundra, Inc/Desktop/Programming/GADGET2/simOutput/tuning2protons93-800p.h5\n"
     ]
    },
    {
     "name": "stderr",
     "output_type": "stream",
     "text": [
      " 98%|█████████▊| 50/51 [00:01<00:00, 49.07it/s]\n"
     ]
    },
    {
     "name": "stdout",
     "output_type": "stream",
     "text": [
      "C:/Users/Adam/OneDrive - Tenundra, Inc/Desktop/Programming/GADGET2/simOutput/tuning2protons94-800p.h5\n"
     ]
    },
    {
     "name": "stderr",
     "output_type": "stream",
     "text": [
      " 98%|█████████▊| 50/51 [00:01<00:00, 40.49it/s]\n"
     ]
    },
    {
     "name": "stdout",
     "output_type": "stream",
     "text": [
      "C:/Users/Adam/OneDrive - Tenundra, Inc/Desktop/Programming/GADGET2/simOutput/tuning2protons95-800p.h5\n"
     ]
    },
    {
     "name": "stderr",
     "output_type": "stream",
     "text": [
      " 98%|█████████▊| 50/51 [00:00<00:00, 50.10it/s]\n"
     ]
    },
    {
     "name": "stdout",
     "output_type": "stream",
     "text": [
      "C:/Users/Adam/OneDrive - Tenundra, Inc/Desktop/Programming/GADGET2/simOutput/tuning2protons96-800p.h5\n"
     ]
    },
    {
     "name": "stderr",
     "output_type": "stream",
     "text": [
      " 98%|█████████▊| 50/51 [00:00<00:00, 54.70it/s]\n"
     ]
    },
    {
     "name": "stdout",
     "output_type": "stream",
     "text": [
      "C:/Users/Adam/OneDrive - Tenundra, Inc/Desktop/Programming/GADGET2/simOutput/tuning2protons97-800p.h5\n"
     ]
    },
    {
     "name": "stderr",
     "output_type": "stream",
     "text": [
      " 98%|█████████▊| 50/51 [00:01<00:00, 41.71it/s]\n"
     ]
    },
    {
     "name": "stdout",
     "output_type": "stream",
     "text": [
      "C:/Users/Adam/OneDrive - Tenundra, Inc/Desktop/Programming/GADGET2/simOutput/tuning2protons98-800p.h5\n"
     ]
    },
    {
     "name": "stderr",
     "output_type": "stream",
     "text": [
      " 98%|█████████▊| 50/51 [00:01<00:00, 39.06it/s]\n"
     ]
    },
    {
     "name": "stdout",
     "output_type": "stream",
     "text": [
      "C:/Users/Adam/OneDrive - Tenundra, Inc/Desktop/Programming/GADGET2/simOutput/tuning2protons99-800p.h5\n"
     ]
    },
    {
     "name": "stderr",
     "output_type": "stream",
     "text": [
      " 98%|█████████▊| 50/51 [00:01<00:00, 44.52it/s]\n"
     ]
    }
   ],
   "source": [
    "# assign directory\n",
    "directory = \"C:/Users/Adam/OneDrive - Tenundra, Inc/Desktop/Programming/GADGET2/simOutput/\"\n",
    "\n",
    "output_df = pd.DataFrame(columns=['file','event','length', 'width', 'depth', 'tracesum', 'tracemax', 'tracedev', 'padnum'])\n",
    "\n",
    "file_names = []\n",
    "# iterate over files in directory\n",
    "for filename in os.listdir(directory):\n",
    "    f = os.path.join(directory, filename)\n",
    "    # checking if it is a file\n",
    "    if os.path.isfile(f):\n",
    "        if f[-3:] == '.h5':\n",
    "            print(f)\n",
    "            file_names.append(filename)\n",
    "            h5f = h5py.File(directory+filename, 'r')\n",
    "            (tot_energy, skipped_events, veto_events, good_events, len_list, width_list, depth_list, tracemax_list, tracedev_list, pads_list) = main(h5file=h5f, threshold=15)\n",
    "            for event in range(len(tot_energy)):\n",
    "                output_df = output_df.append({'file' : filename, \n",
    "                                              'event' : event, \n",
    "                                              'length' : len_list[event], \n",
    "                                              'width' : width_list[event], \n",
    "                                              'depth' : depth_list[event], \n",
    "                                              'tracesum' : tot_energy[event], \n",
    "                                              'tracemax' : tracemax_list[event], \n",
    "                                              'tracedev' : tracedev_list[event], \n",
    "                                              'padnum' : pads_list[event]}\n",
    "                                             ,ignore_index = True)\n"
   ]
  },
  {
   "cell_type": "code",
   "execution_count": 8,
   "metadata": {},
   "outputs": [
    {
     "name": "stdout",
     "output_type": "stream",
     "text": [
      "273_800p.h5\n",
      "length:\t 13.598839169264545 \t 0.36378981766204926\n",
      "width:\t 5.490411630687277 \t 1.079046393352792\n",
      "depth:\t 1.1956686193850883 \t 0.4627512586642447\n",
      "tracesum:\t 155282.26997909456 \t 1353.2815542925161\n",
      "tracemax:\t 17261.59640386621 \t 3820.7164201418886\n",
      "tracedev:\t 3396.80817140803 \t 395.6029936835511\n",
      "padnum:\t 89.44822485207101 \t 4.124217163844774\n",
      "\n",
      "tuning2protons0-800p.h5\n",
      "length:\t 15.249090908108828 \t 1.1433127793866278\n",
      "width:\t 9.331519885486022 \t 1.0410393374235865\n",
      "depth:\t 3.7517142148937 \t 0.9337680758007404\n",
      "tracesum:\t 301306.6144510945 \t 1972.7452318870767\n",
      "tracemax:\t 29260.05320781326 \t 3517.8997633018234\n",
      "tracedev:\t 6142.8029665961485 \t 414.6603133665401\n",
      "padnum:\t 109.52 \t 7.918565114298661\n",
      "\n",
      "tuning2protons1-800p.h5\n",
      "length:\t 15.173485044746657 \t 1.2212138085565611\n",
      "width:\t 9.103423780345384 \t 1.009437556731119\n",
      "depth:\t 3.8070539756262587 \t 0.8921949164556146\n",
      "tracesum:\t 329464.87619933515 \t 1865.3789467756646\n",
      "tracemax:\t 31677.92808539405 \t 3675.2804721654447\n",
      "tracedev:\t 6683.269712660911 \t 434.1587045325352\n",
      "padnum:\t 110.68 \t 5.574870731547897\n",
      "\n",
      "tuning2protons10-800p.h5\n",
      "length:\t 15.262426750626746 \t 1.2304786579889968\n",
      "width:\t 9.247376101754057 \t 0.972384327344421\n",
      "depth:\t 3.4826569874900093 \t 0.8246910598274327\n",
      "tracesum:\t 333998.2578127312 \t 2457.1753006910094\n",
      "tracemax:\t 31972.53100878054 \t 3880.2599128780503\n",
      "tracedev:\t 6756.608749266988 \t 464.2165055424905\n",
      "padnum:\t 109.1 \t 7.50306060000497\n",
      "\n",
      "tuning2protons11-800p.h5\n",
      "length:\t 15.552183977921567 \t 1.192572982251777\n",
      "width:\t 9.58948231407489 \t 1.0911519372946736\n",
      "depth:\t 4.011199418854048 \t 0.8966269657077703\n",
      "tracesum:\t 254844.49062710867 \t 1634.9203388829367\n",
      "tracemax:\t 25364.25207005391 \t 3207.3133471758506\n",
      "tracedev:\t 5266.573680524281 \t 369.03937591736565\n",
      "padnum:\t 108.44 \t 8.901180843470334\n",
      "\n",
      "tuning2protons12-800p.h5\n",
      "length:\t 15.701332730197008 \t 1.1450244088998034\n",
      "width:\t 9.746379565889006 \t 1.0752339690141093\n",
      "depth:\t 3.8479873612644333 \t 0.9507958270451792\n",
      "tracesum:\t 328890.16832375183 \t 1994.379215865079\n",
      "tracemax:\t 30623.152636192728 \t 3541.0657518258213\n",
      "tracedev:\t 6552.108036201367 \t 422.36774305274474\n",
      "padnum:\t 108.2 \t 8.427360687858643\n",
      "\n",
      "tuning2protons13-800p.h5\n",
      "length:\t 15.519336303956129 \t 1.0539672699839906\n",
      "width:\t 9.325610819543153 \t 1.0145971521683956\n",
      "depth:\t 4.342451027437594 \t 1.0312573371575267\n",
      "tracesum:\t 404784.82813794585 \t 2363.891461408348\n",
      "tracemax:\t 38044.67632263922 \t 4809.273996928204\n",
      "tracedev:\t 8095.672221216568 \t 561.0831457142219\n",
      "padnum:\t 104.32 \t 11.330723989333118\n",
      "\n",
      "tuning2protons14-800p.h5\n",
      "length:\t 15.283434557084156 \t 1.2088145481924708\n",
      "width:\t 8.967910215560483 \t 0.9503648091369836\n",
      "depth:\t 3.729524965910807 \t 0.8583711304837277\n",
      "tracesum:\t 392163.9018611349 \t 2436.5389685097807\n",
      "tracemax:\t 36741.868900732465 \t 4482.677187809276\n",
      "tracedev:\t 7836.025037769552 \t 539.1136160324293\n",
      "padnum:\t 106.28 \t 10.087454321774029\n",
      "\n",
      "tuning2protons15-800p.h5\n",
      "length:\t 15.644106882206092 \t 1.263043284405462\n",
      "width:\t 9.571016220217274 \t 1.0633481610372792\n",
      "depth:\t 3.5132273058159855 \t 0.8349455629325984\n",
      "tracesum:\t 414522.5777123475 \t 2433.064078530324\n",
      "tracemax:\t 38392.89070760199 \t 4333.241725358684\n",
      "tracedev:\t 8236.200735383998 \t 527.5804420458613\n",
      "padnum:\t 109.42 \t 7.128814768248647\n",
      "\n",
      "tuning2protons16-800p.h5\n",
      "length:\t 15.286499928727444 \t 1.2389095231481226\n",
      "width:\t 9.11235223116878 \t 1.0121298938064733\n",
      "depth:\t 3.5579688792719377 \t 0.7606016962967002\n",
      "tracesum:\t 301707.4985949651 \t 2072.7356223242814\n",
      "tracemax:\t 26815.062053892747 \t 2921.0402345093694\n",
      "tracedev:\t 5858.216364988458 \t 364.4502724430061\n",
      "padnum:\t 108.76 \t 6.831977632234092\n",
      "\n",
      "tuning2protons17-800p.h5\n",
      "length:\t 15.153760512779918 \t 1.1616903184970042\n",
      "width:\t 9.244235812767938 \t 1.0318786947663898\n",
      "depth:\t 3.4489313779591333 \t 0.7787975500884655\n",
      "tracesum:\t 282177.23802458256 \t 1619.1452559009163\n",
      "tracemax:\t 28627.77305154078 \t 3524.890259920672\n",
      "tracedev:\t 5895.605705694369 \t 399.03293152012753\n",
      "padnum:\t 110.0 \t 7.464200272921789\n",
      "\n",
      "tuning2protons18-800p.h5\n",
      "length:\t 15.421282321847384 \t 1.0376751866979395\n",
      "width:\t 9.581819414393191 \t 1.0004753143254943\n",
      "depth:\t 3.6884604778351204 \t 0.8612879367769648\n",
      "tracesum:\t 310571.2521409936 \t 1858.902175428377\n",
      "tracemax:\t 28739.88086371906 \t 3418.6068677514354\n",
      "tracedev:\t 6164.502043335209 \t 412.23067034402544\n",
      "padnum:\t 106.94 \t 9.794646601119222\n",
      "\n",
      "tuning2protons19-800p.h5\n",
      "length:\t 15.298898839200945 \t 1.2350496229894845\n",
      "width:\t 9.126128400453274 \t 1.0147888386779476\n",
      "depth:\t 3.9065736567469815 \t 0.7953031313965481\n",
      "tracesum:\t 480245.8765816714 \t 2817.720188959955\n",
      "tracemax:\t 43602.61913286533 \t 5004.076932005935\n",
      "tracedev:\t 9435.593618547884 \t 606.908433753941\n",
      "padnum:\t 107.96 \t 8.359181680484458\n",
      "\n",
      "tuning2protons2-800p.h5\n",
      "length:\t 15.856133281225993 \t 1.2758590576691196\n",
      "width:\t 9.896707006378586 \t 1.0450011612583054\n",
      "depth:\t 4.15148023289013 \t 1.0611382806820375\n",
      "tracesum:\t 403325.9008205089 \t 2866.749495602425\n",
      "tracemax:\t 39550.46160100603 \t 4919.576217464077\n",
      "tracedev:\t 8267.614679945482 \t 576.5701446168613\n",
      "padnum:\t 109.14 \t 7.822025417540719\n",
      "\n",
      "tuning2protons20-800p.h5\n",
      "length:\t 15.878295676717237 \t 1.2175903537312966\n",
      "width:\t 10.124813514536545 \t 1.1638733076584087\n",
      "depth:\t 4.042708171968652 \t 0.9588149334162315\n",
      "tracesum:\t 359226.47098986583 \t 1992.9312320812744\n",
      "tracemax:\t 33383.111870501874 \t 3832.3978760091213\n",
      "tracedev:\t 7149.14432279777 \t 462.81351086736464\n",
      "padnum:\t 108.38 \t 8.221152409411683\n",
      "\n",
      "tuning2protons21-800p.h5\n",
      "length:\t 14.952215464402236 \t 1.0732918519535835\n",
      "width:\t 8.83587726809742 \t 0.8865290870851855\n",
      "depth:\t 3.9836575253578723 \t 0.8809531022891789\n",
      "tracesum:\t 280467.6220372705 \t 1491.2795810473517\n",
      "tracemax:\t 27284.099989794606 \t 3756.17155144653\n",
      "tracedev:\t 5714.871174951554 \t 437.18065802375946\n",
      "padnum:\t 99.78 \t 14.6054085592863\n",
      "\n",
      "tuning2protons22-800p.h5\n",
      "length:\t 15.494223225779955 \t 1.1966213613500576\n",
      "width:\t 9.576717619874474 \t 1.0873214319456523\n",
      "depth:\t 3.8189519377997554 \t 1.0203315957521388\n",
      "tracesum:\t 391657.6031339822 \t 2724.841318007249\n",
      "tracemax:\t 36047.51831318906 \t 4340.868635777609\n",
      "tracedev:\t 7744.768122361765 \t 528.2465175566342\n",
      "padnum:\t 105.42 \t 10.671514629601365\n",
      "\n",
      "tuning2protons23-800p.h5\n",
      "length:\t 14.924542343210023 \t 1.2279778612879937\n",
      "width:\t 8.818409526283677 \t 0.9427557762815045\n",
      "depth:\t 4.026965369499195 \t 0.9718560006084607\n",
      "tracesum:\t 252119.89454588428 \t 1617.6161312968454\n",
      "tracemax:\t 23751.176681186276 \t 3116.6927059232385\n",
      "tracedev:\t 5051.176991762524 \t 369.94494452104095\n",
      "padnum:\t 103.56 \t 11.597255129150701\n",
      "\n",
      "tuning2protons24-800p.h5\n",
      "length:\t 14.745521256049978 \t 1.1794917888353493\n",
      "width:\t 8.92556960430322 \t 0.9007084556226224\n",
      "depth:\t 3.61205994451899 \t 0.8899638242144079\n",
      "tracesum:\t 310615.93033760047 \t 1826.05211618837\n",
      "tracemax:\t 29232.757511846776 \t 3804.3784975924677\n",
      "tracedev:\t 6219.859114404315 \t 453.2219128689696\n",
      "padnum:\t 104.36 \t 11.180814471446073\n",
      "\n",
      "tuning2protons25-800p.h5\n",
      "length:\t 14.975917824955257 \t 1.0958868893191378\n",
      "width:\t 8.590008651236168 \t 0.9584944823303454\n",
      "depth:\t 3.9840098020790866 \t 1.0266780575996568\n",
      "tracesum:\t 233485.71133821912 \t 1571.865274197317\n",
      "tracemax:\t 21974.293435592583 \t 2899.476812967767\n",
      "tracedev:\t 4674.537607123942 \t 343.9693565860588\n",
      "padnum:\t 101.94 \t 12.395539026403897\n",
      "\n",
      "tuning2protons26-800p.h5\n",
      "length:\t 15.70460929030055 \t 1.2475292067251686\n",
      "width:\t 9.879163242265083 \t 1.0844806739807538\n",
      "depth:\t 3.7707666180882375 \t 0.969490787413901\n",
      "tracesum:\t 419435.4499546776 \t 2863.984679100323\n",
      "tracemax:\t 39108.65379480605 \t 4575.913691026899\n",
      "tracedev:\t 8365.201791693667 \t 554.2984195676135\n",
      "padnum:\t 108.98 \t 6.8823643303381\n",
      "\n",
      "tuning2protons27-800p.h5\n",
      "length:\t 15.75109843790449 \t 1.2619989431019953\n",
      "width:\t 9.70173523628104 \t 1.1381200574117445\n",
      "depth:\t 4.328634880115076 \t 1.1109336817767588\n",
      "tracesum:\t 350462.86348208383 \t 2588.665523886433\n",
      "tracemax:\t 31781.32638854204 \t 4085.865649355619\n",
      "tracedev:\t 6871.908774526133 \t 501.5226510259151\n",
      "padnum:\t 102.82 \t 11.805723274785679\n",
      "\n",
      "tuning2protons28-800p.h5\n",
      "length:\t 15.44371233465563 \t 1.2015746083690668\n",
      "width:\t 9.80609905613263 \t 1.1182458107962752\n",
      "depth:\t 4.0397013100111065 \t 0.9972485121491501\n",
      "tracesum:\t 289298.4603825975 \t 1725.4367947256696\n",
      "tracemax:\t 27702.684660895568 \t 3429.021166495022\n",
      "tracedev:\t 5851.507120719394 \t 403.6984081367951\n",
      "padnum:\t 107.54 \t 9.47221500721226\n",
      "\n",
      "tuning2protons29-800p.h5\n",
      "length:\t 15.210243904450975 \t 1.1923431118903758\n",
      "width:\t 8.919480473093206 \t 0.9881219734427598\n",
      "depth:\t 4.189512895742399 \t 0.8759098138088277\n",
      "tracesum:\t 263979.83161970606 \t 1737.7109664795703\n",
      "tracemax:\t 25570.04656665288 \t 3300.527220242491\n",
      "tracedev:\t 5374.051712072513 \t 387.64080910885275\n",
      "padnum:\t 103.56 \t 12.539179415263316\n",
      "\n",
      "tuning2protons3-800p.h5\n",
      "length:\t 14.943125130445706 \t 1.2632099648628492\n",
      "width:\t 8.580087066970497 \t 0.9007020911577384\n",
      "depth:\t 3.8434445109024966 \t 0.9401291342346404\n",
      "tracesum:\t 303743.0770218057 \t 2020.406928296305\n",
      "tracemax:\t 27923.908662677273 \t 3522.623640577334\n",
      "tracedev:\t 6002.168431404141 \t 428.3673581550108\n",
      "padnum:\t 104.42 \t 11.075050098933076\n",
      "\n",
      "tuning2protons30-800p.h5\n",
      "length:\t 15.358804108828497 \t 1.1639635873066863\n",
      "width:\t 9.4709849812026 \t 1.0215242784766605\n",
      "depth:\t 3.952092435177658 \t 1.0347121288809455\n",
      "tracesum:\t 310026.8218675661 \t 1544.6168597882438\n",
      "tracemax:\t 27891.445559519194 \t 3220.119272645736\n",
      "tracedev:\t 6059.736102614441 \t 393.8499975528105\n",
      "padnum:\t 106.9 \t 8.981273033714233\n",
      "\n",
      "tuning2protons31-800p.h5\n",
      "length:\t 15.851098352715693 \t 1.2663486835540543\n",
      "width:\t 10.009240251477312 \t 1.1651397690585958\n",
      "depth:\t 4.049576163731974 \t 0.9170029236962779\n",
      "tracesum:\t 409138.51385341794 \t 2131.6507451721623\n",
      "tracemax:\t 37539.33531008408 \t 4289.87817177976\n",
      "tracedev:\t 8086.387071542794 \t 516.2105351309369\n",
      "padnum:\t 107.84 \t 8.730336506126443\n",
      "\n",
      "tuning2protons32-800p.h5\n",
      "length:\t 15.164856269931256 \t 1.097584962224583\n",
      "width:\t 8.582133083964113 \t 0.993407235442807\n",
      "depth:\t 3.8107155196935127 \t 0.8374170744472923\n",
      "tracesum:\t 364803.1511095919 \t 2294.4866297470167\n",
      "tracemax:\t 33983.732498055215 \t 4158.41825149967\n",
      "tracedev:\t 7265.913182756901 \t 497.5313739337579\n",
      "padnum:\t 105.02 \t 11.253099346311627\n",
      "\n",
      "tuning2protons33-800p.h5\n",
      "length:\t 15.876038673739409 \t 1.0759269098389688\n",
      "width:\t 9.705920191050351 \t 1.1476258865394016\n",
      "depth:\t 4.2849269975604845 \t 0.9538665117978852\n",
      "tracesum:\t 450111.12275761267 \t 2996.392444467523\n",
      "tracemax:\t 41565.005687584875 \t 4705.883838399331\n",
      "tracedev:\t 8927.36859856879 \t 566.7024854437668\n",
      "padnum:\t 108.44 \t 8.041118817474013\n",
      "\n",
      "tuning2protons34-800p.h5\n",
      "length:\t 15.47423204832866 \t 1.1382493140554293\n",
      "width:\t 9.464134629211228 \t 1.1068014289017267\n",
      "depth:\t 3.810163311773892 \t 0.9080648305300103\n",
      "tracesum:\t 416762.1542320373 \t 2908.8441410554756\n",
      "tracemax:\t 37223.18368972128 \t 4231.087264703151\n",
      "tracedev:\t 8111.433353390827 \t 525.3008292248967\n",
      "padnum:\t 107.46 \t 8.224428520559707\n",
      "\n",
      "tuning2protons35-800p.h5\n",
      "length:\t 15.54565512525128 \t 1.2159792333278012\n",
      "width:\t 9.657646249849757 \t 1.0541565944458622\n",
      "depth:\t 3.71526586636473 \t 0.9249344334612742\n",
      "tracesum:\t 332202.9426156782 \t 2177.1341907366477\n",
      "tracemax:\t 32109.93224235062 \t 3858.8475868741025\n",
      "tracedev:\t 6756.095465069588 \t 459.4051650831183\n",
      "padnum:\t 109.56 \t 6.919832485880931\n",
      "\n",
      "tuning2protons36-800p.h5\n",
      "length:\t 16.00438428399559 \t 1.25761555342914\n",
      "width:\t 9.832775961169894 \t 1.1716948831832983\n",
      "depth:\t 3.914681785845257 \t 0.8860659739758585\n",
      "tracesum:\t 406225.3619569841 \t 1650.8602812339525\n",
      "tracemax:\t 37887.26883142481 \t 4001.044718069472\n",
      "tracedev:\t 8105.201948591499 \t 477.50815984715456\n",
      "padnum:\t 111.46 \t 4.041670699205507\n",
      "\n",
      "tuning2protons37-800p.h5\n",
      "length:\t 15.120163564994805 \t 1.1679951870931895\n",
      "width:\t 9.051478607269013 \t 1.0583922942451145\n",
      "depth:\t 3.5384234811787625 \t 0.7628627644707395\n",
      "tracesum:\t 343940.2620676109 \t 1760.123494992764\n",
      "tracemax:\t 31107.73235981199 \t 3438.8868113665294\n",
      "tracedev:\t 6743.386211549775 \t 417.98134252295415\n",
      "padnum:\t 108.82 \t 7.260994478466881\n",
      "\n",
      "tuning2protons38-800p.h5\n",
      "length:\t 15.589371781508348 \t 1.1922199768038693\n",
      "width:\t 9.336952517402368 \t 1.0907059746516228\n",
      "depth:\t 3.8733528623227844 \t 1.0392322851453784\n",
      "tracesum:\t 314892.82124997873 \t 2065.1491991048165\n",
      "tracemax:\t 31282.92871516382 \t 3880.8197897143214\n",
      "tracedev:\t 6502.70552205277 \t 446.0770464091019\n",
      "padnum:\t 109.26 \t 7.7796437670922405\n",
      "\n",
      "tuning2protons39-800p.h5\n",
      "length:\t 14.809515862606615 \t 1.2601356112258237\n",
      "width:\t 8.941636812596835 \t 0.9030443034403738\n",
      "depth:\t 3.1974201807092992 \t 0.7899199991309946\n",
      "tracesum:\t 264012.0419555528 \t 2028.5587511311069\n",
      "tracemax:\t 25667.72592546572 \t 3028.507719184496\n",
      "tracedev:\t 5389.097774700918 \t 361.12692090123096\n",
      "padnum:\t 111.08 \t 4.771685194125523\n",
      "\n",
      "tuning2protons4-800p.h5\n",
      "length:\t 15.210769300174785 \t 1.1969584922948195\n",
      "width:\t 8.960482579334563 \t 0.9915105755773685\n",
      "depth:\t 3.8994033800273113 \t 0.9586308152645175\n",
      "tracesum:\t 309039.93286874297 \t 2025.233860118389\n",
      "tracemax:\t 29062.693260260043 \t 3685.8300372395506\n",
      "tracedev:\t 6185.9625871834105 \t 439.45742349958715\n",
      "padnum:\t 104.7 \t 10.902630276166184\n",
      "\n",
      "tuning2protons40-800p.h5\n",
      "length:\t 15.825853344192613 \t 1.1538038720617565\n",
      "width:\t 9.56504504903451 \t 1.0705484542469772\n",
      "depth:\t 3.7817000584894283 \t 0.7903199315702284\n",
      "tracesum:\t 363861.3172123068 \t 1945.9271746719542\n",
      "tracemax:\t 35801.558565983476 \t 4273.428970758077\n",
      "tracedev:\t 7475.2879433757635 \t 497.37796769602426\n",
      "padnum:\t 110.92 \t 5.521165212717552\n",
      "\n",
      "tuning2protons41-800p.h5\n",
      "length:\t 15.788286552018462 \t 1.141776460250523\n",
      "width:\t 9.636119030909311 \t 1.0877634496302344\n",
      "depth:\t 3.855808687881066 \t 0.8471308464604752\n",
      "tracesum:\t 394560.1934270361 \t 2168.119519092891\n",
      "tracemax:\t 36938.61832190687 \t 4265.8568405616315\n",
      "tracedev:\t 7885.415944658801 \t 508.1966483704224\n",
      "padnum:\t 109.22 \t 7.551969603882101\n",
      "\n",
      "tuning2protons42-800p.h5\n",
      "length:\t 15.70388759526673 \t 1.1480521933419763\n",
      "width:\t 9.67986164544948 \t 1.0394601734049773\n",
      "depth:\t 4.169951368049421 \t 0.9571156756756022\n",
      "tracesum:\t 388919.3856134796 \t 2267.478284978111\n",
      "tracemax:\t 36287.85470282365 \t 4394.364012210271\n",
      "tracedev:\t 7752.2895577428835 \t 524.4543573969057\n",
      "padnum:\t 106.52 \t 9.779695750870363\n",
      "\n",
      "tuning2protons43-800p.h5\n",
      "length:\t 15.284113650965546 \t 1.113896562754987\n",
      "width:\t 9.536800879082175 \t 1.0405627405767202\n",
      "depth:\t 3.6359527309461286 \t 0.9790676359949768\n",
      "tracesum:\t 257906.20629991347 \t 1683.1861523177633\n",
      "tracemax:\t 23768.319725593425 \t 2961.184001293069\n",
      "tracedev:\t 5105.027572100798 \t 362.5566966804739\n",
      "padnum:\t 104.92 \t 11.076432049120129\n",
      "\n",
      "tuning2protons44-800p.h5\n",
      "length:\t 16.49156788551032 \t 1.1704601392588356\n",
      "width:\t 10.518150009235862 \t 1.285926381974431\n",
      "depth:\t 4.90182880856793 \t 1.1050565396645318\n",
      "tracesum:\t 386123.0936039608 \t 2106.472112309948\n",
      "tracemax:\t 35888.59082089541 \t 4649.46287254816\n",
      "tracedev:\t 7678.067090171035 \t 555.7993559212684\n",
      "padnum:\t 101.38 \t 12.528970510014634\n",
      "\n",
      "tuning2protons45-800p.h5\n",
      "length:\t 15.153005459429972 \t 1.2175397200969622\n",
      "width:\t 8.95265542411138 \t 1.0336468007714945\n",
      "depth:\t 3.9135218030825523 \t 0.952476515593457\n",
      "tracesum:\t 360938.21530147945 \t 2184.182883901808\n",
      "tracemax:\t 33336.92589064702 \t 3933.551168209703\n",
      "tracedev:\t 7157.989591434389 \t 474.91513795764405\n",
      "padnum:\t 108.64 \t 7.564039521152108\n",
      "\n",
      "tuning2protons46-800p.h5\n",
      "length:\t 15.776779061125575 \t 1.196490109672224\n",
      "width:\t 9.587239915708057 \t 1.0781037127424404\n",
      "depth:\t 3.825319964163561 \t 0.9193126816550564\n",
      "tracesum:\t 393531.4074445053 \t 2361.9271614643767\n",
      "tracemax:\t 38415.33046243853 \t 4419.631906997956\n",
      "tracedev:\t 8049.594869784823 \t 518.7206672189262\n",
      "padnum:\t 111.14 \t 5.026501197225988\n",
      "\n",
      "tuning2protons47-800p.h5\n",
      "length:\t 15.300138290394807 \t 1.198848810463716\n",
      "width:\t 9.302450804655496 \t 0.9747567028124384\n",
      "depth:\t 4.447169495842401 \t 1.0608819033813308\n",
      "tracesum:\t 227198.06580216918 \t 1417.7595598585099\n",
      "tracemax:\t 22038.818734617787 \t 3148.254348733654\n",
      "tracedev:\t 4620.718008870101 \t 362.60221624954823\n",
      "padnum:\t 96.7 \t 15.145889184319072\n",
      "\n",
      "tuning2protons48-800p.h5\n",
      "length:\t 15.354984355180827 \t 1.242097670866197\n",
      "width:\t 9.267881017904044 \t 0.9982315103857463\n",
      "depth:\t 3.996857721680745 \t 0.8880749114970174\n",
      "tracesum:\t 438015.5828057685 \t 2383.4493107879834\n",
      "tracemax:\t 39782.779691342905 \t 4537.590570425192\n",
      "tracedev:\t 8607.671593139929 \t 550.3109470989873\n",
      "padnum:\t 108.28 \t 7.969431393436666\n",
      "\n",
      "tuning2protons49-800p.h5\n",
      "length:\t 15.252175468806183 \t 1.3713671914260175\n",
      "width:\t 9.191098438936843 \t 1.0230278896497955\n",
      "depth:\t 4.337886273333062 \t 1.0778141328615134\n",
      "tracesum:\t 368503.20854794665 \t 2053.2181901006675\n",
      "tracemax:\t 34942.45036200548 \t 4515.149998711715\n",
      "tracedev:\t 7408.0141665368665 \t 536.081816657805\n",
      "padnum:\t 102.86 \t 12.295693621453532\n",
      "\n",
      "tuning2protons5-800p.h5\n",
      "length:\t 15.30927258501891 \t 1.1107533557872338\n",
      "width:\t 9.456742824306474 \t 1.0423708050832607\n",
      "depth:\t 3.7481680967875173 \t 0.810889618932039\n",
      "tracesum:\t 350911.3267286721 \t 2288.9384275730717\n",
      "tracemax:\t 33502.09927554228 \t 3869.314411804651\n",
      "tracedev:\t 7089.0178721234515 \t 460.9814425132427\n",
      "padnum:\t 110.66 \t 6.069697232135712\n",
      "\n",
      "tuning2protons50-800p.h5\n",
      "length:\t 14.875921976076603 \t 1.2479644393308567\n",
      "width:\t 8.905474313301418 \t 0.9943066389675685\n",
      "depth:\t 3.0457011759297585 \t 0.6762962607669596\n",
      "tracesum:\t 312007.4461744618 \t 2067.3844484201372\n",
      "tracemax:\t 28726.614587790787 \t 3059.55146477764\n",
      "tracedev:\t 6179.257623313755 \t 374.9954736021065\n",
      "padnum:\t 111.04 \t 4.065584778581887\n",
      "\n",
      "tuning2protons51-800p.h5\n",
      "length:\t 15.48525618688865 \t 1.2973734288214906\n",
      "width:\t 9.595144516957692 \t 1.0404368025603032\n",
      "depth:\t 3.8416799079954678 \t 0.8756023605555632\n",
      "tracesum:\t 355129.6986545304 \t 2440.897565944973\n",
      "tracemax:\t 34038.695112026035 \t 4013.5936848527003\n",
      "tracedev:\t 7189.2580291131335 \t 478.475668660483\n",
      "padnum:\t 109.92 \t 6.663455008706911\n",
      "\n",
      "tuning2protons52-800p.h5\n",
      "length:\t 14.64147988085268 \t 1.0766886116869894\n",
      "width:\t 8.56615870148013 \t 0.8287024884209051\n",
      "depth:\t 3.8601208774920632 \t 0.8988871602155669\n",
      "tracesum:\t 184856.57600885947 \t 1599.655912487179\n",
      "tracemax:\t 18435.96179130808 \t 2626.2646357195176\n",
      "tracedev:\t 3818.3352241629705 \t 305.29317133303596\n",
      "padnum:\t 100.42 \t 14.785665976456622\n",
      "\n",
      "tuning2protons53-800p.h5\n",
      "length:\t 14.982722496914189 \t 1.1065670455994499\n",
      "width:\t 8.817645170140542 \t 0.9421750300276618\n",
      "depth:\t 3.8953362227391723 \t 1.042907581514197\n",
      "tracesum:\t 248191.426171622 \t 1772.2236993711138\n",
      "tracemax:\t 23962.566972625795 \t 3270.109625233506\n",
      "tracedev:\t 5040.426913578506 \t 386.3542517969177\n",
      "padnum:\t 102.2 \t 13.06342455960495\n",
      "\n",
      "tuning2protons54-800p.h5\n",
      "length:\t 14.588004768608307 \t 1.1770732382910125\n",
      "width:\t 8.685301073794651 \t 0.8799788043007417\n",
      "depth:\t 3.4405439951871 \t 0.7753869846878201\n",
      "tracesum:\t 292919.1685232761 \t 2353.553011080502\n",
      "tracemax:\t 28715.742524818783 \t 3500.1862133327927\n",
      "tracedev:\t 6003.544005814279 \t 410.9634711319711\n",
      "padnum:\t 109.52 \t 7.0659863618115\n",
      "\n",
      "tuning2protons55-800p.h5\n",
      "length:\t 14.978289527067107 \t 1.1752092451812313\n",
      "width:\t 9.087520943239564 \t 0.9503008880645627\n",
      "depth:\t 3.59466577764638 \t 0.8296463185339256\n",
      "tracesum:\t 348675.3385291504 \t 2229.140241110287\n",
      "tracemax:\t 30531.764718022998 \t 3544.98997361586\n",
      "tracedev:\t 6709.874848362299 \t 441.8493504625906\n",
      "padnum:\t 105.94 \t 9.494165770275417\n",
      "\n",
      "tuning2protons56-800p.h5\n",
      "length:\t 16.190291999885122 \t 1.1469841961083622\n",
      "width:\t 10.062607055109932 \t 1.1644763845099524\n",
      "depth:\t 4.292173516202464 \t 0.9384978152206708\n",
      "tracesum:\t 367177.0757280011 \t 2010.9087464382699\n",
      "tracemax:\t 35193.91801934918 \t 4238.939341710651\n",
      "tracedev:\t 7432.426847139827 \t 500.35048746110147\n",
      "padnum:\t 107.62 \t 9.473679973742938\n",
      "\n",
      "tuning2protons57-800p.h5\n",
      "length:\t 15.390253542255767 \t 1.1540073887483935\n",
      "width:\t 9.117677642264729 \t 0.9853487189320771\n",
      "depth:\t 4.141853723296011 \t 0.9945925459717145\n",
      "tracesum:\t 315849.1053335641 \t 1845.9243291536618\n",
      "tracemax:\t 30390.346639652143 \t 3974.3752834036886\n",
      "tracedev:\t 6402.463848341655 \t 467.7102872107411\n",
      "padnum:\t 104.7 \t 11.643076246842838\n",
      "\n",
      "tuning2protons58-800p.h5\n",
      "length:\t 15.118600421228358 \t 1.207827014035646\n",
      "width:\t 9.031051748686686 \t 0.9857445263501696\n",
      "depth:\t 3.9922757328407976 \t 0.9229164702647844\n",
      "tracesum:\t 262174.8554997037 \t 2011.9166229870275\n",
      "tracemax:\t 24362.422365192495 \t 3114.8300956230933\n",
      "tracedev:\t 5212.869676286919 \t 377.46901926783687\n",
      "padnum:\t 103.9 \t 11.89280351768262\n",
      "\n",
      "tuning2protons59-800p.h5\n",
      "length:\t 15.415886359121194 \t 1.2347169529266677\n",
      "width:\t 9.340577156476746 \t 1.0185735345236662\n",
      "depth:\t 4.279881410961978 \t 0.9964936110285815\n",
      "tracesum:\t 382508.6726637262 \t 2154.9800868378356\n",
      "tracemax:\t 37250.24051190932 \t 4818.960296964043\n",
      "tracedev:\t 7807.663915331605 \t 564.28912372308\n",
      "padnum:\t 104.56 \t 12.017266489412266\n",
      "\n",
      "tuning2protons6-800p.h5\n",
      "length:\t 15.183648268197 \t 1.1504645243303027\n",
      "width:\t 9.266110458971593 \t 0.9950337790203603\n",
      "depth:\t 3.464305469499942 \t 0.8435328994251384\n",
      "tracesum:\t 364650.34712247807 \t 2459.476542914825\n",
      "tracemax:\t 32492.77050677878 \t 3678.2718939607544\n",
      "tracedev:\t 7088.835064194337 \t 457.58623683255746\n",
      "padnum:\t 108.12 \t 7.935042404372119\n",
      "\n",
      "tuning2protons60-800p.h5\n",
      "length:\t 15.470912275168848 \t 1.1576919527186247\n",
      "width:\t 9.537463288169205 \t 0.9868856165115442\n",
      "depth:\t 3.8702241607600705 \t 0.8700158312489851\n",
      "tracesum:\t 342337.6657027973 \t 2320.0348461014014\n",
      "tracemax:\t 31263.840138190957 \t 3628.225222361391\n",
      "tracedev:\t 6750.207491457723 \t 442.70682922612986\n",
      "padnum:\t 107.94 \t 8.13260005616097\n",
      "\n",
      "tuning2protons61-800p.h5\n",
      "length:\t 15.687547253445757 \t 1.0118222166134394\n",
      "width:\t 9.650562693011773 \t 1.1533085500806661\n",
      "depth:\t 4.249801764298121 \t 1.0949802520004026\n",
      "tracesum:\t 361573.9135537461 \t 1788.771543575422\n",
      "tracemax:\t 35596.52803393474 \t 4591.026749271531\n",
      "tracedev:\t 7421.719564656404 \t 532.917710415139\n",
      "padnum:\t 105.02 \t 11.03702488750238\n",
      "\n",
      "tuning2protons62-800p.h5\n",
      "length:\t 14.92702246626131 \t 1.16917532699037\n",
      "width:\t 8.936294314330533 \t 0.8845815922684162\n",
      "depth:\t 3.789080188439679 \t 0.8407433518767983\n",
      "tracesum:\t 230710.0014438999 \t 2067.1663499796737\n",
      "tracemax:\t 23492.44646923354 \t 3271.467726035997\n",
      "tracedev:\t 4825.1173999669045 \t 379.3376058965956\n",
      "padnum:\t 106.18 \t 10.777319344108625\n",
      "\n",
      "tuning2protons63-800p.h5\n",
      "length:\t 15.519012323339656 \t 1.2935113203827746\n",
      "width:\t 9.475277100823421 \t 1.0411383733876283\n",
      "depth:\t 3.6013541101022173 \t 0.7894300301114057\n",
      "tracesum:\t 347311.2803226726 \t 2397.451761927667\n",
      "tracemax:\t 35431.68461524807 \t 4152.629579634046\n",
      "tracedev:\t 7280.804934272805 \t 479.612322831728\n",
      "padnum:\t 112.18 \t 3.5322999387287113\n",
      "\n",
      "tuning2protons64-800p.h5\n",
      "length:\t 15.70500969697119 \t 1.2740094560294644\n",
      "width:\t 9.668660709082026 \t 1.0673748055242187\n",
      "depth:\t 4.049604236906276 \t 0.9798205030879588\n",
      "tracesum:\t 379855.5550142614 \t 2301.105010865584\n",
      "tracemax:\t 35025.01372504816 \t 4200.242856069629\n",
      "tracedev:\t 7521.919819099175 \t 511.49843556462116\n",
      "padnum:\t 106.82 \t 9.849251499583143\n",
      "\n",
      "tuning2protons65-800p.h5\n",
      "length:\t 15.18648994893111 \t 1.1569073202873896\n",
      "width:\t 9.232169053655253 \t 1.0199669152172006\n",
      "depth:\t 3.6636481277246844 \t 0.8431689618791133\n",
      "tracesum:\t 400576.2820992315 \t 2309.9836321598054\n",
      "tracemax:\t 35930.65416175453 \t 4253.314784368824\n",
      "tracedev:\t 7814.882732610314 \t 523.9419838646511\n",
      "padnum:\t 105.98 \t 9.840545032192688\n",
      "\n",
      "tuning2protons66-800p.h5\n",
      "length:\t 15.153299294971532 \t 1.1712200115077258\n",
      "width:\t 9.133558744499906 \t 1.001696235762734\n",
      "depth:\t 3.885993426899919 \t 1.0182242225463274\n",
      "tracesum:\t 286852.10644909355 \t 1876.032952340982\n",
      "tracemax:\t 27566.12591258426 \t 3538.153151373753\n",
      "tracedev:\t 5813.033526236475 \t 416.6678350794033\n",
      "padnum:\t 104.56 \t 11.590214028415947\n",
      "\n",
      "tuning2protons67-800p.h5\n",
      "length:\t 15.6649670968538 \t 1.1033711275881846\n",
      "width:\t 9.523410525081795 \t 1.087888016881269\n",
      "depth:\t 4.059747444908256 \t 0.9896906828112407\n",
      "tracesum:\t 374349.0044054225 \t 1865.9485105346848\n",
      "tracemax:\t 33909.79186296251 \t 3938.085291271698\n",
      "tracedev:\t 7342.286185874528 \t 479.9546153797643\n",
      "padnum:\t 106.5 \t 9.411781587619913\n",
      "\n",
      "tuning2protons68-800p.h5\n",
      "length:\t 15.61508385452491 \t 1.2807739682354964\n",
      "width:\t 9.578088677274826 \t 1.0848011324561855\n",
      "depth:\t 4.376831948522141 \t 1.0409073878358355\n",
      "tracesum:\t 334511.87653202476 \t 2294.729473462252\n",
      "tracemax:\t 31418.94490019328 \t 3869.1228008183093\n",
      "tracedev:\t 6693.638151970824 \t 464.861677857512\n",
      "padnum:\t 107.22 \t 9.307205898262543\n",
      "\n",
      "tuning2protons69-800p.h5\n",
      "length:\t 14.337538615644597 \t 1.0526502449585116\n",
      "width:\t 8.129208283909152 \t 0.7947380460043443\n",
      "depth:\t 3.7956692019528755 \t 0.9411337191946185\n",
      "tracesum:\t 212761.24485622183 \t 2199.7135097401815\n",
      "tracemax:\t 19695.203107813937 \t 2693.631699192029\n",
      "tracedev:\t 4221.132741436368 \t 328.2690374905666\n",
      "padnum:\t 100.44 \t 13.043350014158047\n",
      "\n",
      "tuning2protons7-800p.h5\n",
      "length:\t 15.265810718897933 \t 1.1646227616781306\n",
      "width:\t 9.154763674361057 \t 1.0007690883139082\n",
      "depth:\t 4.043156093416474 \t 0.9401207382078066\n",
      "tracesum:\t 344287.6126337266 \t 1993.7847072961613\n",
      "tracemax:\t 31915.83218638379 \t 3945.2940411702807\n",
      "tracedev:\t 6834.104693713993 \t 472.4472712852997\n",
      "padnum:\t 104.64 \t 11.659733605666213\n",
      "\n",
      "tuning2protons70-800p.h5\n",
      "length:\t 15.67188353231077 \t 1.161837523269263\n",
      "width:\t 9.750347316348439 \t 1.1061298604500185\n",
      "depth:\t 4.230324133646234 \t 0.9536366023410948\n",
      "tracesum:\t 311858.4266123639 \t 2148.0155006414384\n",
      "tracemax:\t 29018.983591395114 \t 3491.9867638353517\n",
      "tracedev:\t 6206.445760953531 \t 423.0780595060766\n",
      "padnum:\t 106.58 \t 9.831415701407277\n",
      "\n",
      "tuning2protons71-800p.h5\n",
      "length:\t 14.806824447966239 \t 1.084147258519671\n",
      "width:\t 8.562817479088666 \t 0.9039144536235908\n",
      "depth:\t 3.4729235462667583 \t 0.7242511564726262\n",
      "tracesum:\t 277341.9237915368 \t 2240.3954620491963\n",
      "tracemax:\t 26844.194264154576 \t 3144.3682185659773\n",
      "tracedev:\t 5643.899697466284 \t 374.1318772240845\n",
      "padnum:\t 110.88 \t 4.675773427237161\n",
      "\n",
      "tuning2protons72-800p.h5\n",
      "length:\t 15.740635189991323 \t 1.137850052578329\n",
      "width:\t 9.696536153631852 \t 1.07823804153815\n",
      "depth:\t 4.088817149812547 \t 0.9310845566889601\n",
      "tracesum:\t 391810.55180857563 \t 2334.8958965332326\n",
      "tracemax:\t 37322.91272448683 \t 4536.8311865489595\n",
      "tracedev:\t 7901.036655400222 \t 528.5464046742669\n",
      "padnum:\t 106.64 \t 10.137342565273913\n",
      "\n",
      "tuning2protons73-800p.h5\n",
      "length:\t 15.56302841457777 \t 1.255019949078106\n",
      "width:\t 9.285272202303284 \t 1.0913418378175388\n",
      "depth:\t 3.846960904244767 \t 0.9915403059543911\n",
      "tracesum:\t 349757.05258586886 \t 2050.560499381734\n",
      "tracemax:\t 34482.2653620224 \t 4002.295975992388\n",
      "tracedev:\t 7193.966112413572 \t 468.6123806431407\n",
      "padnum:\t 111.74 \t 3.9888108810644254\n",
      "\n",
      "tuning2protons74-800p.h5\n",
      "length:\t 15.916069629202864 \t 1.2254074304455604\n",
      "width:\t 9.670426294296474 \t 1.1019183548827767\n",
      "depth:\t 4.289401613266117 \t 0.9541066998158875\n",
      "tracesum:\t 361776.4217088385 \t 2052.6960882753865\n",
      "tracemax:\t 35200.26734462526 \t 4272.128103294677\n",
      "tracedev:\t 7381.920634359792 \t 490.12299468937516\n",
      "padnum:\t 107.32 \t 9.483476500240418\n",
      "\n",
      "tuning2protons75-800p.h5\n",
      "length:\t 15.847890418368515 \t 1.159879167504401\n",
      "width:\t 9.8365867264425 \t 1.1322532214814556\n",
      "depth:\t 4.461895856257703 \t 1.0120751903068337\n",
      "tracesum:\t 402866.8441554254 \t 2549.818487871605\n",
      "tracemax:\t 35711.85684040515 \t 4036.2978828726004\n",
      "tracedev:\t 7806.734753710498 \t 494.1722696202066\n",
      "padnum:\t 106.14 \t 9.315359272048875\n",
      "\n",
      "tuning2protons76-800p.h5\n",
      "length:\t 14.903919904607227 \t 1.2236072049390592\n",
      "width:\t 8.761617939289778 \t 0.9252630611939053\n",
      "depth:\t 3.488667043704492 \t 0.8334202021319911\n",
      "tracesum:\t 241408.3871425255 \t 1594.6327297504897\n",
      "tracemax:\t 22876.765623528234 \t 2722.179801110357\n",
      "tracedev:\t 4856.495532839111 \t 325.2329120269018\n",
      "padnum:\t 109.44 \t 7.031010029918627\n",
      "\n",
      "tuning2protons77-800p.h5\n",
      "length:\t 14.97540678881408 \t 1.1267321639798134\n",
      "width:\t 8.8684108569774 \t 0.9486916893157801\n",
      "depth:\t 3.378042317367736 \t 0.7943398431441063\n",
      "tracesum:\t 277369.5439108986 \t 2069.335607239122\n",
      "tracemax:\t 26110.582911688856 \t 3126.9365288158488\n",
      "tracedev:\t 5558.345934030743 \t 381.2088580037812\n",
      "padnum:\t 108.72 \t 7.772373892085182\n",
      "\n",
      "tuning2protons78-800p.h5\n",
      "length:\t 15.023366388872262 \t 1.2740874052071254\n",
      "width:\t 8.899182175763011 \t 0.9625992634844197\n",
      "depth:\t 3.3116491866456146 \t 0.7775277612635887\n",
      "tracesum:\t 398761.23548416095 \t 2046.386547828784\n",
      "tracemax:\t 37295.166015051494 \t 4315.949089982527\n",
      "tracedev:\t 7963.424220538669 \t 519.1036187206406\n",
      "padnum:\t 109.56 \t 6.237346374534476\n",
      "\n",
      "tuning2protons79-800p.h5\n",
      "length:\t 14.963919601242385 \t 1.2451610943045324\n",
      "width:\t 8.76621959675232 \t 0.9732803603585474\n",
      "depth:\t 3.244388485720442 \t 0.7092684526821429\n",
      "tracesum:\t 360772.17796890216 \t 2397.7845494095473\n",
      "tracemax:\t 31554.60491965966 \t 3155.522738298739\n",
      "tracedev:\t 6946.506612588127 \t 401.87695501852517\n",
      "padnum:\t 110.72 \t 3.681392815392632\n",
      "\n",
      "tuning2protons8-800p.h5\n",
      "length:\t 15.384742794347495 \t 1.2008317780588047\n",
      "width:\t 9.498459392040688 \t 1.0747418616215287\n",
      "depth:\t 3.9557989281389605 \t 1.023086939031588\n",
      "tracesum:\t 282279.34808892856 \t 1596.6711185571623\n",
      "tracemax:\t 26347.390966367027 \t 3152.03177699827\n",
      "tracedev:\t 5627.981239243086 \t 378.2915844851901\n",
      "padnum:\t 107.34 \t 9.667133462808668\n",
      "\n",
      "tuning2protons80-800p.h5\n",
      "length:\t 14.70347511572726 \t 1.2468380550465195\n",
      "width:\t 8.682216607270043 \t 0.9026912108573169\n",
      "depth:\t 4.137282256654676 \t 1.050721068989027\n",
      "tracesum:\t 247762.18385427922 \t 1451.8056524402907\n",
      "tracemax:\t 23214.753683125502 \t 3196.146122201728\n",
      "tracedev:\t 4944.460624014826 \t 381.8046127047622\n",
      "padnum:\t 98.94 \t 14.293440767694525\n",
      "\n",
      "tuning2protons81-800p.h5\n",
      "length:\t 15.339886300040293 \t 1.1908705913715671\n",
      "width:\t 9.451160357741735 \t 1.0120494115415446\n",
      "depth:\t 3.93368960944589 \t 0.768370566374118\n",
      "tracesum:\t 427897.40153435885 \t 2670.808569873654\n",
      "tracemax:\t 38314.47354728599 \t 4460.313272349036\n",
      "tracedev:\t 8340.05959067606 \t 552.3625399693566\n",
      "padnum:\t 106.86 \t 8.978454937305443\n",
      "\n",
      "tuning2protons82-800p.h5\n",
      "length:\t 15.506736428262489 \t 1.0791479344840782\n",
      "width:\t 9.294022950272835 \t 1.031791787218028\n",
      "depth:\t 3.9877725250916676 \t 0.9082798013603929\n",
      "tracesum:\t 256800.4387207742 \t 1402.9058182558827\n",
      "tracemax:\t 24499.11875310156 \t 2946.7117664716166\n",
      "tracedev:\t 5184.271604204039 \t 349.2051587532115\n",
      "padnum:\t 108.42 \t 8.442095687199757\n",
      "\n",
      "tuning2protons83-800p.h5\n",
      "length:\t 15.3133899164271 \t 1.2951827971297072\n",
      "width:\t 9.245720179523389 \t 0.9779234340531907\n",
      "depth:\t 4.034846173742146 \t 0.9516297344510933\n",
      "tracesum:\t 401692.3542005322 \t 2169.707949988211\n",
      "tracemax:\t 37871.44609741187 \t 4803.023961451211\n",
      "tracedev:\t 8053.564448675734 \t 570.4864324369244\n",
      "padnum:\t 104.78 \t 11.4344449192886\n",
      "\n",
      "tuning2protons84-800p.h5\n",
      "length:\t 15.704448493098399 \t 1.2425005064919064\n",
      "width:\t 9.82911625652517 \t 1.1260026309261506\n",
      "depth:\t 3.763569773308476 \t 0.8533014814965987\n",
      "tracesum:\t 361772.2385876736 \t 2091.734740083587\n",
      "tracemax:\t 33000.40840688061 \t 3831.576112182315\n",
      "tracedev:\t 7126.2660469148805 \t 467.78256881135025\n",
      "padnum:\t 108.08 \t 8.24333992148962\n",
      "\n",
      "tuning2protons85-800p.h5\n",
      "length:\t 14.787673616070864 \t 1.2550866372517806\n",
      "width:\t 8.728157943179783 \t 0.9669891973708559\n",
      "depth:\t 3.483010052344257 \t 0.8701352668749327\n",
      "tracesum:\t 247135.79985676755 \t 1717.1210458479518\n",
      "tracemax:\t 24174.13292748464 \t 2826.0379359620906\n",
      "tracedev:\t 5058.677312826054 \t 331.35097582507325\n",
      "padnum:\t 110.16 \t 6.238000726292399\n",
      "\n",
      "tuning2protons86-800p.h5\n",
      "length:\t 15.051482894672892 \t 1.1036540234133023\n",
      "width:\t 8.906865179885749 \t 0.9671709261150708\n",
      "depth:\t 4.068671463302233 \t 1.001673982215031\n",
      "tracesum:\t 316763.15577113634 \t 2330.6546732459396\n",
      "tracemax:\t 28255.379535842636 \t 3606.6465333946444\n",
      "tracedev:\t 6155.366839868136 \t 446.31388460300366\n",
      "padnum:\t 102.16 \t 12.202977221204032\n",
      "\n",
      "tuning2protons87-800p.h5\n",
      "length:\t 15.472613445451074 \t 1.2569310566650749\n",
      "width:\t 9.482196198420796 \t 1.014020755096245\n",
      "depth:\t 3.663044678324896 \t 0.895255916659592\n",
      "tracesum:\t 349119.7956457466 \t 1842.955558914223\n",
      "tracemax:\t 35556.73480881907 \t 4558.513245969528\n",
      "tracedev:\t 7310.392690741153 \t 521.173372459381\n",
      "padnum:\t 108.2 \t 9.612916480720413\n",
      "\n",
      "tuning2protons88-800p.h5\n",
      "length:\t 15.444217007786449 \t 1.174666358819476\n",
      "width:\t 9.241780252083355 \t 1.0073148826414988\n",
      "depth:\t 3.2359714335295564 \t 0.7610931870232033\n",
      "tracesum:\t 443967.36121419905 \t 2434.0767448399856\n",
      "tracemax:\t 42767.449693467344 \t 4589.734689086301\n",
      "tracedev:\t 9018.938335493403 \t 541.1389902199003\n",
      "padnum:\t 111.7 \t 3.388154635894692\n",
      "\n",
      "tuning2protons89-800p.h5\n",
      "length:\t 16.176417693281007 \t 1.2227397005624265\n",
      "width:\t 10.275667821516649 \t 1.200988055605508\n",
      "depth:\t 4.560424903069851 \t 1.1018330483182268\n",
      "tracesum:\t 417760.3689686562 \t 2131.663190349396\n",
      "tracemax:\t 39701.44052705208 \t 4744.161825261834\n",
      "tracedev:\t 8416.061335027753 \t 561.8472197698883\n",
      "padnum:\t 108.34 \t 8.399732745991484\n",
      "\n",
      "tuning2protons9-800p.h5\n",
      "length:\t 15.392100440127452 \t 1.1278482834386485\n",
      "width:\t 9.451957932922534 \t 1.0643746374594663\n",
      "depth:\t 3.7517410951023487 \t 0.934484369186332\n",
      "tracesum:\t 405225.9068061139 \t 2846.6811985511154\n",
      "tracemax:\t 36461.57324034708 \t 4067.695545766472\n",
      "tracedev:\t 7920.51169437498 \t 502.2761586792694\n",
      "padnum:\t 109.16 \t 6.481874256536532\n",
      "\n",
      "tuning2protons90-800p.h5\n",
      "length:\t 15.484793638380443 \t 1.2019970518640501\n",
      "width:\t 9.497963440327503 \t 1.02957037044531\n",
      "depth:\t 3.8498864151794505 \t 0.9393129664289135\n",
      "tracesum:\t 480702.10913985124 \t 3247.6409242781456\n",
      "tracemax:\t 42941.68975053728 \t 5106.243087872651\n",
      "tracedev:\t 9353.872658431843 \t 634.5006144909498\n",
      "padnum:\t 105.56 \t 9.936861903528493\n",
      "\n",
      "tuning2protons91-800p.h5\n",
      "length:\t 15.72201232048878 \t 1.1774827351125403\n",
      "width:\t 9.822765190230207 \t 1.1131981711485308\n",
      "depth:\t 3.853578414579411 \t 0.9809879325669987\n",
      "tracesum:\t 358163.10174684005 \t 2269.709083453525\n",
      "tracemax:\t 34476.34248386931 \t 3949.1918531606093\n",
      "tracedev:\t 7269.85650057642 \t 464.66792342243417\n",
      "padnum:\t 111.22 \t 5.3805773152049365\n",
      "\n",
      "tuning2protons92-800p.h5\n",
      "length:\t 15.435695362819487 \t 1.308616322238235\n",
      "width:\t 9.426563529862289 \t 1.0359525140588688\n",
      "depth:\t 3.965011729143511 \t 0.8875231947503159\n",
      "tracesum:\t 284978.50434549246 \t 1746.3970739107806\n",
      "tracemax:\t 26682.427976372674 \t 3238.7948705136055\n",
      "tracedev:\t 5691.511622123321 \t 390.9299784668451\n",
      "padnum:\t 106.4 \t 9.948848769417229\n",
      "\n",
      "tuning2protons93-800p.h5\n",
      "length:\t 15.762201159153182 \t 1.2711820600771788\n",
      "width:\t 9.65221213361423 \t 1.08767745843139\n",
      "depth:\t 3.9248036447735926 \t 0.9450814223503321\n",
      "tracesum:\t 398389.2391976261 \t 2384.1677707951512\n",
      "tracemax:\t 35365.9848727463 \t 3941.5245523169733\n",
      "tracedev:\t 7725.949677932458 \t 491.94960374908885\n",
      "padnum:\t 107.26 \t 8.74306722436674\n",
      "\n",
      "tuning2protons94-800p.h5\n",
      "length:\t 15.336837832513025 \t 1.3096516089792918\n",
      "width:\t 9.180040463048769 \t 1.0411402286217355\n",
      "depth:\t 4.861142315256691 \t 1.2145593278775504\n",
      "tracesum:\t 250206.71144517063 \t 1439.7613097309059\n",
      "tracemax:\t 23826.131294520095 \t 3330.9204547564773\n",
      "tracedev:\t 5038.830949986434 \t 391.42067335379465\n",
      "padnum:\t 94.94 \t 15.23745385554949\n",
      "\n",
      "tuning2protons95-800p.h5\n",
      "length:\t 15.301813456581984 \t 1.166889688793782\n",
      "width:\t 9.094801837297428 \t 1.0250604881745646\n",
      "depth:\t 3.472212633156709 \t 0.7882373518138086\n",
      "tracesum:\t 430566.2970078767 \t 2398.8191103938525\n",
      "tracemax:\t 38591.16673127026 \t 4414.387287923373\n",
      "tracedev:\t 8395.19667909422 \t 543.8634945873602\n",
      "padnum:\t 106.68 \t 9.423028673826432\n",
      "\n",
      "tuning2protons96-800p.h5\n",
      "length:\t 15.474510264378761 \t 1.1153712163616605\n",
      "width:\t 9.26627337681126 \t 1.0122580608413942\n",
      "depth:\t 3.4544955954344267 \t 0.8438778918939278\n",
      "tracesum:\t 424692.673212698 \t 2281.909095254019\n",
      "tracemax:\t 40092.04717446407 \t 4372.51727654363\n",
      "tracedev:\t 8531.513288407346 \t 517.8466644928392\n",
      "padnum:\t 111.3 \t 4.011463166313992\n",
      "\n",
      "tuning2protons97-800p.h5\n",
      "length:\t 15.386779029039962 \t 1.2795122981149036\n",
      "width:\t 9.208192114879305 \t 1.0969338362276015\n",
      "depth:\t 3.4704462706066255 \t 0.8696979490803896\n",
      "tracesum:\t 508658.1645944199 \t 2532.087692617598\n",
      "tracemax:\t 45499.833483788076 \t 4858.5289315792\n",
      "tracedev:\t 9911.698840889434 \t 595.6527429166371\n",
      "padnum:\t 109.22 \t 6.267147904521072\n",
      "\n",
      "tuning2protons98-800p.h5\n",
      "length:\t 15.17857717354149 \t 1.2483468187192845\n",
      "width:\t 9.118827571113448 \t 1.0160625821978981\n",
      "depth:\t 3.8127717567120674 \t 0.8160978535796436\n",
      "tracesum:\t 515688.57810440473 \t 2638.4613527926103\n",
      "tracemax:\t 43161.85870198118 \t 4831.181063281387\n",
      "tracedev:\t 9673.653711023859 \t 619.8238033605049\n",
      "padnum:\t 104.24 \t 10.354058654085598\n",
      "\n",
      "tuning2protons99-800p.h5\n",
      "length:\t 15.182617931976251 \t 1.1428022703255674\n",
      "width:\t 9.114759122571368 \t 0.9814508165882784\n",
      "depth:\t 3.4572533620519827 \t 0.7993541445118836\n",
      "tracesum:\t 293292.6170748785 \t 2028.7315549782068\n",
      "tracemax:\t 28879.994782312224 \t 3468.7135593437597\n",
      "tracedev:\t 6026.6328036308805 \t 409.72549888366365\n",
      "padnum:\t 110.28 \t 6.9106247687077875\n",
      "\n"
     ]
    }
   ],
   "source": [
    "for file in file_names:\n",
    "    print(file)\n",
    "    print('length:\\t', output_df[output_df['file'] == file]['length'].mean(),'\\t', output_df[output_df['file'] == file]['length'].std())\n",
    "    print('width:\\t', output_df[output_df['file'] == file]['width'].mean(),'\\t', output_df[output_df['file'] == file]['width'].std())\n",
    "    print('depth:\\t', output_df[output_df['file'] == file]['depth'].mean(),'\\t', output_df[output_df['file'] == file]['depth'].std())\n",
    "    print('tracesum:\\t', output_df[output_df['file'] == file]['tracesum'].mean(),'\\t', output_df[output_df['file'] == file]['tracesum'].std())\n",
    "    print('tracemax:\\t', output_df[output_df['file'] == file]['tracemax'].mean(),'\\t', output_df[output_df['file'] == file]['tracemax'].std())\n",
    "    print('tracedev:\\t', output_df[output_df['file'] == file]['tracedev'].mean(),'\\t', output_df[output_df['file'] == file]['tracedev'].std())\n",
    "    print('padnum:\\t', output_df[output_df['file'] == file]['padnum'].mean(),'\\t', output_df[output_df['file'] == file]['padnum'].std())\n",
    "    print()"
   ]
  },
  {
   "cell_type": "code",
   "execution_count": 9,
   "metadata": {},
   "outputs": [],
   "source": [
    "output_df.to_csv('event summary.csv', index=False)"
   ]
  },
  {
   "cell_type": "code",
   "execution_count": 16,
   "metadata": {},
   "outputs": [],
   "source": [
    "output_df = pd.read_csv('event summary.csv')\n",
    "file_names = output_df['file'].unique() \n",
    "\n",
    "run_df = pd.DataFrame(columns=['file','length', 'width', 'depth', 'tracesum', 'tracemax', 'tracedev', 'padnum'])\n",
    "\n",
    "reference_run = '273_800p.h5'\n",
    "\n",
    "for file in file_names:\n",
    "    run_df = run_df.append({'file' : file, \n",
    "                            'length' : output_df[output_df['file'] == file]['length'].mean(), \n",
    "                            'width' : output_df[output_df['file'] == file]['width'].mean(), \n",
    "                            'depth' : output_df[output_df['file'] == file]['depth'].mean(), \n",
    "                            'tracesum' : output_df[output_df['file'] == file]['tracesum'].mean(), \n",
    "                            'tracemax' : output_df[output_df['file'] == file]['tracemax'].mean(), \n",
    "                            'tracedev' : output_df[output_df['file'] == file]['tracedev'].mean(), \n",
    "                            'padnum' : output_df[output_df['file'] == file]['padnum'].mean()}\n",
    "                           ,ignore_index = True)\n",
    "\n",
    "run_df['length'] = (run_df['length'] - output_df[output_df['file'] == reference_run]['length'].mean()) / output_df[output_df['file'] == reference_run]['length'].std()\n",
    "run_df['width'] = (run_df['width'] - output_df[output_df['file'] == reference_run]['width'].mean()) / output_df[output_df['file'] == reference_run]['width'].std()\n",
    "run_df['depth'] = (run_df['depth'] - output_df[output_df['file'] == reference_run]['depth'].mean()) / output_df[output_df['file'] == reference_run]['depth'].std()\n",
    "run_df['tracesum'] = (run_df['tracesum'] - output_df[output_df['file'] == reference_run]['tracesum'].mean()) / output_df[output_df['file'] == reference_run]['tracesum'].std()\n",
    "run_df['tracemax'] = (run_df['tracemax'] - output_df[output_df['file'] == reference_run]['tracemax'].mean()) / output_df[output_df['file'] == reference_run]['tracemax'].std()\n",
    "run_df['tracedev'] = (run_df['tracedev'] - output_df[output_df['file'] == reference_run]['tracedev'].mean()) / output_df[output_df['file'] == reference_run]['tracedev'].std()\n",
    "run_df['padnum'] = (run_df['padnum'] - output_df[output_df['file'] == reference_run]['padnum'].mean()) / output_df[output_df['file'] == reference_run]['padnum'].std()\n",
    "\n",
    "# sum of absolute deviations from reference run\n",
    "run_df['Deviation'] = abs(run_df['length']) + abs(run_df['width']) + abs(run_df['depth']) + abs(run_df['tracesum']) + abs(run_df['tracemax']) + abs(run_df['tracedev']) + abs(run_df['padnum'])"
   ]
  },
  {
   "cell_type": "code",
   "execution_count": 17,
   "metadata": {},
   "outputs": [],
   "source": [
    "run_df = run_df.sort_values(by=['Deviation'])\n",
    "best_run_df = run_df.head(10)\n",
    "\n",
    "# load in parameters for best runs\n",
    "params = pd.read_csv('C:\\\\Users\\\\Adam\\\\OneDrive - Tenundra, Inc\\\\Desktop\\\\Programming\\\\GADGET2\\\\simInput\\\\parameters.csv')\n",
    "\n",
    "best_params = params[params['Sim'].isin(best_run_df['file'].str.replace('.h5',''))]"
   ]
  },
  {
   "cell_type": "code",
   "execution_count": 18,
   "metadata": {},
   "outputs": [
    {
     "name": "stdout",
     "output_type": "stream",
     "text": [
      "Current Best Fit Parameters\n",
      "Threshold \t 24.0 \t 0.11410886614690961 \n",
      " 23.14 \t 0.18447695837259964 \n",
      "\n",
      "EIonize \t 30.699999999999996 \t 0.052066343202429255 \n",
      " 29.032999999999998 \t 0.09611345465862343 \n",
      "\n",
      "Fano \t 0.21777777777777776 \t 0.10957516119854353 \n",
      " 0.23039999999999997 \t 0.09810847212397264 \n",
      "\n",
      "CoefL \t 0.00011988888888888887 \t 0.09036144578313257 \n",
      " 0.00011605000000000003 \t 0.08570173056346798 \n",
      "\n",
      "CoefT \t 0.002117777777777778 \t 0.06533426310760941 \n",
      " 0.0021636 \t 0.09108053825457481 \n",
      "\n",
      "Gain \t 8634.555555555555 \t 0.07749923483742906 \n",
      " 9655.427000000001 \t 0.09930537623198606 \n",
      "\n",
      "GETGain \t 135.47777777777776 \t 0.08542364052239486 \n",
      " 126.65299999999999 \t 0.09675924127436898 \n",
      "\n",
      "PeakingTime \t 595.7777777777778 \t 0.10086864085274529 \n",
      " 686.85 \t 0.09744132862545504 \n",
      "\n"
     ]
    }
   ],
   "source": [
    "parameters = ['Threshold', 'EIonize', 'Fano', 'CoefL', 'CoefT', 'Gain', 'GETGain', 'PeakingTime']\n",
    "print('Current Best Fit Parameters')\n",
    "for p in parameters:\n",
    "    print(p, '\\t', best_params[p].mean(),'\\t', best_params[p].std()/best_params[p].mean(), '\\n', params[p].mean(),'\\t', params[p].std()/params[p].mean(), '\\n')"
   ]
  },
  {
   "cell_type": "code",
   "execution_count": 19,
   "metadata": {},
   "outputs": [
    {
     "name": "stdout",
     "output_type": "stream",
     "text": [
      "Full Run Deviation: 168.6771112084371 \t 0.3448872344462877\n",
      "Best Run Deviation: 67.94220111334235 \t 0.42770743679567547\n"
     ]
    }
   ],
   "source": [
    "print('Full Run Deviation:', run_df['Deviation'].mean(), '\\t', run_df['Deviation'].std()/run_df['Deviation'].mean())\n",
    "print('Best Run Deviation:', best_run_df['Deviation'].mean(), '\\t', best_run_df['Deviation'].std()/best_run_df['Deviation'].mean())"
   ]
  },
  {
   "cell_type": "code",
   "execution_count": 21,
   "metadata": {},
   "outputs": [
    {
     "data": {
      "text/html": [
       "<div>\n",
       "<style scoped>\n",
       "    .dataframe tbody tr th:only-of-type {\n",
       "        vertical-align: middle;\n",
       "    }\n",
       "\n",
       "    .dataframe tbody tr th {\n",
       "        vertical-align: top;\n",
       "    }\n",
       "\n",
       "    .dataframe thead th {\n",
       "        text-align: right;\n",
       "    }\n",
       "</style>\n",
       "<table border=\"1\" class=\"dataframe\">\n",
       "  <thead>\n",
       "    <tr style=\"text-align: right;\">\n",
       "      <th></th>\n",
       "      <th>file</th>\n",
       "      <th>length</th>\n",
       "      <th>width</th>\n",
       "      <th>depth</th>\n",
       "      <th>tracesum</th>\n",
       "      <th>tracemax</th>\n",
       "      <th>tracedev</th>\n",
       "      <th>padnum</th>\n",
       "      <th>Deviation</th>\n",
       "    </tr>\n",
       "  </thead>\n",
       "  <tbody>\n",
       "    <tr>\n",
       "      <th>0</th>\n",
       "      <td>273_800p.h5</td>\n",
       "      <td>0.000000</td>\n",
       "      <td>0.000000</td>\n",
       "      <td>0.000000</td>\n",
       "      <td>0.000000</td>\n",
       "      <td>0.000000</td>\n",
       "      <td>0.000000</td>\n",
       "      <td>0.000000</td>\n",
       "      <td>0.000000</td>\n",
       "    </tr>\n",
       "    <tr>\n",
       "      <th>49</th>\n",
       "      <td>tuning2protons52-800p.h5</td>\n",
       "      <td>2.866052</td>\n",
       "      <td>2.850431</td>\n",
       "      <td>5.757850</td>\n",
       "      <td>21.853772</td>\n",
       "      <td>0.307368</td>\n",
       "      <td>1.065530</td>\n",
       "      <td>2.660329</td>\n",
       "      <td>37.361332</td>\n",
       "    </tr>\n",
       "    <tr>\n",
       "      <th>67</th>\n",
       "      <td>tuning2protons69-800p.h5</td>\n",
       "      <td>2.030567</td>\n",
       "      <td>2.445490</td>\n",
       "      <td>5.618571</td>\n",
       "      <td>42.473774</td>\n",
       "      <td>0.636950</td>\n",
       "      <td>2.083717</td>\n",
       "      <td>2.665179</td>\n",
       "      <td>57.954246</td>\n",
       "    </tr>\n",
       "    <tr>\n",
       "      <th>43</th>\n",
       "      <td>tuning2protons47-800p.h5</td>\n",
       "      <td>4.676599</td>\n",
       "      <td>3.532785</td>\n",
       "      <td>7.026455</td>\n",
       "      <td>53.141784</td>\n",
       "      <td>1.250347</td>\n",
       "      <td>3.093783</td>\n",
       "      <td>1.758340</td>\n",
       "      <td>74.480093</td>\n",
       "    </tr>\n",
       "    <tr>\n",
       "      <th>60</th>\n",
       "      <td>tuning2protons62-800p.h5</td>\n",
       "      <td>3.650963</td>\n",
       "      <td>3.193452</td>\n",
       "      <td>5.604332</td>\n",
       "      <td>55.736909</td>\n",
       "      <td>1.630807</td>\n",
       "      <td>3.610461</td>\n",
       "      <td>4.056958</td>\n",
       "      <td>77.483882</td>\n",
       "    </tr>\n",
       "  </tbody>\n",
       "</table>\n",
       "</div>"
      ],
      "text/plain": [
       "                        file    length     width     depth   tracesum  \\\n",
       "0                273_800p.h5  0.000000  0.000000  0.000000   0.000000   \n",
       "49  tuning2protons52-800p.h5  2.866052  2.850431  5.757850  21.853772   \n",
       "67  tuning2protons69-800p.h5  2.030567  2.445490  5.618571  42.473774   \n",
       "43  tuning2protons47-800p.h5  4.676599  3.532785  7.026455  53.141784   \n",
       "60  tuning2protons62-800p.h5  3.650963  3.193452  5.604332  55.736909   \n",
       "\n",
       "    tracemax  tracedev    padnum  Deviation  \n",
       "0   0.000000  0.000000  0.000000   0.000000  \n",
       "49  0.307368  1.065530  2.660329  37.361332  \n",
       "67  0.636950  2.083717  2.665179  57.954246  \n",
       "43  1.250347  3.093783  1.758340  74.480093  \n",
       "60  1.630807  3.610461  4.056958  77.483882  "
      ]
     },
     "execution_count": 21,
     "metadata": {},
     "output_type": "execute_result"
    }
   ],
   "source": [
    "best_run_df.head()"
   ]
  },
  {
   "cell_type": "code",
   "execution_count": null,
   "metadata": {},
   "outputs": [],
   "source": []
  }
 ],
 "metadata": {
  "kernelspec": {
   "display_name": "Python 3",
   "language": "python",
   "name": "python3"
  },
  "language_info": {
   "codemirror_mode": {
    "name": "ipython",
    "version": 3
   },
   "file_extension": ".py",
   "mimetype": "text/x-python",
   "name": "python",
   "nbconvert_exporter": "python",
   "pygments_lexer": "ipython3",
   "version": "3.10.11"
  },
  "vscode": {
   "interpreter": {
    "hash": "c295b91a4a4f8e66f37da6a2fbf5c84e6919990d10548059361442497be2c972"
   }
  }
 },
 "nbformat": 4,
 "nbformat_minor": 4
}
