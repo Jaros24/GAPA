{
 "cells": [
  {
   "cell_type": "code",
   "execution_count": 25,
   "metadata": {},
   "outputs": [],
   "source": [
    "import numpy as np\n",
    "import h5py\n",
    "import math\n",
    "from sklearn.decomposition import PCA\n",
    "from pca import pca\n",
    "import pandas as pd\n",
    "import matplotlib.pyplot as plt\n",
    "from matplotlib.colors import LinearSegmentedColormap\n",
    "from tqdm import tqdm\n",
    "import peakutils\n",
    "import os, sys\n",
    "from BaselineRemoval import BaselineRemoval\n",
    "from sklearn.cluster import DBSCAN\n",
    "import scipy\n",
    "from sklearn.linear_model import LinearRegression\n",
    "import seaborn as sns"
   ]
  },
  {
   "cell_type": "code",
   "execution_count": 26,
   "metadata": {},
   "outputs": [],
   "source": [
    "class HiddenPrints:\n",
    "\tdef __enter__(self):\n",
    "\t\tself._original_stdout = sys.stdout\n",
    "\t\tsys.stdout = open(os.devnull, 'w')"
   ]
  },
  {
   "cell_type": "code",
   "execution_count": 27,
   "metadata": {},
   "outputs": [],
   "source": [
    "def __exit__(self, exc_type, exc_val, exc_tb):\n",
    "\tsys.stdout.close()\n",
    "\tsys.stdout = self._original_stdout"
   ]
  },
  {
   "cell_type": "code",
   "execution_count": 28,
   "metadata": {},
   "outputs": [],
   "source": [
    "def remove_outliers(xset, yset, zset, eset, threshold):\n",
    "\t\"\"\"\n",
    "\tUses DBSCAN to find and remove outliers in 3D data\n",
    "\t\"\"\"\n",
    "\tdata = np.array([xset.T, yset.T, zset.T]).T\n",
    "\tDBSCAN_cluster = DBSCAN(eps=7, min_samples=10).fit(data)\n",
    "\tout_of_cluster_index = np.where(DBSCAN_cluster.labels_==-1)\n",
    "\tdel data\n",
    "\trev = out_of_cluster_index[0][::-1]\n",
    "\t#if len(out_of_cluster_index[0]) > 0:\n",
    "\tfor i in rev:\n",
    "\t\txset = np.delete(xset, i)\n",
    "\t\tyset = np.delete(yset, i)\n",
    "\t\tzset = np.delete(zset, i)\n",
    "\t\teset = np.delete(eset, i)\n",
    "\t#if len(xset) <= threshold:\n",
    "\t#\tveto = True\n",
    "\t#else:\n",
    "    #veto = False\n",
    "\treturn xset, yset, zset, eset, False"
   ]
  },
  {
   "cell_type": "code",
   "execution_count": 29,
   "metadata": {
    "scrolled": true
   },
   "outputs": [
    {
     "name": "stdout",
     "output_type": "stream",
     "text": [
      "Veto on Length @ 70 mm\n",
      "Veto on Integrated Charge @ 800k\n"
     ]
    }
   ],
   "source": [
    "print('Veto on Length @ 70 mm')\n",
    "print('Veto on Integrated Charge @ 800k')\n",
    "def track_len(xset, yset, zset):\n",
    "    \"\"\"\n",
    "    Uses PCA to find the length of a track\n",
    "    \"\"\"\n",
    "    veto_on_length = False\n",
    " \n",
    "    # Form data matrix\n",
    "    data = np.concatenate((xset[:, np.newaxis], \n",
    "                           yset[:, np.newaxis], \n",
    "                           zset[:, np.newaxis]), \n",
    "                           axis=1)\n",
    "\n",
    "    # Use PCA to find track length\n",
    "    pca = PCA(n_components=3)\n",
    "    principalComponents = pca.fit(data)\n",
    "    principalComponents = pca.transform(data)\n",
    "    principalDf = pd.DataFrame(data = principalComponents\n",
    "             , columns = ['principal component 1', 'principal component 2', 'principal component 3'])\n",
    "    \n",
    "    track_len = 2.35*principalDf.std()[0]\n",
    "    track_width = 2.35*principalDf.std()[1]\n",
    "    track_depth = 2.35*principalDf.std()[2]\n",
    "    #if track_len > 70:\n",
    "    #    veto_on_length = True\n",
    "    \n",
    "    return track_len, veto_on_length, track_width, track_depth"
   ]
  },
  {
   "cell_type": "code",
   "execution_count": 30,
   "metadata": {},
   "outputs": [],
   "source": [
    "def main(h5file, threshold):\n",
    "    \"\"\"\n",
    "    This functions does the following: \n",
    "    - Converts h5 files into ndarrays. \n",
    "    - Removes outliers.\n",
    "    - Calls PCA to return track length.\n",
    "    - Sums mesh signal to return energy.\n",
    "    \"\"\"\n",
    "    # Converts h5 files into ndarrays, and output each event dataset as a separte list\n",
    "    num_events = int(len(list(h5file.keys()))/2) \n",
    "    \n",
    "    len_list = []\n",
    "    width_list = []\n",
    "    depth_list = []\n",
    "    good_events = []\n",
    "    tot_energy = []\n",
    "    tracemax_list = []\n",
    "    tracedev_list = []\n",
    "    pads_list = []\n",
    "    \n",
    "    skipped_events = 0\n",
    "    veto_events = 0\n",
    "    \n",
    "    pbar = tqdm(total=num_events+1)\n",
    "    for i in range(0, num_events):\n",
    "        str_event = f\"Event_[{i}]\"\n",
    "        \n",
    "        # Apply pad threshold\n",
    "        event = np.array(h5file[str_event][:])\n",
    "        if len(event) <= threshold:\n",
    "            skipped_events += 1\n",
    "            pbar.update(n=1)\n",
    "            continue\n",
    "            \n",
    "        # Make copy of datasets\n",
    "        dset_0_copyx = event['x']\n",
    "        dset_0_copyy = event['y'] \n",
    "        dset_0_copyz = event['z'] - min(event['z'])\n",
    "        dset_0_copye = event['A']\n",
    "\n",
    "        \n",
    "        # Apply veto condition\n",
    "        R = 36                           # Radius of the pad plane\n",
    "        r = np.sqrt(dset_0_copyx**2 + dset_0_copyy**2)\n",
    "        statements = np.greater(r, R)    # Check if any point lies outside of R\n",
    "      \n",
    "        if np.any(statements) == True:\n",
    "            veto_events += 1\n",
    "            pbar.update(n=1)\n",
    "            continue\n",
    "        \n",
    "        \n",
    "        # Call remove_outliers to get dataset w/ outliers removed\n",
    "        dset_0_copyx, dset_0_copyy, dset_0_copyz, dset_0_copye, veto = remove_outliers(dset_0_copyx, dset_0_copyy, dset_0_copyz, dset_0_copye, threshold)\n",
    "        if veto == True:\n",
    "            skipped_events += 1\n",
    "            pbar.update(n=1)\n",
    "            continue\n",
    "\n",
    "        \n",
    "        # Call track_len() to create lists of all track lengths\n",
    "        length, veto_on_length, width, depth = track_len(dset_0_copyx, dset_0_copyy, dset_0_copyz)\n",
    "        if veto_on_length == True:\n",
    "            veto_events += 1\n",
    "            pbar.update(n=1)\n",
    "            continue\n",
    "\n",
    "        \n",
    "       \tstr_trace = f\"Trace_[{i}]\"\n",
    "        trace = np.array(h5file[str_trace][:])\n",
    "        max_val = np.argmax(trace)\n",
    "        low_bound = max_val - 75\n",
    "        if low_bound < 0:\n",
    "            low_bound = 5\n",
    "        upper_bound = max_val + 75\n",
    "        if upper_bound > 511:\n",
    "            upper_bound = 506\n",
    "        trace = trace[low_bound:upper_bound]\n",
    "\n",
    "        polynomial_degree=2 \n",
    "        baseObj=BaselineRemoval(trace)\n",
    "        trace=baseObj.IModPoly(polynomial_degree)\n",
    "\n",
    "        #if np.sum(trace) > 800000:\n",
    "        #    veto_events += 1\n",
    "        #    pbar.update(n=1)\n",
    "        #    continue\n",
    "\n",
    "        len_list.append(length)\n",
    "        width_list.append(width)\n",
    "        depth_list.append(depth)\n",
    "        tot_energy.append(np.sum(trace))\n",
    "        tracemax_list.append(np.max(trace))\n",
    "        tracedev_list.append(np.std(trace))\n",
    "        pads_list.append(len(trace[trace > 0]))\n",
    "\n",
    "        # Track event number of good events\n",
    "        good_events.append(i)  \n",
    "        pbar.update(n=1)\n",
    "\n",
    "    return (tot_energy, skipped_events, veto_events, good_events, len_list, width_list, depth_list, tracemax_list, tracedev_list, pads_list)"
   ]
  },
  {
   "cell_type": "code",
   "execution_count": 31,
   "metadata": {
    "scrolled": true
   },
   "outputs": [
    {
     "name": "stdout",
     "output_type": "stream",
     "text": [
      "C:/Users/Adam/OneDrive - Tenundra, Inc/Desktop/Programming/GADGET2/simOutput/273_800p.h5\n"
     ]
    },
    {
     "name": "stderr",
     "output_type": "stream",
     "text": [
      "100%|█████████▉| 676/677 [00:13<00:00, 50.07it/s]\n"
     ]
    },
    {
     "name": "stdout",
     "output_type": "stream",
     "text": [
      "C:/Users/Adam/OneDrive - Tenundra, Inc/Desktop/Programming/GADGET2/simOutput/tuning4protons99-800p.h5\n"
     ]
    },
    {
     "name": "stderr",
     "output_type": "stream",
     "text": [
      " 98%|█████████▊| 50/51 [00:00<00:00, 1469.97it/s]\n"
     ]
    },
    {
     "name": "stdout",
     "output_type": "stream",
     "text": [
      "C:/Users/Adam/OneDrive - Tenundra, Inc/Desktop/Programming/GADGET2/simOutput/tuning5protons0-800p.h5\n"
     ]
    },
    {
     "name": "stderr",
     "output_type": "stream",
     "text": [
      " 96%|█████████▌| 25/26 [00:00<00:00, 37.20it/s]\n"
     ]
    },
    {
     "name": "stdout",
     "output_type": "stream",
     "text": [
      "C:/Users/Adam/OneDrive - Tenundra, Inc/Desktop/Programming/GADGET2/simOutput/tuning5protons1-800p.h5\n"
     ]
    },
    {
     "name": "stderr",
     "output_type": "stream",
     "text": [
      " 96%|█████████▌| 25/26 [00:00<00:00, 33.07it/s]\n"
     ]
    },
    {
     "name": "stdout",
     "output_type": "stream",
     "text": [
      "C:/Users/Adam/OneDrive - Tenundra, Inc/Desktop/Programming/GADGET2/simOutput/tuning5protons10-800p.h5\n"
     ]
    },
    {
     "name": "stderr",
     "output_type": "stream",
     "text": [
      " 96%|█████████▌| 25/26 [00:00<00:00, 36.23it/s]\n"
     ]
    },
    {
     "name": "stdout",
     "output_type": "stream",
     "text": [
      "C:/Users/Adam/OneDrive - Tenundra, Inc/Desktop/Programming/GADGET2/simOutput/tuning5protons11-800p.h5\n"
     ]
    },
    {
     "name": "stderr",
     "output_type": "stream",
     "text": [
      " 96%|█████████▌| 25/26 [00:00<00:00, 45.54it/s]\n"
     ]
    },
    {
     "name": "stdout",
     "output_type": "stream",
     "text": [
      "C:/Users/Adam/OneDrive - Tenundra, Inc/Desktop/Programming/GADGET2/simOutput/tuning5protons12-800p.h5\n"
     ]
    },
    {
     "name": "stderr",
     "output_type": "stream",
     "text": [
      " 96%|█████████▌| 25/26 [00:00<00:00, 45.87it/s]\n"
     ]
    },
    {
     "name": "stdout",
     "output_type": "stream",
     "text": [
      "C:/Users/Adam/OneDrive - Tenundra, Inc/Desktop/Programming/GADGET2/simOutput/tuning5protons13-800p.h5\n"
     ]
    },
    {
     "name": "stderr",
     "output_type": "stream",
     "text": [
      " 96%|█████████▌| 25/26 [00:00<00:00, 44.99it/s]\n"
     ]
    },
    {
     "name": "stdout",
     "output_type": "stream",
     "text": [
      "C:/Users/Adam/OneDrive - Tenundra, Inc/Desktop/Programming/GADGET2/simOutput/tuning5protons14-800p.h5\n"
     ]
    },
    {
     "name": "stderr",
     "output_type": "stream",
     "text": [
      " 96%|█████████▌| 25/26 [00:00<00:00, 44.41it/s]\n"
     ]
    },
    {
     "name": "stdout",
     "output_type": "stream",
     "text": [
      "C:/Users/Adam/OneDrive - Tenundra, Inc/Desktop/Programming/GADGET2/simOutput/tuning5protons15-800p.h5\n"
     ]
    },
    {
     "name": "stderr",
     "output_type": "stream",
     "text": [
      " 96%|█████████▌| 25/26 [00:00<00:00, 39.06it/s]\n"
     ]
    },
    {
     "name": "stdout",
     "output_type": "stream",
     "text": [
      "C:/Users/Adam/OneDrive - Tenundra, Inc/Desktop/Programming/GADGET2/simOutput/tuning5protons16-800p.h5\n"
     ]
    },
    {
     "name": "stderr",
     "output_type": "stream",
     "text": [
      " 96%|█████████▌| 25/26 [00:00<00:00, 42.52it/s]\n"
     ]
    },
    {
     "name": "stdout",
     "output_type": "stream",
     "text": [
      "C:/Users/Adam/OneDrive - Tenundra, Inc/Desktop/Programming/GADGET2/simOutput/tuning5protons17-800p.h5\n"
     ]
    },
    {
     "name": "stderr",
     "output_type": "stream",
     "text": [
      " 96%|█████████▌| 25/26 [00:00<00:00, 42.13it/s]\n"
     ]
    },
    {
     "name": "stdout",
     "output_type": "stream",
     "text": [
      "C:/Users/Adam/OneDrive - Tenundra, Inc/Desktop/Programming/GADGET2/simOutput/tuning5protons18-800p.h5\n"
     ]
    },
    {
     "name": "stderr",
     "output_type": "stream",
     "text": [
      " 96%|█████████▌| 25/26 [00:00<00:00, 46.02it/s]\n"
     ]
    },
    {
     "name": "stdout",
     "output_type": "stream",
     "text": [
      "C:/Users/Adam/OneDrive - Tenundra, Inc/Desktop/Programming/GADGET2/simOutput/tuning5protons19-800p.h5\n"
     ]
    },
    {
     "name": "stderr",
     "output_type": "stream",
     "text": [
      " 96%|█████████▌| 25/26 [00:00<00:00, 40.45it/s]\n"
     ]
    },
    {
     "name": "stdout",
     "output_type": "stream",
     "text": [
      "C:/Users/Adam/OneDrive - Tenundra, Inc/Desktop/Programming/GADGET2/simOutput/tuning5protons2-800p.h5\n"
     ]
    },
    {
     "name": "stderr",
     "output_type": "stream",
     "text": [
      " 96%|█████████▌| 25/26 [00:00<00:00, 42.02it/s]\n"
     ]
    },
    {
     "name": "stdout",
     "output_type": "stream",
     "text": [
      "C:/Users/Adam/OneDrive - Tenundra, Inc/Desktop/Programming/GADGET2/simOutput/tuning5protons20-800p.h5\n"
     ]
    },
    {
     "name": "stderr",
     "output_type": "stream",
     "text": [
      " 96%|█████████▌| 25/26 [00:00<00:00, 40.06it/s]\n"
     ]
    },
    {
     "name": "stdout",
     "output_type": "stream",
     "text": [
      "C:/Users/Adam/OneDrive - Tenundra, Inc/Desktop/Programming/GADGET2/simOutput/tuning5protons21-800p.h5\n"
     ]
    },
    {
     "name": "stderr",
     "output_type": "stream",
     "text": [
      " 96%|█████████▌| 25/26 [00:00<00:00, 42.96it/s]\n"
     ]
    },
    {
     "name": "stdout",
     "output_type": "stream",
     "text": [
      "C:/Users/Adam/OneDrive - Tenundra, Inc/Desktop/Programming/GADGET2/simOutput/tuning5protons22-800p.h5\n"
     ]
    },
    {
     "name": "stderr",
     "output_type": "stream",
     "text": [
      " 96%|█████████▌| 25/26 [00:00<00:00, 40.72it/s]\n"
     ]
    },
    {
     "name": "stdout",
     "output_type": "stream",
     "text": [
      "C:/Users/Adam/OneDrive - Tenundra, Inc/Desktop/Programming/GADGET2/simOutput/tuning5protons23-800p.h5\n"
     ]
    },
    {
     "name": "stderr",
     "output_type": "stream",
     "text": [
      " 96%|█████████▌| 25/26 [00:00<00:00, 33.60it/s]\n"
     ]
    },
    {
     "name": "stdout",
     "output_type": "stream",
     "text": [
      "C:/Users/Adam/OneDrive - Tenundra, Inc/Desktop/Programming/GADGET2/simOutput/tuning5protons24-800p.h5\n"
     ]
    },
    {
     "name": "stderr",
     "output_type": "stream",
     "text": [
      " 96%|█████████▌| 25/26 [00:00<00:00, 40.85it/s]\n"
     ]
    },
    {
     "name": "stdout",
     "output_type": "stream",
     "text": [
      "C:/Users/Adam/OneDrive - Tenundra, Inc/Desktop/Programming/GADGET2/simOutput/tuning5protons25-800p.h5\n"
     ]
    },
    {
     "name": "stderr",
     "output_type": "stream",
     "text": [
      " 96%|█████████▌| 25/26 [00:00<00:00, 37.54it/s]\n"
     ]
    },
    {
     "name": "stdout",
     "output_type": "stream",
     "text": [
      "C:/Users/Adam/OneDrive - Tenundra, Inc/Desktop/Programming/GADGET2/simOutput/tuning5protons26-800p.h5\n"
     ]
    },
    {
     "name": "stderr",
     "output_type": "stream",
     "text": [
      " 96%|█████████▌| 25/26 [00:00<00:00, 37.45it/s]\n"
     ]
    },
    {
     "name": "stdout",
     "output_type": "stream",
     "text": [
      "C:/Users/Adam/OneDrive - Tenundra, Inc/Desktop/Programming/GADGET2/simOutput/tuning5protons27-800p.h5\n"
     ]
    },
    {
     "name": "stderr",
     "output_type": "stream",
     "text": [
      " 96%|█████████▌| 25/26 [00:00<00:00, 30.08it/s]\n"
     ]
    },
    {
     "name": "stdout",
     "output_type": "stream",
     "text": [
      "C:/Users/Adam/OneDrive - Tenundra, Inc/Desktop/Programming/GADGET2/simOutput/tuning5protons28-800p.h5\n"
     ]
    },
    {
     "name": "stderr",
     "output_type": "stream",
     "text": [
      " 96%|█████████▌| 25/26 [00:00<00:00, 42.88it/s]\n"
     ]
    },
    {
     "name": "stdout",
     "output_type": "stream",
     "text": [
      "C:/Users/Adam/OneDrive - Tenundra, Inc/Desktop/Programming/GADGET2/simOutput/tuning5protons29-800p.h5\n"
     ]
    },
    {
     "name": "stderr",
     "output_type": "stream",
     "text": [
      " 96%|█████████▌| 25/26 [00:00<00:00, 33.69it/s]\n"
     ]
    },
    {
     "name": "stdout",
     "output_type": "stream",
     "text": [
      "C:/Users/Adam/OneDrive - Tenundra, Inc/Desktop/Programming/GADGET2/simOutput/tuning5protons3-800p.h5\n"
     ]
    },
    {
     "name": "stderr",
     "output_type": "stream",
     "text": [
      " 96%|█████████▌| 25/26 [00:00<00:00, 37.09it/s]\n"
     ]
    },
    {
     "name": "stdout",
     "output_type": "stream",
     "text": [
      "C:/Users/Adam/OneDrive - Tenundra, Inc/Desktop/Programming/GADGET2/simOutput/tuning5protons30-800p.h5\n"
     ]
    },
    {
     "name": "stderr",
     "output_type": "stream",
     "text": [
      " 96%|█████████▌| 25/26 [00:00<00:00, 39.89it/s]\n"
     ]
    },
    {
     "name": "stdout",
     "output_type": "stream",
     "text": [
      "C:/Users/Adam/OneDrive - Tenundra, Inc/Desktop/Programming/GADGET2/simOutput/tuning5protons31-800p.h5\n"
     ]
    },
    {
     "name": "stderr",
     "output_type": "stream",
     "text": [
      " 96%|█████████▌| 25/26 [00:00<00:00, 35.71it/s]\n"
     ]
    },
    {
     "name": "stdout",
     "output_type": "stream",
     "text": [
      "C:/Users/Adam/OneDrive - Tenundra, Inc/Desktop/Programming/GADGET2/simOutput/tuning5protons32-800p.h5\n"
     ]
    },
    {
     "name": "stderr",
     "output_type": "stream",
     "text": [
      " 96%|█████████▌| 25/26 [00:00<00:00, 38.84it/s]\n"
     ]
    },
    {
     "name": "stdout",
     "output_type": "stream",
     "text": [
      "C:/Users/Adam/OneDrive - Tenundra, Inc/Desktop/Programming/GADGET2/simOutput/tuning5protons33-800p.h5\n"
     ]
    },
    {
     "name": "stderr",
     "output_type": "stream",
     "text": [
      " 96%|█████████▌| 25/26 [00:00<00:00, 40.39it/s]\n"
     ]
    },
    {
     "name": "stdout",
     "output_type": "stream",
     "text": [
      "C:/Users/Adam/OneDrive - Tenundra, Inc/Desktop/Programming/GADGET2/simOutput/tuning5protons34-800p.h5\n"
     ]
    },
    {
     "name": "stderr",
     "output_type": "stream",
     "text": [
      " 96%|█████████▌| 25/26 [00:00<00:00, 32.73it/s]\n"
     ]
    },
    {
     "name": "stdout",
     "output_type": "stream",
     "text": [
      "C:/Users/Adam/OneDrive - Tenundra, Inc/Desktop/Programming/GADGET2/simOutput/tuning5protons35-800p.h5\n"
     ]
    },
    {
     "name": "stderr",
     "output_type": "stream",
     "text": [
      " 96%|█████████▌| 25/26 [00:00<00:00, 45.96it/s]\n"
     ]
    },
    {
     "name": "stdout",
     "output_type": "stream",
     "text": [
      "C:/Users/Adam/OneDrive - Tenundra, Inc/Desktop/Programming/GADGET2/simOutput/tuning5protons36-800p.h5\n"
     ]
    },
    {
     "name": "stderr",
     "output_type": "stream",
     "text": [
      " 96%|█████████▌| 25/26 [00:00<00:00, 40.00it/s]\n"
     ]
    },
    {
     "name": "stdout",
     "output_type": "stream",
     "text": [
      "C:/Users/Adam/OneDrive - Tenundra, Inc/Desktop/Programming/GADGET2/simOutput/tuning5protons37-800p.h5\n"
     ]
    },
    {
     "name": "stderr",
     "output_type": "stream",
     "text": [
      " 96%|█████████▌| 25/26 [00:00<00:00, 32.59it/s]\n"
     ]
    },
    {
     "name": "stdout",
     "output_type": "stream",
     "text": [
      "C:/Users/Adam/OneDrive - Tenundra, Inc/Desktop/Programming/GADGET2/simOutput/tuning5protons38-800p.h5\n"
     ]
    },
    {
     "name": "stderr",
     "output_type": "stream",
     "text": [
      " 96%|█████████▌| 25/26 [00:00<00:00, 35.82it/s]\n"
     ]
    },
    {
     "name": "stdout",
     "output_type": "stream",
     "text": [
      "C:/Users/Adam/OneDrive - Tenundra, Inc/Desktop/Programming/GADGET2/simOutput/tuning5protons39-800p.h5\n"
     ]
    },
    {
     "name": "stderr",
     "output_type": "stream",
     "text": [
      " 96%|█████████▌| 25/26 [00:00<00:00, 36.02it/s]\n"
     ]
    },
    {
     "name": "stdout",
     "output_type": "stream",
     "text": [
      "C:/Users/Adam/OneDrive - Tenundra, Inc/Desktop/Programming/GADGET2/simOutput/tuning5protons4-800p.h5\n"
     ]
    },
    {
     "name": "stderr",
     "output_type": "stream",
     "text": [
      " 96%|█████████▌| 25/26 [00:00<00:00, 36.82it/s]\n"
     ]
    },
    {
     "name": "stdout",
     "output_type": "stream",
     "text": [
      "C:/Users/Adam/OneDrive - Tenundra, Inc/Desktop/Programming/GADGET2/simOutput/tuning5protons40-800p.h5\n"
     ]
    },
    {
     "name": "stderr",
     "output_type": "stream",
     "text": [
      " 96%|█████████▌| 25/26 [00:00<00:00, 40.19it/s]\n"
     ]
    },
    {
     "name": "stdout",
     "output_type": "stream",
     "text": [
      "C:/Users/Adam/OneDrive - Tenundra, Inc/Desktop/Programming/GADGET2/simOutput/tuning5protons41-800p.h5\n"
     ]
    },
    {
     "name": "stderr",
     "output_type": "stream",
     "text": [
      " 96%|█████████▌| 25/26 [00:00<00:00, 32.92it/s]\n"
     ]
    },
    {
     "name": "stdout",
     "output_type": "stream",
     "text": [
      "C:/Users/Adam/OneDrive - Tenundra, Inc/Desktop/Programming/GADGET2/simOutput/tuning5protons42-800p.h5\n"
     ]
    },
    {
     "name": "stderr",
     "output_type": "stream",
     "text": [
      " 96%|█████████▌| 25/26 [00:00<00:00, 43.28it/s]\n"
     ]
    },
    {
     "name": "stdout",
     "output_type": "stream",
     "text": [
      "C:/Users/Adam/OneDrive - Tenundra, Inc/Desktop/Programming/GADGET2/simOutput/tuning5protons43-800p.h5\n"
     ]
    },
    {
     "name": "stderr",
     "output_type": "stream",
     "text": [
      " 96%|█████████▌| 25/26 [00:00<00:00, 45.87it/s]\n"
     ]
    },
    {
     "name": "stdout",
     "output_type": "stream",
     "text": [
      "C:/Users/Adam/OneDrive - Tenundra, Inc/Desktop/Programming/GADGET2/simOutput/tuning5protons5-800p.h5\n"
     ]
    },
    {
     "name": "stderr",
     "output_type": "stream",
     "text": [
      " 96%|█████████▌| 25/26 [00:00<00:00, 42.70it/s]\n"
     ]
    },
    {
     "name": "stdout",
     "output_type": "stream",
     "text": [
      "C:/Users/Adam/OneDrive - Tenundra, Inc/Desktop/Programming/GADGET2/simOutput/tuning5protons6-800p.h5\n"
     ]
    },
    {
     "name": "stderr",
     "output_type": "stream",
     "text": [
      " 96%|█████████▌| 25/26 [00:00<00:00, 43.91it/s]\n"
     ]
    },
    {
     "name": "stdout",
     "output_type": "stream",
     "text": [
      "C:/Users/Adam/OneDrive - Tenundra, Inc/Desktop/Programming/GADGET2/simOutput/tuning5protons7-800p.h5\n"
     ]
    },
    {
     "name": "stderr",
     "output_type": "stream",
     "text": [
      " 96%|█████████▌| 25/26 [00:00<00:00, 41.25it/s]\n"
     ]
    },
    {
     "name": "stdout",
     "output_type": "stream",
     "text": [
      "C:/Users/Adam/OneDrive - Tenundra, Inc/Desktop/Programming/GADGET2/simOutput/tuning5protons8-800p.h5\n"
     ]
    },
    {
     "name": "stderr",
     "output_type": "stream",
     "text": [
      " 96%|█████████▌| 25/26 [00:00<00:00, 38.34it/s]\n"
     ]
    },
    {
     "name": "stdout",
     "output_type": "stream",
     "text": [
      "C:/Users/Adam/OneDrive - Tenundra, Inc/Desktop/Programming/GADGET2/simOutput/tuning5protons9-800p.h5\n"
     ]
    },
    {
     "name": "stderr",
     "output_type": "stream",
     "text": [
      " 96%|█████████▌| 25/26 [00:00<00:00, 40.07it/s]\n"
     ]
    }
   ],
   "source": [
    "# assign directory\n",
    "directory = \"C:/Users/Adam/OneDrive - Tenundra, Inc/Desktop/Programming/GADGET2/simOutput/\"\n",
    "\n",
    "output_df = pd.DataFrame(columns=['file','event','length', 'width', 'depth', 'tracesum', 'tracemax', 'tracedev', 'padnum'])\n",
    "\n",
    "file_names = []\n",
    "# iterate over files in directory\n",
    "for filename in os.listdir(directory):\n",
    "    f = os.path.join(directory, filename)\n",
    "    # checking if it is a file\n",
    "    if os.path.isfile(f):\n",
    "        if f[-3:] == '.h5':\n",
    "            print(f)\n",
    "            file_names.append(filename)\n",
    "            h5f = h5py.File(directory+filename, 'r')\n",
    "            (tot_energy, skipped_events, veto_events, good_events, len_list, width_list, depth_list, tracemax_list, tracedev_list, pads_list) = main(h5file=h5f, threshold=15)\n",
    "            for event in range(len(tot_energy)):\n",
    "                output_df = output_df.append({'file' : filename, \n",
    "                                              'event' : event, \n",
    "                                              'length' : len_list[event], \n",
    "                                              'width' : width_list[event], \n",
    "                                              'depth' : depth_list[event], \n",
    "                                              'tracesum' : tot_energy[event], \n",
    "                                              'tracemax' : tracemax_list[event], \n",
    "                                              'tracedev' : tracedev_list[event], \n",
    "                                              'padnum' : pads_list[event]}\n",
    "                                             ,ignore_index = True)\n"
   ]
  },
  {
   "cell_type": "code",
   "execution_count": 32,
   "metadata": {},
   "outputs": [
    {
     "name": "stdout",
     "output_type": "stream",
     "text": [
      "273_800p.h5\n",
      "length:\t 13.598839169264545 \t 0.36378981766204926\n",
      "width:\t 5.490411630687277 \t 1.079046393352792\n",
      "depth:\t 1.1956686193850883 \t 0.4627512586642447\n",
      "tracesum:\t 155282.26997909456 \t 1353.2815542925161\n",
      "tracemax:\t 17261.59640386621 \t 3820.7164201418886\n",
      "tracedev:\t 3396.80817140803 \t 395.6029936835511\n",
      "padnum:\t 89.44822485207101 \t 4.124217163844774\n",
      "\n",
      "tuning4protons99-800p.h5\n",
      "length:\t nan \t nan\n",
      "width:\t nan \t nan\n",
      "depth:\t nan \t nan\n",
      "tracesum:\t nan \t nan\n",
      "tracemax:\t nan \t nan\n",
      "tracedev:\t nan \t nan\n",
      "padnum:\t nan \t nan\n",
      "\n",
      "tuning5protons0-800p.h5\n",
      "length:\t 14.451866081411987 \t 0.712741797259318\n",
      "width:\t 8.432166492070396 \t 0.7348868131157585\n",
      "depth:\t 3.6858005032973318 \t 0.8998015182220456\n",
      "tracesum:\t 183077.8987832598 \t 1758.4729010853905\n",
      "tracemax:\t 17339.632678229806 \t 2036.2472388831382\n",
      "tracedev:\t 3680.951514332404 \t 249.68365611928175\n",
      "padnum:\t 100.68 \t 13.047094184785617\n",
      "\n",
      "tuning5protons1-800p.h5\n",
      "length:\t 13.968627206319416 \t 0.6927059970250923\n",
      "width:\t 8.026652000954394 \t 0.6314768846859348\n",
      "depth:\t 3.657442276110258 \t 0.9074132755910284\n",
      "tracesum:\t 121649.1897270048 \t 1462.940288916225\n",
      "tracemax:\t 11864.362623463989 \t 1453.6255889434615\n",
      "tracedev:\t 2482.2489076378065 \t 180.25361028631792\n",
      "padnum:\t 99.32 \t 15.076803374721047\n",
      "\n",
      "tuning5protons10-800p.h5\n",
      "length:\t 14.82436375600182 \t 0.7751367185553857\n",
      "width:\t 8.857929222553514 \t 0.7875543541087057\n",
      "depth:\t 4.148411371168411 \t 0.9406824987492177\n",
      "tracesum:\t 198130.90565542394 \t 1716.9403125057634\n",
      "tracemax:\t 18349.974640142533 \t 2099.445130011676\n",
      "tracedev:\t 3934.6875470166456 \t 261.7413473183427\n",
      "padnum:\t 99.4 \t 14.017845768876187\n",
      "\n",
      "tuning5protons11-800p.h5\n",
      "length:\t 14.06808403986999 \t 0.8459443848799372\n",
      "width:\t 7.7947637577103475 \t 0.7056138778372707\n",
      "depth:\t 3.4264797886530323 \t 0.8755118569526483\n",
      "tracesum:\t 131597.95158149512 \t 1215.3999012074187\n",
      "tracemax:\t 12605.975190023135 \t 1451.5684149598833\n",
      "tracedev:\t 2661.549011913885 \t 179.00454692295213\n",
      "padnum:\t 100.72 \t 13.694646155827952\n",
      "\n",
      "tuning5protons12-800p.h5\n",
      "length:\t 14.39982336056094 \t 0.7926521504243537\n",
      "width:\t 8.311970759768212 \t 0.7351758957184119\n",
      "depth:\t 3.7902210997643393 \t 0.8654919627768367\n",
      "tracesum:\t 167454.7487849539 \t 1769.0634918939115\n",
      "tracemax:\t 16289.741407898855 \t 1947.3780384149622\n",
      "tracedev:\t 3415.531362593037 \t 237.67424999515237\n",
      "padnum:\t 100.32 \t 14.430061214931373\n",
      "\n",
      "tuning5protons13-800p.h5\n",
      "length:\t 14.328277945573598 \t 0.6939509414236363\n",
      "width:\t 8.353826840676312 \t 0.5878634438514658\n",
      "depth:\t 3.817032446318202 \t 0.9591807082586044\n",
      "tracesum:\t 147280.03119745397 \t 1437.837174540108\n",
      "tracemax:\t 13930.996721659723 \t 1587.1044785383976\n",
      "tracedev:\t 2958.7387977403046 \t 197.69834249697175\n",
      "padnum:\t 101.48 \t 13.617146054392846\n",
      "\n",
      "tuning5protons14-800p.h5\n",
      "length:\t 14.429475531268828 \t 0.6648614803608708\n",
      "width:\t 8.409653240640916 \t 0.7424584668441979\n",
      "depth:\t 3.8937728181244853 \t 0.8995981776920472\n",
      "tracesum:\t 180999.54906321276 \t 1174.7368933984828\n",
      "tracemax:\t 16981.5946104808 \t 1980.2655149181728\n",
      "tracedev:\t 3616.4716979819286 \t 242.16065120094038\n",
      "padnum:\t 99.12 \t 14.251666569212176\n",
      "\n",
      "tuning5protons15-800p.h5\n",
      "length:\t 14.483118807306777 \t 0.8203865389261047\n",
      "width:\t 8.394955387186993 \t 0.6757786518856215\n",
      "depth:\t 3.9913343854551475 \t 1.0356099118308035\n",
      "tracesum:\t 159951.13900381344 \t 1394.9817739138587\n",
      "tracemax:\t 15434.356582587761 \t 1914.516741213051\n",
      "tracedev:\t 3246.145782013767 \t 229.70236600771744\n",
      "padnum:\t 96.8 \t 15.356865999719258\n",
      "\n",
      "tuning5protons16-800p.h5\n",
      "length:\t 14.604255207586675 \t 0.8060982914684626\n",
      "width:\t 8.44372990635112 \t 0.781486873675713\n",
      "depth:\t 4.186132004706923 \t 1.0708732818273512\n",
      "tracesum:\t 202116.95554182757 \t 1660.4928921319486\n",
      "tracemax:\t 19449.392854531732 \t 2310.2783123884456\n",
      "tracedev:\t 4093.638985176568 \t 273.62931873437554\n",
      "padnum:\t 97.6 \t 15.31067165955389\n",
      "\n",
      "tuning5protons17-800p.h5\n",
      "length:\t 14.700375972044581 \t 0.6766021753725688\n",
      "width:\t 8.596347889181676 \t 0.7332484661566111\n",
      "depth:\t 4.0873439614918565 \t 1.0381465912243895\n",
      "tracesum:\t 146413.38796865536 \t 1368.0586059404675\n",
      "tracemax:\t 14520.63594857007 \t 1773.072360734264\n",
      "tracedev:\t 3016.2778722327057 \t 210.7731287078932\n",
      "padnum:\t 97.84 \t 16.675031234353554\n",
      "\n",
      "tuning5protons18-800p.h5\n",
      "length:\t 14.495902352880771 \t 0.7071191083738294\n",
      "width:\t 8.230485218504208 \t 0.6215450795479058\n",
      "depth:\t 3.7635472208003087 \t 0.9216357498560784\n",
      "tracesum:\t 160495.9135041782 \t 1535.204629006706\n",
      "tracemax:\t 15405.64548802105 \t 1848.2307623032766\n",
      "tracedev:\t 3250.1133703142204 \t 227.87463906744972\n",
      "padnum:\t 101.36 \t 13.177885515767189\n",
      "\n",
      "tuning5protons19-800p.h5\n",
      "length:\t 14.668889303191344 \t 0.8956938823980555\n",
      "width:\t 8.633462615765763 \t 0.7799135596536989\n",
      "depth:\t 4.02463271761805 \t 0.7183314548731935\n",
      "tracesum:\t 181623.70976675904 \t 1327.1037201076651\n",
      "tracemax:\t 17335.39394107158 \t 2013.6938407638404\n",
      "tracedev:\t 3665.4533645011484 \t 245.72234465775588\n",
      "padnum:\t 100.0 \t 14.585952145814822\n",
      "\n",
      "tuning5protons2-800p.h5\n",
      "length:\t 14.353211922233967 \t 0.6841962247598901\n",
      "width:\t 8.594012503601586 \t 0.8086079724792719\n",
      "depth:\t 3.8326160298526246 \t 0.99205176087825\n",
      "tracesum:\t 163295.3910622881 \t 1565.3877593560576\n",
      "tracemax:\t 15678.959552758562 \t 1862.3336430758718\n",
      "tracedev:\t 3302.7863679540937 \t 227.67030499247235\n",
      "padnum:\t 97.8 \t 15.272524349301264\n",
      "\n",
      "tuning5protons20-800p.h5\n",
      "length:\t 14.352873215609598 \t 0.6979054949053487\n",
      "width:\t 8.22153248316918 \t 0.6415384231994871\n",
      "depth:\t 3.7901480489357042 \t 0.8939657175573011\n",
      "tracesum:\t 154802.2153318681 \t 1557.0065315056283\n",
      "tracemax:\t 14633.378612962277 \t 1795.1458286081263\n",
      "tracedev:\t 3106.3868208860476 \t 220.16510799237082\n",
      "padnum:\t 99.36 \t 14.789861392183498\n",
      "\n",
      "tuning5protons21-800p.h5\n",
      "length:\t 14.503739922090647 \t 0.7740716908904001\n",
      "width:\t 8.361253694561237 \t 0.6926179358192134\n",
      "depth:\t 3.7683094237530153 \t 0.7827451303224505\n",
      "tracesum:\t 140443.18075189038 \t 1349.48698290088\n",
      "tracemax:\t 13807.550710920292 \t 1670.8462269568602\n",
      "tracedev:\t 2878.8668453209043 \t 200.06160931735147\n",
      "padnum:\t 100.16 \t 15.450674203196874\n",
      "\n",
      "tuning5protons22-800p.h5\n",
      "length:\t 14.639046376094438 \t 0.7689611235611351\n",
      "width:\t 8.575279739368177 \t 0.655405895749276\n",
      "depth:\t 4.004720840997849 \t 0.9227404396659759\n",
      "tracesum:\t 173148.84112241355 \t 1444.978073734321\n",
      "tracemax:\t 16192.552517454686 \t 1911.6375629757042\n",
      "tracedev:\t 3456.9669762691105 \t 237.67266238126481\n",
      "padnum:\t 98.68 \t 14.490571647339062\n",
      "\n",
      "tuning5protons23-800p.h5\n",
      "length:\t 14.30562630144908 \t 0.6941831621754703\n",
      "width:\t 8.298409794769354 \t 0.7097360447731342\n",
      "depth:\t 3.9302682935804665 \t 0.9303723494461623\n",
      "tracesum:\t 140580.64276117782 \t 1315.2532503043196\n",
      "tracemax:\t 13684.591712629863 \t 1650.0853824381977\n",
      "tracedev:\t 2865.119850224678 \t 199.42476320146832\n",
      "padnum:\t 97.0 \t 15.044378795195678\n",
      "\n",
      "tuning5protons24-800p.h5\n",
      "length:\t 14.663630256370237 \t 0.8040786510132096\n",
      "width:\t 8.472293806342673 \t 0.7813435548984569\n",
      "depth:\t 3.5786757572738477 \t 0.8663900015757412\n",
      "tracesum:\t 185507.12811026123 \t 1647.0927954454203\n",
      "tracemax:\t 17918.565155516433 \t 2022.9452237208193\n",
      "tracedev:\t 3771.2098523484688 \t 248.1004191535903\n",
      "padnum:\t 102.52 \t 12.99397296185171\n",
      "\n",
      "tuning5protons25-800p.h5\n",
      "length:\t 14.046878448036768 \t 0.7677858656393849\n",
      "width:\t 7.697442212495195 \t 0.6833875841180842\n",
      "depth:\t 3.5824404458750054 \t 0.9330058577744702\n",
      "tracesum:\t 139008.0902249801 \t 1456.783098879293\n",
      "tracemax:\t 13019.92229642587 \t 1601.5849648724095\n",
      "tracedev:\t 2775.871733488997 \t 200.2018068909813\n",
      "padnum:\t 96.44 \t 16.00541575009326\n",
      "\n",
      "tuning5protons26-800p.h5\n",
      "length:\t 14.411753878250416 \t 0.955426107520461\n",
      "width:\t 8.298039299136098 \t 0.7429368100983489\n",
      "depth:\t 4.024165087809983 \t 0.9596274061881679\n",
      "tracesum:\t 158006.66259188528 \t 1427.1500704491766\n",
      "tracemax:\t 15349.789593032387 \t 1862.3245746266439\n",
      "tracedev:\t 3217.152706688288 \t 225.52975296199833\n",
      "padnum:\t 98.2 \t 15.411035007422441\n",
      "\n",
      "tuning5protons27-800p.h5\n",
      "length:\t 14.486434013037833 \t 0.6859930207731871\n",
      "width:\t 8.466827656046517 \t 0.8035599652598208\n",
      "depth:\t 4.194293387891807 \t 1.0379165268525454\n",
      "tracesum:\t 150853.6673521808 \t 1052.7967366101043\n",
      "tracemax:\t 14782.426617521902 \t 1792.7266831962013\n",
      "tracedev:\t 3086.0678378395173 \t 211.725853562618\n",
      "padnum:\t 96.6 \t 15.911211979816834\n",
      "\n",
      "tuning5protons28-800p.h5\n",
      "length:\t 14.62973764586287 \t 0.776564404886916\n",
      "width:\t 8.588598634833499 \t 0.8093739793608713\n",
      "depth:\t 3.8705549553342102 \t 0.7868853045659622\n",
      "tracesum:\t 155867.67483144416 \t 1607.1283260110506\n",
      "tracemax:\t 15330.957218418613 \t 1809.2112173128432\n",
      "tracedev:\t 3196.468954965616 \t 216.80924605173618\n",
      "padnum:\t 100.4 \t 13.65955099310857\n",
      "\n",
      "tuning5protons29-800p.h5\n",
      "length:\t 14.497298846813669 \t 0.7273466075162889\n",
      "width:\t 8.434784754616144 \t 0.7891904138016986\n",
      "depth:\t 3.8835805294267574 \t 0.9838524852997366\n",
      "tracesum:\t 168011.64969050747 \t 1496.8031430558092\n",
      "tracemax:\t 15563.582775371726 \t 1773.6224255915229\n",
      "tracedev:\t 3335.6158292359096 \t 220.47908538832408\n",
      "padnum:\t 99.52 \t 13.847743498491008\n",
      "\n",
      "tuning5protons3-800p.h5\n",
      "length:\t 14.415226236610748 \t 0.5878052567795722\n",
      "width:\t 8.405662216331026 \t 0.7167451609402655\n",
      "depth:\t 3.668240375467267 \t 0.9698380136160281\n",
      "tracesum:\t 164378.7610598685 \t 1437.163801852622\n",
      "tracemax:\t 15728.016321511608 \t 1782.743256713529\n",
      "tracedev:\t 3324.9851664607763 \t 217.69317548717595\n",
      "padnum:\t 102.8 \t 12.86791876463841\n",
      "\n",
      "tuning5protons30-800p.h5\n",
      "length:\t 14.247731524145143 \t 0.5593462998123695\n",
      "width:\t 8.108375091472796 \t 0.6435809281581614\n",
      "depth:\t 3.636661488282578 \t 0.8726849310893827\n",
      "tracesum:\t 135165.46768705748 \t 1125.8499104341033\n",
      "tracemax:\t 13376.935116568427 \t 1545.9480343608247\n",
      "tracedev:\t 2781.3673220121877 \t 186.52759520743763\n",
      "padnum:\t 103.08 \t 13.397512206873833\n",
      "\n",
      "tuning5protons31-800p.h5\n",
      "length:\t 14.443170017662878 \t 0.6610501573105491\n",
      "width:\t 8.36510529454581 \t 0.6784135066810468\n",
      "depth:\t 3.9216573180545553 \t 1.008506675723083\n",
      "tracesum:\t 156179.31315476907 \t 1395.5119464651802\n",
      "tracemax:\t 14738.645067259853 \t 1757.9106707812446\n",
      "tracedev:\t 3128.437324398061 \t 217.1058555887507\n",
      "padnum:\t 97.4 \t 15.154757228892407\n",
      "\n",
      "tuning5protons32-800p.h5\n",
      "length:\t 14.634369838653248 \t 0.7503638509860685\n",
      "width:\t 8.54904536769258 \t 0.7713720432153989\n",
      "depth:\t 4.218930237031245 \t 0.9968812579308172\n",
      "tracesum:\t 174551.94889305302 \t 1373.9296300442943\n",
      "tracemax:\t 16091.910280408112 \t 1921.830199928354\n",
      "tracedev:\t 3452.750512963441 \t 236.2035195001508\n",
      "padnum:\t 96.28 \t 15.959636587341205\n",
      "\n",
      "tuning5protons33-800p.h5\n",
      "length:\t 14.095673961936438 \t 0.6733127583709302\n",
      "width:\t 8.050981876623837 \t 0.6518845699965673\n",
      "depth:\t 3.897874772100609 \t 0.963619801198556\n",
      "tracesum:\t 120519.27440470157 \t 1439.6568051112226\n",
      "tracemax:\t 11515.84409056866 \t 1451.7941336684369\n",
      "tracedev:\t 2432.601380832161 \t 178.38612896227724\n",
      "padnum:\t 95.16 \t 16.272881326509655\n",
      "\n",
      "tuning5protons34-800p.h5\n",
      "length:\t 14.472894908897155 \t 0.7261625756688307\n",
      "width:\t 8.34576356184899 \t 0.6500160111193187\n",
      "depth:\t 4.1674484224352435 \t 1.0700425973611347\n",
      "tracesum:\t 133256.74296124929 \t 1316.901945852228\n",
      "tracemax:\t 12837.501114059054 \t 1645.5283393418372\n",
      "tracedev:\t 2701.847645706373 \t 200.93796407817305\n",
      "padnum:\t 92.2 \t 16.733200530681508\n",
      "\n",
      "tuning5protons35-800p.h5\n",
      "length:\t 14.492653925787483 \t 0.8045773184543032\n",
      "width:\t 8.567023995703755 \t 0.726135996690422\n",
      "depth:\t 3.621203559543739 \t 0.8581876716141751\n",
      "tracesum:\t 146642.64089120072 \t 1432.5816951895035\n",
      "tracemax:\t 14189.425005880228 \t 1627.8667735684444\n",
      "tracedev:\t 2984.0437236354755 \t 198.95513767686617\n",
      "padnum:\t 103.64 \t 12.40255350052292\n",
      "\n",
      "tuning5protons36-800p.h5\n",
      "length:\t 14.298370140103735 \t 0.6172215429271094\n",
      "width:\t 8.196499879563463 \t 0.7375384111041243\n",
      "depth:\t 4.0490167267371024 \t 1.0441170659281231\n",
      "tracesum:\t 140987.34565645945 \t 1166.9753116489148\n",
      "tracemax:\t 13608.93632594264 \t 1660.668970504613\n",
      "tracedev:\t 2860.5151375182654 \t 199.90788257192793\n",
      "padnum:\t 96.68 \t 15.148487273212025\n",
      "\n",
      "tuning5protons37-800p.h5\n",
      "length:\t 15.021296664526433 \t 0.8819205560757797\n",
      "width:\t 8.883305612187193 \t 0.7669436994617869\n",
      "depth:\t 4.172569673636361 \t 0.8908017715320531\n",
      "tracesum:\t 191492.9309615149 \t 1767.165228331677\n",
      "tracemax:\t 18180.07802162043 \t 2179.0265377219334\n",
      "tracedev:\t 3851.131771515922 \t 266.57310160110137\n",
      "padnum:\t 100.16 \t 14.527789462497957\n",
      "\n",
      "tuning5protons38-800p.h5\n",
      "length:\t 14.630359103182478 \t 0.68920649183818\n",
      "width:\t 8.640525873896834 \t 0.7726623338536424\n",
      "depth:\t 4.209457268056388 \t 0.8523835710965676\n",
      "tracesum:\t 160897.63825574945 \t 1455.3901188763318\n",
      "tracemax:\t 15102.32932053788 \t 1766.1519878534214\n",
      "tracedev:\t 3213.9143301851127 \t 217.6753819766484\n",
      "padnum:\t 96.6 \t 15.440746959479217\n",
      "\n",
      "tuning5protons39-800p.h5\n",
      "length:\t 14.687117132889421 \t 0.7502266474039373\n",
      "width:\t 8.48255292910701 \t 0.7412910669127084\n",
      "depth:\t 4.042708766318094 \t 0.7979541668989656\n",
      "tracesum:\t 163655.25714628544 \t 1396.953144453875\n",
      "tracemax:\t 15470.544155132335 \t 1845.9562458930302\n",
      "tracedev:\t 3283.300849662786 \t 225.2942474801568\n",
      "padnum:\t 98.64 \t 15.340252062248958\n",
      "\n",
      "tuning5protons4-800p.h5\n",
      "length:\t 14.373415305489186 \t 0.7018344119681026\n",
      "width:\t 8.398855605323943 \t 0.6928311786457836\n",
      "depth:\t 3.58032914685417 \t 0.8305303844596122\n",
      "tracesum:\t 171483.49320009944 \t 1611.977797983051\n",
      "tracemax:\t 16788.43520630341 \t 1976.6317134462927\n",
      "tracedev:\t 3511.887954611769 \t 238.00196003046906\n",
      "padnum:\t 104.04 \t 12.001666550941998\n",
      "\n",
      "tuning5protons40-800p.h5\n",
      "length:\t 14.445123224270283 \t 0.7848534182132371\n",
      "width:\t 8.336391903597248 \t 0.6981900068860801\n",
      "depth:\t 4.138600184829094 \t 1.0865967777405463\n",
      "tracesum:\t 162683.9919493028 \t 1294.4398953849457\n",
      "tracemax:\t 15318.529597316392 \t 1837.4840487003487\n",
      "tracedev:\t 3257.142461699669 \t 222.49460028609462\n",
      "padnum:\t 99.4 \t 14.713938969562161\n",
      "\n",
      "tuning5protons41-800p.h5\n",
      "length:\t 14.216791629959628 \t 0.5396165693702331\n",
      "width:\t 8.267809872582447 \t 0.7079891082079944\n",
      "depth:\t 4.115928963990679 \t 1.000884172054496\n",
      "tracesum:\t 127766.61397995953 \t 1126.0061328516995\n",
      "tracemax:\t 12370.50569554554 \t 1560.09733126109\n",
      "tracedev:\t 2597.0899799428503 \t 187.77640557693744\n",
      "padnum:\t 92.56 \t 16.27646562781163\n",
      "\n",
      "tuning5protons42-800p.h5\n",
      "length:\t 14.622626664748905 \t 0.673156834237536\n",
      "width:\t 8.681856382743227 \t 0.7974038695075728\n",
      "depth:\t 4.018411227835782 \t 1.0598897444296693\n",
      "tracesum:\t 174042.67975617424 \t 1314.9258333922562\n",
      "tracemax:\t 16486.28981448732 \t 1907.6250465726637\n",
      "tracedev:\t 3496.0891270429674 \t 232.82987325814844\n",
      "padnum:\t 99.68 \t 14.659240544221017\n",
      "\n",
      "tuning5protons43-800p.h5\n",
      "length:\t 14.125450399175001 \t 0.7008458175325062\n",
      "width:\t 8.03820932276334 \t 0.7378176698581446\n",
      "depth:\t 3.5756274167788127 \t 0.9630615542454758\n",
      "tracesum:\t 155465.55466686597 \t 1521.1639401249545\n",
      "tracemax:\t 14965.448838159 \t 1753.5049640113773\n",
      "tracedev:\t 3153.2896906633514 \t 215.41100984547393\n",
      "padnum:\t 101.08 \t 13.59203197955822\n",
      "\n",
      "tuning5protons5-800p.h5\n",
      "length:\t 14.400161551426677 \t 0.5972631350729959\n",
      "width:\t 8.02000515818683 \t 0.6554946733736525\n",
      "depth:\t 3.9167832262622624 \t 0.9588674071075098\n",
      "tracesum:\t 128227.81075138247 \t 1164.7641511851648\n",
      "tracemax:\t 12395.830777132927 \t 1507.3560197979486\n",
      "tracedev:\t 2602.3712144044093 \t 184.34055437445554\n",
      "padnum:\t 97.68 \t 15.107172689377277\n",
      "\n",
      "tuning5protons6-800p.h5\n",
      "length:\t 14.090209727456816 \t 0.7670307670343981\n",
      "width:\t 8.06171632881685 \t 0.632777212886905\n",
      "depth:\t 3.769998508128564 \t 0.9890345152823466\n",
      "tracesum:\t 148813.66062674773 \t 1113.834060206837\n",
      "tracemax:\t 14351.446538423994 \t 1672.634249100317\n",
      "tracedev:\t 3018.821334005843 \t 200.9040313838128\n",
      "padnum:\t 100.48 \t 13.086634403084698\n",
      "\n",
      "tuning5protons7-800p.h5\n",
      "length:\t 14.649124251510088 \t 0.8373533160073512\n",
      "width:\t 8.645090438617466 \t 0.8040357714061671\n",
      "depth:\t 4.05902448590851 \t 0.941969617858422\n",
      "tracesum:\t 164703.00279409942 \t 1483.7685723922418\n",
      "tracemax:\t 16231.691057083495 \t 1884.6333532109575\n",
      "tracedev:\t 3383.990818582778 \t 223.06934972238344\n",
      "padnum:\t 102.84 \t 12.73996336991071\n",
      "\n",
      "tuning5protons8-800p.h5\n",
      "length:\t 14.842285214520327 \t 0.725740398814166\n",
      "width:\t 8.67514513957358 \t 0.7788801726343427\n",
      "depth:\t 4.157654353986415 \t 0.9514357226185147\n",
      "tracesum:\t 157974.95786482998 \t 1579.051898296367\n",
      "tracemax:\t 14856.288754338959 \t 1819.266440902749\n",
      "tracedev:\t 3159.1334517463542 \t 223.2067015532051\n",
      "padnum:\t 97.16 \t 15.364135727943392\n",
      "\n",
      "tuning5protons9-800p.h5\n",
      "length:\t 14.696887497454723 \t 0.7913019627622425\n",
      "width:\t 8.71707646907236 \t 0.778684218691588\n",
      "depth:\t 3.986757716888521 \t 0.815176579663798\n",
      "tracesum:\t 169917.55326059178 \t 1452.3001186267456\n",
      "tracemax:\t 16462.078198853676 \t 1935.2823039692846\n",
      "tracedev:\t 3457.253896678327 \t 234.5610408294499\n",
      "padnum:\t 100.24 \t 14.518034761403946\n",
      "\n"
     ]
    }
   ],
   "source": [
    "for file in file_names:\n",
    "    print(file)\n",
    "    print('length:\\t', output_df[output_df['file'] == file]['length'].mean(),'\\t', output_df[output_df['file'] == file]['length'].std())\n",
    "    print('width:\\t', output_df[output_df['file'] == file]['width'].mean(),'\\t', output_df[output_df['file'] == file]['width'].std())\n",
    "    print('depth:\\t', output_df[output_df['file'] == file]['depth'].mean(),'\\t', output_df[output_df['file'] == file]['depth'].std())\n",
    "    print('tracesum:\\t', output_df[output_df['file'] == file]['tracesum'].mean(),'\\t', output_df[output_df['file'] == file]['tracesum'].std())\n",
    "    print('tracemax:\\t', output_df[output_df['file'] == file]['tracemax'].mean(),'\\t', output_df[output_df['file'] == file]['tracemax'].std())\n",
    "    print('tracedev:\\t', output_df[output_df['file'] == file]['tracedev'].mean(),'\\t', output_df[output_df['file'] == file]['tracedev'].std())\n",
    "    print('padnum:\\t', output_df[output_df['file'] == file]['padnum'].mean(),'\\t', output_df[output_df['file'] == file]['padnum'].std())\n",
    "    print()"
   ]
  },
  {
   "cell_type": "code",
   "execution_count": 33,
   "metadata": {},
   "outputs": [],
   "source": [
    "output_df.to_csv('event summary.csv', index=False)"
   ]
  },
  {
   "cell_type": "code",
   "execution_count": 34,
   "metadata": {},
   "outputs": [],
   "source": [
    "output_df = pd.read_csv('event summary.csv')\n",
    "file_names = output_df['file'].unique() \n",
    "\n",
    "run_df = pd.DataFrame(columns=['file','length', 'width', 'depth', 'tracesum', 'tracemax', 'tracedev', 'padnum'])\n",
    "\n",
    "reference_run = '273_800p.h5'\n",
    "\n",
    "for file in file_names:\n",
    "    run_df = run_df.append({'file' : file, \n",
    "                            'length' : output_df[output_df['file'] == file]['length'].mean(), \n",
    "                            'width' : output_df[output_df['file'] == file]['width'].mean(), \n",
    "                            'depth' : output_df[output_df['file'] == file]['depth'].mean(), \n",
    "                            'tracesum' : output_df[output_df['file'] == file]['tracesum'].mean(), \n",
    "                            'tracemax' : output_df[output_df['file'] == file]['tracemax'].mean(), \n",
    "                            'tracedev' : output_df[output_df['file'] == file]['tracedev'].mean(), \n",
    "                            'padnum' : output_df[output_df['file'] == file]['padnum'].mean()}\n",
    "                           ,ignore_index = True)\n",
    "\n",
    "run_df['length'] = (run_df['length'] - output_df[output_df['file'] == reference_run]['length'].mean()) / output_df[output_df['file'] == reference_run]['length'].std()\n",
    "run_df['width'] = (run_df['width'] - output_df[output_df['file'] == reference_run]['width'].mean()) / output_df[output_df['file'] == reference_run]['width'].std()\n",
    "run_df['depth'] = (run_df['depth'] - output_df[output_df['file'] == reference_run]['depth'].mean()) / output_df[output_df['file'] == reference_run]['depth'].std()\n",
    "run_df['tracesum'] = (run_df['tracesum'] - output_df[output_df['file'] == reference_run]['tracesum'].mean()) / output_df[output_df['file'] == reference_run]['tracesum'].std()\n",
    "run_df['tracemax'] = (run_df['tracemax'] - output_df[output_df['file'] == reference_run]['tracemax'].mean()) / output_df[output_df['file'] == reference_run]['tracemax'].std()\n",
    "run_df['tracedev'] = (run_df['tracedev'] - output_df[output_df['file'] == reference_run]['tracedev'].mean()) / output_df[output_df['file'] == reference_run]['tracedev'].std()\n",
    "run_df['padnum'] = (run_df['padnum'] - output_df[output_df['file'] == reference_run]['padnum'].mean()) / output_df[output_df['file'] == reference_run]['padnum'].std()\n",
    "\n",
    "# sum of absolute deviations from reference run\n",
    "run_df['Deviation'] = abs(run_df['length']) + abs(run_df['width']) + abs(run_df['depth']) + abs(run_df['tracesum']) + abs(run_df['tracemax']) + abs(run_df['tracedev']) + abs(run_df['padnum'])"
   ]
  },
  {
   "cell_type": "code",
   "execution_count": 35,
   "metadata": {},
   "outputs": [],
   "source": [
    "run_df = run_df.sort_values(by=['Deviation'])\n",
    "best_run_df = run_df.head(10)\n",
    "\n",
    "# load in parameters for best runs\n",
    "params = pd.read_csv('C:\\\\Users\\\\Adam\\\\OneDrive - Tenundra, Inc\\\\Desktop\\\\Programming\\\\GADGET2\\\\simInput\\\\parameters.csv')\n",
    "\n",
    "best_params = params[params['Sim'].isin(best_run_df['file'].str.replace('.h5',''))]"
   ]
  },
  {
   "cell_type": "code",
   "execution_count": 36,
   "metadata": {},
   "outputs": [
    {
     "name": "stdout",
     "output_type": "stream",
     "text": [
      "Current Best Fit Parameters\n",
      "Threshold \t 24.0 \t 0.0625 \n",
      " 23.975 \t 0.0516268648751543 \n",
      "\n",
      "EIonize \t 33.72222222222223 \t 0.03865781469593311 \n",
      " 34.345 \t 0.05092669347074938 \n",
      "\n",
      "Fano \t 0.22333333333333336 \t 0.044776119402985086 \n",
      " 0.22950000000000004 \t 0.04576232005875304 \n",
      "\n",
      "CoefL \t 0.00012355555555555554 \t 0.040490101672132114 \n",
      " 0.00012302 \t 0.04934084671379143 \n",
      "\n",
      "CoefT \t 0.002164444444444444 \t 0.040085467407044315 \n",
      " 0.0021469500000000003 \t 0.0484616865068955 \n",
      "\n",
      "Gain \t 7330.98888888889 \t 0.052060813626819746 \n",
      " 7366.1945 \t 0.050594871584115304 \n",
      "\n",
      "GETGain \t 141.14444444444445 \t 0.040895377829311956 \n",
      " 138.672 \t 0.05432822983027321 \n",
      "\n",
      "PeakingTime \t 551.6666666666666 \t 0.041966780312230424 \n",
      " 560.225 \t 0.04842457949507863 \n",
      "\n"
     ]
    }
   ],
   "source": [
    "parameters = ['Threshold', 'EIonize', 'Fano', 'CoefL', 'CoefT', 'Gain', 'GETGain', 'PeakingTime']\n",
    "print('Current Best Fit Parameters')\n",
    "for p in parameters:\n",
    "    print(p, '\\t', best_params[p].mean(),'\\t', best_params[p].std()/best_params[p].mean(), '\\n', params[p].mean(),'\\t', params[p].std()/params[p].mean(), '\\n')"
   ]
  },
  {
   "cell_type": "code",
   "execution_count": 37,
   "metadata": {},
   "outputs": [
    {
     "name": "stdout",
     "output_type": "stream",
     "text": [
      "Full Run Deviation: 25.867678178798194 \t 0.384349720596579\n",
      "Best Run Deviation: 14.533072811732083 \t 0.37061727029403896\n"
     ]
    }
   ],
   "source": [
    "print('Full Run Deviation:', run_df['Deviation'].mean(), '\\t', run_df['Deviation'].std()/run_df['Deviation'].mean())\n",
    "print('Best Run Deviation:', best_run_df['Deviation'].mean(), '\\t', best_run_df['Deviation'].std()/best_run_df['Deviation'].mean())"
   ]
  },
  {
   "cell_type": "code",
   "execution_count": 38,
   "metadata": {},
   "outputs": [
    {
     "data": {
      "text/html": [
       "<div>\n",
       "<style scoped>\n",
       "    .dataframe tbody tr th:only-of-type {\n",
       "        vertical-align: middle;\n",
       "    }\n",
       "\n",
       "    .dataframe tbody tr th {\n",
       "        vertical-align: top;\n",
       "    }\n",
       "\n",
       "    .dataframe thead th {\n",
       "        text-align: right;\n",
       "    }\n",
       "</style>\n",
       "<table border=\"1\" class=\"dataframe\">\n",
       "  <thead>\n",
       "    <tr style=\"text-align: right;\">\n",
       "      <th></th>\n",
       "      <th>file</th>\n",
       "      <th>length</th>\n",
       "      <th>width</th>\n",
       "      <th>depth</th>\n",
       "      <th>tracesum</th>\n",
       "      <th>tracemax</th>\n",
       "      <th>tracedev</th>\n",
       "      <th>padnum</th>\n",
       "      <th>Deviation</th>\n",
       "    </tr>\n",
       "  </thead>\n",
       "  <tbody>\n",
       "    <tr>\n",
       "      <th>0</th>\n",
       "      <td>273_800p.h5</td>\n",
       "      <td>0.000000</td>\n",
       "      <td>0.000000</td>\n",
       "      <td>0.000000</td>\n",
       "      <td>0.000000</td>\n",
       "      <td>0.000000</td>\n",
       "      <td>0.000000</td>\n",
       "      <td>0.000000</td>\n",
       "      <td>0.000000</td>\n",
       "    </tr>\n",
       "    <tr>\n",
       "      <th>39</th>\n",
       "      <td>tuning5protons43-800p.h5</td>\n",
       "      <td>1.447570</td>\n",
       "      <td>2.361157</td>\n",
       "      <td>5.143063</td>\n",
       "      <td>0.135437</td>\n",
       "      <td>-0.600973</td>\n",
       "      <td>-0.615563</td>\n",
       "      <td>2.820360</td>\n",
       "      <td>13.124122</td>\n",
       "    </tr>\n",
       "    <tr>\n",
       "      <th>14</th>\n",
       "      <td>tuning5protons20-800p.h5</td>\n",
       "      <td>2.072719</td>\n",
       "      <td>2.531050</td>\n",
       "      <td>5.606639</td>\n",
       "      <td>-0.354734</td>\n",
       "      <td>-0.687886</td>\n",
       "      <td>-0.734123</td>\n",
       "      <td>2.403311</td>\n",
       "      <td>14.390463</td>\n",
       "    </tr>\n",
       "    <tr>\n",
       "      <th>26</th>\n",
       "      <td>tuning5protons31-800p.h5</td>\n",
       "      <td>2.320930</td>\n",
       "      <td>2.664106</td>\n",
       "      <td>5.890829</td>\n",
       "      <td>0.662865</td>\n",
       "      <td>-0.660335</td>\n",
       "      <td>-0.678384</td>\n",
       "      <td>1.928069</td>\n",
       "      <td>14.805518</td>\n",
       "    </tr>\n",
       "    <tr>\n",
       "      <th>22</th>\n",
       "      <td>tuning5protons28-800p.h5</td>\n",
       "      <td>2.833775</td>\n",
       "      <td>2.871227</td>\n",
       "      <td>5.780398</td>\n",
       "      <td>0.432582</td>\n",
       "      <td>-0.505308</td>\n",
       "      <td>-0.506415</td>\n",
       "      <td>2.655480</td>\n",
       "      <td>15.585184</td>\n",
       "    </tr>\n",
       "  </tbody>\n",
       "</table>\n",
       "</div>"
      ],
      "text/plain": [
       "                        file    length     width     depth  tracesum  \\\n",
       "0                273_800p.h5  0.000000  0.000000  0.000000  0.000000   \n",
       "39  tuning5protons43-800p.h5  1.447570  2.361157  5.143063  0.135437   \n",
       "14  tuning5protons20-800p.h5  2.072719  2.531050  5.606639 -0.354734   \n",
       "26  tuning5protons31-800p.h5  2.320930  2.664106  5.890829  0.662865   \n",
       "22  tuning5protons28-800p.h5  2.833775  2.871227  5.780398  0.432582   \n",
       "\n",
       "    tracemax  tracedev    padnum  Deviation  \n",
       "0   0.000000  0.000000  0.000000   0.000000  \n",
       "39 -0.600973 -0.615563  2.820360  13.124122  \n",
       "14 -0.687886 -0.734123  2.403311  14.390463  \n",
       "26 -0.660335 -0.678384  1.928069  14.805518  \n",
       "22 -0.505308 -0.506415  2.655480  15.585184  "
      ]
     },
     "execution_count": 38,
     "metadata": {},
     "output_type": "execute_result"
    }
   ],
   "source": [
    "best_run_df.head()"
   ]
  },
  {
   "cell_type": "code",
   "execution_count": 39,
   "metadata": {},
   "outputs": [
    {
     "data": {
      "text/html": [
       "<div>\n",
       "<style scoped>\n",
       "    .dataframe tbody tr th:only-of-type {\n",
       "        vertical-align: middle;\n",
       "    }\n",
       "\n",
       "    .dataframe tbody tr th {\n",
       "        vertical-align: top;\n",
       "    }\n",
       "\n",
       "    .dataframe thead th {\n",
       "        text-align: right;\n",
       "    }\n",
       "</style>\n",
       "<table border=\"1\" class=\"dataframe\">\n",
       "  <thead>\n",
       "    <tr style=\"text-align: right;\">\n",
       "      <th></th>\n",
       "      <th>file</th>\n",
       "      <th>length</th>\n",
       "      <th>width</th>\n",
       "      <th>depth</th>\n",
       "      <th>tracesum</th>\n",
       "      <th>tracemax</th>\n",
       "      <th>tracedev</th>\n",
       "      <th>padnum</th>\n",
       "      <th>Deviation</th>\n",
       "    </tr>\n",
       "  </thead>\n",
       "  <tbody>\n",
       "    <tr>\n",
       "      <th>2</th>\n",
       "      <td>tuning5protons1-800p.h5</td>\n",
       "      <td>1.016488</td>\n",
       "      <td>2.350446</td>\n",
       "      <td>5.319864</td>\n",
       "      <td>-24.852981</td>\n",
       "      <td>-1.412623</td>\n",
       "      <td>-2.311811</td>\n",
       "      <td>2.393612</td>\n",
       "      <td>39.657825</td>\n",
       "    </tr>\n",
       "    <tr>\n",
       "      <th>28</th>\n",
       "      <td>tuning5protons33-800p.h5</td>\n",
       "      <td>1.365719</td>\n",
       "      <td>2.372994</td>\n",
       "      <td>5.839436</td>\n",
       "      <td>-25.687925</td>\n",
       "      <td>-1.503842</td>\n",
       "      <td>-2.437309</td>\n",
       "      <td>1.384936</td>\n",
       "      <td>40.592160</td>\n",
       "    </tr>\n",
       "    <tr>\n",
       "      <th>32</th>\n",
       "      <td>tuning5protons37-800p.h5</td>\n",
       "      <td>3.910108</td>\n",
       "      <td>3.144345</td>\n",
       "      <td>6.433048</td>\n",
       "      <td>26.757670</td>\n",
       "      <td>0.240395</td>\n",
       "      <td>1.148433</td>\n",
       "      <td>2.597287</td>\n",
       "      <td>44.231286</td>\n",
       "    </tr>\n",
       "    <tr>\n",
       "      <th>3</th>\n",
       "      <td>tuning5protons10-800p.h5</td>\n",
       "      <td>3.368771</td>\n",
       "      <td>3.120827</td>\n",
       "      <td>6.380842</td>\n",
       "      <td>31.662765</td>\n",
       "      <td>0.284862</td>\n",
       "      <td>1.359644</td>\n",
       "      <td>2.413009</td>\n",
       "      <td>48.590722</td>\n",
       "    </tr>\n",
       "    <tr>\n",
       "      <th>9</th>\n",
       "      <td>tuning5protons16-800p.h5</td>\n",
       "      <td>2.763728</td>\n",
       "      <td>2.736971</td>\n",
       "      <td>6.462356</td>\n",
       "      <td>34.608235</td>\n",
       "      <td>0.572614</td>\n",
       "      <td>1.761440</td>\n",
       "      <td>1.976563</td>\n",
       "      <td>50.881906</td>\n",
       "    </tr>\n",
       "  </tbody>\n",
       "</table>\n",
       "</div>"
      ],
      "text/plain": [
       "                        file    length     width     depth   tracesum  \\\n",
       "2    tuning5protons1-800p.h5  1.016488  2.350446  5.319864 -24.852981   \n",
       "28  tuning5protons33-800p.h5  1.365719  2.372994  5.839436 -25.687925   \n",
       "32  tuning5protons37-800p.h5  3.910108  3.144345  6.433048  26.757670   \n",
       "3   tuning5protons10-800p.h5  3.368771  3.120827  6.380842  31.662765   \n",
       "9   tuning5protons16-800p.h5  2.763728  2.736971  6.462356  34.608235   \n",
       "\n",
       "    tracemax  tracedev    padnum  Deviation  \n",
       "2  -1.412623 -2.311811  2.393612  39.657825  \n",
       "28 -1.503842 -2.437309  1.384936  40.592160  \n",
       "32  0.240395  1.148433  2.597287  44.231286  \n",
       "3   0.284862  1.359644  2.413009  48.590722  \n",
       "9   0.572614  1.761440  1.976563  50.881906  "
      ]
     },
     "execution_count": 39,
     "metadata": {},
     "output_type": "execute_result"
    }
   ],
   "source": [
    "run_df.tail()"
   ]
  },
  {
   "cell_type": "code",
   "execution_count": 40,
   "metadata": {},
   "outputs": [
    {
     "data": {
      "text/html": [
       "<div>\n",
       "<style scoped>\n",
       "    .dataframe tbody tr th:only-of-type {\n",
       "        vertical-align: middle;\n",
       "    }\n",
       "\n",
       "    .dataframe tbody tr th {\n",
       "        vertical-align: top;\n",
       "    }\n",
       "\n",
       "    .dataframe thead th {\n",
       "        text-align: right;\n",
       "    }\n",
       "</style>\n",
       "<table border=\"1\" class=\"dataframe\">\n",
       "  <thead>\n",
       "    <tr style=\"text-align: right;\">\n",
       "      <th></th>\n",
       "      <th>Sim</th>\n",
       "      <th>Status</th>\n",
       "      <th>N</th>\n",
       "      <th>P0</th>\n",
       "      <th>E0</th>\n",
       "      <th>P1</th>\n",
       "      <th>E1</th>\n",
       "      <th>Xb</th>\n",
       "      <th>Yb</th>\n",
       "      <th>Zb1</th>\n",
       "      <th>Zb2</th>\n",
       "      <th>Threshold</th>\n",
       "      <th>EIonize</th>\n",
       "      <th>Fano</th>\n",
       "      <th>CoefL</th>\n",
       "      <th>CoefT</th>\n",
       "      <th>Gain</th>\n",
       "      <th>GETGain</th>\n",
       "      <th>PeakingTime</th>\n",
       "    </tr>\n",
       "  </thead>\n",
       "  <tbody>\n",
       "  </tbody>\n",
       "</table>\n",
       "</div>"
      ],
      "text/plain": [
       "Empty DataFrame\n",
       "Columns: [Sim, Status, N, P0, E0, P1, E1, Xb, Yb, Zb1, Zb2, Threshold, EIonize, Fano, CoefL, CoefT, Gain, GETGain, PeakingTime]\n",
       "Index: []"
      ]
     },
     "execution_count": 40,
     "metadata": {},
     "output_type": "execute_result"
    }
   ],
   "source": [
    "params[params['Sim'] == 'tuning4protons74-800p']"
   ]
  },
  {
   "cell_type": "code",
   "execution_count": null,
   "metadata": {},
   "outputs": [],
   "source": []
  }
 ],
 "metadata": {
  "kernelspec": {
   "display_name": "Python 3",
   "language": "python",
   "name": "python3"
  },
  "language_info": {
   "codemirror_mode": {
    "name": "ipython",
    "version": 3
   },
   "file_extension": ".py",
   "mimetype": "text/x-python",
   "name": "python",
   "nbconvert_exporter": "python",
   "pygments_lexer": "ipython3",
   "version": "3.10.11"
  },
  "vscode": {
   "interpreter": {
    "hash": "c295b91a4a4f8e66f37da6a2fbf5c84e6919990d10548059361442497be2c972"
   }
  }
 },
 "nbformat": 4,
 "nbformat_minor": 4
}
