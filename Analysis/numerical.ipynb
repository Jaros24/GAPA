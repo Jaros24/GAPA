{
 "cells": [
  {
   "cell_type": "code",
   "execution_count": 1,
   "metadata": {},
   "outputs": [],
   "source": [
    "import numpy as np\n",
    "import h5py\n",
    "import math\n",
    "from sklearn.decomposition import PCA\n",
    "from pca import pca\n",
    "import pandas as pd\n",
    "import matplotlib.pyplot as plt\n",
    "from matplotlib.colors import LinearSegmentedColormap\n",
    "from tqdm import tqdm\n",
    "import peakutils\n",
    "import os, sys\n",
    "from BaselineRemoval import BaselineRemoval\n",
    "from sklearn.cluster import DBSCAN\n",
    "import scipy\n",
    "from sklearn.linear_model import LinearRegression\n",
    "import seaborn as sns"
   ]
  },
  {
   "cell_type": "code",
   "execution_count": 2,
   "metadata": {},
   "outputs": [],
   "source": [
    "class HiddenPrints:\n",
    "\tdef __enter__(self):\n",
    "\t\tself._original_stdout = sys.stdout\n",
    "\t\tsys.stdout = open(os.devnull, 'w')"
   ]
  },
  {
   "cell_type": "code",
   "execution_count": 3,
   "metadata": {},
   "outputs": [],
   "source": [
    "def __exit__(self, exc_type, exc_val, exc_tb):\n",
    "\tsys.stdout.close()\n",
    "\tsys.stdout = self._original_stdout"
   ]
  },
  {
   "cell_type": "code",
   "execution_count": 4,
   "metadata": {},
   "outputs": [],
   "source": [
    "def remove_outliers(xset, yset, zset, eset, threshold):\n",
    "\t\"\"\"\n",
    "\tUses DBSCAN to find and remove outliers in 3D data\n",
    "\t\"\"\"\n",
    "\tdata = np.array([xset.T, yset.T, zset.T]).T\n",
    "\tDBSCAN_cluster = DBSCAN(eps=7, min_samples=10).fit(data)\n",
    "\tout_of_cluster_index = np.where(DBSCAN_cluster.labels_==-1)\n",
    "\tdel data\n",
    "\trev = out_of_cluster_index[0][::-1]\n",
    "\t#if len(out_of_cluster_index[0]) > 0:\n",
    "\tfor i in rev:\n",
    "\t\txset = np.delete(xset, i)\n",
    "\t\tyset = np.delete(yset, i)\n",
    "\t\tzset = np.delete(zset, i)\n",
    "\t\teset = np.delete(eset, i)\n",
    "\t#if len(xset) <= threshold:\n",
    "\t#\tveto = True\n",
    "\t#else:\n",
    "    #veto = False\n",
    "\treturn xset, yset, zset, eset, False"
   ]
  },
  {
   "cell_type": "code",
   "execution_count": 5,
   "metadata": {
    "scrolled": true
   },
   "outputs": [
    {
     "name": "stdout",
     "output_type": "stream",
     "text": [
      "Veto on Length @ 70 mm\n",
      "Veto on Integrated Charge @ 800k\n"
     ]
    }
   ],
   "source": [
    "print('Veto on Length @ 70 mm')\n",
    "print('Veto on Integrated Charge @ 800k')\n",
    "def track_len(xset, yset, zset):\n",
    "    \"\"\"\n",
    "    Uses PCA to find the length of a track\n",
    "    \"\"\"\n",
    "    veto_on_length = False\n",
    " \n",
    "    # Form data matrix\n",
    "    data = np.concatenate((xset[:, np.newaxis], \n",
    "                           yset[:, np.newaxis], \n",
    "                           zset[:, np.newaxis]), \n",
    "                           axis=1)\n",
    "\n",
    "    # Use PCA to find track length\n",
    "    pca = PCA(n_components=3)\n",
    "    principalComponents = pca.fit(data)\n",
    "    principalComponents = pca.transform(data)\n",
    "    principalDf = pd.DataFrame(data = principalComponents\n",
    "             , columns = ['principal component 1', 'principal component 2', 'principal component 3'])\n",
    "    \n",
    "    track_len = 2.35*principalDf.std()[0]\n",
    "    track_width = 2.35*principalDf.std()[1]\n",
    "    track_depth = 2.35*principalDf.std()[2]\n",
    "    #if track_len > 70:\n",
    "    #    veto_on_length = True\n",
    "    \n",
    "    return track_len, veto_on_length, track_width, track_depth"
   ]
  },
  {
   "cell_type": "code",
   "execution_count": 6,
   "metadata": {},
   "outputs": [],
   "source": [
    "def main(h5file, threshold):\n",
    "    \"\"\"\n",
    "    This functions does the following: \n",
    "    - Converts h5 files into ndarrays. \n",
    "    - Removes outliers.\n",
    "    - Calls PCA to return track length.\n",
    "    - Sums mesh signal to return energy.\n",
    "    \"\"\"\n",
    "    # Converts h5 files into ndarrays, and output each event dataset as a separte list\n",
    "    num_events = int(len(list(h5file.keys()))/2) \n",
    "    \n",
    "    len_list = []\n",
    "    width_list = []\n",
    "    depth_list = []\n",
    "    good_events = []\n",
    "    tot_energy = []\n",
    "    tracemax_list = []\n",
    "    tracedev_list = []\n",
    "    pads_list = []\n",
    "    \n",
    "    skipped_events = 0\n",
    "    veto_events = 0\n",
    "    \n",
    "    pbar = tqdm(total=num_events+1)\n",
    "    for i in range(0, num_events):\n",
    "        str_event = f\"Event_[{i}]\"\n",
    "        \n",
    "        # Apply pad threshold\n",
    "        event = np.array(h5file[str_event][:])\n",
    "        if len(event) <= threshold:\n",
    "            skipped_events += 1\n",
    "            pbar.update(n=1)\n",
    "            continue\n",
    "            \n",
    "        # Make copy of datasets\n",
    "        dset_0_copyx = event['x']\n",
    "        dset_0_copyy = event['y'] \n",
    "        dset_0_copyz = event['z'] - min(event['z'])\n",
    "        dset_0_copye = event['A']\n",
    "\n",
    "        \n",
    "        # Apply veto condition\n",
    "        R = 36                           # Radius of the pad plane\n",
    "        r = np.sqrt(dset_0_copyx**2 + dset_0_copyy**2)\n",
    "        statements = np.greater(r, R)    # Check if any point lies outside of R\n",
    "      \n",
    "        if np.any(statements) == True:\n",
    "            veto_events += 1\n",
    "            pbar.update(n=1)\n",
    "            continue\n",
    "        \n",
    "        \n",
    "        # Call remove_outliers to get dataset w/ outliers removed\n",
    "        dset_0_copyx, dset_0_copyy, dset_0_copyz, dset_0_copye, veto = remove_outliers(dset_0_copyx, dset_0_copyy, dset_0_copyz, dset_0_copye, threshold)\n",
    "        if veto == True:\n",
    "            skipped_events += 1\n",
    "            pbar.update(n=1)\n",
    "            continue\n",
    "\n",
    "        \n",
    "        # Call track_len() to create lists of all track lengths\n",
    "        length, veto_on_length, width, depth = track_len(dset_0_copyx, dset_0_copyy, dset_0_copyz)\n",
    "        if veto_on_length == True:\n",
    "            veto_events += 1\n",
    "            pbar.update(n=1)\n",
    "            continue\n",
    "\n",
    "        \n",
    "       \tstr_trace = f\"Trace_[{i}]\"\n",
    "        trace = np.array(h5file[str_trace][:])\n",
    "        max_val = np.argmax(trace)\n",
    "        low_bound = max_val - 75\n",
    "        if low_bound < 0:\n",
    "            low_bound = 5\n",
    "        upper_bound = max_val + 75\n",
    "        if upper_bound > 511:\n",
    "            upper_bound = 506\n",
    "        trace = trace[low_bound:upper_bound]\n",
    "\n",
    "        polynomial_degree=2 \n",
    "        baseObj=BaselineRemoval(trace)\n",
    "        trace=baseObj.IModPoly(polynomial_degree)\n",
    "\n",
    "        #if np.sum(trace) > 800000:\n",
    "        #    veto_events += 1\n",
    "        #    pbar.update(n=1)\n",
    "        #    continue\n",
    "\n",
    "        len_list.append(length)\n",
    "        width_list.append(width)\n",
    "        depth_list.append(depth)\n",
    "        tot_energy.append(np.sum(trace))\n",
    "        tracemax_list.append(np.max(trace))\n",
    "        tracedev_list.append(np.std(trace))\n",
    "        pads_list.append(len(trace[trace > 0]))\n",
    "\n",
    "        # Track event number of good events\n",
    "        good_events.append(i)  \n",
    "        pbar.update(n=1)\n",
    "\n",
    "    return (tot_energy, skipped_events, veto_events, good_events, len_list, width_list, depth_list, tracemax_list, tracedev_list, pads_list)"
   ]
  },
  {
   "cell_type": "code",
   "execution_count": 7,
   "metadata": {
    "scrolled": true
   },
   "outputs": [
    {
     "name": "stdout",
     "output_type": "stream",
     "text": [
      "C:/Users/Adam/OneDrive - Tenundra, Inc/Desktop/Programming/GADGET2/simOutput/273_800p.h5\n"
     ]
    },
    {
     "name": "stderr",
     "output_type": "stream",
     "text": [
      "100%|█████████▉| 676/677 [00:12<00:00, 52.62it/s]\n"
     ]
    },
    {
     "name": "stdout",
     "output_type": "stream",
     "text": [
      "C:/Users/Adam/OneDrive - Tenundra, Inc/Desktop/Programming/GADGET2/simOutput/tuning4protons0-800p.h5\n"
     ]
    },
    {
     "name": "stderr",
     "output_type": "stream",
     "text": [
      " 98%|█████████▊| 50/51 [00:01<00:00, 38.98it/s]\n"
     ]
    },
    {
     "name": "stdout",
     "output_type": "stream",
     "text": [
      "C:/Users/Adam/OneDrive - Tenundra, Inc/Desktop/Programming/GADGET2/simOutput/tuning4protons1-800p.h5\n"
     ]
    },
    {
     "name": "stderr",
     "output_type": "stream",
     "text": [
      " 98%|█████████▊| 50/51 [00:01<00:00, 40.03it/s]\n"
     ]
    },
    {
     "name": "stdout",
     "output_type": "stream",
     "text": [
      "C:/Users/Adam/OneDrive - Tenundra, Inc/Desktop/Programming/GADGET2/simOutput/tuning4protons10-800p.h5\n"
     ]
    },
    {
     "name": "stderr",
     "output_type": "stream",
     "text": [
      " 98%|█████████▊| 50/51 [00:01<00:00, 39.68it/s]\n"
     ]
    },
    {
     "name": "stdout",
     "output_type": "stream",
     "text": [
      "C:/Users/Adam/OneDrive - Tenundra, Inc/Desktop/Programming/GADGET2/simOutput/tuning4protons11-800p.h5\n"
     ]
    },
    {
     "name": "stderr",
     "output_type": "stream",
     "text": [
      " 98%|█████████▊| 50/51 [00:01<00:00, 40.03it/s]\n"
     ]
    },
    {
     "name": "stdout",
     "output_type": "stream",
     "text": [
      "C:/Users/Adam/OneDrive - Tenundra, Inc/Desktop/Programming/GADGET2/simOutput/tuning4protons12-800p.h5\n"
     ]
    },
    {
     "name": "stderr",
     "output_type": "stream",
     "text": [
      " 98%|█████████▊| 50/51 [00:01<00:00, 43.33it/s]\n"
     ]
    },
    {
     "name": "stdout",
     "output_type": "stream",
     "text": [
      "C:/Users/Adam/OneDrive - Tenundra, Inc/Desktop/Programming/GADGET2/simOutput/tuning4protons13-800p.h5\n"
     ]
    },
    {
     "name": "stderr",
     "output_type": "stream",
     "text": [
      " 98%|█████████▊| 50/51 [00:01<00:00, 30.27it/s]\n"
     ]
    },
    {
     "name": "stdout",
     "output_type": "stream",
     "text": [
      "C:/Users/Adam/OneDrive - Tenundra, Inc/Desktop/Programming/GADGET2/simOutput/tuning4protons14-800p.h5\n"
     ]
    },
    {
     "name": "stderr",
     "output_type": "stream",
     "text": [
      " 98%|█████████▊| 50/51 [00:01<00:00, 40.32it/s]\n"
     ]
    },
    {
     "name": "stdout",
     "output_type": "stream",
     "text": [
      "C:/Users/Adam/OneDrive - Tenundra, Inc/Desktop/Programming/GADGET2/simOutput/tuning4protons15-800p.h5\n"
     ]
    },
    {
     "name": "stderr",
     "output_type": "stream",
     "text": [
      " 98%|█████████▊| 50/51 [00:01<00:00, 31.47it/s]\n"
     ]
    },
    {
     "name": "stdout",
     "output_type": "stream",
     "text": [
      "C:/Users/Adam/OneDrive - Tenundra, Inc/Desktop/Programming/GADGET2/simOutput/tuning4protons16-800p.h5\n"
     ]
    },
    {
     "name": "stderr",
     "output_type": "stream",
     "text": [
      " 98%|█████████▊| 50/51 [00:01<00:00, 40.37it/s]\n"
     ]
    },
    {
     "name": "stdout",
     "output_type": "stream",
     "text": [
      "C:/Users/Adam/OneDrive - Tenundra, Inc/Desktop/Programming/GADGET2/simOutput/tuning4protons17-800p.h5\n"
     ]
    },
    {
     "name": "stderr",
     "output_type": "stream",
     "text": [
      " 98%|█████████▊| 50/51 [00:01<00:00, 40.52it/s]\n"
     ]
    },
    {
     "name": "stdout",
     "output_type": "stream",
     "text": [
      "C:/Users/Adam/OneDrive - Tenundra, Inc/Desktop/Programming/GADGET2/simOutput/tuning4protons18-800p.h5\n"
     ]
    },
    {
     "name": "stderr",
     "output_type": "stream",
     "text": [
      " 98%|█████████▊| 50/51 [00:02<00:00, 19.84it/s]\n"
     ]
    },
    {
     "name": "stdout",
     "output_type": "stream",
     "text": [
      "C:/Users/Adam/OneDrive - Tenundra, Inc/Desktop/Programming/GADGET2/simOutput/tuning4protons19-800p.h5\n"
     ]
    },
    {
     "name": "stderr",
     "output_type": "stream",
     "text": [
      " 98%|█████████▊| 50/51 [00:01<00:00, 26.54it/s]\n"
     ]
    },
    {
     "name": "stdout",
     "output_type": "stream",
     "text": [
      "C:/Users/Adam/OneDrive - Tenundra, Inc/Desktop/Programming/GADGET2/simOutput/tuning4protons2-800p.h5\n"
     ]
    },
    {
     "name": "stderr",
     "output_type": "stream",
     "text": [
      " 98%|█████████▊| 50/51 [00:01<00:00, 41.63it/s]\n"
     ]
    },
    {
     "name": "stdout",
     "output_type": "stream",
     "text": [
      "C:/Users/Adam/OneDrive - Tenundra, Inc/Desktop/Programming/GADGET2/simOutput/tuning4protons20-800p.h5\n"
     ]
    },
    {
     "name": "stderr",
     "output_type": "stream",
     "text": [
      " 98%|█████████▊| 50/51 [00:02<00:00, 22.45it/s]\n"
     ]
    },
    {
     "name": "stdout",
     "output_type": "stream",
     "text": [
      "C:/Users/Adam/OneDrive - Tenundra, Inc/Desktop/Programming/GADGET2/simOutput/tuning4protons21-800p.h5\n"
     ]
    },
    {
     "name": "stderr",
     "output_type": "stream",
     "text": [
      " 98%|█████████▊| 50/51 [00:01<00:00, 48.25it/s]\n"
     ]
    },
    {
     "name": "stdout",
     "output_type": "stream",
     "text": [
      "C:/Users/Adam/OneDrive - Tenundra, Inc/Desktop/Programming/GADGET2/simOutput/tuning4protons22-800p.h5\n"
     ]
    },
    {
     "name": "stderr",
     "output_type": "stream",
     "text": [
      " 98%|█████████▊| 50/51 [00:01<00:00, 41.96it/s]\n"
     ]
    },
    {
     "name": "stdout",
     "output_type": "stream",
     "text": [
      "C:/Users/Adam/OneDrive - Tenundra, Inc/Desktop/Programming/GADGET2/simOutput/tuning4protons23-800p.h5\n"
     ]
    },
    {
     "name": "stderr",
     "output_type": "stream",
     "text": [
      " 98%|█████████▊| 50/51 [00:01<00:00, 30.66it/s]\n"
     ]
    },
    {
     "name": "stdout",
     "output_type": "stream",
     "text": [
      "C:/Users/Adam/OneDrive - Tenundra, Inc/Desktop/Programming/GADGET2/simOutput/tuning4protons24-800p.h5\n"
     ]
    },
    {
     "name": "stderr",
     "output_type": "stream",
     "text": [
      " 98%|█████████▊| 50/51 [00:01<00:00, 44.47it/s]\n"
     ]
    },
    {
     "name": "stdout",
     "output_type": "stream",
     "text": [
      "C:/Users/Adam/OneDrive - Tenundra, Inc/Desktop/Programming/GADGET2/simOutput/tuning4protons25-800p.h5\n"
     ]
    },
    {
     "name": "stderr",
     "output_type": "stream",
     "text": [
      " 98%|█████████▊| 50/51 [00:01<00:00, 27.69it/s]\n"
     ]
    },
    {
     "name": "stdout",
     "output_type": "stream",
     "text": [
      "C:/Users/Adam/OneDrive - Tenundra, Inc/Desktop/Programming/GADGET2/simOutput/tuning4protons26-800p.h5\n"
     ]
    },
    {
     "name": "stderr",
     "output_type": "stream",
     "text": [
      " 98%|█████████▊| 50/51 [00:02<00:00, 19.49it/s]\n"
     ]
    },
    {
     "name": "stdout",
     "output_type": "stream",
     "text": [
      "C:/Users/Adam/OneDrive - Tenundra, Inc/Desktop/Programming/GADGET2/simOutput/tuning4protons27-800p.h5\n"
     ]
    },
    {
     "name": "stderr",
     "output_type": "stream",
     "text": [
      " 98%|█████████▊| 50/51 [00:01<00:00, 43.76it/s]\n"
     ]
    },
    {
     "name": "stdout",
     "output_type": "stream",
     "text": [
      "C:/Users/Adam/OneDrive - Tenundra, Inc/Desktop/Programming/GADGET2/simOutput/tuning4protons28-800p.h5\n"
     ]
    },
    {
     "name": "stderr",
     "output_type": "stream",
     "text": [
      " 98%|█████████▊| 50/51 [00:01<00:00, 42.96it/s]\n"
     ]
    },
    {
     "name": "stdout",
     "output_type": "stream",
     "text": [
      "C:/Users/Adam/OneDrive - Tenundra, Inc/Desktop/Programming/GADGET2/simOutput/tuning4protons29-800p.h5\n"
     ]
    },
    {
     "name": "stderr",
     "output_type": "stream",
     "text": [
      " 98%|█████████▊| 50/51 [00:01<00:00, 35.17it/s]\n"
     ]
    },
    {
     "name": "stdout",
     "output_type": "stream",
     "text": [
      "C:/Users/Adam/OneDrive - Tenundra, Inc/Desktop/Programming/GADGET2/simOutput/tuning4protons3-800p.h5\n"
     ]
    },
    {
     "name": "stderr",
     "output_type": "stream",
     "text": [
      " 98%|█████████▊| 50/51 [00:01<00:00, 46.56it/s]\n"
     ]
    },
    {
     "name": "stdout",
     "output_type": "stream",
     "text": [
      "C:/Users/Adam/OneDrive - Tenundra, Inc/Desktop/Programming/GADGET2/simOutput/tuning4protons30-800p.h5\n"
     ]
    },
    {
     "name": "stderr",
     "output_type": "stream",
     "text": [
      " 98%|█████████▊| 50/51 [00:01<00:00, 40.85it/s]\n"
     ]
    },
    {
     "name": "stdout",
     "output_type": "stream",
     "text": [
      "C:/Users/Adam/OneDrive - Tenundra, Inc/Desktop/Programming/GADGET2/simOutput/tuning4protons31-800p.h5\n"
     ]
    },
    {
     "name": "stderr",
     "output_type": "stream",
     "text": [
      " 98%|█████████▊| 50/51 [00:01<00:00, 48.64it/s]\n"
     ]
    },
    {
     "name": "stdout",
     "output_type": "stream",
     "text": [
      "C:/Users/Adam/OneDrive - Tenundra, Inc/Desktop/Programming/GADGET2/simOutput/tuning4protons32-800p.h5\n"
     ]
    },
    {
     "name": "stderr",
     "output_type": "stream",
     "text": [
      " 98%|█████████▊| 50/51 [00:01<00:00, 35.37it/s]\n"
     ]
    },
    {
     "name": "stdout",
     "output_type": "stream",
     "text": [
      "C:/Users/Adam/OneDrive - Tenundra, Inc/Desktop/Programming/GADGET2/simOutput/tuning4protons33-800p.h5\n"
     ]
    },
    {
     "name": "stderr",
     "output_type": "stream",
     "text": [
      " 98%|█████████▊| 50/51 [00:01<00:00, 45.58it/s]\n"
     ]
    },
    {
     "name": "stdout",
     "output_type": "stream",
     "text": [
      "C:/Users/Adam/OneDrive - Tenundra, Inc/Desktop/Programming/GADGET2/simOutput/tuning4protons34-800p.h5\n"
     ]
    },
    {
     "name": "stderr",
     "output_type": "stream",
     "text": [
      " 98%|█████████▊| 50/51 [00:01<00:00, 47.10it/s]\n"
     ]
    },
    {
     "name": "stdout",
     "output_type": "stream",
     "text": [
      "C:/Users/Adam/OneDrive - Tenundra, Inc/Desktop/Programming/GADGET2/simOutput/tuning4protons35-800p.h5\n"
     ]
    },
    {
     "name": "stderr",
     "output_type": "stream",
     "text": [
      " 98%|█████████▊| 50/51 [00:00<00:00, 52.61it/s]\n"
     ]
    },
    {
     "name": "stdout",
     "output_type": "stream",
     "text": [
      "C:/Users/Adam/OneDrive - Tenundra, Inc/Desktop/Programming/GADGET2/simOutput/tuning4protons36-800p.h5\n"
     ]
    },
    {
     "name": "stderr",
     "output_type": "stream",
     "text": [
      " 98%|█████████▊| 50/51 [00:02<00:00, 18.52it/s]\n"
     ]
    },
    {
     "name": "stdout",
     "output_type": "stream",
     "text": [
      "C:/Users/Adam/OneDrive - Tenundra, Inc/Desktop/Programming/GADGET2/simOutput/tuning4protons37-800p.h5\n"
     ]
    },
    {
     "name": "stderr",
     "output_type": "stream",
     "text": [
      " 98%|█████████▊| 50/51 [00:00<00:00, 52.24it/s]\n"
     ]
    },
    {
     "name": "stdout",
     "output_type": "stream",
     "text": [
      "C:/Users/Adam/OneDrive - Tenundra, Inc/Desktop/Programming/GADGET2/simOutput/tuning4protons38-800p.h5\n"
     ]
    },
    {
     "name": "stderr",
     "output_type": "stream",
     "text": [
      " 98%|█████████▊| 50/51 [00:00<00:00, 52.20it/s]\n"
     ]
    },
    {
     "name": "stdout",
     "output_type": "stream",
     "text": [
      "C:/Users/Adam/OneDrive - Tenundra, Inc/Desktop/Programming/GADGET2/simOutput/tuning4protons39-800p.h5\n"
     ]
    },
    {
     "name": "stderr",
     "output_type": "stream",
     "text": [
      " 98%|█████████▊| 50/51 [00:01<00:00, 47.26it/s]\n"
     ]
    },
    {
     "name": "stdout",
     "output_type": "stream",
     "text": [
      "C:/Users/Adam/OneDrive - Tenundra, Inc/Desktop/Programming/GADGET2/simOutput/tuning4protons4-800p.h5\n"
     ]
    },
    {
     "name": "stderr",
     "output_type": "stream",
     "text": [
      " 98%|█████████▊| 50/51 [00:01<00:00, 47.66it/s]\n"
     ]
    },
    {
     "name": "stdout",
     "output_type": "stream",
     "text": [
      "C:/Users/Adam/OneDrive - Tenundra, Inc/Desktop/Programming/GADGET2/simOutput/tuning4protons40-800p.h5\n"
     ]
    },
    {
     "name": "stderr",
     "output_type": "stream",
     "text": [
      " 98%|█████████▊| 50/51 [00:00<00:00, 50.60it/s]\n"
     ]
    },
    {
     "name": "stdout",
     "output_type": "stream",
     "text": [
      "C:/Users/Adam/OneDrive - Tenundra, Inc/Desktop/Programming/GADGET2/simOutput/tuning4protons41-800p.h5\n"
     ]
    },
    {
     "name": "stderr",
     "output_type": "stream",
     "text": [
      " 98%|█████████▊| 50/51 [00:01<00:00, 47.16it/s]\n"
     ]
    },
    {
     "name": "stdout",
     "output_type": "stream",
     "text": [
      "C:/Users/Adam/OneDrive - Tenundra, Inc/Desktop/Programming/GADGET2/simOutput/tuning4protons42-800p.h5\n"
     ]
    },
    {
     "name": "stderr",
     "output_type": "stream",
     "text": [
      " 98%|█████████▊| 50/51 [00:01<00:00, 43.44it/s]\n"
     ]
    },
    {
     "name": "stdout",
     "output_type": "stream",
     "text": [
      "C:/Users/Adam/OneDrive - Tenundra, Inc/Desktop/Programming/GADGET2/simOutput/tuning4protons43-800p.h5\n"
     ]
    },
    {
     "name": "stderr",
     "output_type": "stream",
     "text": [
      " 98%|█████████▊| 50/51 [00:03<00:00, 16.16it/s]\n"
     ]
    },
    {
     "name": "stdout",
     "output_type": "stream",
     "text": [
      "C:/Users/Adam/OneDrive - Tenundra, Inc/Desktop/Programming/GADGET2/simOutput/tuning4protons44-800p.h5\n"
     ]
    },
    {
     "name": "stderr",
     "output_type": "stream",
     "text": [
      " 98%|█████████▊| 50/51 [00:01<00:00, 41.25it/s]\n"
     ]
    },
    {
     "name": "stdout",
     "output_type": "stream",
     "text": [
      "C:/Users/Adam/OneDrive - Tenundra, Inc/Desktop/Programming/GADGET2/simOutput/tuning4protons45-800p.h5\n"
     ]
    },
    {
     "name": "stderr",
     "output_type": "stream",
     "text": [
      " 98%|█████████▊| 50/51 [00:01<00:00, 48.20it/s]\n"
     ]
    },
    {
     "name": "stdout",
     "output_type": "stream",
     "text": [
      "C:/Users/Adam/OneDrive - Tenundra, Inc/Desktop/Programming/GADGET2/simOutput/tuning4protons46-800p.h5\n"
     ]
    },
    {
     "name": "stderr",
     "output_type": "stream",
     "text": [
      " 98%|█████████▊| 50/51 [00:02<00:00, 18.87it/s]\n"
     ]
    },
    {
     "name": "stdout",
     "output_type": "stream",
     "text": [
      "C:/Users/Adam/OneDrive - Tenundra, Inc/Desktop/Programming/GADGET2/simOutput/tuning4protons47-800p.h5\n"
     ]
    },
    {
     "name": "stderr",
     "output_type": "stream",
     "text": [
      " 98%|█████████▊| 50/51 [00:03<00:00, 16.61it/s]\n"
     ]
    },
    {
     "name": "stdout",
     "output_type": "stream",
     "text": [
      "C:/Users/Adam/OneDrive - Tenundra, Inc/Desktop/Programming/GADGET2/simOutput/tuning4protons48-800p.h5\n"
     ]
    },
    {
     "name": "stderr",
     "output_type": "stream",
     "text": [
      " 98%|█████████▊| 50/51 [00:01<00:00, 46.79it/s]\n"
     ]
    },
    {
     "name": "stdout",
     "output_type": "stream",
     "text": [
      "C:/Users/Adam/OneDrive - Tenundra, Inc/Desktop/Programming/GADGET2/simOutput/tuning4protons49-800p.h5\n"
     ]
    },
    {
     "name": "stderr",
     "output_type": "stream",
     "text": [
      " 98%|█████████▊| 50/51 [00:01<00:00, 33.29it/s]\n"
     ]
    },
    {
     "name": "stdout",
     "output_type": "stream",
     "text": [
      "C:/Users/Adam/OneDrive - Tenundra, Inc/Desktop/Programming/GADGET2/simOutput/tuning4protons5-800p.h5\n"
     ]
    },
    {
     "name": "stderr",
     "output_type": "stream",
     "text": [
      " 98%|█████████▊| 50/51 [00:00<00:00, 52.01it/s]\n"
     ]
    },
    {
     "name": "stdout",
     "output_type": "stream",
     "text": [
      "C:/Users/Adam/OneDrive - Tenundra, Inc/Desktop/Programming/GADGET2/simOutput/tuning4protons50-800p.h5\n"
     ]
    },
    {
     "name": "stderr",
     "output_type": "stream",
     "text": [
      " 98%|█████████▊| 50/51 [00:00<00:00, 51.37it/s]\n"
     ]
    },
    {
     "name": "stdout",
     "output_type": "stream",
     "text": [
      "C:/Users/Adam/OneDrive - Tenundra, Inc/Desktop/Programming/GADGET2/simOutput/tuning4protons51-800p.h5\n"
     ]
    },
    {
     "name": "stderr",
     "output_type": "stream",
     "text": [
      " 98%|█████████▊| 50/51 [00:01<00:00, 42.11it/s]\n"
     ]
    },
    {
     "name": "stdout",
     "output_type": "stream",
     "text": [
      "C:/Users/Adam/OneDrive - Tenundra, Inc/Desktop/Programming/GADGET2/simOutput/tuning4protons52-800p.h5\n"
     ]
    },
    {
     "name": "stderr",
     "output_type": "stream",
     "text": [
      " 98%|█████████▊| 50/51 [00:01<00:00, 28.97it/s]\n"
     ]
    },
    {
     "name": "stdout",
     "output_type": "stream",
     "text": [
      "C:/Users/Adam/OneDrive - Tenundra, Inc/Desktop/Programming/GADGET2/simOutput/tuning4protons53-800p.h5\n"
     ]
    },
    {
     "name": "stderr",
     "output_type": "stream",
     "text": [
      " 98%|█████████▊| 50/51 [00:00<00:00, 52.37it/s]\n"
     ]
    },
    {
     "name": "stdout",
     "output_type": "stream",
     "text": [
      "C:/Users/Adam/OneDrive - Tenundra, Inc/Desktop/Programming/GADGET2/simOutput/tuning4protons54-800p.h5\n"
     ]
    },
    {
     "name": "stderr",
     "output_type": "stream",
     "text": [
      " 98%|█████████▊| 50/51 [00:01<00:00, 30.70it/s]\n"
     ]
    },
    {
     "name": "stdout",
     "output_type": "stream",
     "text": [
      "C:/Users/Adam/OneDrive - Tenundra, Inc/Desktop/Programming/GADGET2/simOutput/tuning4protons55-800p.h5\n"
     ]
    },
    {
     "name": "stderr",
     "output_type": "stream",
     "text": [
      " 98%|█████████▊| 50/51 [00:01<00:00, 35.98it/s]\n"
     ]
    },
    {
     "name": "stdout",
     "output_type": "stream",
     "text": [
      "C:/Users/Adam/OneDrive - Tenundra, Inc/Desktop/Programming/GADGET2/simOutput/tuning4protons56-800p.h5\n"
     ]
    },
    {
     "name": "stderr",
     "output_type": "stream",
     "text": [
      " 98%|█████████▊| 50/51 [00:00<00:00, 52.66it/s]\n"
     ]
    },
    {
     "name": "stdout",
     "output_type": "stream",
     "text": [
      "C:/Users/Adam/OneDrive - Tenundra, Inc/Desktop/Programming/GADGET2/simOutput/tuning4protons57-800p.h5\n"
     ]
    },
    {
     "name": "stderr",
     "output_type": "stream",
     "text": [
      " 98%|█████████▊| 50/51 [00:01<00:00, 45.44it/s]\n"
     ]
    },
    {
     "name": "stdout",
     "output_type": "stream",
     "text": [
      "C:/Users/Adam/OneDrive - Tenundra, Inc/Desktop/Programming/GADGET2/simOutput/tuning4protons58-800p.h5\n"
     ]
    },
    {
     "name": "stderr",
     "output_type": "stream",
     "text": [
      " 98%|█████████▊| 50/51 [00:01<00:00, 48.70it/s]\n"
     ]
    },
    {
     "name": "stdout",
     "output_type": "stream",
     "text": [
      "C:/Users/Adam/OneDrive - Tenundra, Inc/Desktop/Programming/GADGET2/simOutput/tuning4protons59-800p.h5\n"
     ]
    },
    {
     "name": "stderr",
     "output_type": "stream",
     "text": [
      " 98%|█████████▊| 50/51 [00:02<00:00, 18.60it/s]\n"
     ]
    },
    {
     "name": "stdout",
     "output_type": "stream",
     "text": [
      "C:/Users/Adam/OneDrive - Tenundra, Inc/Desktop/Programming/GADGET2/simOutput/tuning4protons6-800p.h5\n"
     ]
    },
    {
     "name": "stderr",
     "output_type": "stream",
     "text": [
      " 98%|█████████▊| 50/51 [00:00<00:00, 51.76it/s]\n"
     ]
    },
    {
     "name": "stdout",
     "output_type": "stream",
     "text": [
      "C:/Users/Adam/OneDrive - Tenundra, Inc/Desktop/Programming/GADGET2/simOutput/tuning4protons60-800p.h5\n"
     ]
    },
    {
     "name": "stderr",
     "output_type": "stream",
     "text": [
      " 98%|█████████▊| 50/51 [00:00<00:00, 53.28it/s]\n"
     ]
    },
    {
     "name": "stdout",
     "output_type": "stream",
     "text": [
      "C:/Users/Adam/OneDrive - Tenundra, Inc/Desktop/Programming/GADGET2/simOutput/tuning4protons61-800p.h5\n"
     ]
    },
    {
     "name": "stderr",
     "output_type": "stream",
     "text": [
      " 98%|█████████▊| 50/51 [00:00<00:00, 53.61it/s]\n"
     ]
    },
    {
     "name": "stdout",
     "output_type": "stream",
     "text": [
      "C:/Users/Adam/OneDrive - Tenundra, Inc/Desktop/Programming/GADGET2/simOutput/tuning4protons62-800p.h5\n"
     ]
    },
    {
     "name": "stderr",
     "output_type": "stream",
     "text": [
      " 98%|█████████▊| 50/51 [00:01<00:00, 37.00it/s]\n"
     ]
    },
    {
     "name": "stdout",
     "output_type": "stream",
     "text": [
      "C:/Users/Adam/OneDrive - Tenundra, Inc/Desktop/Programming/GADGET2/simOutput/tuning4protons63-800p.h5\n"
     ]
    },
    {
     "name": "stderr",
     "output_type": "stream",
     "text": [
      " 98%|█████████▊| 50/51 [00:01<00:00, 36.96it/s]\n"
     ]
    },
    {
     "name": "stdout",
     "output_type": "stream",
     "text": [
      "C:/Users/Adam/OneDrive - Tenundra, Inc/Desktop/Programming/GADGET2/simOutput/tuning4protons64-800p.h5\n"
     ]
    },
    {
     "name": "stderr",
     "output_type": "stream",
     "text": [
      " 98%|█████████▊| 50/51 [00:00<00:00, 52.39it/s]\n"
     ]
    },
    {
     "name": "stdout",
     "output_type": "stream",
     "text": [
      "C:/Users/Adam/OneDrive - Tenundra, Inc/Desktop/Programming/GADGET2/simOutput/tuning4protons65-800p.h5\n"
     ]
    },
    {
     "name": "stderr",
     "output_type": "stream",
     "text": [
      " 98%|█████████▊| 50/51 [00:01<00:00, 49.05it/s]\n"
     ]
    },
    {
     "name": "stdout",
     "output_type": "stream",
     "text": [
      "C:/Users/Adam/OneDrive - Tenundra, Inc/Desktop/Programming/GADGET2/simOutput/tuning4protons66-800p.h5\n"
     ]
    },
    {
     "name": "stderr",
     "output_type": "stream",
     "text": [
      " 98%|█████████▊| 50/51 [00:01<00:00, 48.90it/s]\n"
     ]
    },
    {
     "name": "stdout",
     "output_type": "stream",
     "text": [
      "C:/Users/Adam/OneDrive - Tenundra, Inc/Desktop/Programming/GADGET2/simOutput/tuning4protons67-800p.h5\n"
     ]
    },
    {
     "name": "stderr",
     "output_type": "stream",
     "text": [
      " 98%|█████████▊| 50/51 [00:00<00:00, 50.38it/s]\n"
     ]
    },
    {
     "name": "stdout",
     "output_type": "stream",
     "text": [
      "C:/Users/Adam/OneDrive - Tenundra, Inc/Desktop/Programming/GADGET2/simOutput/tuning4protons68-800p.h5\n"
     ]
    },
    {
     "name": "stderr",
     "output_type": "stream",
     "text": [
      " 98%|█████████▊| 50/51 [00:01<00:00, 48.31it/s]\n"
     ]
    },
    {
     "name": "stdout",
     "output_type": "stream",
     "text": [
      "C:/Users/Adam/OneDrive - Tenundra, Inc/Desktop/Programming/GADGET2/simOutput/tuning4protons69-800p.h5\n"
     ]
    },
    {
     "name": "stderr",
     "output_type": "stream",
     "text": [
      " 98%|█████████▊| 50/51 [00:01<00:00, 34.68it/s]\n"
     ]
    },
    {
     "name": "stdout",
     "output_type": "stream",
     "text": [
      "C:/Users/Adam/OneDrive - Tenundra, Inc/Desktop/Programming/GADGET2/simOutput/tuning4protons7-800p.h5\n"
     ]
    },
    {
     "name": "stderr",
     "output_type": "stream",
     "text": [
      " 98%|█████████▊| 50/51 [00:01<00:00, 43.18it/s]\n"
     ]
    },
    {
     "name": "stdout",
     "output_type": "stream",
     "text": [
      "C:/Users/Adam/OneDrive - Tenundra, Inc/Desktop/Programming/GADGET2/simOutput/tuning4protons70-800p.h5\n"
     ]
    },
    {
     "name": "stderr",
     "output_type": "stream",
     "text": [
      " 98%|█████████▊| 50/51 [00:01<00:00, 27.74it/s]\n"
     ]
    },
    {
     "name": "stdout",
     "output_type": "stream",
     "text": [
      "C:/Users/Adam/OneDrive - Tenundra, Inc/Desktop/Programming/GADGET2/simOutput/tuning4protons71-800p.h5\n"
     ]
    },
    {
     "name": "stderr",
     "output_type": "stream",
     "text": [
      " 98%|█████████▊| 50/51 [00:01<00:00, 44.44it/s]\n"
     ]
    },
    {
     "name": "stdout",
     "output_type": "stream",
     "text": [
      "C:/Users/Adam/OneDrive - Tenundra, Inc/Desktop/Programming/GADGET2/simOutput/tuning4protons72-800p.h5\n"
     ]
    },
    {
     "name": "stderr",
     "output_type": "stream",
     "text": [
      " 98%|█████████▊| 50/51 [00:01<00:00, 46.72it/s]\n"
     ]
    },
    {
     "name": "stdout",
     "output_type": "stream",
     "text": [
      "C:/Users/Adam/OneDrive - Tenundra, Inc/Desktop/Programming/GADGET2/simOutput/tuning4protons73-800p.h5\n"
     ]
    },
    {
     "name": "stderr",
     "output_type": "stream",
     "text": [
      " 98%|█████████▊| 50/51 [00:03<00:00, 15.27it/s]\n"
     ]
    },
    {
     "name": "stdout",
     "output_type": "stream",
     "text": [
      "C:/Users/Adam/OneDrive - Tenundra, Inc/Desktop/Programming/GADGET2/simOutput/tuning4protons74-800p.h5\n"
     ]
    },
    {
     "name": "stderr",
     "output_type": "stream",
     "text": [
      " 98%|█████████▊| 50/51 [00:02<00:00, 23.33it/s]\n"
     ]
    },
    {
     "name": "stdout",
     "output_type": "stream",
     "text": [
      "C:/Users/Adam/OneDrive - Tenundra, Inc/Desktop/Programming/GADGET2/simOutput/tuning4protons75-800p.h5\n"
     ]
    },
    {
     "name": "stderr",
     "output_type": "stream",
     "text": [
      " 98%|█████████▊| 50/51 [00:01<00:00, 36.50it/s]\n"
     ]
    },
    {
     "name": "stdout",
     "output_type": "stream",
     "text": [
      "C:/Users/Adam/OneDrive - Tenundra, Inc/Desktop/Programming/GADGET2/simOutput/tuning4protons76-800p.h5\n"
     ]
    },
    {
     "name": "stderr",
     "output_type": "stream",
     "text": [
      " 98%|█████████▊| 50/51 [00:02<00:00, 18.90it/s]\n"
     ]
    },
    {
     "name": "stdout",
     "output_type": "stream",
     "text": [
      "C:/Users/Adam/OneDrive - Tenundra, Inc/Desktop/Programming/GADGET2/simOutput/tuning4protons77-800p.h5\n"
     ]
    },
    {
     "name": "stderr",
     "output_type": "stream",
     "text": [
      " 98%|█████████▊| 50/51 [00:01<00:00, 46.21it/s]\n"
     ]
    },
    {
     "name": "stdout",
     "output_type": "stream",
     "text": [
      "C:/Users/Adam/OneDrive - Tenundra, Inc/Desktop/Programming/GADGET2/simOutput/tuning4protons78-800p.h5\n"
     ]
    },
    {
     "name": "stderr",
     "output_type": "stream",
     "text": [
      " 98%|█████████▊| 50/51 [00:01<00:00, 46.57it/s]\n"
     ]
    },
    {
     "name": "stdout",
     "output_type": "stream",
     "text": [
      "C:/Users/Adam/OneDrive - Tenundra, Inc/Desktop/Programming/GADGET2/simOutput/tuning4protons79-800p.h5\n"
     ]
    },
    {
     "name": "stderr",
     "output_type": "stream",
     "text": [
      " 98%|█████████▊| 50/51 [00:01<00:00, 28.58it/s]\n"
     ]
    },
    {
     "name": "stdout",
     "output_type": "stream",
     "text": [
      "C:/Users/Adam/OneDrive - Tenundra, Inc/Desktop/Programming/GADGET2/simOutput/tuning4protons8-800p.h5\n"
     ]
    },
    {
     "name": "stderr",
     "output_type": "stream",
     "text": [
      " 98%|█████████▊| 50/51 [00:02<00:00, 17.12it/s]\n"
     ]
    },
    {
     "name": "stdout",
     "output_type": "stream",
     "text": [
      "C:/Users/Adam/OneDrive - Tenundra, Inc/Desktop/Programming/GADGET2/simOutput/tuning4protons80-800p.h5\n"
     ]
    },
    {
     "name": "stderr",
     "output_type": "stream",
     "text": [
      " 98%|█████████▊| 50/51 [00:01<00:00, 47.87it/s]\n"
     ]
    },
    {
     "name": "stdout",
     "output_type": "stream",
     "text": [
      "C:/Users/Adam/OneDrive - Tenundra, Inc/Desktop/Programming/GADGET2/simOutput/tuning4protons81-800p.h5\n"
     ]
    },
    {
     "name": "stderr",
     "output_type": "stream",
     "text": [
      " 98%|█████████▊| 50/51 [00:00<00:00, 51.71it/s]\n"
     ]
    },
    {
     "name": "stdout",
     "output_type": "stream",
     "text": [
      "C:/Users/Adam/OneDrive - Tenundra, Inc/Desktop/Programming/GADGET2/simOutput/tuning4protons82-800p.h5\n"
     ]
    },
    {
     "name": "stderr",
     "output_type": "stream",
     "text": [
      " 98%|█████████▊| 50/51 [00:01<00:00, 32.87it/s]\n"
     ]
    },
    {
     "name": "stdout",
     "output_type": "stream",
     "text": [
      "C:/Users/Adam/OneDrive - Tenundra, Inc/Desktop/Programming/GADGET2/simOutput/tuning4protons83-800p.h5\n"
     ]
    },
    {
     "name": "stderr",
     "output_type": "stream",
     "text": [
      " 98%|█████████▊| 50/51 [00:02<00:00, 21.83it/s]\n"
     ]
    },
    {
     "name": "stdout",
     "output_type": "stream",
     "text": [
      "C:/Users/Adam/OneDrive - Tenundra, Inc/Desktop/Programming/GADGET2/simOutput/tuning4protons84-800p.h5\n"
     ]
    },
    {
     "name": "stderr",
     "output_type": "stream",
     "text": [
      " 98%|█████████▊| 50/51 [00:01<00:00, 47.48it/s]\n"
     ]
    },
    {
     "name": "stdout",
     "output_type": "stream",
     "text": [
      "C:/Users/Adam/OneDrive - Tenundra, Inc/Desktop/Programming/GADGET2/simOutput/tuning4protons85-800p.h5\n"
     ]
    },
    {
     "name": "stderr",
     "output_type": "stream",
     "text": [
      " 98%|█████████▊| 50/51 [00:01<00:00, 47.18it/s]\n"
     ]
    },
    {
     "name": "stdout",
     "output_type": "stream",
     "text": [
      "C:/Users/Adam/OneDrive - Tenundra, Inc/Desktop/Programming/GADGET2/simOutput/tuning4protons86-800p.h5\n"
     ]
    },
    {
     "name": "stderr",
     "output_type": "stream",
     "text": [
      " 98%|█████████▊| 50/51 [00:01<00:00, 47.84it/s]\n"
     ]
    },
    {
     "name": "stdout",
     "output_type": "stream",
     "text": [
      "C:/Users/Adam/OneDrive - Tenundra, Inc/Desktop/Programming/GADGET2/simOutput/tuning4protons87-800p.h5\n"
     ]
    },
    {
     "name": "stderr",
     "output_type": "stream",
     "text": [
      " 98%|█████████▊| 50/51 [00:02<00:00, 17.74it/s]\n"
     ]
    },
    {
     "name": "stdout",
     "output_type": "stream",
     "text": [
      "C:/Users/Adam/OneDrive - Tenundra, Inc/Desktop/Programming/GADGET2/simOutput/tuning4protons88-800p.h5\n"
     ]
    },
    {
     "name": "stderr",
     "output_type": "stream",
     "text": [
      " 98%|█████████▊| 50/51 [00:01<00:00, 38.76it/s]\n"
     ]
    },
    {
     "name": "stdout",
     "output_type": "stream",
     "text": [
      "C:/Users/Adam/OneDrive - Tenundra, Inc/Desktop/Programming/GADGET2/simOutput/tuning4protons89-800p.h5\n"
     ]
    },
    {
     "name": "stderr",
     "output_type": "stream",
     "text": [
      " 98%|█████████▊| 50/51 [00:00<00:00, 50.78it/s]\n"
     ]
    },
    {
     "name": "stdout",
     "output_type": "stream",
     "text": [
      "C:/Users/Adam/OneDrive - Tenundra, Inc/Desktop/Programming/GADGET2/simOutput/tuning4protons9-800p.h5\n"
     ]
    },
    {
     "name": "stderr",
     "output_type": "stream",
     "text": [
      " 98%|█████████▊| 50/51 [00:01<00:00, 31.87it/s]\n"
     ]
    },
    {
     "name": "stdout",
     "output_type": "stream",
     "text": [
      "C:/Users/Adam/OneDrive - Tenundra, Inc/Desktop/Programming/GADGET2/simOutput/tuning4protons90-800p.h5\n"
     ]
    },
    {
     "name": "stderr",
     "output_type": "stream",
     "text": [
      " 98%|█████████▊| 50/51 [00:02<00:00, 20.94it/s]\n"
     ]
    },
    {
     "name": "stdout",
     "output_type": "stream",
     "text": [
      "C:/Users/Adam/OneDrive - Tenundra, Inc/Desktop/Programming/GADGET2/simOutput/tuning4protons91-800p.h5\n"
     ]
    },
    {
     "name": "stderr",
     "output_type": "stream",
     "text": [
      " 98%|█████████▊| 50/51 [00:01<00:00, 39.09it/s]\n"
     ]
    },
    {
     "name": "stdout",
     "output_type": "stream",
     "text": [
      "C:/Users/Adam/OneDrive - Tenundra, Inc/Desktop/Programming/GADGET2/simOutput/tuning4protons92-800p.h5\n"
     ]
    },
    {
     "name": "stderr",
     "output_type": "stream",
     "text": [
      " 98%|█████████▊| 50/51 [00:01<00:00, 46.47it/s]\n"
     ]
    },
    {
     "name": "stdout",
     "output_type": "stream",
     "text": [
      "C:/Users/Adam/OneDrive - Tenundra, Inc/Desktop/Programming/GADGET2/simOutput/tuning4protons93-800p.h5\n"
     ]
    },
    {
     "name": "stderr",
     "output_type": "stream",
     "text": [
      " 98%|█████████▊| 50/51 [00:01<00:00, 49.73it/s]\n"
     ]
    },
    {
     "name": "stdout",
     "output_type": "stream",
     "text": [
      "C:/Users/Adam/OneDrive - Tenundra, Inc/Desktop/Programming/GADGET2/simOutput/tuning4protons94-800p.h5\n"
     ]
    },
    {
     "name": "stderr",
     "output_type": "stream",
     "text": [
      " 98%|█████████▊| 50/51 [00:01<00:00, 49.25it/s]\n"
     ]
    },
    {
     "name": "stdout",
     "output_type": "stream",
     "text": [
      "C:/Users/Adam/OneDrive - Tenundra, Inc/Desktop/Programming/GADGET2/simOutput/tuning4protons95-800p.h5\n"
     ]
    },
    {
     "name": "stderr",
     "output_type": "stream",
     "text": [
      " 98%|█████████▊| 50/51 [00:01<00:00, 28.58it/s]\n"
     ]
    },
    {
     "name": "stdout",
     "output_type": "stream",
     "text": [
      "C:/Users/Adam/OneDrive - Tenundra, Inc/Desktop/Programming/GADGET2/simOutput/tuning4protons96-800p.h5\n"
     ]
    },
    {
     "name": "stderr",
     "output_type": "stream",
     "text": [
      " 98%|█████████▊| 50/51 [00:03<00:00, 13.95it/s]\n"
     ]
    },
    {
     "name": "stdout",
     "output_type": "stream",
     "text": [
      "C:/Users/Adam/OneDrive - Tenundra, Inc/Desktop/Programming/GADGET2/simOutput/tuning4protons97-800p.h5\n"
     ]
    },
    {
     "name": "stderr",
     "output_type": "stream",
     "text": [
      " 98%|█████████▊| 50/51 [00:01<00:00, 45.97it/s]\n"
     ]
    },
    {
     "name": "stdout",
     "output_type": "stream",
     "text": [
      "C:/Users/Adam/OneDrive - Tenundra, Inc/Desktop/Programming/GADGET2/simOutput/tuning4protons98-800p.h5\n"
     ]
    },
    {
     "name": "stderr",
     "output_type": "stream",
     "text": [
      " 98%|█████████▊| 50/51 [00:01<00:00, 35.44it/s]\n"
     ]
    },
    {
     "name": "stdout",
     "output_type": "stream",
     "text": [
      "C:/Users/Adam/OneDrive - Tenundra, Inc/Desktop/Programming/GADGET2/simOutput/tuning4protons99-800p.h5\n"
     ]
    },
    {
     "name": "stderr",
     "output_type": "stream",
     "text": [
      " 98%|█████████▊| 50/51 [00:00<00:00, 1470.65it/s]\n"
     ]
    }
   ],
   "source": [
    "# assign directory\n",
    "directory = \"C:/Users/Adam/OneDrive - Tenundra, Inc/Desktop/Programming/GADGET2/simOutput/\"\n",
    "\n",
    "output_df = pd.DataFrame(columns=['file','event','length', 'width', 'depth', 'tracesum', 'tracemax', 'tracedev', 'padnum'])\n",
    "\n",
    "file_names = []\n",
    "# iterate over files in directory\n",
    "for filename in os.listdir(directory):\n",
    "    f = os.path.join(directory, filename)\n",
    "    # checking if it is a file\n",
    "    if os.path.isfile(f):\n",
    "        if f[-3:] == '.h5':\n",
    "            print(f)\n",
    "            file_names.append(filename)\n",
    "            h5f = h5py.File(directory+filename, 'r')\n",
    "            (tot_energy, skipped_events, veto_events, good_events, len_list, width_list, depth_list, tracemax_list, tracedev_list, pads_list) = main(h5file=h5f, threshold=15)\n",
    "            for event in range(len(tot_energy)):\n",
    "                output_df = output_df.append({'file' : filename, \n",
    "                                              'event' : event, \n",
    "                                              'length' : len_list[event], \n",
    "                                              'width' : width_list[event], \n",
    "                                              'depth' : depth_list[event], \n",
    "                                              'tracesum' : tot_energy[event], \n",
    "                                              'tracemax' : tracemax_list[event], \n",
    "                                              'tracedev' : tracedev_list[event], \n",
    "                                              'padnum' : pads_list[event]}\n",
    "                                             ,ignore_index = True)\n"
   ]
  },
  {
   "cell_type": "code",
   "execution_count": 8,
   "metadata": {},
   "outputs": [
    {
     "name": "stdout",
     "output_type": "stream",
     "text": [
      "273_800p.h5\n",
      "length:\t 13.598839169264545 \t 0.36378981766204926\n",
      "width:\t 5.490411630687277 \t 1.079046393352792\n",
      "depth:\t 1.1956686193850883 \t 0.4627512586642447\n",
      "tracesum:\t 155282.26997909456 \t 1353.2815542925161\n",
      "tracemax:\t 17261.59640386621 \t 3820.7164201418886\n",
      "tracedev:\t 3396.80817140803 \t 395.6029936835511\n",
      "padnum:\t 89.44822485207101 \t 4.124217163844774\n",
      "\n",
      "tuning4protons0-800p.h5\n",
      "length:\t 18.177657178778073 \t 1.5164954749614659\n",
      "width:\t 11.79673732846576 \t 1.4343615271647432\n",
      "depth:\t 6.650369739720276 \t 0.9798545047051385\n",
      "tracesum:\t 8767935.141945586 \t 45100.34171618578\n",
      "tracemax:\t 787743.7364414594 \t 93471.01234977499\n",
      "tracedev:\t 171185.75372082193 \t 11395.351059634993\n",
      "padnum:\t 106.3 \t 9.14341516154257\n",
      "\n",
      "tuning4protons1-800p.h5\n",
      "length:\t 18.027112289156708 \t 1.4780112531104648\n",
      "width:\t 11.811056539113313 \t 1.3903346535784455\n",
      "depth:\t 6.427657150211363 \t 1.085390600380517\n",
      "tracesum:\t 3221963.0570041626 \t 20483.20678259949\n",
      "tracemax:\t 295708.2448746173 \t 33964.28442707082\n",
      "tracedev:\t 63700.44404953584 \t 4084.482540225372\n",
      "padnum:\t 108.58 \t 8.083972553447838\n",
      "\n",
      "tuning4protons10-800p.h5\n",
      "length:\t 14.988764828090828 \t 1.2751930670575555\n",
      "width:\t 9.017238620831398 \t 0.9574624901060536\n",
      "depth:\t 3.635918472732952 \t 0.853935020875581\n",
      "tracesum:\t 303017.52995145076 \t 1721.8576257344853\n",
      "tracemax:\t 28038.18141062036 \t 3268.516308741465\n",
      "tracedev:\t 6014.85994413138 \t 394.42171506436495\n",
      "padnum:\t 108.16 \t 8.403983506380186\n",
      "\n",
      "tuning4protons11-800p.h5\n",
      "length:\t 16.080563938213828 \t 1.2674542484784763\n",
      "width:\t 10.087905671054584 \t 1.1985241439167806\n",
      "depth:\t 4.678150342535001 \t 1.0904802938084817\n",
      "tracesum:\t 309378.50463932287 \t 1945.9475219932667\n",
      "tracemax:\t 28656.379203821387 \t 3374.8460066786574\n",
      "tracedev:\t 6144.739424111165 \t 411.0449842056693\n",
      "padnum:\t 108.34 \t 8.208034888735178\n",
      "\n",
      "tuning4protons12-800p.h5\n",
      "length:\t 18.239824742431782 \t 1.473346107570682\n",
      "width:\t 12.184230211679077 \t 1.4812557346734296\n",
      "depth:\t 6.240774836626152 \t 1.2244550584256109\n",
      "tracesum:\t 3012572.6073576557 \t 19665.856712226076\n",
      "tracemax:\t 289524.4016127873 \t 32815.70189145066\n",
      "tracedev:\t 61116.6031636463 \t 3892.1431711543755\n",
      "padnum:\t 111.32 \t 4.757121407073048\n",
      "\n",
      "tuning4protons13-800p.h5\n",
      "length:\t 15.411657524073712 \t 1.1635099544631584\n",
      "width:\t 9.257733023080393 \t 1.0056471748999412\n",
      "depth:\t 4.243932379166975 \t 1.062234227475372\n",
      "tracesum:\t 383530.1185891224 \t 2781.366225573892\n",
      "tracemax:\t 34284.782175165776 \t 4171.128074396298\n",
      "tracedev:\t 7467.989645028492 \t 513.0547626362358\n",
      "padnum:\t 104.98 \t 10.280732920748164\n",
      "\n",
      "tuning4protons14-800p.h5\n",
      "length:\t 16.02935611662184 \t 1.1721227306866902\n",
      "width:\t 9.935180106136212 \t 1.112097815097259\n",
      "depth:\t 5.032013490498565 \t 1.1411205393327721\n",
      "tracesum:\t 620449.9686854242 \t 3411.649664429393\n",
      "tracemax:\t 56160.37890955893 \t 6626.3949603032015\n",
      "tracedev:\t 12165.133778631314 \t 799.7639143730977\n",
      "padnum:\t 105.86 \t 10.172010416744929\n",
      "\n",
      "tuning4protons15-800p.h5\n",
      "length:\t 14.897888348584367 \t 1.302273491314889\n",
      "width:\t 8.95634562211873 \t 0.9967396829564401\n",
      "depth:\t 2.7235542042197807 \t 0.4899078598324235\n",
      "tracesum:\t 390596.4210323515 \t 2678.7084600412227\n",
      "tracemax:\t 23145.026162652488 \t 1200.0104948475926\n",
      "tracedev:\t 6025.545061085628 \t 200.33994261828607\n",
      "padnum:\t 93.38 \t 7.6261901045151035\n",
      "\n",
      "tuning4protons16-800p.h5\n",
      "length:\t 18.691045981916563 \t 1.4520733569487436\n",
      "width:\t 12.554683389934485 \t 1.6445472546460125\n",
      "depth:\t 7.093903278202852 \t 1.0213324132449546\n",
      "tracesum:\t 14224405.613920545 \t 68486.18811335533\n",
      "tracemax:\t 1274008.927230905 \t 151471.44783323334\n",
      "tracedev:\t 277257.2137675514 \t 18455.054437242776\n",
      "padnum:\t 105.66 \t 9.501041833313195\n",
      "\n",
      "tuning4protons17-800p.h5\n",
      "length:\t 18.932310055347827 \t 1.629575282002524\n",
      "width:\t 12.808911834743153 \t 1.6227534519680165\n",
      "depth:\t 6.183816933373195 \t 1.1318194023479986\n",
      "tracesum:\t 102419937.27138855 \t 676090.4916474749\n",
      "tracemax:\t 7257292.961879257 \t 488611.8499166612\n",
      "tracedev:\t 1751957.2933494393 \t 70215.1384483107\n",
      "padnum:\t 105.64 \t 3.618320729006646\n",
      "\n",
      "tuning4protons18-800p.h5\n",
      "length:\t 16.24779306144109 \t 1.4415315696155044\n",
      "width:\t 10.24297655760897 \t 1.2636176546672717\n",
      "depth:\t 3.64352590683412 \t 0.5708704939640371\n",
      "tracesum:\t 1423108.7705216366 \t 9035.811118059499\n",
      "tracemax:\t 62696.48813270368 \t 1667.9910868500026\n",
      "tracedev:\t 18384.206817594022 \t 351.80834530077277\n",
      "padnum:\t 86.84 \t 2.0835605318290895\n",
      "\n",
      "tuning4protons19-800p.h5\n",
      "length:\t 18.98340871665026 \t 1.6198614800915703\n",
      "width:\t 12.99843602678898 \t 1.550871390475129\n",
      "depth:\t 6.337205512928731 \t 0.7828138909534353\n",
      "tracesum:\t 54154529.786433026 \t 343435.5736168736\n",
      "tracemax:\t 2763384.971574176 \t 108184.22098741758\n",
      "tracedev:\t 764443.5473523677 \t 19351.7365943116\n",
      "padnum:\t 78.58 \t 3.949115116590251\n",
      "\n",
      "tuning4protons2-800p.h5\n",
      "length:\t 19.192833254858513 \t 1.5974074428589078\n",
      "width:\t 13.296764545685942 \t 1.6436927931867944\n",
      "depth:\t 7.3688079673700075 \t 1.2516996516111834\n",
      "tracesum:\t 574003865.0231513 \t 2967751.085198425\n",
      "tracemax:\t 50418463.2900687 \t 6067556.705232579\n",
      "tracedev:\t 11063760.156908264 \t 747271.246904481\n",
      "padnum:\t 103.4 \t 10.982360625018613\n",
      "\n",
      "tuning4protons20-800p.h5\n",
      "length:\t 18.759241636535872 \t 1.4685727810862803\n",
      "width:\t 12.415852184212305 \t 1.5470884497831339\n",
      "depth:\t 5.826458754253764 \t 0.8024732118589741\n",
      "tracesum:\t 55161394.1347037 \t 1160062.0159336212\n",
      "tracemax:\t 1730863.5314827096 \t 37904.798023207564\n",
      "tracedev:\t 593761.7102594485 \t 12094.424677373225\n",
      "padnum:\t 94.4 \t 0.6060915267313265\n",
      "\n",
      "tuning4protons21-800p.h5\n",
      "length:\t 14.347935457085764 \t 1.146230962811761\n",
      "width:\t 8.652749850753434 \t 0.8976330996990176\n",
      "depth:\t 3.1978484307053145 \t 0.7044539018164632\n",
      "tracesum:\t 138610.16483937856 \t 1357.5622583942145\n",
      "tracemax:\t 13002.481153634833 \t 1538.2251576373012\n",
      "tracedev:\t 2772.669832835481 \t 189.94636510979623\n",
      "padnum:\t 109.3 \t 7.296210926059568\n",
      "\n",
      "tuning4protons22-800p.h5\n",
      "length:\t 15.535775626008013 \t 1.1920957782370218\n",
      "width:\t 9.609765571109286 \t 1.1356116357101924\n",
      "depth:\t 4.262864194498335 \t 0.9611743814898183\n",
      "tracesum:\t 348090.41431321204 \t 2561.6894174028853\n",
      "tracemax:\t 31071.494463870633 \t 3777.4735608472147\n",
      "tracedev:\t 6771.39970839823 \t 467.2670717557978\n",
      "padnum:\t 104.48 \t 10.68135892906088\n",
      "\n",
      "tuning4protons23-800p.h5\n",
      "length:\t 16.62463106162876 \t 1.3852471724238518\n",
      "width:\t 10.574070579109398 \t 1.344132244213943\n",
      "depth:\t 3.8630507311306093 \t 0.7026916712936568\n",
      "tracesum:\t 2152325.8795536915 \t 14238.353958387035\n",
      "tracemax:\t 109910.0402835925 \t 3547.6913257871456\n",
      "tracedev:\t 30423.51808134638 \t 663.3942193436817\n",
      "padnum:\t 77.5 \t 3.8399085873473178\n",
      "\n",
      "tuning4protons24-800p.h5\n",
      "length:\t 15.378160213316763 \t 1.1177206176928969\n",
      "width:\t 9.436075840166275 \t 1.0375781735695244\n",
      "depth:\t 4.016834953772901 \t 0.9072196360140843\n",
      "tracesum:\t 278574.08600389445 \t 2151.89560172276\n",
      "tracemax:\t 25412.462797227727 \t 3041.3806173378575\n",
      "tracedev:\t 5487.797231047438 \t 376.6594560871692\n",
      "padnum:\t 106.72 \t 9.31323394587574\n",
      "\n",
      "tuning4protons25-800p.h5\n",
      "length:\t 15.504023747374859 \t 1.251493435414862\n",
      "width:\t 9.321998025272615 \t 1.1177103097703012\n",
      "depth:\t 3.1562079327742576 \t 0.5326527976085754\n",
      "tracesum:\t 1540738.6658471369 \t 29526.853340181417\n",
      "tracemax:\t 46482.46579080655 \t 1025.0897445590824\n",
      "tracedev:\t 16373.490821235871 \t 338.076463028512\n",
      "padnum:\t 94.66 \t 0.6262945776223706\n",
      "\n",
      "tuning4protons26-800p.h5\n",
      "length:\t 15.668083895558256 \t 1.3589668532422423\n",
      "width:\t 9.637989143218043 \t 1.1875339591558445\n",
      "depth:\t 3.149730773335487 \t 0.5847295675474318\n",
      "tracesum:\t 1668140.435694658 \t 32712.857401505167\n",
      "tracemax:\t 54283.89861013799 \t 1221.0545367069644\n",
      "tracedev:\t 18213.61751774376 \t 361.1429490623409\n",
      "padnum:\t 93.68 \t 0.6833291853200799\n",
      "\n",
      "tuning4protons27-800p.h5\n",
      "length:\t 15.332700951273821 \t 1.1992757439463544\n",
      "width:\t 9.365087569204452 \t 1.0320995343744617\n",
      "depth:\t 3.203936341500117 \t 0.7008901787002602\n",
      "tracesum:\t 381027.6878068529 \t 2840.7712825732065\n",
      "tracemax:\t 30477.106107691332 \t 2613.4371480812256\n",
      "tracedev:\t 6979.090271757616 \t 355.50255444548174\n",
      "padnum:\t 109.02 \t 3.787681429614283\n",
      "\n",
      "tuning4protons28-800p.h5\n",
      "length:\t 18.079670529458685 \t 1.430854315326127\n",
      "width:\t 11.565863318973959 \t 1.4158975938755556\n",
      "depth:\t 6.423106889447871 \t 1.1477667759043608\n",
      "tracesum:\t 5077030.772126565 \t 21715.20160399712\n",
      "tracemax:\t 474654.6911435116 \t 54789.88145814149\n",
      "tracedev:\t 101410.34950530043 \t 6504.588774297072\n",
      "padnum:\t 109.52 \t 6.627832471125544\n",
      "\n",
      "tuning4protons29-800p.h5\n",
      "length:\t 16.295495196474587 \t 1.3360788754178594\n",
      "width:\t 10.437168386548453 \t 1.2657522217521453\n",
      "depth:\t 4.059557070872197 \t 0.9584752689777412\n",
      "tracesum:\t 836084.9681465168 \t 4499.6624395851795\n",
      "tracemax:\t 55443.32003959421 \t 3544.2715573914425\n",
      "tracedev:\t 13765.279801190984 \t 527.1596293120058\n",
      "padnum:\t 101.64 \t 6.113751645567021\n",
      "\n",
      "tuning4protons3-800p.h5\n",
      "length:\t 18.176937550172482 \t 1.5036531903595707\n",
      "width:\t 11.887972361977193 \t 1.4457655989531908\n",
      "depth:\t 6.07444579290434 \t 1.1120164812201667\n",
      "tracesum:\t 26793815.807785157 \t 157029.77764333572\n",
      "tracemax:\t 1906281.9203480517 \t 126159.38369601485\n",
      "tracedev:\t 459398.3637903534 \t 17668.943772536153\n",
      "padnum:\t 105.42 \t 4.247880624019273\n",
      "\n",
      "tuning4protons30-800p.h5\n",
      "length:\t 18.671723400791592 \t 1.5597730844582667\n",
      "width:\t 12.656374697758404 \t 1.607261642860816\n",
      "depth:\t 5.292414670267911 \t 0.9314463785373558\n",
      "tracesum:\t 8160497.29456166 \t 103636.5597682239\n",
      "tracemax:\t 233437.98961952212 \t 3358.254746886922\n",
      "tracedev:\t 85897.47121455538 \t 1188.465799680894\n",
      "padnum:\t 95.38 \t 0.5674864018868916\n",
      "\n",
      "tuning4protons31-800p.h5\n",
      "length:\t 18.543240972514774 \t 1.5163968301407469\n",
      "width:\t 11.962398515882235 \t 1.5368085964491855\n",
      "depth:\t 6.813579564429796 \t 1.1816906378942416\n",
      "tracesum:\t 9898236.16601692 \t 58339.11294788533\n",
      "tracemax:\t 920745.528515434 \t 106458.38913806496\n",
      "tracedev:\t 197157.45648239405 \t 12745.200528293544\n",
      "padnum:\t 109.18 \t 7.026741922172489\n",
      "\n",
      "tuning4protons32-800p.h5\n",
      "length:\t 18.586034117668106 \t 1.7823892953939438\n",
      "width:\t 12.508129920469743 \t 1.5868658323370801\n",
      "depth:\t 6.0201055860775226 \t 0.8885893084527782\n",
      "tracesum:\t 31882754.940354735 \t 155408.90920198607\n",
      "tracemax:\t 1781385.8473838149 \t 73370.90805363422\n",
      "tracedev:\t 475198.9907067481 \t 12154.48374353148\n",
      "padnum:\t 87.32 \t 7.985803730651648\n",
      "\n",
      "tuning4protons33-800p.h5\n",
      "length:\t 18.435563695880298 \t 1.5739185885606262\n",
      "width:\t 12.314670298013606 \t 1.6170005907063487\n",
      "depth:\t 7.119062532271098 \t 1.2699371717520618\n",
      "tracesum:\t 18028501.76959716 \t 114855.6691320952\n",
      "tracemax:\t 1604472.0733645486 \t 189341.61474418372\n",
      "tracedev:\t 350069.46481915074 \t 23297.564110335814\n",
      "padnum:\t 105.14 \t 10.036687802298939\n",
      "\n",
      "tuning4protons34-800p.h5\n",
      "length:\t 14.467638084361342 \t 1.1286148457271383\n",
      "width:\t 8.260896795057818 \t 0.8317212461264195\n",
      "depth:\t 3.295070586590597 \t 0.7636473103284191\n",
      "tracesum:\t 215027.627856943 \t 1839.6785442505316\n",
      "tracemax:\t 19631.57063768149 \t 2385.620448811225\n",
      "tracedev:\t 4237.580023719387 \t 295.764293897945\n",
      "padnum:\t 107.14 \t 8.670875482478865\n",
      "\n",
      "tuning4protons35-800p.h5\n",
      "length:\t 15.869895040485067 \t 1.2235697897020295\n",
      "width:\t 9.499857955848267 \t 1.1441584546627817\n",
      "depth:\t 4.808407777876748 \t 1.0910305804161256\n",
      "tracesum:\t 573278.3562204407 \t 3089.126653428454\n",
      "tracemax:\t 52968.751746937465 \t 6057.358951529003\n",
      "tracedev:\t 11371.616717243673 \t 725.7694659261014\n",
      "padnum:\t 108.22 \t 8.147342123261389\n",
      "\n",
      "tuning4protons36-800p.h5\n",
      "length:\t 16.159639006967282 \t 1.3945260996322244\n",
      "width:\t 10.28955823276839 \t 1.3010094323445487\n",
      "depth:\t 3.4338804897680215 \t 0.6993514479351001\n",
      "tracesum:\t 1698636.1536120921 \t 27106.234047157333\n",
      "tracemax:\t 57283.32801379572 \t 1071.3097560794502\n",
      "tracedev:\t 18818.433979059584 \t 300.54026646282233\n",
      "padnum:\t 93.54 \t 0.6131218209678553\n",
      "\n",
      "tuning4protons37-800p.h5\n",
      "length:\t 18.699079277862623 \t 1.588214477341945\n",
      "width:\t 12.74419551436088 \t 1.5783402503546347\n",
      "depth:\t 6.854031423927682 \t 1.229988647610679\n",
      "tracesum:\t 128543329.50606795 \t 652572.0293721629\n",
      "tracemax:\t 11915988.720577655 \t 1357758.7951459105\n",
      "tracedev:\t 2555606.5405384405 \t 161512.117498024\n",
      "padnum:\t 108.5 \t 7.717591884117475\n",
      "\n",
      "tuning4protons38-800p.h5\n",
      "length:\t 15.764978128511194 \t 1.1418657264553338\n",
      "width:\t 9.952361646072488 \t 1.1762045959695009\n",
      "depth:\t 4.1118330203847115 \t 1.049338100796632\n",
      "tracesum:\t 354096.74488329946 \t 2721.23087527498\n",
      "tracemax:\t 32649.797658718537 \t 3867.933606098095\n",
      "tracedev:\t 7014.084670475409 \t 472.3778070102443\n",
      "padnum:\t 107.16 \t 9.16149885250715\n",
      "\n",
      "tuning4protons39-800p.h5\n",
      "length:\t 18.341820999158458 \t 1.475098727519089\n",
      "width:\t 12.29760517133818 \t 1.5418426425690797\n",
      "depth:\t 5.964653498865304 \t 1.0091492877235668\n",
      "tracesum:\t 5706017.051992541 \t 40222.26085845473\n",
      "tracemax:\t 405571.96917902277 \t 28784.717913962053\n",
      "tracedev:\t 97784.15385338326 \t 4173.011272812872\n",
      "padnum:\t 105.42 \t 4.257478414387981\n",
      "\n",
      "tuning4protons4-800p.h5\n",
      "length:\t 14.894453872039172 \t 1.230734290370592\n",
      "width:\t 8.737715284078842 \t 0.9028342082226956\n",
      "depth:\t 3.9907471895975393 \t 0.981290817410696\n",
      "tracesum:\t 277031.6689208294 \t 2165.5801540161483\n",
      "tracemax:\t 24386.93668932966 \t 2964.8019107100804\n",
      "tracedev:\t 5346.850902610064 \t 370.13774155459015\n",
      "padnum:\t 102.94 \t 11.422158915271416\n",
      "\n",
      "tuning4protons40-800p.h5\n",
      "length:\t 18.87368440489054 \t 1.4990224358945419\n",
      "width:\t 12.683014348534805 \t 1.7933288340398597\n",
      "depth:\t 6.903723122631925 \t 1.2875113059413072\n",
      "tracesum:\t 13395063.247521974 \t 61293.706679372925\n",
      "tracemax:\t 1230191.334242585 \t 142332.0396216959\n",
      "tracedev:\t 264801.84806440165 \t 16896.258140343893\n",
      "padnum:\t 107.8 \t 8.820199451676075\n",
      "\n",
      "tuning4protons41-800p.h5\n",
      "length:\t 18.40358685097785 \t 1.4909838973117078\n",
      "width:\t 12.145097405769281 \t 1.549537889337257\n",
      "depth:\t 6.820474459743464 \t 1.1478723978378929\n",
      "tracesum:\t 4551470.50439003 \t 20909.34704743389\n",
      "tracemax:\t 407992.5971368376 \t 48287.69152698532\n",
      "tracedev:\t 88744.24128898773 \t 5834.485528607452\n",
      "padnum:\t 105.22 \t 9.898031137966948\n",
      "\n",
      "tuning4protons42-800p.h5\n",
      "length:\t 15.337079046988825 \t 1.0817605700214887\n",
      "width:\t 9.538987411727629 \t 1.0491552404065143\n",
      "depth:\t 4.515121794316542 \t 1.223993554903155\n",
      "tracesum:\t 267175.1681973908 \t 2150.349087576667\n",
      "tracemax:\t 22552.80716951438 \t 2888.043618792743\n",
      "tracedev:\t 5033.283971489483 \t 369.87441990315756\n",
      "padnum:\t 98.7 \t 13.21756716013401\n",
      "\n",
      "tuning4protons43-800p.h5\n",
      "length:\t 16.027556628949 \t 1.33952283406795\n",
      "width:\t 10.149170182635729 \t 1.2321107374631193\n",
      "depth:\t 3.3977746830507685 \t 0.6406599872423937\n",
      "tracesum:\t 1462879.4724217623 \t 16979.130635098074\n",
      "tracemax:\t 55087.55631062164 \t 1228.9213215715456\n",
      "tracedev:\t 17175.076777120783 \t 305.20811948735087\n",
      "padnum:\t 93.02 \t 0.5886685079439004\n",
      "\n",
      "tuning4protons44-800p.h5\n",
      "length:\t 18.396903981147663 \t 1.6090858107930623\n",
      "width:\t 12.248516453648573 \t 1.6398795874797711\n",
      "depth:\t 5.702620612683965 \t 0.9444376527108913\n",
      "tracesum:\t 21737222.43935358 \t 319425.7470136368\n",
      "tracemax:\t 571565.9229696634 \t 7319.896954177973\n",
      "tracedev:\t 227100.63367680917 \t 3559.857634973817\n",
      "padnum:\t 95.48 \t 0.646497628513415\n",
      "\n",
      "tuning4protons45-800p.h5\n",
      "length:\t 15.022647008851347 \t 1.374124110405843\n",
      "width:\t 8.718460720877214 \t 0.9295626917530605\n",
      "depth:\t 4.129738660515394 \t 1.0102525739581907\n",
      "tracesum:\t 350036.46583787166 \t 2207.354801288434\n",
      "tracemax:\t 30951.03497402792 \t 3791.247431187266\n",
      "tracedev:\t 6771.729599056492 \t 469.58082186735265\n",
      "padnum:\t 103.7 \t 10.993968661897101\n",
      "\n",
      "tuning4protons46-800p.h5\n",
      "length:\t 18.405298353565502 \t 1.5412811334601018\n",
      "width:\t 12.152745538640623 \t 1.4748174623359684\n",
      "depth:\t 5.794868076628043 \t 0.9386011640411795\n",
      "tracesum:\t 35045602.038182765 \t 611829.2128304332\n",
      "tracemax:\t 1165836.7282113773 \t 23348.146330883563\n",
      "tracedev:\t 386233.8118101519 \t 6737.98339554344\n",
      "padnum:\t 93.4 \t 0.7284313590846836\n",
      "\n",
      "tuning4protons47-800p.h5\n",
      "length:\t 18.981701811491718 \t 1.5016976362211714\n",
      "width:\t 12.852260669006405 \t 1.6205044535906015\n",
      "depth:\t 5.82436990390415 \t 1.026800373669377\n",
      "tracesum:\t 24552953.598295998 \t 188978.0842571514\n",
      "tracemax:\t 998696.5658434618 \t 24727.371959623048\n",
      "tracedev:\t 301891.41427343496 \t 5587.843683993989\n",
      "padnum:\t 91.02 \t 0.9581018649775551\n",
      "\n",
      "tuning4protons48-800p.h5\n",
      "length:\t 15.491411334545008 \t 1.2293881235566502\n",
      "width:\t 9.391601897801351 \t 1.050061249732107\n",
      "depth:\t 4.606751335393374 \t 1.0179813191163813\n",
      "tracesum:\t 178185.23755350127 \t 1200.1574232362486\n",
      "tracemax:\t 15749.376101296368 \t 1907.6987820754553\n",
      "tracedev:\t 3447.6017625268582 \t 235.7608955574765\n",
      "padnum:\t 103.66 \t 11.107287550734153\n",
      "\n",
      "tuning4protons49-800p.h5\n",
      "length:\t 18.713805465786013 \t 1.7032870928495978\n",
      "width:\t 12.461907125751322 \t 1.4672857991082393\n",
      "depth:\t 7.850700353074903 \t 1.5555043374669724\n",
      "tracesum:\t 16242481.06201782 \t 84606.49607702956\n",
      "tracemax:\t 1738775.1611537756 \t 275390.8525512342\n",
      "tracedev:\t 348208.41679132974 \t 29219.060399785063\n",
      "padnum:\t 80.84 \t 14.982111782702322\n",
      "\n",
      "tuning4protons5-800p.h5\n",
      "length:\t 18.780254223835566 \t 1.4803626501219092\n",
      "width:\t 12.818425005128962 \t 1.6047173850633154\n",
      "depth:\t 6.704169073473764 \t 1.1377093355579186\n",
      "tracesum:\t 9179518.77116164 \t 57945.50299806608\n",
      "tracemax:\t 867440.9786081302 \t 99386.54502435811\n",
      "tracedev:\t 184456.77690874596 \t 11717.644917145248\n",
      "padnum:\t 110.44 \t 5.739800181404312\n",
      "\n",
      "tuning4protons50-800p.h5\n",
      "length:\t 17.80254332863339 \t 1.4294367244064166\n",
      "width:\t 11.634088381845489 \t 1.5480762363913407\n",
      "depth:\t 6.166601437018548 \t 1.1279889856956566\n",
      "tracesum:\t 947317.8447673168 \t 5634.050296312636\n",
      "tracemax:\t 87733.67395915781 \t 10121.836164325303\n",
      "tracedev:\t 18817.973124829357 \t 1221.1772183599735\n",
      "padnum:\t 108.28 \t 8.1617325091564\n",
      "\n",
      "tuning4protons51-800p.h5\n",
      "length:\t 18.598445272211944 \t 1.6213397259012277\n",
      "width:\t 12.669160515323917 \t 1.4997533878750091\n",
      "depth:\t 6.129101571761758 \t 0.9848327343381679\n",
      "tracesum:\t 17551795.233292498 \t 89511.99977836834\n",
      "tracemax:\t 1134165.545608178 \t 67340.6524375591\n",
      "tracedev:\t 284684.6541503433 \t 10140.598476291103\n",
      "padnum:\t 100.22 \t 6.590933785380134\n",
      "\n",
      "tuning4protons52-800p.h5\n",
      "length:\t 14.379790188422767 \t 1.2090169616313184\n",
      "width:\t 8.431834319342576 \t 0.9411562126723186\n",
      "depth:\t 2.4652414451290587 \t 0.4299896124779508\n",
      "tracesum:\t 283731.946943188 \t 2804.268424457001\n",
      "tracemax:\t 13579.620964694263 \t 449.03759076011124\n",
      "tracedev:\t 3856.326997550992 \t 92.93761686857543\n",
      "padnum:\t 79.06 \t 4.423545535205986\n",
      "\n",
      "tuning4protons53-800p.h5\n",
      "length:\t 15.814225775543337 \t 1.1785307921453954\n",
      "width:\t 9.73761219708218 \t 1.1483567531478875\n",
      "depth:\t 4.351330193196995 \t 1.0046205965130537\n",
      "tracesum:\t 447944.6925425895 \t 2763.8771947213936\n",
      "tracemax:\t 41953.98515607409 \t 4859.303727869229\n",
      "tracedev:\t 8954.157489364787 \t 585.6405406271788\n",
      "padnum:\t 109.42 \t 6.934356936475724\n",
      "\n",
      "tuning4protons54-800p.h5\n",
      "length:\t 18.442215222312942 \t 1.6384337915248042\n",
      "width:\t 12.048005252014967 \t 1.4389341591235303\n",
      "depth:\t 5.9471945495005745 \t 0.9438726052557941\n",
      "tracesum:\t 627138839.6802223 \t 11255110.561605986\n",
      "tracemax:\t 18842433.80986633 \t 382725.5028458496\n",
      "tracedev:\t 6652640.13527078 \t 125900.04262436074\n",
      "padnum:\t 94.74 \t 0.5996597674804388\n",
      "\n",
      "tuning4protons55-800p.h5\n",
      "length:\t 18.962829105229805 \t 1.468212232389157\n",
      "width:\t 12.646227582189361 \t 1.5582853255447118\n",
      "depth:\t 7.46320789832526 \t 1.1930291038902985\n",
      "tracesum:\t 2726873.9153743475 \t 16025.527318671326\n",
      "tracemax:\t 280712.21692392346 \t 43603.73601477448\n",
      "tracedev:\t 57276.62579675668 \t 4823.398535981756\n",
      "padnum:\t 88.02 \t 17.028775166566426\n",
      "\n",
      "tuning4protons56-800p.h5\n",
      "length:\t 18.82089307423704 \t 1.4935851996978562\n",
      "width:\t 12.681113083821886 \t 1.6592148194677923\n",
      "depth:\t 6.744516676746949 \t 1.1523906311089602\n",
      "tracesum:\t 8214686.964802137 \t 50682.957850033454\n",
      "tracemax:\t 780885.5097302374 \t 88088.39258122214\n",
      "tracedev:\t 165610.04294700726 \t 10405.804915530114\n",
      "padnum:\t 110.6 \t 4.9363292980488565\n",
      "\n",
      "tuning4protons57-800p.h5\n",
      "length:\t 18.79139690005552 \t 1.6178636477130102\n",
      "width:\t 12.604209484771387 \t 1.6969572470978407\n",
      "depth:\t 7.031589292552237 \t 1.2983041885863875\n",
      "tracesum:\t 25353862.366822258 \t 120103.9518792214\n",
      "tracemax:\t 2287018.0170113132 \t 266791.7582833194\n",
      "tracedev:\t 496306.74249398283 \t 32208.71019054522\n",
      "padnum:\t 107.08 \t 8.282856650076367\n",
      "\n",
      "tuning4protons58-800p.h5\n",
      "length:\t 18.39721686340421 \t 1.4661327418001373\n",
      "width:\t 12.729263544084194 \t 1.5837954995719277\n",
      "depth:\t 7.008590325330322 \t 1.324052971444153\n",
      "tracesum:\t 6273710.695802151 \t 37596.253084331125\n",
      "tracemax:\t 562843.379111029 \t 65500.30767420614\n",
      "tracedev:\t 122404.46439726156 \t 7953.279493385657\n",
      "padnum:\t 105.92 \t 10.074903149380035\n",
      "\n",
      "tuning4protons59-800p.h5\n",
      "length:\t 18.82302688797362 \t 1.582330164966048\n",
      "width:\t 12.635088474524956 \t 1.6427723585978549\n",
      "depth:\t 5.88789591617592 \t 1.02484797350835\n",
      "tracesum:\t 39839994.503870584 \t 270453.9292126295\n",
      "tracemax:\t 1637489.373315263 \t 35397.182956697\n",
      "tracedev:\t 493088.74280022294 \t 7831.6537784393695\n",
      "padnum:\t 90.64 \t 0.9847821679779477\n",
      "\n",
      "tuning4protons6-800p.h5\n",
      "length:\t 18.734063072574305 \t 1.4994539839368788\n",
      "width:\t 12.759508021214822 \t 1.6306284626292338\n",
      "depth:\t 6.914961678154135 \t 1.1820316212711264\n",
      "tracesum:\t 13222549.286197668 \t 61180.83765494151\n",
      "tracemax:\t 1232825.0687044072 \t 141261.00626276486\n",
      "tracedev:\t 263685.84814305895 \t 16758.67136515038\n",
      "padnum:\t 108.62 \t 7.930540296080407\n",
      "\n",
      "tuning4protons60-800p.h5\n",
      "length:\t 18.705202280129352 \t 1.5210689261642494\n",
      "width:\t 12.467433542088067 \t 1.5836431581729709\n",
      "depth:\t 6.757754672915901 \t 1.0947706350245947\n",
      "tracesum:\t 31572477.99384799 \t 159453.42370468844\n",
      "tracemax:\t 3025280.5177399814 \t 338359.0416780265\n",
      "tracedev:\t 639415.1420820795 \t 39858.43419028568\n",
      "padnum:\t 111.08 \t 4.561775522575322\n",
      "\n",
      "tuning4protons61-800p.h5\n",
      "length:\t 15.147471420459773 \t 1.2692783085174724\n",
      "width:\t 9.00507391284205 \t 0.9982744135629444\n",
      "depth:\t 3.8375403388958618 \t 0.8636621635557061\n",
      "tracesum:\t 459227.31734225794 \t 2759.738394894885\n",
      "tracemax:\t 43876.356067251174 \t 4986.856645194923\n",
      "tracedev:\t 9284.827626422724 \t 594.2027638604382\n",
      "padnum:\t 110.92 \t 5.480354524507125\n",
      "\n",
      "tuning4protons62-800p.h5\n",
      "length:\t 16.60069746702728 \t 1.346334333541628\n",
      "width:\t 10.429253118074575 \t 1.2038939992383653\n",
      "depth:\t 6.139998393698082 \t 1.2449515488909464\n",
      "tracesum:\t 425615.3011967616 \t 2337.5075467963024\n",
      "tracemax:\t 42068.80951417664 \t 6273.980942165155\n",
      "tracedev:\t 8745.495947370744 \t 707.2739620645473\n",
      "padnum:\t 89.16 \t 16.401045262857053\n",
      "\n",
      "tuning4protons63-800p.h5\n",
      "length:\t 15.420787222626783 \t 1.06052837925301\n",
      "width:\t 9.474025526545983 \t 0.993536217119383\n",
      "depth:\t 4.589878253236673 \t 0.9989082842953955\n",
      "tracesum:\t 256337.2975436442 \t 1961.7806812847027\n",
      "tracemax:\t 21881.83095283293 \t 2766.0335951769353\n",
      "tracedev:\t 4861.099876916903 \t 350.51986790284695\n",
      "padnum:\t 99.98 \t 12.385788432798327\n",
      "\n",
      "tuning4protons64-800p.h5\n",
      "length:\t 14.482890250412822 \t 1.0593357925081286\n",
      "width:\t 8.299921047842188 \t 0.881511122331811\n",
      "depth:\t 2.9174130583269005 \t 0.6494022467156926\n",
      "tracesum:\t 308829.3595124694 \t 1850.8505866429305\n",
      "tracemax:\t 24883.275896121082 \t 2216.59449185866\n",
      "tracedev:\t 5679.8025660040985 \t 293.67911674855435\n",
      "padnum:\t 109.06 \t 4.3208559242778914\n",
      "\n",
      "tuning4protons65-800p.h5\n",
      "length:\t 13.712538787916017 \t 1.0538413524120254\n",
      "width:\t 7.492789477475396 \t 0.7550414413155374\n",
      "depth:\t 3.0633910594817078 \t 0.7263988872293254\n",
      "tracesum:\t 97542.44853410538 \t 1127.8758566759473\n",
      "tracemax:\t 8710.99703367764 \t 1090.6249356893704\n",
      "tracedev:\t 1898.3714051135678 \t 139.27613233995066\n",
      "padnum:\t 104.22 \t 10.825687516462022\n",
      "\n",
      "tuning4protons66-800p.h5\n",
      "length:\t 18.546219655573847 \t 1.7113989560859229\n",
      "width:\t 12.348089003240878 \t 1.5090001406507314\n",
      "depth:\t 6.854899594777266 \t 1.113279980360496\n",
      "tracesum:\t 13533513.76700696 \t 68850.50798840309\n",
      "tracemax:\t 1249300.4379103777 \t 142580.42642047768\n",
      "tracedev:\t 268363.2950725952 \t 17086.65567174822\n",
      "padnum:\t 107.88 \t 8.240368527522769\n",
      "\n",
      "tuning4protons67-800p.h5\n",
      "length:\t 13.72375445990909 \t 0.9924663714874069\n",
      "width:\t 7.68316458806697 \t 0.7949868555542131\n",
      "depth:\t 3.0537179399409236 \t 0.7518370317199724\n",
      "tracesum:\t 118622.44536212106 \t 1260.3177588624353\n",
      "tracemax:\t 10685.96355936964 \t 1317.3837441502606\n",
      "tracedev:\t 2319.861317498216 \t 167.25788829407978\n",
      "padnum:\t 105.54 \t 10.01674108883804\n",
      "\n",
      "tuning4protons68-800p.h5\n",
      "length:\t 16.569210065237073 \t 1.27391233313894\n",
      "width:\t 10.670686762219482 \t 1.276761346665182\n",
      "depth:\t 3.9983769150525448 \t 0.9011254571556155\n",
      "tracesum:\t 814699.7285172456 \t 5001.650894641885\n",
      "tracemax:\t 60070.81603369159 \t 4661.600132022449\n",
      "tracedev:\t 14248.560377456366 \t 648.9937933810639\n",
      "padnum:\t 106.56 \t 4.549770122024332\n",
      "\n",
      "tuning4protons69-800p.h5\n",
      "length:\t 18.690071678464488 \t 1.6555641714340756\n",
      "width:\t 12.243851683260086 \t 1.5378018193688865\n",
      "depth:\t 5.775907743398154 \t 0.9804879227008949\n",
      "tracesum:\t 55666976.5936623 \t 261535.90349278797\n",
      "tracemax:\t 2994133.72590269 \t 101941.07177872739\n",
      "tracedev:\t 811589.5569664086 \t 17856.736169897515\n",
      "padnum:\t 83.6 \t 6.9810238416403525\n",
      "\n",
      "tuning4protons7-800p.h5\n",
      "length:\t 14.818289742864925 \t 1.2254626830802124\n",
      "width:\t 8.634817510244222 \t 1.0111891218460292\n",
      "depth:\t 2.767594145869229 \t 0.4980336203912294\n",
      "tracesum:\t 517585.48335838295 \t 7481.396521277925\n",
      "tracemax:\t 12968.220645798952 \t 226.28057582565702\n",
      "tracedev:\t 5378.365009661526 \t 80.6820098123716\n",
      "padnum:\t 95.44 \t 0.7045044574821687\n",
      "\n",
      "tuning4protons70-800p.h5\n",
      "length:\t 19.031119867032906 \t 1.622174216892878\n",
      "width:\t 12.970315075007926 \t 1.5938593453622267\n",
      "depth:\t 5.858071065006186 \t 1.0092545529882084\n",
      "tracesum:\t 40499554.28828937 \t 754125.3646224552\n",
      "tracemax:\t 1240598.163683676 \t 24541.453792630495\n",
      "tracedev:\t 433307.3632108362 \t 7926.934984121074\n",
      "padnum:\t 94.36 \t 0.7216760537322908\n",
      "\n",
      "tuning4protons71-800p.h5\n",
      "length:\t 15.247792693667773 \t 1.2345238365994793\n",
      "width:\t 9.129091600389922 \t 1.0697436709024428\n",
      "depth:\t 3.4344939907279595 \t 0.6670786622049556\n",
      "tracesum:\t 403970.97557092726 \t 2420.314551782594\n",
      "tracemax:\t 28635.22233097935 \t 2101.619113367006\n",
      "tracedev:\t 6910.318468899852 \t 302.9491078389653\n",
      "padnum:\t 104.6 \t 5.989787226639037\n",
      "\n",
      "tuning4protons72-800p.h5\n",
      "length:\t 14.164837795503244 \t 1.0501809830562394\n",
      "width:\t 7.808646390095117 \t 0.7968237293547337\n",
      "depth:\t 3.482667202665398 \t 0.9183067322998535\n",
      "tracesum:\t 146812.7135133049 \t 1370.574099348453\n",
      "tracemax:\t 13222.195743710457 \t 1579.041652229099\n",
      "tracedev:\t 2870.7148109993404 \t 195.9009115636848\n",
      "padnum:\t 105.9 \t 9.990301419325625\n",
      "\n",
      "tuning4protons73-800p.h5\n",
      "length:\t 18.842864762097708 \t 1.535404620219674\n",
      "width:\t 12.767620233847344 \t 1.6477775148231657\n",
      "depth:\t 5.878223806304634 \t 0.9024479285561411\n",
      "tracesum:\t 38182618.676877 \t 665997.4102942294\n",
      "tracemax:\t 1307425.6294896244 \t 29504.84918977981\n",
      "tracedev:\t 426362.39276202954 \t 8152.592072618192\n",
      "padnum:\t 93.56 \t 0.6439672954048369\n",
      "\n",
      "tuning4protons74-800p.h5\n",
      "length:\t 19.538834472581375 \t 1.6125208763969325\n",
      "width:\t 13.627106062010148 \t 1.7779578316939093\n",
      "depth:\t 6.035049584465138 \t 0.8911594698012912\n",
      "tracesum:\t 191777793.37606153 \t 3799496.0506103593\n",
      "tracemax:\t 6112034.743996389 \t 125840.55333169266\n",
      "tracedev:\t 2076426.524587842 \t 38524.3941973131\n",
      "padnum:\t 93.74 \t 0.5272183453498839\n",
      "\n",
      "tuning4protons75-800p.h5\n",
      "length:\t 18.522120291820737 \t 1.6234927542792426\n",
      "width:\t 12.308755927855291 \t 1.5257482341882407\n",
      "depth:\t 5.733244458539954 \t 0.9882103360477414\n",
      "tracesum:\t 12232701.501853194 \t 76234.43543963437\n",
      "tracemax:\t 682475.3524766819 \t 28259.830579745372\n",
      "tracedev:\t 182162.48825896278 \t 4766.858453491385\n",
      "padnum:\t 86.88 \t 7.888612303924731\n",
      "\n",
      "tuning4protons76-800p.h5\n",
      "length:\t 18.86468179428339 \t 1.6102262987191536\n",
      "width:\t 12.797205620092566 \t 1.561043023234581\n",
      "depth:\t 6.253744578460128 \t 1.0053770047976134\n",
      "tracesum:\t 59014099.19674878 \t 353880.7044906908\n",
      "tracemax:\t 2436725.692890666 \t 62442.53181721553\n",
      "tracedev:\t 732108.7732633123 \t 13194.729622479255\n",
      "padnum:\t 90.58 \t 1.2791897946013502\n",
      "\n",
      "tuning4protons77-800p.h5\n",
      "length:\t 15.865207725523508 \t 1.1614212198965173\n",
      "width:\t 9.736982425000512 \t 1.1846967289823382\n",
      "depth:\t 4.823404944412928 \t 1.0906300116958096\n",
      "tracesum:\t 659997.2916758083 \t 3396.7977302652125\n",
      "tracemax:\t 59697.88681017191 \t 7044.3601075087745\n",
      "tracedev:\t 12937.19761783312 \t 855.1798113637201\n",
      "padnum:\t 106.36 \t 9.824500818185657\n",
      "\n",
      "tuning4protons78-800p.h5\n",
      "length:\t 18.827011882150728 \t 1.4833488532652388\n",
      "width:\t 12.662166796120543 \t 1.5332753578391871\n",
      "depth:\t 7.108041951600028 \t 1.2302495406862974\n",
      "tracesum:\t 6173834.674379073 \t 36129.76291528989\n",
      "tracemax:\t 550660.481559471 \t 64628.61152767846\n",
      "tracedev:\t 120061.84118478818 \t 7952.422668667089\n",
      "padnum:\t 105.3 \t 10.298107612962843\n",
      "\n",
      "tuning4protons79-800p.h5\n",
      "length:\t 15.674532604360861 \t 1.2197179048317142\n",
      "width:\t 9.428563768140014 \t 1.1073344180613443\n",
      "depth:\t 2.930447379554634 \t 0.5509862352636842\n",
      "tracesum:\t 810455.9529304798 \t 5225.844344832605\n",
      "tracemax:\t 38763.632307148684 \t 1015.763754950646\n",
      "tracedev:\t 11017.394895879399 \t 206.52749674696616\n",
      "padnum:\t 78.08 \t 4.270640156573576\n",
      "\n",
      "tuning4protons8-800p.h5\n",
      "length:\t 14.951324807703484 \t 1.250066033807091\n",
      "width:\t 9.102769867645263 \t 1.037225339031491\n",
      "depth:\t 2.8738976216527536 \t 0.5698325857700332\n",
      "tracesum:\t 545577.6448459653 \t 10317.277183387572\n",
      "tracemax:\t 18930.14204906143 \t 472.2063419037229\n",
      "tracedev:\t 6129.926374829538 \t 130.91198324866215\n",
      "padnum:\t 93.46 \t 0.5788799882672803\n",
      "\n",
      "tuning4protons80-800p.h5\n",
      "length:\t 14.241554611121792 \t 1.1323799878677603\n",
      "width:\t 7.714054520398778 \t 0.8951768950671437\n",
      "depth:\t 2.706342339440226 \t 0.48242292764795663\n",
      "tracesum:\t 258921.2768863304 \t 1637.204725889251\n",
      "tracemax:\t 17766.397414411702 \t 1120.3657986132828\n",
      "tracedev:\t 4348.070061546396 \t 163.0072277134603\n",
      "padnum:\t 104.34 \t 4.497663792663557\n",
      "\n",
      "tuning4protons81-800p.h5\n",
      "length:\t 16.642547117915708 \t 1.2975619187139082\n",
      "width:\t 10.916125065397937 \t 1.2496216501048574\n",
      "depth:\t 4.305087437611576 \t 0.9501696518165266\n",
      "tracesum:\t 504592.88524147996 \t 2907.3331500352188\n",
      "tracemax:\t 40424.169450163885 \t 3400.1222517145197\n",
      "tracedev:\t 9248.24846191036 \t 444.01500976140835\n",
      "padnum:\t 109.0 \t 3.979539507766891\n",
      "\n",
      "tuning4protons82-800p.h5\n",
      "length:\t 18.795415078898703 \t 1.6634946160769086\n",
      "width:\t 12.807376504023916 \t 1.6066420078436245\n",
      "depth:\t 6.172353249777969 \t 0.9332458343938077\n",
      "tracesum:\t 35339823.967481844 \t 170073.55238245413\n",
      "tracemax:\t 1877138.7734707135 \t 73935.33146164326\n",
      "tracedev:\t 511082.8794439526 \t 12808.674705341758\n",
      "padnum:\t 81.52 \t 6.158584517996496\n",
      "\n",
      "tuning4protons83-800p.h5\n",
      "length:\t 18.64872462743987 \t 1.4653318205691186\n",
      "width:\t 12.48639840559838 \t 1.6781240587578887\n",
      "depth:\t 5.970971627642855 \t 0.9518461314208461\n",
      "tracesum:\t 82392097.94514054 \t 1534281.1868873767\n",
      "tracemax:\t 2654416.5840291292 \t 53572.165202299584\n",
      "tracedev:\t 896665.668208021 \t 15900.722710647207\n",
      "padnum:\t 93.54 \t 0.542481072744215\n",
      "\n",
      "tuning4protons84-800p.h5\n",
      "length:\t 15.225280286638437 \t 1.1694095612251028\n",
      "width:\t 8.940405289779687 \t 0.9408434727572089\n",
      "depth:\t 4.2901760594967815 \t 0.9867218174959365\n",
      "tracesum:\t 484635.72374780645 \t 3511.698825205078\n",
      "tracemax:\t 42738.215997263185 \t 5162.98873392933\n",
      "tracedev:\t 9363.4625709583 \t 643.7941996799083\n",
      "padnum:\t 103.8 \t 11.093296376181243\n",
      "\n",
      "tuning4protons85-800p.h5\n",
      "length:\t 18.77772622460059 \t 1.584268054269347\n",
      "width:\t 12.773836652292935 \t 1.6227541365577536\n",
      "depth:\t 7.194327155605012 \t 1.2423912290764705\n",
      "tracesum:\t 21186180.101863164 \t 116651.4612988817\n",
      "tracemax:\t 1902937.1692117185 \t 221378.59252914676\n",
      "tracedev:\t 413651.3397055979 \t 26833.314288513364\n",
      "padnum:\t 106.18 \t 9.228814680562355\n",
      "\n",
      "tuning4protons86-800p.h5\n",
      "length:\t 14.323451457042918 \t 1.0622282112659638\n",
      "width:\t 8.461039146949219 \t 0.8264756454007176\n",
      "depth:\t 3.652639347166616 \t 0.835076119165167\n",
      "tracesum:\t 152914.0973394878 \t 1516.2644322895032\n",
      "tracemax:\t 13525.897703710447 \t 1674.7411008024324\n",
      "tracedev:\t 2959.79258346136 \t 211.8501727234291\n",
      "padnum:\t 103.92 \t 11.351238357329034\n",
      "\n",
      "tuning4protons87-800p.h5\n",
      "length:\t 18.993255640014166 \t 1.649523243510567\n",
      "width:\t 12.964265911796005 \t 1.5441965801299573\n",
      "depth:\t 6.306595289047493 \t 0.8406720823277173\n",
      "tracesum:\t 968126402.081329 \t 19914856.913638745\n",
      "tracemax:\t 33292450.64509647 \t 895965.2471246278\n",
      "tracedev:\t 10832602.40945003 \t 246326.2610228485\n",
      "padnum:\t 93.5 \t 0.5439837932759934\n",
      "\n",
      "tuning4protons88-800p.h5\n",
      "length:\t 18.93386784670525 \t 1.5703489581879053\n",
      "width:\t 12.960685254059998 \t 1.6115891135524611\n",
      "depth:\t 7.041187129479584 \t 1.1232476895758745\n",
      "tracesum:\t 13816106.772923606 \t 62940.822106353065\n",
      "tracemax:\t 1232476.4854405306 \t 143446.50289727614\n",
      "tracedev:\t 268657.2683195893 \t 17426.801263971163\n",
      "padnum:\t 105.2 \t 10.415843504890391\n",
      "\n",
      "tuning4protons89-800p.h5\n",
      "length:\t 19.065867736341215 \t 1.6117722446987075\n",
      "width:\t 12.813023924673791 \t 1.579431937701481\n",
      "depth:\t 6.875255995819239 \t 1.2204283640577362\n",
      "tracesum:\t 41641614.72961316 \t 224388.88569723716\n",
      "tracemax:\t 3901671.755523844 \t 442080.6561916932\n",
      "tracedev:\t 832839.1600888532 \t 52339.933784829416\n",
      "padnum:\t 109.06 \t 7.675590783617312\n",
      "\n",
      "tuning4protons9-800p.h5\n",
      "length:\t 17.867127761053286 \t 1.5165140897187326\n",
      "width:\t 11.334346946288811 \t 1.3524704928090747\n",
      "depth:\t 7.0518288093006944 \t 1.2929152788027007\n",
      "tracesum:\t 1292876.1531995744 \t 5470.269874778896\n",
      "tracemax:\t 134742.70012252426 \t 21154.51730074013\n",
      "tracedev:\t 27359.276745973173 \t 2279.5978930437286\n",
      "padnum:\t 83.96 \t 16.13205706988797\n",
      "\n",
      "tuning4protons90-800p.h5\n",
      "length:\t 19.348490610811588 \t 1.6243505178358237\n",
      "width:\t 13.506309439734398 \t 1.7548134631629482\n",
      "depth:\t 6.237863313803358 \t 0.9763937436459981\n",
      "tracesum:\t 989061552.4204128 \t 20446122.59877352\n",
      "tracemax:\t 32526695.472502705 \t 794286.2809232939\n",
      "tracedev:\t 10848444.075919142 \t 233003.70036130998\n",
      "padnum:\t 93.64 \t 0.8020382198638971\n",
      "\n",
      "tuning4protons91-800p.h5\n",
      "length:\t 15.189883129483293 \t 1.3562131984932413\n",
      "width:\t 9.039778111339299 \t 1.1099935050014902\n",
      "depth:\t 2.755698346529166 \t 0.5145440920069537\n",
      "tracesum:\t 552651.9023826763 \t 6070.1259585734415\n",
      "tracemax:\t 14036.028922582309 \t 213.01404645085822\n",
      "tracedev:\t 5724.968745800825 \t 77.13827006245337\n",
      "padnum:\t 95.36 \t 0.7216760537322908\n",
      "\n",
      "tuning4protons92-800p.h5\n",
      "length:\t 13.94822063100274 \t 1.0870830882757418\n",
      "width:\t 7.7745462617450105 \t 0.805706258602137\n",
      "depth:\t 3.204349022731121 \t 0.7418628136390504\n",
      "tracesum:\t 137997.20873438483 \t 1322.00827131679\n",
      "tracemax:\t 12534.1894092315 \t 1522.2776366369776\n",
      "tracedev:\t 2711.4565820961366 \t 189.71508302314058\n",
      "padnum:\t 106.86 \t 8.748200981239702\n",
      "\n",
      "tuning4protons93-800p.h5\n",
      "length:\t 16.027324290393217 \t 1.2047905588204273\n",
      "width:\t 9.945955729033399 \t 1.1658467116456444\n",
      "depth:\t 4.7371552582496985 \t 1.0630462566913752\n",
      "tracesum:\t 478960.21495286695 \t 2621.806241614368\n",
      "tracemax:\t 43573.63615026015 \t 5067.388865847799\n",
      "tracedev:\t 9417.964745305546 \t 615.5154325165438\n",
      "padnum:\t 107.26 \t 8.724373552155537\n",
      "\n",
      "tuning4protons94-800p.h5\n",
      "length:\t 19.07483569794676 \t 1.457765785607411\n",
      "width:\t 12.981133637650505 \t 1.6818205311026961\n",
      "depth:\t 7.135808882012433 \t 1.1860243908555612\n",
      "tracesum:\t 14635054.699711785 \t 93010.2877355626\n",
      "tracemax:\t 1333971.4574203328 \t 156687.69974836565\n",
      "tracedev:\t 288107.69790921686 \t 18854.40776375772\n",
      "padnum:\t 107.68 \t 8.421158968179316\n",
      "\n",
      "tuning4protons95-800p.h5\n",
      "length:\t 18.227319162717748 \t 1.6098172264805566\n",
      "width:\t 11.841571271167101 \t 1.4478304985078183\n",
      "depth:\t 5.876000715524726 \t 0.9750780592727415\n",
      "tracesum:\t 30809906.12074275 \t 172970.28937619066\n",
      "tracemax:\t 1578552.0254814008 \t 55893.541719791814\n",
      "tracedev:\t 436140.27399648324 \t 10092.57726550614\n",
      "padnum:\t 78.12 \t 3.946788929895144\n",
      "\n",
      "tuning4protons96-800p.h5\n",
      "length:\t 17.527644194907957 \t 1.5101210802333591\n",
      "width:\t 11.547342618393975 \t 1.4560560271160088\n",
      "depth:\t 4.514287697308594 \t 0.6526328808549163\n",
      "tracesum:\t 3445657.052079444 \t 30691.298515990315\n",
      "tracemax:\t 135337.93989670073 \t 2728.2130434368246\n",
      "tracedev:\t 41483.29675831117 \t 658.2347241760008\n",
      "padnum:\t 92.08 \t 0.6951728606055109\n",
      "\n",
      "tuning4protons97-800p.h5\n",
      "length:\t 15.867952133741847 \t 1.1745324496979423\n",
      "width:\t 9.71601369881261 \t 1.1962612719855252\n",
      "depth:\t 4.026312330370892 \t 0.8923274923969388\n",
      "tracesum:\t 351381.63101392426 \t 1917.1066620377806\n",
      "tracemax:\t 34584.22001955218 \t 3825.020907361744\n",
      "tracedev:\t 7224.244998330579 \t 443.11792080768663\n",
      "padnum:\t 111.8 \t 3.6196741312342646\n",
      "\n",
      "tuning4protons98-800p.h5\n",
      "length:\t 18.759697597624207 \t 1.6642301680681981\n",
      "width:\t 12.720184138212426 \t 1.5976788898464163\n",
      "depth:\t 6.312974167771655 \t 1.0563944965824477\n",
      "tracesum:\t 23367762.573894512 \t 122727.33794877515\n",
      "tracemax:\t 1509518.4941367102 \t 88011.22133208926\n",
      "tracedev:\t 378908.37064341555 \t 13189.896922200167\n",
      "padnum:\t 100.1 \t 6.845973045431563\n",
      "\n",
      "tuning4protons99-800p.h5\n",
      "length:\t nan \t nan\n",
      "width:\t nan \t nan\n",
      "depth:\t nan \t nan\n",
      "tracesum:\t nan \t nan\n",
      "tracemax:\t nan \t nan\n",
      "tracedev:\t nan \t nan\n",
      "padnum:\t nan \t nan\n",
      "\n"
     ]
    }
   ],
   "source": [
    "for file in file_names:\n",
    "    print(file)\n",
    "    print('length:\\t', output_df[output_df['file'] == file]['length'].mean(),'\\t', output_df[output_df['file'] == file]['length'].std())\n",
    "    print('width:\\t', output_df[output_df['file'] == file]['width'].mean(),'\\t', output_df[output_df['file'] == file]['width'].std())\n",
    "    print('depth:\\t', output_df[output_df['file'] == file]['depth'].mean(),'\\t', output_df[output_df['file'] == file]['depth'].std())\n",
    "    print('tracesum:\\t', output_df[output_df['file'] == file]['tracesum'].mean(),'\\t', output_df[output_df['file'] == file]['tracesum'].std())\n",
    "    print('tracemax:\\t', output_df[output_df['file'] == file]['tracemax'].mean(),'\\t', output_df[output_df['file'] == file]['tracemax'].std())\n",
    "    print('tracedev:\\t', output_df[output_df['file'] == file]['tracedev'].mean(),'\\t', output_df[output_df['file'] == file]['tracedev'].std())\n",
    "    print('padnum:\\t', output_df[output_df['file'] == file]['padnum'].mean(),'\\t', output_df[output_df['file'] == file]['padnum'].std())\n",
    "    print()"
   ]
  },
  {
   "cell_type": "code",
   "execution_count": 9,
   "metadata": {},
   "outputs": [],
   "source": [
    "output_df.to_csv('event summary.csv', index=False)"
   ]
  },
  {
   "cell_type": "code",
   "execution_count": 10,
   "metadata": {},
   "outputs": [],
   "source": [
    "output_df = pd.read_csv('event summary.csv')\n",
    "file_names = output_df['file'].unique() \n",
    "\n",
    "run_df = pd.DataFrame(columns=['file','length', 'width', 'depth', 'tracesum', 'tracemax', 'tracedev', 'padnum'])\n",
    "\n",
    "reference_run = '273_800p.h5'\n",
    "\n",
    "for file in file_names:\n",
    "    run_df = run_df.append({'file' : file, \n",
    "                            'length' : output_df[output_df['file'] == file]['length'].mean(), \n",
    "                            'width' : output_df[output_df['file'] == file]['width'].mean(), \n",
    "                            'depth' : output_df[output_df['file'] == file]['depth'].mean(), \n",
    "                            'tracesum' : output_df[output_df['file'] == file]['tracesum'].mean(), \n",
    "                            'tracemax' : output_df[output_df['file'] == file]['tracemax'].mean(), \n",
    "                            'tracedev' : output_df[output_df['file'] == file]['tracedev'].mean(), \n",
    "                            'padnum' : output_df[output_df['file'] == file]['padnum'].mean()}\n",
    "                           ,ignore_index = True)\n",
    "\n",
    "run_df['length'] = (run_df['length'] - output_df[output_df['file'] == reference_run]['length'].mean()) / output_df[output_df['file'] == reference_run]['length'].std()\n",
    "run_df['width'] = (run_df['width'] - output_df[output_df['file'] == reference_run]['width'].mean()) / output_df[output_df['file'] == reference_run]['width'].std()\n",
    "run_df['depth'] = (run_df['depth'] - output_df[output_df['file'] == reference_run]['depth'].mean()) / output_df[output_df['file'] == reference_run]['depth'].std()\n",
    "run_df['tracesum'] = (run_df['tracesum'] - output_df[output_df['file'] == reference_run]['tracesum'].mean()) / output_df[output_df['file'] == reference_run]['tracesum'].std()\n",
    "run_df['tracemax'] = (run_df['tracemax'] - output_df[output_df['file'] == reference_run]['tracemax'].mean()) / output_df[output_df['file'] == reference_run]['tracemax'].std()\n",
    "run_df['tracedev'] = (run_df['tracedev'] - output_df[output_df['file'] == reference_run]['tracedev'].mean()) / output_df[output_df['file'] == reference_run]['tracedev'].std()\n",
    "run_df['padnum'] = (run_df['padnum'] - output_df[output_df['file'] == reference_run]['padnum'].mean()) / output_df[output_df['file'] == reference_run]['padnum'].std()\n",
    "\n",
    "# sum of absolute deviations from reference run\n",
    "run_df['Deviation'] = abs(run_df['length']) + abs(run_df['width']) + abs(run_df['depth']) + abs(run_df['tracesum']) + abs(run_df['tracemax']) + abs(run_df['tracedev']) + abs(run_df['padnum'])"
   ]
  },
  {
   "cell_type": "code",
   "execution_count": 11,
   "metadata": {},
   "outputs": [],
   "source": [
    "run_df = run_df.sort_values(by=['Deviation'])\n",
    "best_run_df = run_df.head(10)\n",
    "\n",
    "# load in parameters for best runs\n",
    "params = pd.read_csv('C:\\\\Users\\\\Adam\\\\OneDrive - Tenundra, Inc\\\\Desktop\\\\Programming\\\\GADGET2\\\\simInput\\\\parameters.csv')\n",
    "\n",
    "best_params = params[params['Sim'].isin(best_run_df['file'].str.replace('.h5',''))]"
   ]
  },
  {
   "cell_type": "code",
   "execution_count": 12,
   "metadata": {},
   "outputs": [
    {
     "name": "stdout",
     "output_type": "stream",
     "text": [
      "Current Best Fit Parameters\n",
      "Threshold \t 19.333333333333332 \t 0.20689655172413796 \n",
      " 20.22 \t 0.22000685056272254 \n",
      "\n",
      "EIonize \t 35.455555555555556 \t 0.08547947626228636 \n",
      " 34.55900000000001 \t 0.08838483395919437 \n",
      "\n",
      "Fano \t 0.2233333333333333 \t 0.10012244675372196 \n",
      " 0.22759999999999997 \t 0.11584574849131873 \n",
      "\n",
      "CoefL \t 0.00012588888888888887 \t 0.05897014329564015 \n",
      " 0.00012299 \t 0.09851221601341462 \n",
      "\n",
      "CoefT \t 0.0020011111111111115 \t 0.13349333973446637 \n",
      " 0.0021297 \t 0.09596127388770942 \n",
      "\n",
      "Gain \t 11000.0 \t 0.0 \n",
      " 291718.19 \t 1.425451898819468 \n",
      "\n",
      "GETGain \t 296.35555555555555 \t 0.24283393084643082 \n",
      " 154.832 \t 0.601944247976648 \n",
      "\n",
      "PeakingTime \t 793.1111111111111 \t 0.27654805267581956 \n",
      " 1693.07 \t 0.9203490594326739 \n",
      "\n"
     ]
    }
   ],
   "source": [
    "parameters = ['Threshold', 'EIonize', 'Fano', 'CoefL', 'CoefT', 'Gain', 'GETGain', 'PeakingTime']\n",
    "print('Current Best Fit Parameters')\n",
    "for p in parameters:\n",
    "    print(p, '\\t', best_params[p].mean(),'\\t', best_params[p].std()/best_params[p].mean(), '\\n', params[p].mean(),'\\t', params[p].std()/params[p].mean(), '\\n')"
   ]
  },
  {
   "cell_type": "code",
   "execution_count": 13,
   "metadata": {},
   "outputs": [
    {
     "name": "stdout",
     "output_type": "stream",
     "text": [
      "Full Run Deviation: 36126.17145979792 \t 3.448299613502808\n",
      "Best Run Deviation: 38.308746063991016 \t 0.6724752644174152\n"
     ]
    }
   ],
   "source": [
    "print('Full Run Deviation:', run_df['Deviation'].mean(), '\\t', run_df['Deviation'].std()/run_df['Deviation'].mean())\n",
    "print('Best Run Deviation:', best_run_df['Deviation'].mean(), '\\t', best_run_df['Deviation'].std()/best_run_df['Deviation'].mean())"
   ]
  },
  {
   "cell_type": "code",
   "execution_count": 14,
   "metadata": {},
   "outputs": [
    {
     "data": {
      "text/html": [
       "<div>\n",
       "<style scoped>\n",
       "    .dataframe tbody tr th:only-of-type {\n",
       "        vertical-align: middle;\n",
       "    }\n",
       "\n",
       "    .dataframe tbody tr th {\n",
       "        vertical-align: top;\n",
       "    }\n",
       "\n",
       "    .dataframe thead th {\n",
       "        text-align: right;\n",
       "    }\n",
       "</style>\n",
       "<table border=\"1\" class=\"dataframe\">\n",
       "  <thead>\n",
       "    <tr style=\"text-align: right;\">\n",
       "      <th></th>\n",
       "      <th>file</th>\n",
       "      <th>length</th>\n",
       "      <th>width</th>\n",
       "      <th>depth</th>\n",
       "      <th>tracesum</th>\n",
       "      <th>tracemax</th>\n",
       "      <th>tracedev</th>\n",
       "      <th>padnum</th>\n",
       "      <th>Deviation</th>\n",
       "    </tr>\n",
       "  </thead>\n",
       "  <tbody>\n",
       "    <tr>\n",
       "      <th>0</th>\n",
       "      <td>273_800p.h5</td>\n",
       "      <td>0.000000</td>\n",
       "      <td>0.000000</td>\n",
       "      <td>0.000000</td>\n",
       "      <td>0.000000</td>\n",
       "      <td>0.000000</td>\n",
       "      <td>0.000000</td>\n",
       "      <td>0.000000</td>\n",
       "      <td>0.000000</td>\n",
       "    </tr>\n",
       "    <tr>\n",
       "      <th>86</th>\n",
       "      <td>tuning4protons86-800p.h5</td>\n",
       "      <td>1.991843</td>\n",
       "      <td>2.753012</td>\n",
       "      <td>5.309485</td>\n",
       "      <td>-1.749948</td>\n",
       "      <td>-0.977748</td>\n",
       "      <td>-1.104682</td>\n",
       "      <td>3.508975</td>\n",
       "      <td>17.395693</td>\n",
       "    </tr>\n",
       "    <tr>\n",
       "      <th>71</th>\n",
       "      <td>tuning4protons72-800p.h5</td>\n",
       "      <td>1.555840</td>\n",
       "      <td>2.148411</td>\n",
       "      <td>4.942177</td>\n",
       "      <td>-6.258532</td>\n",
       "      <td>-1.057236</td>\n",
       "      <td>-1.329852</td>\n",
       "      <td>3.989066</td>\n",
       "      <td>21.281114</td>\n",
       "    </tr>\n",
       "    <tr>\n",
       "      <th>93</th>\n",
       "      <td>tuning4protons92-800p.h5</td>\n",
       "      <td>0.960394</td>\n",
       "      <td>2.116809</td>\n",
       "      <td>4.340735</td>\n",
       "      <td>-12.772701</td>\n",
       "      <td>-1.237309</td>\n",
       "      <td>-1.732423</td>\n",
       "      <td>4.221838</td>\n",
       "      <td>27.382208</td>\n",
       "    </tr>\n",
       "    <tr>\n",
       "      <th>15</th>\n",
       "      <td>tuning4protons21-800p.h5</td>\n",
       "      <td>2.059146</td>\n",
       "      <td>2.930679</td>\n",
       "      <td>4.326687</td>\n",
       "      <td>-12.319761</td>\n",
       "      <td>-1.114743</td>\n",
       "      <td>-1.577689</td>\n",
       "      <td>4.813465</td>\n",
       "      <td>29.142168</td>\n",
       "    </tr>\n",
       "  </tbody>\n",
       "</table>\n",
       "</div>"
      ],
      "text/plain": [
       "                        file    length     width     depth   tracesum  \\\n",
       "0                273_800p.h5  0.000000  0.000000  0.000000   0.000000   \n",
       "86  tuning4protons86-800p.h5  1.991843  2.753012  5.309485  -1.749948   \n",
       "71  tuning4protons72-800p.h5  1.555840  2.148411  4.942177  -6.258532   \n",
       "93  tuning4protons92-800p.h5  0.960394  2.116809  4.340735 -12.772701   \n",
       "15  tuning4protons21-800p.h5  2.059146  2.930679  4.326687 -12.319761   \n",
       "\n",
       "    tracemax  tracedev    padnum  Deviation  \n",
       "0   0.000000  0.000000  0.000000   0.000000  \n",
       "86 -0.977748 -1.104682  3.508975  17.395693  \n",
       "71 -1.057236 -1.329852  3.989066  21.281114  \n",
       "93 -1.237309 -1.732423  4.221838  27.382208  \n",
       "15 -1.114743 -1.577689  4.813465  29.142168  "
      ]
     },
     "execution_count": 14,
     "metadata": {},
     "output_type": "execute_result"
    }
   ],
   "source": [
    "best_run_df.head()"
   ]
  },
  {
   "cell_type": "code",
   "execution_count": 15,
   "metadata": {},
   "outputs": [
    {
     "data": {
      "text/html": [
       "<div>\n",
       "<style scoped>\n",
       "    .dataframe tbody tr th:only-of-type {\n",
       "        vertical-align: middle;\n",
       "    }\n",
       "\n",
       "    .dataframe tbody tr th {\n",
       "        vertical-align: top;\n",
       "    }\n",
       "\n",
       "    .dataframe thead th {\n",
       "        text-align: right;\n",
       "    }\n",
       "</style>\n",
       "<table border=\"1\" class=\"dataframe\">\n",
       "  <thead>\n",
       "    <tr style=\"text-align: right;\">\n",
       "      <th></th>\n",
       "      <th>file</th>\n",
       "      <th>length</th>\n",
       "      <th>width</th>\n",
       "      <th>depth</th>\n",
       "      <th>tracesum</th>\n",
       "      <th>tracemax</th>\n",
       "      <th>tracedev</th>\n",
       "      <th>padnum</th>\n",
       "      <th>Deviation</th>\n",
       "    </tr>\n",
       "  </thead>\n",
       "  <tbody>\n",
       "    <tr>\n",
       "      <th>73</th>\n",
       "      <td>tuning4protons74-800p.h5</td>\n",
       "      <td>16.328097</td>\n",
       "      <td>7.540634</td>\n",
       "      <td>10.457845</td>\n",
       "      <td>141598.406110</td>\n",
       "      <td>1595.191183</td>\n",
       "      <td>5240.177020</td>\n",
       "      <td>1.040628</td>\n",
       "      <td>148469.141517</td>\n",
       "    </tr>\n",
       "    <tr>\n",
       "      <th>13</th>\n",
       "      <td>tuning4protons2-800p.h5</td>\n",
       "      <td>15.376995</td>\n",
       "      <td>7.234492</td>\n",
       "      <td>13.340081</td>\n",
       "      <td>424042.270386</td>\n",
       "      <td>13191.557852</td>\n",
       "      <td>27958.239764</td>\n",
       "      <td>3.382891</td>\n",
       "      <td>465231.402461</td>\n",
       "    </tr>\n",
       "    <tr>\n",
       "      <th>51</th>\n",
       "      <td>tuning4protons54-800p.h5</td>\n",
       "      <td>13.313666</td>\n",
       "      <td>6.077212</td>\n",
       "      <td>10.267991</td>\n",
       "      <td>463306.069178</td>\n",
       "      <td>4927.131497</td>\n",
       "      <td>16807.869084</td>\n",
       "      <td>1.283098</td>\n",
       "      <td>485072.011726</td>\n",
       "    </tr>\n",
       "    <tr>\n",
       "      <th>87</th>\n",
       "      <td>tuning4protons87-800p.h5</td>\n",
       "      <td>14.828388</td>\n",
       "      <td>6.926351</td>\n",
       "      <td>11.044652</td>\n",
       "      <td>715276.962685</td>\n",
       "      <td>8709.149120</td>\n",
       "      <td>27373.922276</td>\n",
       "      <td>0.982435</td>\n",
       "      <td>751393.815907</td>\n",
       "    </tr>\n",
       "    <tr>\n",
       "      <th>91</th>\n",
       "      <td>tuning4protons90-800p.h5</td>\n",
       "      <td>15.804872</td>\n",
       "      <td>7.428687</td>\n",
       "      <td>10.896123</td>\n",
       "      <td>730746.877480</td>\n",
       "      <td>8508.727239</td>\n",
       "      <td>27413.966630</td>\n",
       "      <td>1.016381</td>\n",
       "      <td>766704.717412</td>\n",
       "    </tr>\n",
       "  </tbody>\n",
       "</table>\n",
       "</div>"
      ],
      "text/plain": [
       "                        file     length     width      depth       tracesum  \\\n",
       "73  tuning4protons74-800p.h5  16.328097  7.540634  10.457845  141598.406110   \n",
       "13   tuning4protons2-800p.h5  15.376995  7.234492  13.340081  424042.270386   \n",
       "51  tuning4protons54-800p.h5  13.313666  6.077212  10.267991  463306.069178   \n",
       "87  tuning4protons87-800p.h5  14.828388  6.926351  11.044652  715276.962685   \n",
       "91  tuning4protons90-800p.h5  15.804872  7.428687  10.896123  730746.877480   \n",
       "\n",
       "        tracemax      tracedev    padnum      Deviation  \n",
       "73   1595.191183   5240.177020  1.040628  148469.141517  \n",
       "13  13191.557852  27958.239764  3.382891  465231.402461  \n",
       "51   4927.131497  16807.869084  1.283098  485072.011726  \n",
       "87   8709.149120  27373.922276  0.982435  751393.815907  \n",
       "91   8508.727239  27413.966630  1.016381  766704.717412  "
      ]
     },
     "execution_count": 15,
     "metadata": {},
     "output_type": "execute_result"
    }
   ],
   "source": [
    "run_df.tail()"
   ]
  },
  {
   "cell_type": "code",
   "execution_count": 16,
   "metadata": {},
   "outputs": [
    {
     "data": {
      "text/html": [
       "<div>\n",
       "<style scoped>\n",
       "    .dataframe tbody tr th:only-of-type {\n",
       "        vertical-align: middle;\n",
       "    }\n",
       "\n",
       "    .dataframe tbody tr th {\n",
       "        vertical-align: top;\n",
       "    }\n",
       "\n",
       "    .dataframe thead th {\n",
       "        text-align: right;\n",
       "    }\n",
       "</style>\n",
       "<table border=\"1\" class=\"dataframe\">\n",
       "  <thead>\n",
       "    <tr style=\"text-align: right;\">\n",
       "      <th></th>\n",
       "      <th>Sim</th>\n",
       "      <th>Status</th>\n",
       "      <th>N</th>\n",
       "      <th>P0</th>\n",
       "      <th>E0</th>\n",
       "      <th>P1</th>\n",
       "      <th>E1</th>\n",
       "      <th>Xb</th>\n",
       "      <th>Yb</th>\n",
       "      <th>Zb1</th>\n",
       "      <th>Zb2</th>\n",
       "      <th>Threshold</th>\n",
       "      <th>EIonize</th>\n",
       "      <th>Fano</th>\n",
       "      <th>CoefL</th>\n",
       "      <th>CoefT</th>\n",
       "      <th>Gain</th>\n",
       "      <th>GETGain</th>\n",
       "      <th>PeakingTime</th>\n",
       "    </tr>\n",
       "  </thead>\n",
       "  <tbody>\n",
       "    <tr>\n",
       "      <th>74</th>\n",
       "      <td>tuning4protons74-800p</td>\n",
       "      <td>2</td>\n",
       "      <td>50</td>\n",
       "      <td>p</td>\n",
       "      <td>800.0</td>\n",
       "      <td>a</td>\n",
       "      <td>0.0</td>\n",
       "      <td>0</td>\n",
       "      <td>0</td>\n",
       "      <td>10</td>\n",
       "      <td>40</td>\n",
       "      <td>18</td>\n",
       "      <td>32.1</td>\n",
       "      <td>0.26</td>\n",
       "      <td>0.000121</td>\n",
       "      <td>0.00252</td>\n",
       "      <td>1162541.0</td>\n",
       "      <td>116.8</td>\n",
       "      <td>4178.0</td>\n",
       "    </tr>\n",
       "  </tbody>\n",
       "</table>\n",
       "</div>"
      ],
      "text/plain": [
       "                      Sim  Status   N P0     E0 P1   E1  Xb  Yb  Zb1  Zb2  \\\n",
       "74  tuning4protons74-800p       2  50  p  800.0  a  0.0   0   0   10   40   \n",
       "\n",
       "    Threshold  EIonize  Fano     CoefL    CoefT       Gain  GETGain  \\\n",
       "74         18     32.1  0.26  0.000121  0.00252  1162541.0    116.8   \n",
       "\n",
       "    PeakingTime  \n",
       "74       4178.0  "
      ]
     },
     "execution_count": 16,
     "metadata": {},
     "output_type": "execute_result"
    }
   ],
   "source": [
    "params[params['Sim'] == 'tuning4protons74-800p']"
   ]
  },
  {
   "cell_type": "code",
   "execution_count": null,
   "metadata": {},
   "outputs": [],
   "source": []
  }
 ],
 "metadata": {
  "kernelspec": {
   "display_name": "Python 3",
   "language": "python",
   "name": "python3"
  },
  "language_info": {
   "codemirror_mode": {
    "name": "ipython",
    "version": 3
   },
   "file_extension": ".py",
   "mimetype": "text/x-python",
   "name": "python",
   "nbconvert_exporter": "python",
   "pygments_lexer": "ipython3",
   "version": "3.10.11"
  },
  "vscode": {
   "interpreter": {
    "hash": "c295b91a4a4f8e66f37da6a2fbf5c84e6919990d10548059361442497be2c972"
   }
  }
 },
 "nbformat": 4,
 "nbformat_minor": 4
}
