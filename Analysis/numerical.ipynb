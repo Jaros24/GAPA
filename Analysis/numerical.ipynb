{
 "cells": [
  {
   "cell_type": "code",
   "execution_count": 1,
   "metadata": {},
   "outputs": [],
   "source": [
    "import numpy as np\n",
    "import h5py\n",
    "import math\n",
    "from sklearn.decomposition import PCA\n",
    "from pca import pca\n",
    "import pandas as pd\n",
    "import matplotlib.pyplot as plt\n",
    "from matplotlib.colors import LinearSegmentedColormap\n",
    "from tqdm import tqdm\n",
    "import peakutils\n",
    "import os, sys\n",
    "from BaselineRemoval import BaselineRemoval\n",
    "from sklearn.cluster import DBSCAN\n",
    "import scipy\n",
    "from sklearn.linear_model import LinearRegression\n",
    "import seaborn as sns"
   ]
  },
  {
   "cell_type": "code",
   "execution_count": 2,
   "metadata": {},
   "outputs": [],
   "source": [
    "class HiddenPrints:\n",
    "\tdef __enter__(self):\n",
    "\t\tself._original_stdout = sys.stdout\n",
    "\t\tsys.stdout = open(os.devnull, 'w')"
   ]
  },
  {
   "cell_type": "code",
   "execution_count": 3,
   "metadata": {},
   "outputs": [],
   "source": [
    "def __exit__(self, exc_type, exc_val, exc_tb):\n",
    "\tsys.stdout.close()\n",
    "\tsys.stdout = self._original_stdout"
   ]
  },
  {
   "cell_type": "code",
   "execution_count": 4,
   "metadata": {},
   "outputs": [],
   "source": [
    "def remove_outliers(xset, yset, zset, eset, threshold):\n",
    "\t\"\"\"\n",
    "\tUses DBSCAN to find and remove outliers in 3D data\n",
    "\t\"\"\"\n",
    "\tdata = np.array([xset.T, yset.T, zset.T]).T\n",
    "\tDBSCAN_cluster = DBSCAN(eps=7, min_samples=10).fit(data)\n",
    "\tout_of_cluster_index = np.where(DBSCAN_cluster.labels_==-1)\n",
    "\tdel data\n",
    "\trev = out_of_cluster_index[0][::-1]\n",
    "\t#if len(out_of_cluster_index[0]) > 0:\n",
    "\tfor i in rev:\n",
    "\t\txset = np.delete(xset, i)\n",
    "\t\tyset = np.delete(yset, i)\n",
    "\t\tzset = np.delete(zset, i)\n",
    "\t\teset = np.delete(eset, i)\n",
    "\t#if len(xset) <= threshold:\n",
    "\t#\tveto = True\n",
    "\t#else:\n",
    "    #veto = False\n",
    "\treturn xset, yset, zset, eset, False"
   ]
  },
  {
   "cell_type": "code",
   "execution_count": 5,
   "metadata": {
    "scrolled": true
   },
   "outputs": [
    {
     "name": "stdout",
     "output_type": "stream",
     "text": [
      "Veto on Length @ 70 mm\n",
      "Veto on Integrated Charge @ 800k\n"
     ]
    }
   ],
   "source": [
    "print('Veto on Length @ 70 mm')\n",
    "print('Veto on Integrated Charge @ 800k')\n",
    "def track_len(xset, yset, zset):\n",
    "    \"\"\"\n",
    "    Uses PCA to find the length of a track\n",
    "    \"\"\"\n",
    "    veto_on_length = False\n",
    " \n",
    "    # Form data matrix\n",
    "    data = np.concatenate((xset[:, np.newaxis], \n",
    "                           yset[:, np.newaxis], \n",
    "                           zset[:, np.newaxis]), \n",
    "                           axis=1)\n",
    "\n",
    "    # Use PCA to find track length\n",
    "    pca = PCA(n_components=3)\n",
    "    principalComponents = pca.fit(data)\n",
    "    principalComponents = pca.transform(data)\n",
    "    principalDf = pd.DataFrame(data = principalComponents\n",
    "             , columns = ['principal component 1', 'principal component 2', 'principal component 3'])\n",
    "    \n",
    "    track_len = 2.35*principalDf.std()[0]\n",
    "    track_width = 2.35*principalDf.std()[1]\n",
    "    track_depth = 2.35*principalDf.std()[2]\n",
    "    #if track_len > 70:\n",
    "    #    veto_on_length = True\n",
    "    \n",
    "    return track_len, veto_on_length, track_width, track_depth"
   ]
  },
  {
   "cell_type": "code",
   "execution_count": 6,
   "metadata": {},
   "outputs": [],
   "source": [
    "def main(h5file, threshold):\n",
    "    \"\"\"\n",
    "    This functions does the following: \n",
    "    - Converts h5 files into ndarrays. \n",
    "    - Removes outliers.\n",
    "    - Calls PCA to return track length.\n",
    "    - Sums mesh signal to return energy.\n",
    "    \"\"\"\n",
    "    # Converts h5 files into ndarrays, and output each event dataset as a separte list\n",
    "    num_events = int(len(list(h5file.keys()))/2) \n",
    "    \n",
    "    len_list = []\n",
    "    width_list = []\n",
    "    depth_list = []\n",
    "    good_events = []\n",
    "    tot_energy = []\n",
    "    tracemax_list = []\n",
    "    tracedev_list = []\n",
    "    pads_list = []\n",
    "    \n",
    "    skipped_events = 0\n",
    "    veto_events = 0\n",
    "    \n",
    "    pbar = tqdm(total=num_events+1)\n",
    "    for i in range(0, num_events):\n",
    "        str_event = f\"Event_[{i}]\"\n",
    "        \n",
    "        # Apply pad threshold\n",
    "        event = np.array(h5file[str_event][:])\n",
    "        if len(event) <= threshold:\n",
    "            skipped_events += 1\n",
    "            pbar.update(n=1)\n",
    "            continue\n",
    "            \n",
    "        # Make copy of datasets\n",
    "        dset_0_copyx = event['x']\n",
    "        dset_0_copyy = event['y'] \n",
    "        dset_0_copyz = event['z'] - min(event['z'])\n",
    "        dset_0_copye = event['A']\n",
    "\n",
    "        \n",
    "        # Apply veto condition\n",
    "        R = 36                           # Radius of the pad plane\n",
    "        r = np.sqrt(dset_0_copyx**2 + dset_0_copyy**2)\n",
    "        statements = np.greater(r, R)    # Check if any point lies outside of R\n",
    "      \n",
    "        if np.any(statements) == True:\n",
    "            veto_events += 1\n",
    "            pbar.update(n=1)\n",
    "            continue\n",
    "        \n",
    "        \n",
    "        # Call remove_outliers to get dataset w/ outliers removed\n",
    "        dset_0_copyx, dset_0_copyy, dset_0_copyz, dset_0_copye, veto = remove_outliers(dset_0_copyx, dset_0_copyy, dset_0_copyz, dset_0_copye, threshold)\n",
    "        if veto == True:\n",
    "            skipped_events += 1\n",
    "            pbar.update(n=1)\n",
    "            continue\n",
    "\n",
    "        \n",
    "        # Call track_len() to create lists of all track lengths\n",
    "        length, veto_on_length, width, depth = track_len(dset_0_copyx, dset_0_copyy, dset_0_copyz)\n",
    "        if veto_on_length == True:\n",
    "            veto_events += 1\n",
    "            pbar.update(n=1)\n",
    "            continue\n",
    "\n",
    "        \n",
    "       \tstr_trace = f\"Trace_[{i}]\"\n",
    "        trace = np.array(h5file[str_trace][:])\n",
    "        max_val = np.argmax(trace)\n",
    "        low_bound = max_val - 75\n",
    "        if low_bound < 0:\n",
    "            low_bound = 5\n",
    "        upper_bound = max_val + 75\n",
    "        if upper_bound > 511:\n",
    "            upper_bound = 506\n",
    "        trace = trace[low_bound:upper_bound]\n",
    "\n",
    "        polynomial_degree=2 \n",
    "        baseObj=BaselineRemoval(trace)\n",
    "        trace=baseObj.IModPoly(polynomial_degree)\n",
    "\n",
    "        #if np.sum(trace) > 800000:\n",
    "        #    veto_events += 1\n",
    "        #    pbar.update(n=1)\n",
    "        #    continue\n",
    "\n",
    "        len_list.append(length)\n",
    "        width_list.append(width)\n",
    "        depth_list.append(depth)\n",
    "        tot_energy.append(np.sum(trace))\n",
    "        tracemax_list.append(np.max(trace))\n",
    "        tracedev_list.append(np.std(trace))\n",
    "        pads_list.append(len(trace[trace > 0]))\n",
    "\n",
    "        # Track event number of good events\n",
    "        good_events.append(i)  \n",
    "        pbar.update(n=1)\n",
    "\n",
    "    return (tot_energy, skipped_events, veto_events, good_events, len_list, width_list, depth_list, tracemax_list, tracedev_list, pads_list)"
   ]
  },
  {
   "cell_type": "code",
   "execution_count": 7,
   "metadata": {
    "scrolled": true
   },
   "outputs": [
    {
     "name": "stdout",
     "output_type": "stream",
     "text": [
      "C:/Users/Adam/OneDrive - Tenundra, Inc/Desktop/Programming/GADGET2/simOutput/273_800p.h5\n"
     ]
    },
    {
     "name": "stderr",
     "output_type": "stream",
     "text": [
      "100%|█████████▉| 676/677 [00:13<00:00, 51.64it/s]\n"
     ]
    },
    {
     "name": "stdout",
     "output_type": "stream",
     "text": [
      "C:/Users/Adam/OneDrive - Tenundra, Inc/Desktop/Programming/GADGET2/simOutput/tuning3protons0-800p.h5\n"
     ]
    },
    {
     "name": "stderr",
     "output_type": "stream",
     "text": [
      " 98%|█████████▊| 50/51 [00:01<00:00, 40.12it/s]\n"
     ]
    },
    {
     "name": "stdout",
     "output_type": "stream",
     "text": [
      "C:/Users/Adam/OneDrive - Tenundra, Inc/Desktop/Programming/GADGET2/simOutput/tuning3protons1-800p.h5\n"
     ]
    },
    {
     "name": "stderr",
     "output_type": "stream",
     "text": [
      " 98%|█████████▊| 50/51 [00:01<00:00, 37.38it/s]\n"
     ]
    },
    {
     "name": "stdout",
     "output_type": "stream",
     "text": [
      "C:/Users/Adam/OneDrive - Tenundra, Inc/Desktop/Programming/GADGET2/simOutput/tuning3protons10-800p.h5\n"
     ]
    },
    {
     "name": "stderr",
     "output_type": "stream",
     "text": [
      " 98%|█████████▊| 50/51 [00:01<00:00, 33.27it/s]\n"
     ]
    },
    {
     "name": "stdout",
     "output_type": "stream",
     "text": [
      "C:/Users/Adam/OneDrive - Tenundra, Inc/Desktop/Programming/GADGET2/simOutput/tuning3protons11-800p.h5\n"
     ]
    },
    {
     "name": "stderr",
     "output_type": "stream",
     "text": [
      " 98%|█████████▊| 50/51 [00:01<00:00, 28.73it/s]\n"
     ]
    },
    {
     "name": "stdout",
     "output_type": "stream",
     "text": [
      "C:/Users/Adam/OneDrive - Tenundra, Inc/Desktop/Programming/GADGET2/simOutput/tuning3protons12-800p.h5\n"
     ]
    },
    {
     "name": "stderr",
     "output_type": "stream",
     "text": [
      " 98%|█████████▊| 50/51 [00:01<00:00, 32.47it/s]\n"
     ]
    },
    {
     "name": "stdout",
     "output_type": "stream",
     "text": [
      "C:/Users/Adam/OneDrive - Tenundra, Inc/Desktop/Programming/GADGET2/simOutput/tuning3protons13-800p.h5\n"
     ]
    },
    {
     "name": "stderr",
     "output_type": "stream",
     "text": [
      " 98%|█████████▊| 50/51 [00:01<00:00, 40.06it/s]\n"
     ]
    },
    {
     "name": "stdout",
     "output_type": "stream",
     "text": [
      "C:/Users/Adam/OneDrive - Tenundra, Inc/Desktop/Programming/GADGET2/simOutput/tuning3protons14-800p.h5\n"
     ]
    },
    {
     "name": "stderr",
     "output_type": "stream",
     "text": [
      " 98%|█████████▊| 50/51 [00:01<00:00, 35.05it/s]\n"
     ]
    },
    {
     "name": "stdout",
     "output_type": "stream",
     "text": [
      "C:/Users/Adam/OneDrive - Tenundra, Inc/Desktop/Programming/GADGET2/simOutput/tuning3protons15-800p.h5\n"
     ]
    },
    {
     "name": "stderr",
     "output_type": "stream",
     "text": [
      " 98%|█████████▊| 50/51 [00:01<00:00, 42.88it/s]\n"
     ]
    },
    {
     "name": "stdout",
     "output_type": "stream",
     "text": [
      "C:/Users/Adam/OneDrive - Tenundra, Inc/Desktop/Programming/GADGET2/simOutput/tuning3protons16-800p.h5\n"
     ]
    },
    {
     "name": "stderr",
     "output_type": "stream",
     "text": [
      " 98%|█████████▊| 50/51 [00:01<00:00, 42.70it/s]\n"
     ]
    },
    {
     "name": "stdout",
     "output_type": "stream",
     "text": [
      "C:/Users/Adam/OneDrive - Tenundra, Inc/Desktop/Programming/GADGET2/simOutput/tuning3protons17-800p.h5\n"
     ]
    },
    {
     "name": "stderr",
     "output_type": "stream",
     "text": [
      " 98%|█████████▊| 50/51 [00:01<00:00, 38.41it/s]\n"
     ]
    },
    {
     "name": "stdout",
     "output_type": "stream",
     "text": [
      "C:/Users/Adam/OneDrive - Tenundra, Inc/Desktop/Programming/GADGET2/simOutput/tuning3protons18-800p.h5\n"
     ]
    },
    {
     "name": "stderr",
     "output_type": "stream",
     "text": [
      " 98%|█████████▊| 50/51 [00:01<00:00, 42.66it/s]\n"
     ]
    },
    {
     "name": "stdout",
     "output_type": "stream",
     "text": [
      "C:/Users/Adam/OneDrive - Tenundra, Inc/Desktop/Programming/GADGET2/simOutput/tuning3protons19-800p.h5\n"
     ]
    },
    {
     "name": "stderr",
     "output_type": "stream",
     "text": [
      " 98%|█████████▊| 50/51 [00:01<00:00, 48.21it/s]\n"
     ]
    },
    {
     "name": "stdout",
     "output_type": "stream",
     "text": [
      "C:/Users/Adam/OneDrive - Tenundra, Inc/Desktop/Programming/GADGET2/simOutput/tuning3protons2-800p.h5\n"
     ]
    },
    {
     "name": "stderr",
     "output_type": "stream",
     "text": [
      " 98%|█████████▊| 50/51 [00:01<00:00, 48.26it/s]\n"
     ]
    },
    {
     "name": "stdout",
     "output_type": "stream",
     "text": [
      "C:/Users/Adam/OneDrive - Tenundra, Inc/Desktop/Programming/GADGET2/simOutput/tuning3protons20-800p.h5\n"
     ]
    },
    {
     "name": "stderr",
     "output_type": "stream",
     "text": [
      " 98%|█████████▊| 50/51 [00:01<00:00, 47.73it/s]\n"
     ]
    },
    {
     "name": "stdout",
     "output_type": "stream",
     "text": [
      "C:/Users/Adam/OneDrive - Tenundra, Inc/Desktop/Programming/GADGET2/simOutput/tuning3protons21-800p.h5\n"
     ]
    },
    {
     "name": "stderr",
     "output_type": "stream",
     "text": [
      " 98%|█████████▊| 50/51 [00:01<00:00, 45.15it/s]\n"
     ]
    },
    {
     "name": "stdout",
     "output_type": "stream",
     "text": [
      "C:/Users/Adam/OneDrive - Tenundra, Inc/Desktop/Programming/GADGET2/simOutput/tuning3protons22-800p.h5\n"
     ]
    },
    {
     "name": "stderr",
     "output_type": "stream",
     "text": [
      " 98%|█████████▊| 50/51 [00:00<00:00, 52.19it/s]\n"
     ]
    },
    {
     "name": "stdout",
     "output_type": "stream",
     "text": [
      "C:/Users/Adam/OneDrive - Tenundra, Inc/Desktop/Programming/GADGET2/simOutput/tuning3protons23-800p.h5\n"
     ]
    },
    {
     "name": "stderr",
     "output_type": "stream",
     "text": [
      " 98%|█████████▊| 50/51 [00:01<00:00, 49.58it/s]\n"
     ]
    },
    {
     "name": "stdout",
     "output_type": "stream",
     "text": [
      "C:/Users/Adam/OneDrive - Tenundra, Inc/Desktop/Programming/GADGET2/simOutput/tuning3protons24-800p.h5\n"
     ]
    },
    {
     "name": "stderr",
     "output_type": "stream",
     "text": [
      " 98%|█████████▊| 50/51 [00:01<00:00, 39.55it/s]\n"
     ]
    },
    {
     "name": "stdout",
     "output_type": "stream",
     "text": [
      "C:/Users/Adam/OneDrive - Tenundra, Inc/Desktop/Programming/GADGET2/simOutput/tuning3protons25-800p.h5\n"
     ]
    },
    {
     "name": "stderr",
     "output_type": "stream",
     "text": [
      " 98%|█████████▊| 50/51 [00:00<00:00, 52.14it/s]\n"
     ]
    },
    {
     "name": "stdout",
     "output_type": "stream",
     "text": [
      "C:/Users/Adam/OneDrive - Tenundra, Inc/Desktop/Programming/GADGET2/simOutput/tuning3protons26-800p.h5\n"
     ]
    },
    {
     "name": "stderr",
     "output_type": "stream",
     "text": [
      " 98%|█████████▊| 50/51 [00:01<00:00, 46.84it/s]\n"
     ]
    },
    {
     "name": "stdout",
     "output_type": "stream",
     "text": [
      "C:/Users/Adam/OneDrive - Tenundra, Inc/Desktop/Programming/GADGET2/simOutput/tuning3protons27-800p.h5\n"
     ]
    },
    {
     "name": "stderr",
     "output_type": "stream",
     "text": [
      " 98%|█████████▊| 50/51 [00:01<00:00, 42.59it/s]\n"
     ]
    },
    {
     "name": "stdout",
     "output_type": "stream",
     "text": [
      "C:/Users/Adam/OneDrive - Tenundra, Inc/Desktop/Programming/GADGET2/simOutput/tuning3protons28-800p.h5\n"
     ]
    },
    {
     "name": "stderr",
     "output_type": "stream",
     "text": [
      " 98%|█████████▊| 50/51 [00:01<00:00, 45.33it/s]\n"
     ]
    },
    {
     "name": "stdout",
     "output_type": "stream",
     "text": [
      "C:/Users/Adam/OneDrive - Tenundra, Inc/Desktop/Programming/GADGET2/simOutput/tuning3protons29-800p.h5\n"
     ]
    },
    {
     "name": "stderr",
     "output_type": "stream",
     "text": [
      " 98%|█████████▊| 50/51 [00:01<00:00, 39.68it/s]\n"
     ]
    },
    {
     "name": "stdout",
     "output_type": "stream",
     "text": [
      "C:/Users/Adam/OneDrive - Tenundra, Inc/Desktop/Programming/GADGET2/simOutput/tuning3protons3-800p.h5\n"
     ]
    },
    {
     "name": "stderr",
     "output_type": "stream",
     "text": [
      " 98%|█████████▊| 50/51 [00:01<00:00, 43.03it/s]\n"
     ]
    },
    {
     "name": "stdout",
     "output_type": "stream",
     "text": [
      "C:/Users/Adam/OneDrive - Tenundra, Inc/Desktop/Programming/GADGET2/simOutput/tuning3protons30-800p.h5\n"
     ]
    },
    {
     "name": "stderr",
     "output_type": "stream",
     "text": [
      " 98%|█████████▊| 50/51 [00:01<00:00, 43.25it/s]\n"
     ]
    },
    {
     "name": "stdout",
     "output_type": "stream",
     "text": [
      "C:/Users/Adam/OneDrive - Tenundra, Inc/Desktop/Programming/GADGET2/simOutput/tuning3protons31-800p.h5\n"
     ]
    },
    {
     "name": "stderr",
     "output_type": "stream",
     "text": [
      " 98%|█████████▊| 50/51 [00:01<00:00, 35.84it/s]\n"
     ]
    },
    {
     "name": "stdout",
     "output_type": "stream",
     "text": [
      "C:/Users/Adam/OneDrive - Tenundra, Inc/Desktop/Programming/GADGET2/simOutput/tuning3protons32-800p.h5\n"
     ]
    },
    {
     "name": "stderr",
     "output_type": "stream",
     "text": [
      " 98%|█████████▊| 50/51 [00:01<00:00, 35.72it/s]\n"
     ]
    },
    {
     "name": "stdout",
     "output_type": "stream",
     "text": [
      "C:/Users/Adam/OneDrive - Tenundra, Inc/Desktop/Programming/GADGET2/simOutput/tuning3protons33-800p.h5\n"
     ]
    },
    {
     "name": "stderr",
     "output_type": "stream",
     "text": [
      " 98%|█████████▊| 50/51 [00:01<00:00, 44.72it/s]\n"
     ]
    },
    {
     "name": "stdout",
     "output_type": "stream",
     "text": [
      "C:/Users/Adam/OneDrive - Tenundra, Inc/Desktop/Programming/GADGET2/simOutput/tuning3protons34-800p.h5\n"
     ]
    },
    {
     "name": "stderr",
     "output_type": "stream",
     "text": [
      " 98%|█████████▊| 50/51 [00:01<00:00, 39.65it/s]\n"
     ]
    },
    {
     "name": "stdout",
     "output_type": "stream",
     "text": [
      "C:/Users/Adam/OneDrive - Tenundra, Inc/Desktop/Programming/GADGET2/simOutput/tuning3protons35-800p.h5\n"
     ]
    },
    {
     "name": "stderr",
     "output_type": "stream",
     "text": [
      " 98%|█████████▊| 50/51 [00:01<00:00, 35.36it/s]\n"
     ]
    },
    {
     "name": "stdout",
     "output_type": "stream",
     "text": [
      "C:/Users/Adam/OneDrive - Tenundra, Inc/Desktop/Programming/GADGET2/simOutput/tuning3protons36-800p.h5\n"
     ]
    },
    {
     "name": "stderr",
     "output_type": "stream",
     "text": [
      " 98%|█████████▊| 50/51 [00:01<00:00, 37.38it/s]\n"
     ]
    },
    {
     "name": "stdout",
     "output_type": "stream",
     "text": [
      "C:/Users/Adam/OneDrive - Tenundra, Inc/Desktop/Programming/GADGET2/simOutput/tuning3protons37-800p.h5\n"
     ]
    },
    {
     "name": "stderr",
     "output_type": "stream",
     "text": [
      " 98%|█████████▊| 50/51 [00:01<00:00, 44.14it/s]\n"
     ]
    },
    {
     "name": "stdout",
     "output_type": "stream",
     "text": [
      "C:/Users/Adam/OneDrive - Tenundra, Inc/Desktop/Programming/GADGET2/simOutput/tuning3protons38-800p.h5\n"
     ]
    },
    {
     "name": "stderr",
     "output_type": "stream",
     "text": [
      " 98%|█████████▊| 50/51 [00:01<00:00, 43.01it/s]\n"
     ]
    },
    {
     "name": "stdout",
     "output_type": "stream",
     "text": [
      "C:/Users/Adam/OneDrive - Tenundra, Inc/Desktop/Programming/GADGET2/simOutput/tuning3protons39-800p.h5\n"
     ]
    },
    {
     "name": "stderr",
     "output_type": "stream",
     "text": [
      " 98%|█████████▊| 50/51 [00:01<00:00, 44.84it/s]\n"
     ]
    },
    {
     "name": "stdout",
     "output_type": "stream",
     "text": [
      "C:/Users/Adam/OneDrive - Tenundra, Inc/Desktop/Programming/GADGET2/simOutput/tuning3protons4-800p.h5\n"
     ]
    },
    {
     "name": "stderr",
     "output_type": "stream",
     "text": [
      " 98%|█████████▊| 50/51 [00:01<00:00, 48.90it/s]\n"
     ]
    },
    {
     "name": "stdout",
     "output_type": "stream",
     "text": [
      "C:/Users/Adam/OneDrive - Tenundra, Inc/Desktop/Programming/GADGET2/simOutput/tuning3protons40-800p.h5\n"
     ]
    },
    {
     "name": "stderr",
     "output_type": "stream",
     "text": [
      " 98%|█████████▊| 50/51 [00:01<00:00, 46.36it/s]\n"
     ]
    },
    {
     "name": "stdout",
     "output_type": "stream",
     "text": [
      "C:/Users/Adam/OneDrive - Tenundra, Inc/Desktop/Programming/GADGET2/simOutput/tuning3protons41-800p.h5\n"
     ]
    },
    {
     "name": "stderr",
     "output_type": "stream",
     "text": [
      " 98%|█████████▊| 50/51 [00:01<00:00, 43.78it/s]\n"
     ]
    },
    {
     "name": "stdout",
     "output_type": "stream",
     "text": [
      "C:/Users/Adam/OneDrive - Tenundra, Inc/Desktop/Programming/GADGET2/simOutput/tuning3protons42-800p.h5\n"
     ]
    },
    {
     "name": "stderr",
     "output_type": "stream",
     "text": [
      " 98%|█████████▊| 50/51 [00:01<00:00, 46.46it/s]\n"
     ]
    },
    {
     "name": "stdout",
     "output_type": "stream",
     "text": [
      "C:/Users/Adam/OneDrive - Tenundra, Inc/Desktop/Programming/GADGET2/simOutput/tuning3protons43-800p.h5\n"
     ]
    },
    {
     "name": "stderr",
     "output_type": "stream",
     "text": [
      " 98%|█████████▊| 50/51 [00:01<00:00, 46.60it/s]\n"
     ]
    },
    {
     "name": "stdout",
     "output_type": "stream",
     "text": [
      "C:/Users/Adam/OneDrive - Tenundra, Inc/Desktop/Programming/GADGET2/simOutput/tuning3protons44-800p.h5\n"
     ]
    },
    {
     "name": "stderr",
     "output_type": "stream",
     "text": [
      " 98%|█████████▊| 50/51 [00:01<00:00, 38.34it/s]\n"
     ]
    },
    {
     "name": "stdout",
     "output_type": "stream",
     "text": [
      "C:/Users/Adam/OneDrive - Tenundra, Inc/Desktop/Programming/GADGET2/simOutput/tuning3protons45-800p.h5\n"
     ]
    },
    {
     "name": "stderr",
     "output_type": "stream",
     "text": [
      " 98%|█████████▊| 50/51 [00:01<00:00, 38.47it/s]\n"
     ]
    },
    {
     "name": "stdout",
     "output_type": "stream",
     "text": [
      "C:/Users/Adam/OneDrive - Tenundra, Inc/Desktop/Programming/GADGET2/simOutput/tuning3protons46-800p.h5\n"
     ]
    },
    {
     "name": "stderr",
     "output_type": "stream",
     "text": [
      " 98%|█████████▊| 50/51 [00:01<00:00, 45.82it/s]\n"
     ]
    },
    {
     "name": "stdout",
     "output_type": "stream",
     "text": [
      "C:/Users/Adam/OneDrive - Tenundra, Inc/Desktop/Programming/GADGET2/simOutput/tuning3protons47-800p.h5\n"
     ]
    },
    {
     "name": "stderr",
     "output_type": "stream",
     "text": [
      " 98%|█████████▊| 50/51 [00:01<00:00, 43.99it/s]\n"
     ]
    },
    {
     "name": "stdout",
     "output_type": "stream",
     "text": [
      "C:/Users/Adam/OneDrive - Tenundra, Inc/Desktop/Programming/GADGET2/simOutput/tuning3protons48-800p.h5\n"
     ]
    },
    {
     "name": "stderr",
     "output_type": "stream",
     "text": [
      " 98%|█████████▊| 50/51 [00:00<00:00, 53.48it/s]\n"
     ]
    },
    {
     "name": "stdout",
     "output_type": "stream",
     "text": [
      "C:/Users/Adam/OneDrive - Tenundra, Inc/Desktop/Programming/GADGET2/simOutput/tuning3protons49-800p.h5\n"
     ]
    },
    {
     "name": "stderr",
     "output_type": "stream",
     "text": [
      " 98%|█████████▊| 50/51 [00:01<00:00, 39.59it/s]\n"
     ]
    },
    {
     "name": "stdout",
     "output_type": "stream",
     "text": [
      "C:/Users/Adam/OneDrive - Tenundra, Inc/Desktop/Programming/GADGET2/simOutput/tuning3protons5-800p.h5\n"
     ]
    },
    {
     "name": "stderr",
     "output_type": "stream",
     "text": [
      " 98%|█████████▊| 50/51 [00:01<00:00, 45.54it/s]\n"
     ]
    },
    {
     "name": "stdout",
     "output_type": "stream",
     "text": [
      "C:/Users/Adam/OneDrive - Tenundra, Inc/Desktop/Programming/GADGET2/simOutput/tuning3protons50-800p.h5\n"
     ]
    },
    {
     "name": "stderr",
     "output_type": "stream",
     "text": [
      " 98%|█████████▊| 50/51 [00:01<00:00, 49.76it/s]\n"
     ]
    },
    {
     "name": "stdout",
     "output_type": "stream",
     "text": [
      "C:/Users/Adam/OneDrive - Tenundra, Inc/Desktop/Programming/GADGET2/simOutput/tuning3protons51-800p.h5\n"
     ]
    },
    {
     "name": "stderr",
     "output_type": "stream",
     "text": [
      " 98%|█████████▊| 50/51 [00:01<00:00, 46.27it/s]\n"
     ]
    },
    {
     "name": "stdout",
     "output_type": "stream",
     "text": [
      "C:/Users/Adam/OneDrive - Tenundra, Inc/Desktop/Programming/GADGET2/simOutput/tuning3protons52-800p.h5\n"
     ]
    },
    {
     "name": "stderr",
     "output_type": "stream",
     "text": [
      " 98%|█████████▊| 50/51 [00:01<00:00, 40.96it/s]\n"
     ]
    },
    {
     "name": "stdout",
     "output_type": "stream",
     "text": [
      "C:/Users/Adam/OneDrive - Tenundra, Inc/Desktop/Programming/GADGET2/simOutput/tuning3protons53-800p.h5\n"
     ]
    },
    {
     "name": "stderr",
     "output_type": "stream",
     "text": [
      " 98%|█████████▊| 50/51 [00:01<00:00, 39.05it/s]\n"
     ]
    },
    {
     "name": "stdout",
     "output_type": "stream",
     "text": [
      "C:/Users/Adam/OneDrive - Tenundra, Inc/Desktop/Programming/GADGET2/simOutput/tuning3protons54-800p.h5\n"
     ]
    },
    {
     "name": "stderr",
     "output_type": "stream",
     "text": [
      " 98%|█████████▊| 50/51 [00:00<00:00, 52.03it/s]\n"
     ]
    },
    {
     "name": "stdout",
     "output_type": "stream",
     "text": [
      "C:/Users/Adam/OneDrive - Tenundra, Inc/Desktop/Programming/GADGET2/simOutput/tuning3protons55-800p.h5\n"
     ]
    },
    {
     "name": "stderr",
     "output_type": "stream",
     "text": [
      " 98%|█████████▊| 50/51 [00:01<00:00, 42.91it/s]\n"
     ]
    },
    {
     "name": "stdout",
     "output_type": "stream",
     "text": [
      "C:/Users/Adam/OneDrive - Tenundra, Inc/Desktop/Programming/GADGET2/simOutput/tuning3protons56-800p.h5\n"
     ]
    },
    {
     "name": "stderr",
     "output_type": "stream",
     "text": [
      " 98%|█████████▊| 50/51 [00:01<00:00, 45.80it/s]\n"
     ]
    },
    {
     "name": "stdout",
     "output_type": "stream",
     "text": [
      "C:/Users/Adam/OneDrive - Tenundra, Inc/Desktop/Programming/GADGET2/simOutput/tuning3protons57-800p.h5\n"
     ]
    },
    {
     "name": "stderr",
     "output_type": "stream",
     "text": [
      " 98%|█████████▊| 50/51 [00:01<00:00, 45.58it/s]\n"
     ]
    },
    {
     "name": "stdout",
     "output_type": "stream",
     "text": [
      "C:/Users/Adam/OneDrive - Tenundra, Inc/Desktop/Programming/GADGET2/simOutput/tuning3protons58-800p.h5\n"
     ]
    },
    {
     "name": "stderr",
     "output_type": "stream",
     "text": [
      " 98%|█████████▊| 50/51 [00:01<00:00, 49.08it/s]\n"
     ]
    },
    {
     "name": "stdout",
     "output_type": "stream",
     "text": [
      "C:/Users/Adam/OneDrive - Tenundra, Inc/Desktop/Programming/GADGET2/simOutput/tuning3protons59-800p.h5\n"
     ]
    },
    {
     "name": "stderr",
     "output_type": "stream",
     "text": [
      " 98%|█████████▊| 50/51 [00:01<00:00, 48.99it/s]\n"
     ]
    },
    {
     "name": "stdout",
     "output_type": "stream",
     "text": [
      "C:/Users/Adam/OneDrive - Tenundra, Inc/Desktop/Programming/GADGET2/simOutput/tuning3protons6-800p.h5\n"
     ]
    },
    {
     "name": "stderr",
     "output_type": "stream",
     "text": [
      " 98%|█████████▊| 50/51 [00:00<00:00, 50.10it/s]\n"
     ]
    },
    {
     "name": "stdout",
     "output_type": "stream",
     "text": [
      "C:/Users/Adam/OneDrive - Tenundra, Inc/Desktop/Programming/GADGET2/simOutput/tuning3protons60-800p.h5\n"
     ]
    },
    {
     "name": "stderr",
     "output_type": "stream",
     "text": [
      " 98%|█████████▊| 50/51 [00:01<00:00, 44.00it/s]\n"
     ]
    },
    {
     "name": "stdout",
     "output_type": "stream",
     "text": [
      "C:/Users/Adam/OneDrive - Tenundra, Inc/Desktop/Programming/GADGET2/simOutput/tuning3protons61-800p.h5\n"
     ]
    },
    {
     "name": "stderr",
     "output_type": "stream",
     "text": [
      " 98%|█████████▊| 50/51 [00:01<00:00, 37.55it/s]\n"
     ]
    },
    {
     "name": "stdout",
     "output_type": "stream",
     "text": [
      "C:/Users/Adam/OneDrive - Tenundra, Inc/Desktop/Programming/GADGET2/simOutput/tuning3protons62-800p.h5\n"
     ]
    },
    {
     "name": "stderr",
     "output_type": "stream",
     "text": [
      " 98%|█████████▊| 50/51 [00:01<00:00, 47.86it/s]\n"
     ]
    },
    {
     "name": "stdout",
     "output_type": "stream",
     "text": [
      "C:/Users/Adam/OneDrive - Tenundra, Inc/Desktop/Programming/GADGET2/simOutput/tuning3protons63-800p.h5\n"
     ]
    },
    {
     "name": "stderr",
     "output_type": "stream",
     "text": [
      " 98%|█████████▊| 50/51 [00:01<00:00, 39.22it/s]\n"
     ]
    },
    {
     "name": "stdout",
     "output_type": "stream",
     "text": [
      "C:/Users/Adam/OneDrive - Tenundra, Inc/Desktop/Programming/GADGET2/simOutput/tuning3protons64-800p.h5\n"
     ]
    },
    {
     "name": "stderr",
     "output_type": "stream",
     "text": [
      " 98%|█████████▊| 50/51 [00:01<00:00, 45.09it/s]\n"
     ]
    },
    {
     "name": "stdout",
     "output_type": "stream",
     "text": [
      "C:/Users/Adam/OneDrive - Tenundra, Inc/Desktop/Programming/GADGET2/simOutput/tuning3protons65-800p.h5\n"
     ]
    },
    {
     "name": "stderr",
     "output_type": "stream",
     "text": [
      " 98%|█████████▊| 50/51 [00:01<00:00, 48.09it/s]\n"
     ]
    },
    {
     "name": "stdout",
     "output_type": "stream",
     "text": [
      "C:/Users/Adam/OneDrive - Tenundra, Inc/Desktop/Programming/GADGET2/simOutput/tuning3protons66-800p.h5\n"
     ]
    },
    {
     "name": "stderr",
     "output_type": "stream",
     "text": [
      " 98%|█████████▊| 50/51 [00:01<00:00, 47.47it/s]\n"
     ]
    },
    {
     "name": "stdout",
     "output_type": "stream",
     "text": [
      "C:/Users/Adam/OneDrive - Tenundra, Inc/Desktop/Programming/GADGET2/simOutput/tuning3protons67-800p.h5\n"
     ]
    },
    {
     "name": "stderr",
     "output_type": "stream",
     "text": [
      " 98%|█████████▊| 50/51 [00:01<00:00, 44.87it/s]\n"
     ]
    },
    {
     "name": "stdout",
     "output_type": "stream",
     "text": [
      "C:/Users/Adam/OneDrive - Tenundra, Inc/Desktop/Programming/GADGET2/simOutput/tuning3protons68-800p.h5\n"
     ]
    },
    {
     "name": "stderr",
     "output_type": "stream",
     "text": [
      " 98%|█████████▊| 50/51 [00:01<00:00, 49.10it/s]\n"
     ]
    },
    {
     "name": "stdout",
     "output_type": "stream",
     "text": [
      "C:/Users/Adam/OneDrive - Tenundra, Inc/Desktop/Programming/GADGET2/simOutput/tuning3protons69-800p.h5\n"
     ]
    },
    {
     "name": "stderr",
     "output_type": "stream",
     "text": [
      " 98%|█████████▊| 50/51 [00:00<00:00, 50.58it/s]\n"
     ]
    },
    {
     "name": "stdout",
     "output_type": "stream",
     "text": [
      "C:/Users/Adam/OneDrive - Tenundra, Inc/Desktop/Programming/GADGET2/simOutput/tuning3protons7-800p.h5\n"
     ]
    },
    {
     "name": "stderr",
     "output_type": "stream",
     "text": [
      " 98%|█████████▊| 50/51 [00:01<00:00, 43.33it/s]\n"
     ]
    },
    {
     "name": "stdout",
     "output_type": "stream",
     "text": [
      "C:/Users/Adam/OneDrive - Tenundra, Inc/Desktop/Programming/GADGET2/simOutput/tuning3protons70-800p.h5\n"
     ]
    },
    {
     "name": "stderr",
     "output_type": "stream",
     "text": [
      " 98%|█████████▊| 50/51 [00:01<00:00, 47.27it/s]\n"
     ]
    },
    {
     "name": "stdout",
     "output_type": "stream",
     "text": [
      "C:/Users/Adam/OneDrive - Tenundra, Inc/Desktop/Programming/GADGET2/simOutput/tuning3protons71-800p.h5\n"
     ]
    },
    {
     "name": "stderr",
     "output_type": "stream",
     "text": [
      " 98%|█████████▊| 50/51 [00:01<00:00, 43.18it/s]\n"
     ]
    },
    {
     "name": "stdout",
     "output_type": "stream",
     "text": [
      "C:/Users/Adam/OneDrive - Tenundra, Inc/Desktop/Programming/GADGET2/simOutput/tuning3protons72-800p.h5\n"
     ]
    },
    {
     "name": "stderr",
     "output_type": "stream",
     "text": [
      " 98%|█████████▊| 50/51 [00:01<00:00, 48.40it/s]\n"
     ]
    },
    {
     "name": "stdout",
     "output_type": "stream",
     "text": [
      "C:/Users/Adam/OneDrive - Tenundra, Inc/Desktop/Programming/GADGET2/simOutput/tuning3protons73-800p.h5\n"
     ]
    },
    {
     "name": "stderr",
     "output_type": "stream",
     "text": [
      " 98%|█████████▊| 50/51 [00:01<00:00, 49.65it/s]\n"
     ]
    },
    {
     "name": "stdout",
     "output_type": "stream",
     "text": [
      "C:/Users/Adam/OneDrive - Tenundra, Inc/Desktop/Programming/GADGET2/simOutput/tuning3protons74-800p.h5\n"
     ]
    },
    {
     "name": "stderr",
     "output_type": "stream",
     "text": [
      " 98%|█████████▊| 50/51 [00:01<00:00, 46.53it/s]\n"
     ]
    },
    {
     "name": "stdout",
     "output_type": "stream",
     "text": [
      "C:/Users/Adam/OneDrive - Tenundra, Inc/Desktop/Programming/GADGET2/simOutput/tuning3protons75-800p.h5\n"
     ]
    },
    {
     "name": "stderr",
     "output_type": "stream",
     "text": [
      " 98%|█████████▊| 50/51 [00:01<00:00, 44.25it/s]\n"
     ]
    },
    {
     "name": "stdout",
     "output_type": "stream",
     "text": [
      "C:/Users/Adam/OneDrive - Tenundra, Inc/Desktop/Programming/GADGET2/simOutput/tuning3protons76-800p.h5\n"
     ]
    },
    {
     "name": "stderr",
     "output_type": "stream",
     "text": [
      " 98%|█████████▊| 50/51 [00:01<00:00, 39.74it/s]\n"
     ]
    },
    {
     "name": "stdout",
     "output_type": "stream",
     "text": [
      "C:/Users/Adam/OneDrive - Tenundra, Inc/Desktop/Programming/GADGET2/simOutput/tuning3protons77-800p.h5\n"
     ]
    },
    {
     "name": "stderr",
     "output_type": "stream",
     "text": [
      " 98%|█████████▊| 50/51 [00:01<00:00, 40.25it/s]\n"
     ]
    },
    {
     "name": "stdout",
     "output_type": "stream",
     "text": [
      "C:/Users/Adam/OneDrive - Tenundra, Inc/Desktop/Programming/GADGET2/simOutput/tuning3protons78-800p.h5\n"
     ]
    },
    {
     "name": "stderr",
     "output_type": "stream",
     "text": [
      " 98%|█████████▊| 50/51 [00:01<00:00, 40.77it/s]\n"
     ]
    },
    {
     "name": "stdout",
     "output_type": "stream",
     "text": [
      "C:/Users/Adam/OneDrive - Tenundra, Inc/Desktop/Programming/GADGET2/simOutput/tuning3protons79-800p.h5\n"
     ]
    },
    {
     "name": "stderr",
     "output_type": "stream",
     "text": [
      " 98%|█████████▊| 50/51 [00:01<00:00, 45.33it/s]\n"
     ]
    },
    {
     "name": "stdout",
     "output_type": "stream",
     "text": [
      "C:/Users/Adam/OneDrive - Tenundra, Inc/Desktop/Programming/GADGET2/simOutput/tuning3protons8-800p.h5\n"
     ]
    },
    {
     "name": "stderr",
     "output_type": "stream",
     "text": [
      " 98%|█████████▊| 50/51 [00:01<00:00, 48.54it/s]\n"
     ]
    },
    {
     "name": "stdout",
     "output_type": "stream",
     "text": [
      "C:/Users/Adam/OneDrive - Tenundra, Inc/Desktop/Programming/GADGET2/simOutput/tuning3protons80-800p.h5\n"
     ]
    },
    {
     "name": "stderr",
     "output_type": "stream",
     "text": [
      " 98%|█████████▊| 50/51 [00:01<00:00, 40.19it/s]\n"
     ]
    },
    {
     "name": "stdout",
     "output_type": "stream",
     "text": [
      "C:/Users/Adam/OneDrive - Tenundra, Inc/Desktop/Programming/GADGET2/simOutput/tuning3protons81-800p.h5\n"
     ]
    },
    {
     "name": "stderr",
     "output_type": "stream",
     "text": [
      " 98%|█████████▊| 50/51 [00:01<00:00, 45.58it/s]\n"
     ]
    },
    {
     "name": "stdout",
     "output_type": "stream",
     "text": [
      "C:/Users/Adam/OneDrive - Tenundra, Inc/Desktop/Programming/GADGET2/simOutput/tuning3protons82-800p.h5\n"
     ]
    },
    {
     "name": "stderr",
     "output_type": "stream",
     "text": [
      " 98%|█████████▊| 50/51 [00:01<00:00, 48.35it/s]\n"
     ]
    },
    {
     "name": "stdout",
     "output_type": "stream",
     "text": [
      "C:/Users/Adam/OneDrive - Tenundra, Inc/Desktop/Programming/GADGET2/simOutput/tuning3protons83-800p.h5\n"
     ]
    },
    {
     "name": "stderr",
     "output_type": "stream",
     "text": [
      " 98%|█████████▊| 50/51 [00:01<00:00, 46.79it/s]\n"
     ]
    },
    {
     "name": "stdout",
     "output_type": "stream",
     "text": [
      "C:/Users/Adam/OneDrive - Tenundra, Inc/Desktop/Programming/GADGET2/simOutput/tuning3protons84-800p.h5\n"
     ]
    },
    {
     "name": "stderr",
     "output_type": "stream",
     "text": [
      " 98%|█████████▊| 50/51 [00:00<00:00, 54.67it/s]\n"
     ]
    },
    {
     "name": "stdout",
     "output_type": "stream",
     "text": [
      "C:/Users/Adam/OneDrive - Tenundra, Inc/Desktop/Programming/GADGET2/simOutput/tuning3protons85-800p.h5\n"
     ]
    },
    {
     "name": "stderr",
     "output_type": "stream",
     "text": [
      " 98%|█████████▊| 50/51 [00:01<00:00, 46.62it/s]\n"
     ]
    },
    {
     "name": "stdout",
     "output_type": "stream",
     "text": [
      "C:/Users/Adam/OneDrive - Tenundra, Inc/Desktop/Programming/GADGET2/simOutput/tuning3protons86-800p.h5\n"
     ]
    },
    {
     "name": "stderr",
     "output_type": "stream",
     "text": [
      " 98%|█████████▊| 50/51 [00:00<00:00, 50.90it/s]\n"
     ]
    },
    {
     "name": "stdout",
     "output_type": "stream",
     "text": [
      "C:/Users/Adam/OneDrive - Tenundra, Inc/Desktop/Programming/GADGET2/simOutput/tuning3protons87-800p.h5\n"
     ]
    },
    {
     "name": "stderr",
     "output_type": "stream",
     "text": [
      " 98%|█████████▊| 50/51 [00:01<00:00, 48.65it/s]\n"
     ]
    },
    {
     "name": "stdout",
     "output_type": "stream",
     "text": [
      "C:/Users/Adam/OneDrive - Tenundra, Inc/Desktop/Programming/GADGET2/simOutput/tuning3protons88-800p.h5\n"
     ]
    },
    {
     "name": "stderr",
     "output_type": "stream",
     "text": [
      " 98%|█████████▊| 50/51 [00:01<00:00, 49.75it/s]\n"
     ]
    },
    {
     "name": "stdout",
     "output_type": "stream",
     "text": [
      "C:/Users/Adam/OneDrive - Tenundra, Inc/Desktop/Programming/GADGET2/simOutput/tuning3protons89-800p.h5\n"
     ]
    },
    {
     "name": "stderr",
     "output_type": "stream",
     "text": [
      " 98%|█████████▊| 50/51 [00:01<00:00, 41.86it/s]\n"
     ]
    },
    {
     "name": "stdout",
     "output_type": "stream",
     "text": [
      "C:/Users/Adam/OneDrive - Tenundra, Inc/Desktop/Programming/GADGET2/simOutput/tuning3protons9-800p.h5\n"
     ]
    },
    {
     "name": "stderr",
     "output_type": "stream",
     "text": [
      " 98%|█████████▊| 50/51 [00:01<00:00, 37.04it/s]\n"
     ]
    },
    {
     "name": "stdout",
     "output_type": "stream",
     "text": [
      "C:/Users/Adam/OneDrive - Tenundra, Inc/Desktop/Programming/GADGET2/simOutput/tuning3protons90-800p.h5\n"
     ]
    },
    {
     "name": "stderr",
     "output_type": "stream",
     "text": [
      " 98%|█████████▊| 50/51 [00:01<00:00, 43.78it/s]\n"
     ]
    },
    {
     "name": "stdout",
     "output_type": "stream",
     "text": [
      "C:/Users/Adam/OneDrive - Tenundra, Inc/Desktop/Programming/GADGET2/simOutput/tuning3protons91-800p.h5\n"
     ]
    },
    {
     "name": "stderr",
     "output_type": "stream",
     "text": [
      " 98%|█████████▊| 50/51 [00:01<00:00, 40.68it/s]\n"
     ]
    },
    {
     "name": "stdout",
     "output_type": "stream",
     "text": [
      "C:/Users/Adam/OneDrive - Tenundra, Inc/Desktop/Programming/GADGET2/simOutput/tuning3protons92-800p.h5\n"
     ]
    },
    {
     "name": "stderr",
     "output_type": "stream",
     "text": [
      " 98%|█████████▊| 50/51 [00:01<00:00, 41.02it/s]\n"
     ]
    },
    {
     "name": "stdout",
     "output_type": "stream",
     "text": [
      "C:/Users/Adam/OneDrive - Tenundra, Inc/Desktop/Programming/GADGET2/simOutput/tuning3protons93-800p.h5\n"
     ]
    },
    {
     "name": "stderr",
     "output_type": "stream",
     "text": [
      " 98%|█████████▊| 50/51 [00:01<00:00, 48.20it/s]\n"
     ]
    },
    {
     "name": "stdout",
     "output_type": "stream",
     "text": [
      "C:/Users/Adam/OneDrive - Tenundra, Inc/Desktop/Programming/GADGET2/simOutput/tuning3protons94-800p.h5\n"
     ]
    },
    {
     "name": "stderr",
     "output_type": "stream",
     "text": [
      " 98%|█████████▊| 50/51 [00:00<00:00, 51.12it/s]\n"
     ]
    },
    {
     "name": "stdout",
     "output_type": "stream",
     "text": [
      "C:/Users/Adam/OneDrive - Tenundra, Inc/Desktop/Programming/GADGET2/simOutput/tuning3protons95-800p.h5\n"
     ]
    },
    {
     "name": "stderr",
     "output_type": "stream",
     "text": [
      " 98%|█████████▊| 50/51 [00:01<00:00, 47.45it/s]\n"
     ]
    },
    {
     "name": "stdout",
     "output_type": "stream",
     "text": [
      "C:/Users/Adam/OneDrive - Tenundra, Inc/Desktop/Programming/GADGET2/simOutput/tuning3protons96-800p.h5\n"
     ]
    },
    {
     "name": "stderr",
     "output_type": "stream",
     "text": [
      " 98%|█████████▊| 50/51 [00:00<00:00, 53.71it/s]\n"
     ]
    },
    {
     "name": "stdout",
     "output_type": "stream",
     "text": [
      "C:/Users/Adam/OneDrive - Tenundra, Inc/Desktop/Programming/GADGET2/simOutput/tuning3protons97-800p.h5\n"
     ]
    },
    {
     "name": "stderr",
     "output_type": "stream",
     "text": [
      " 98%|█████████▊| 50/51 [00:01<00:00, 42.23it/s]\n"
     ]
    },
    {
     "name": "stdout",
     "output_type": "stream",
     "text": [
      "C:/Users/Adam/OneDrive - Tenundra, Inc/Desktop/Programming/GADGET2/simOutput/tuning3protons98-800p.h5\n"
     ]
    },
    {
     "name": "stderr",
     "output_type": "stream",
     "text": [
      " 98%|█████████▊| 50/51 [00:01<00:00, 43.65it/s]\n"
     ]
    },
    {
     "name": "stdout",
     "output_type": "stream",
     "text": [
      "C:/Users/Adam/OneDrive - Tenundra, Inc/Desktop/Programming/GADGET2/simOutput/tuning3protons99-800p.h5\n"
     ]
    },
    {
     "name": "stderr",
     "output_type": "stream",
     "text": [
      " 98%|█████████▊| 50/51 [00:01<00:00, 48.70it/s]\n"
     ]
    }
   ],
   "source": [
    "# assign directory\n",
    "directory = \"C:/Users/Adam/OneDrive - Tenundra, Inc/Desktop/Programming/GADGET2/simOutput/\"\n",
    "\n",
    "output_df = pd.DataFrame(columns=['file','event','length', 'width', 'depth', 'tracesum', 'tracemax', 'tracedev', 'padnum'])\n",
    "\n",
    "file_names = []\n",
    "# iterate over files in directory\n",
    "for filename in os.listdir(directory):\n",
    "    f = os.path.join(directory, filename)\n",
    "    # checking if it is a file\n",
    "    if os.path.isfile(f):\n",
    "        if f[-3:] == '.h5':\n",
    "            print(f)\n",
    "            file_names.append(filename)\n",
    "            h5f = h5py.File(directory+filename, 'r')\n",
    "            (tot_energy, skipped_events, veto_events, good_events, len_list, width_list, depth_list, tracemax_list, tracedev_list, pads_list) = main(h5file=h5f, threshold=15)\n",
    "            for event in range(len(tot_energy)):\n",
    "                output_df = output_df.append({'file' : filename, \n",
    "                                              'event' : event, \n",
    "                                              'length' : len_list[event], \n",
    "                                              'width' : width_list[event], \n",
    "                                              'depth' : depth_list[event], \n",
    "                                              'tracesum' : tot_energy[event], \n",
    "                                              'tracemax' : tracemax_list[event], \n",
    "                                              'tracedev' : tracedev_list[event], \n",
    "                                              'padnum' : pads_list[event]}\n",
    "                                             ,ignore_index = True)\n"
   ]
  },
  {
   "cell_type": "code",
   "execution_count": 8,
   "metadata": {},
   "outputs": [
    {
     "name": "stdout",
     "output_type": "stream",
     "text": [
      "273_800p.h5\n",
      "length:\t 13.598839169264545 \t 0.36378981766204926\n",
      "width:\t 5.490411630687277 \t 1.079046393352792\n",
      "depth:\t 1.1956686193850883 \t 0.4627512586642447\n",
      "tracesum:\t 155282.26997909456 \t 1353.2815542925161\n",
      "tracemax:\t 17261.59640386621 \t 3820.7164201418886\n",
      "tracedev:\t 3396.80817140803 \t 395.6029936835511\n",
      "padnum:\t 89.44822485207101 \t 4.124217163844774\n",
      "\n",
      "tuning3protons0-800p.h5\n",
      "length:\t 14.592615707306718 \t 1.1526767462669063\n",
      "width:\t 8.573641052536388 \t 0.9034343261255041\n",
      "depth:\t 3.644100760765216 \t 0.9289545240259964\n",
      "tracesum:\t 163846.138662618 \t 1411.6020089156248\n",
      "tracemax:\t 16022.70730437251 \t 2124.4567464204424\n",
      "tracedev:\t 3352.98476602642 \t 250.05157110139254\n",
      "padnum:\t 105.96 \t 11.000853399177906\n",
      "\n",
      "tuning3protons1-800p.h5\n",
      "length:\t 13.819244723975151 \t 1.0751786209191898\n",
      "width:\t 7.512977382597627 \t 0.8717554379353093\n",
      "depth:\t 3.258058805853486 \t 0.8211319399307213\n",
      "tracesum:\t 128339.49734028534 \t 1198.7855607685233\n",
      "tracemax:\t 12822.224538464357 \t 1778.0367853583941\n",
      "tracedev:\t 2655.3939473325813 \t 208.05416938963944\n",
      "padnum:\t 104.04 \t 12.785450915084725\n",
      "\n",
      "tuning3protons10-800p.h5\n",
      "length:\t 14.53835304720938 \t 1.2219810575598964\n",
      "width:\t 8.463306814286913 \t 0.8774955290705763\n",
      "depth:\t 3.8326404890793038 \t 0.967707763964031\n",
      "tracesum:\t 223610.90941377002 \t 2086.327541200494\n",
      "tracemax:\t 19877.572271018817 \t 2673.95080969056\n",
      "tracedev:\t 4334.683205504546 \t 335.1455856914644\n",
      "padnum:\t 99.42 \t 12.831864038162092\n",
      "\n",
      "tuning3protons11-800p.h5\n",
      "length:\t 14.067903610710689 \t 1.0085529750036937\n",
      "width:\t 7.847119832536051 \t 0.8561872137752173\n",
      "depth:\t 3.7291041123950874 \t 0.9024731960150546\n",
      "tracesum:\t 156020.0869590069 \t 1234.3193019590067\n",
      "tracemax:\t 15611.547689391016 \t 2214.379602760734\n",
      "tracedev:\t 3227.3258747976524 \t 256.6718240821903\n",
      "padnum:\t 99.6 \t 14.822762418465922\n",
      "\n",
      "tuning3protons12-800p.h5\n",
      "length:\t 15.405409119393134 \t 1.1379192967061376\n",
      "width:\t 9.421554542440855 \t 1.0420281054113585\n",
      "depth:\t 4.095489992350933 \t 0.9927561904187886\n",
      "tracesum:\t 313081.2123245964 \t 1961.6026119740857\n",
      "tracemax:\t 30039.846147140765 \t 3796.9913919696637\n",
      "tracedev:\t 6335.9533625452905 \t 448.07365740516326\n",
      "padnum:\t 105.52 \t 11.042108642161882\n",
      "\n",
      "tuning3protons13-800p.h5\n",
      "length:\t 15.177395404609012 \t 1.194882447516805\n",
      "width:\t 8.92373401415967 \t 0.8859694416190126\n",
      "depth:\t 3.9275166829453045 \t 0.8192584325262409\n",
      "tracesum:\t 225182.97169173858 \t 1503.405040353493\n",
      "tracemax:\t 22792.93617757163 \t 3112.671630038948\n",
      "tracedev:\t 4695.338819755087 \t 354.7329686513576\n",
      "padnum:\t 104.3 \t 11.998724422000118\n",
      "\n",
      "tuning3protons14-800p.h5\n",
      "length:\t 14.511309357782054 \t 1.1060085965115867\n",
      "width:\t 8.513709399990796 \t 0.9292869872045895\n",
      "depth:\t 4.300892692037066 \t 1.0633605812721298\n",
      "tracesum:\t 179528.3819719008 \t 1629.1986324084457\n",
      "tracemax:\t 16252.387170278875 \t 2278.1789057839446\n",
      "tracedev:\t 3515.204577736582 \t 282.049281852377\n",
      "padnum:\t 95.56 \t 13.843380500205482\n",
      "\n",
      "tuning3protons15-800p.h5\n",
      "length:\t 14.729753863637525 \t 1.1549481131572226\n",
      "width:\t 8.628256475794535 \t 0.9165864524653478\n",
      "depth:\t 3.8077166305624126 \t 0.9739656564973131\n",
      "tracesum:\t 242372.84776267316 \t 1742.8183720739323\n",
      "tracemax:\t 24079.472603689785 \t 3179.01025194992\n",
      "tracedev:\t 5001.415787902131 \t 367.5462548058716\n",
      "padnum:\t 103.72 \t 12.40315957113101\n",
      "\n",
      "tuning3protons16-800p.h5\n",
      "length:\t 14.865115972938058 \t 1.1158006477700853\n",
      "width:\t 8.522100631014077 \t 0.9083676261688514\n",
      "depth:\t 3.7984145412545236 \t 0.9423283655531219\n",
      "tracesum:\t 259772.27732894366 \t 1581.0277113985185\n",
      "tracemax:\t 25101.79977670819 \t 3249.171714592391\n",
      "tracedev:\t 5279.730418960474 \t 379.1660436541137\n",
      "padnum:\t 105.48 \t 10.977230608707037\n",
      "\n",
      "tuning3protons17-800p.h5\n",
      "length:\t 15.194282137770447 \t 1.1915167386677303\n",
      "width:\t 9.173611826276087 \t 0.983001306142563\n",
      "depth:\t 4.124260801243963 \t 1.0788821448543895\n",
      "tracesum:\t 281632.5367603494 \t 2039.5616633919744\n",
      "tracemax:\t 27196.251631255676 \t 3514.0573907669173\n",
      "tracedev:\t 5722.884022836446 \t 409.8501197999886\n",
      "padnum:\t 106.28 \t 10.2699084907395\n",
      "\n",
      "tuning3protons18-800p.h5\n",
      "length:\t 14.824228640644492 \t 1.0564229386990154\n",
      "width:\t 8.643634457118388 \t 0.9434658108991874\n",
      "depth:\t 3.712952308202773 \t 0.9215002806913019\n",
      "tracesum:\t 283340.22369341087 \t 2066.672835983227\n",
      "tracemax:\t 28183.408900248705 \t 3621.9501163369923\n",
      "tracedev:\t 5852.1525301427055 \t 422.8937124465718\n",
      "padnum:\t 107.44 \t 10.124046944310967\n",
      "\n",
      "tuning3protons19-800p.h5\n",
      "length:\t 14.733055658288755 \t 1.2137083968237565\n",
      "width:\t 8.775936119127046 \t 0.9475569834917423\n",
      "depth:\t 3.5302321759653488 \t 0.8359379871997803\n",
      "tracesum:\t 214706.77156389508 \t 1492.8158265602467\n",
      "tracemax:\t 21686.75733385988 \t 2895.910135359108\n",
      "tracedev:\t 4469.556890323982 \t 336.30490876441536\n",
      "padnum:\t 106.26 \t 10.886820341259295\n",
      "\n",
      "tuning3protons2-800p.h5\n",
      "length:\t 14.293983322019413 \t 0.9906446716569388\n",
      "width:\t 7.921060567908037 \t 0.8421861692137713\n",
      "depth:\t 3.4305637700988525 \t 0.9200644404393783\n",
      "tracesum:\t 211433.63831966455 \t 1492.724174525181\n",
      "tracemax:\t 20704.536330455347 \t 2718.1045139913344\n",
      "tracedev:\t 4330.458665130864 \t 319.2784194619415\n",
      "padnum:\t 105.52 \t 10.725213474874645\n",
      "\n",
      "tuning3protons20-800p.h5\n",
      "length:\t 15.376394353785674 \t 1.269632190896101\n",
      "width:\t 9.377193496069657 \t 1.0205556780640805\n",
      "depth:\t 4.004417791147058 \t 0.8763081027493076\n",
      "tracesum:\t 348109.2857485683 \t 2086.561099149637\n",
      "tracemax:\t 32948.8683050373 \t 4088.725763064126\n",
      "tracedev:\t 6993.222268294069 \t 487.5545905870791\n",
      "padnum:\t 106.4 \t 10.161953853587852\n",
      "\n",
      "tuning3protons21-800p.h5\n",
      "length:\t 14.678889253307739 \t 1.180967142448348\n",
      "width:\t 8.671579833101955 \t 0.9027587891233857\n",
      "depth:\t 3.8857699781898716 \t 1.0763459559969275\n",
      "tracesum:\t 223189.118933693 \t 1604.7586563162617\n",
      "tracemax:\t 21513.667099555067 \t 2866.09838853907\n",
      "tracedev:\t 4528.729691687295 \t 340.1567125639299\n",
      "padnum:\t 101.8 \t 13.130428906372636\n",
      "\n",
      "tuning3protons22-800p.h5\n",
      "length:\t 14.820385024762045 \t 1.1594654060817768\n",
      "width:\t 8.550236727046526 \t 0.9388460848724886\n",
      "depth:\t 3.4274400878931504 \t 0.80842173332994\n",
      "tracesum:\t 291304.2881146531 \t 1562.7464582625362\n",
      "tracemax:\t 29511.798022989627 \t 3690.563280063215\n",
      "tracedev:\t 6079.907698079482 \t 422.3588322600659\n",
      "padnum:\t 109.76 \t 7.416363595428143\n",
      "\n",
      "tuning3protons23-800p.h5\n",
      "length:\t 14.665284790360692 \t 1.09385318593189\n",
      "width:\t 8.84487551151863 \t 0.9083610193459889\n",
      "depth:\t 3.586471900695955 \t 0.809600360874161\n",
      "tracesum:\t 215499.27462623548 \t 2107.869050365686\n",
      "tracemax:\t 21095.567111773194 \t 2709.7487653047424\n",
      "tracedev:\t 4411.048519993271 \t 320.8538767464851\n",
      "padnum:\t 106.98 \t 10.146860376993668\n",
      "\n",
      "tuning3protons24-800p.h5\n",
      "length:\t 14.478853522075076 \t 1.1212055226949276\n",
      "width:\t 8.212970276209901 \t 0.9014116518626325\n",
      "depth:\t 4.013672197636147 \t 1.0447723661760344\n",
      "tracesum:\t 211021.41374816315 \t 1593.086569229192\n",
      "tracemax:\t 20671.595613645644 \t 3016.2872020130385\n",
      "tracedev:\t 4313.090720845845 \t 348.82164979517\n",
      "padnum:\t 95.06 \t 15.762795256099544\n",
      "\n",
      "tuning3protons25-800p.h5\n",
      "length:\t 14.957372780191179 \t 1.1689605719976304\n",
      "width:\t 8.812900662357158 \t 0.9567055065658172\n",
      "depth:\t 3.7502346925334025 \t 0.8231090474447139\n",
      "tracesum:\t 279295.85156890634 \t 1684.8062402631954\n",
      "tracemax:\t 28356.19050428898 \t 3653.7045602628864\n",
      "tracedev:\t 5836.9394062781985 \t 418.4014016048856\n",
      "padnum:\t 108.5 \t 8.172252705693474\n",
      "\n",
      "tuning3protons26-800p.h5\n",
      "length:\t 15.049591063216873 \t 1.135942549492787\n",
      "width:\t 8.911818132892979 \t 0.978905756117535\n",
      "depth:\t 3.8092399215493327 \t 0.8620258952815675\n",
      "tracesum:\t 254556.0562398577 \t 1661.2907534652193\n",
      "tracemax:\t 25851.546512962024 \t 3408.7891950216735\n",
      "tracedev:\t 5320.40760609005 \t 390.2948675484343\n",
      "padnum:\t 107.88 \t 9.410458792953591\n",
      "\n",
      "tuning3protons27-800p.h5\n",
      "length:\t 14.593293499785755 \t 1.1673320247594188\n",
      "width:\t 8.531524385159816 \t 0.8990825347567521\n",
      "depth:\t 3.854540622256869 \t 0.933791541535799\n",
      "tracesum:\t 237626.35842705876 \t 1701.6932058502919\n",
      "tracemax:\t 23033.257643581623 \t 3124.637791176602\n",
      "tracedev:\t 4832.737081382335 \t 368.8269404034749\n",
      "padnum:\t 101.44 \t 13.905159811658228\n",
      "\n",
      "tuning3protons28-800p.h5\n",
      "length:\t 14.732577319760702 \t 1.0383356803093\n",
      "width:\t 8.500340881539962 \t 0.9283714521946744\n",
      "depth:\t 3.554838986467875 \t 0.8034713956711026\n",
      "tracesum:\t 249394.41630217544 \t 1523.6620025069096\n",
      "tracemax:\t 23420.272504893815 \t 2963.5091618699944\n",
      "tracedev:\t 4987.789347824731 \t 355.6909092967091\n",
      "padnum:\t 105.44 \t 10.836747761243515\n",
      "\n",
      "tuning3protons29-800p.h5\n",
      "length:\t 14.353517596635207 \t 1.0649899202872757\n",
      "width:\t 7.879839667903709 \t 0.8353350827701534\n",
      "depth:\t 3.812052641133323 \t 0.9161357594426501\n",
      "tracesum:\t 193200.48982428614 \t 1302.3277024877148\n",
      "tracemax:\t 19644.1810401549 \t 2843.8908286049395\n",
      "tracedev:\t 4035.3805866959888 \t 322.1741728695875\n",
      "padnum:\t 98.66 \t 16.6409992831818\n",
      "\n",
      "tuning3protons3-800p.h5\n",
      "length:\t 14.842290585541354 \t 1.0877413496511135\n",
      "width:\t 8.639469289957756 \t 0.9601294518620876\n",
      "depth:\t 3.9859511248827073 \t 0.9983046594580934\n",
      "tracesum:\t 273102.9058209493 \t 1702.8789441982453\n",
      "tracemax:\t 24885.91652223483 \t 3231.0719029373004\n",
      "tracedev:\t 5370.417854000909 \t 391.05096193778957\n",
      "padnum:\t 101.84 \t 12.488950218133645\n",
      "\n",
      "tuning3protons30-800p.h5\n",
      "length:\t 15.241864026154188 \t 1.1050022970797224\n",
      "width:\t 8.85463913264958 \t 0.9853814262247572\n",
      "depth:\t 4.26263535795763 \t 1.0053795416831626\n",
      "tracesum:\t 249118.25112389223 \t 1568.5466077575597\n",
      "tracemax:\t 24295.92011787883 \t 3292.459833464889\n",
      "tracedev:\t 5086.202734541132 \t 383.5640001680677\n",
      "padnum:\t 101.94 \t 13.084357384421493\n",
      "\n",
      "tuning3protons31-800p.h5\n",
      "length:\t 14.87498579132505 \t 1.0474093759152734\n",
      "width:\t 8.791467830603095 \t 0.9546748966906902\n",
      "depth:\t 4.249692320505502 \t 1.12802886086625\n",
      "tracesum:\t 171418.4431343591 \t 1217.3108626101364\n",
      "tracemax:\t 17486.845714892348 \t 2589.8675412474677\n",
      "tracedev:\t 3584.831415196465 \t 295.9547603881288\n",
      "padnum:\t 94.32 \t 16.320064025484655\n",
      "\n",
      "tuning3protons32-800p.h5\n",
      "length:\t 14.863460406609624 \t 1.1664867858866466\n",
      "width:\t 8.915770883914307 \t 0.9135662380470027\n",
      "depth:\t 3.7454588412769287 \t 0.8753279306154716\n",
      "tracesum:\t 270210.8052221716 \t 1746.8243646711965\n",
      "tracemax:\t 24825.045877291883 \t 3106.598447688867\n",
      "tracedev:\t 5336.528484631408 \t 379.42286737719036\n",
      "padnum:\t 103.8 \t 11.588171308956142\n",
      "\n",
      "tuning3protons33-800p.h5\n",
      "length:\t 14.921724527174376 \t 1.0886545764747684\n",
      "width:\t 8.755173069162339 \t 0.9353570760422258\n",
      "depth:\t 3.8463327959123315 \t 0.894085883476338\n",
      "tracesum:\t 220344.19951884757 \t 1769.86229687245\n",
      "tracemax:\t 20711.353295044995 \t 2749.035025709577\n",
      "tracedev:\t 4408.492051936835 \t 330.7668034243791\n",
      "padnum:\t 102.0 \t 12.550306931769942\n",
      "\n",
      "tuning3protons34-800p.h5\n",
      "length:\t 14.523683240854153 \t 1.1771387518897725\n",
      "width:\t 8.145986286828922 \t 0.8659843149988\n",
      "depth:\t 4.041793138790667 \t 1.0463038208069124\n",
      "tracesum:\t 246930.8039444113 \t 1895.454588252171\n",
      "tracemax:\t 24340.57942243259 \t 3491.1216299954954\n",
      "tracedev:\t 5068.405599256113 \t 405.4270712605014\n",
      "padnum:\t 98.22 \t 15.149984845415737\n",
      "\n",
      "tuning3protons35-800p.h5\n",
      "length:\t 14.425526020862069 \t 1.0052710174723956\n",
      "width:\t 8.14844238532293 \t 0.8133783403826095\n",
      "depth:\t 4.27119473175674 \t 0.9626087002129757\n",
      "tracesum:\t 173001.40896263055 \t 1638.9003372620116\n",
      "tracemax:\t 15623.843236422776 \t 2319.471316694148\n",
      "tracedev:\t 3379.1438975014457 \t 284.00581014770665\n",
      "padnum:\t 92.12 \t 14.489461335602451\n",
      "\n",
      "tuning3protons36-800p.h5\n",
      "length:\t 14.832808366126905 \t 1.2156550880563772\n",
      "width:\t 8.913212448177774 \t 0.9020091149026864\n",
      "depth:\t 4.430207211364714 \t 1.043908784092042\n",
      "tracesum:\t 239839.44559686907 \t 1640.966897691475\n",
      "tracemax:\t 23818.285820026547 \t 3500.419970025872\n",
      "tracedev:\t 4943.955603430803 \t 401.68982372883096\n",
      "padnum:\t 91.72 \t 16.63416695251318\n",
      "\n",
      "tuning3protons37-800p.h5\n",
      "length:\t 14.756128490678861 \t 1.1364263722247725\n",
      "width:\t 8.708310262217916 \t 0.8756282334495447\n",
      "depth:\t 4.04783760998103 \t 1.0466789042536306\n",
      "tracesum:\t 206188.96919342986 \t 1640.0766060271062\n",
      "tracemax:\t 20446.97863925455 \t 2933.3077915343015\n",
      "tracedev:\t 4248.635821272003 \t 340.32997587166244\n",
      "padnum:\t 98.66 \t 15.178677310555068\n",
      "\n",
      "tuning3protons38-800p.h5\n",
      "length:\t 14.687715433567169 \t 1.2446079876640872\n",
      "width:\t 8.740286442548664 \t 0.8947722165154764\n",
      "depth:\t 4.2947865800012455 \t 1.0170683263653555\n",
      "tracesum:\t 225591.9190400622 \t 1542.4654152286982\n",
      "tracemax:\t 21660.941875570934 \t 3102.2595379573268\n",
      "tracedev:\t 4565.667723606783 \t 363.3702492013705\n",
      "padnum:\t 95.72 \t 15.265059476344224\n",
      "\n",
      "tuning3protons39-800p.h5\n",
      "length:\t 15.082653133207089 \t 1.2987213067078192\n",
      "width:\t 8.902170708398154 \t 0.9496116215331497\n",
      "depth:\t 3.9058218933896107 \t 0.9880840102553532\n",
      "tracesum:\t 276064.9234918496 \t 1670.0682608962973\n",
      "tracemax:\t 25308.17979085434 \t 3262.1348584884054\n",
      "tracedev:\t 5446.032859391711 \t 394.35625389878845\n",
      "padnum:\t 102.1 \t 12.276159074916432\n",
      "\n",
      "tuning3protons4-800p.h5\n",
      "length:\t 15.21622845061438 \t 1.3222039428342323\n",
      "width:\t 8.961763541012356 \t 1.0092296312151812\n",
      "depth:\t 4.058145493356715 \t 0.9542664629020727\n",
      "tracesum:\t 358962.4653590506 \t 2129.512939034482\n",
      "tracemax:\t 34024.18265518532 \t 4332.090566916439\n",
      "tracedev:\t 7218.021905195696 \t 513.2882014880162\n",
      "padnum:\t 104.94 \t 10.863550740613197\n",
      "\n",
      "tuning3protons40-800p.h5\n",
      "length:\t 14.858541412612748 \t 1.2016222856659449\n",
      "width:\t 8.786056370771355 \t 0.9474706980988041\n",
      "depth:\t 4.271715393311091 \t 1.0015246548176753\n",
      "tracesum:\t 228768.1750398458 \t 1636.6183485788808\n",
      "tracemax:\t 22061.836654460978 \t 2989.552402012328\n",
      "tracedev:\t 4638.288116531358 \t 355.36751675784825\n",
      "padnum:\t 101.28 \t 13.720296301911446\n",
      "\n",
      "tuning3protons41-800p.h5\n",
      "length:\t 14.502231389910806 \t 1.2296956206576577\n",
      "width:\t 8.314411108926036 \t 0.8930509333288027\n",
      "depth:\t 4.060007454119282 \t 0.9536586330882756\n",
      "tracesum:\t 201805.42031297748 \t 1571.878625335525\n",
      "tracemax:\t 19119.731537685428 \t 2675.5716067877247\n",
      "tracedev:\t 4053.2935370885657 \t 317.7275538277705\n",
      "padnum:\t 97.76 \t 14.158807744110867\n",
      "\n",
      "tuning3protons42-800p.h5\n",
      "length:\t 14.798461031241859 \t 1.0940441808472472\n",
      "width:\t 8.206880860703246 \t 0.908481001589124\n",
      "depth:\t 3.531028400627369 \t 0.9406431711044602\n",
      "tracesum:\t 239326.85049701176 \t 1403.3334652761707\n",
      "tracemax:\t 24045.61667861212 \t 3083.3090627609545\n",
      "tracedev:\t 4973.220032547899 \t 355.14029865548537\n",
      "padnum:\t 107.14 \t 10.453024169383436\n",
      "\n",
      "tuning3protons43-800p.h5\n",
      "length:\t 15.52690262237872 \t 1.1241857051770714\n",
      "width:\t 9.834929346182335 \t 1.0558379339501243\n",
      "depth:\t 4.075019101920784 \t 0.929563373025563\n",
      "tracesum:\t 226889.66202773273 \t 1589.1375608435578\n",
      "tracemax:\t 23704.435000054145 \t 3243.434854761304\n",
      "tracedev:\t 4811.000505578982 \t 366.2279174797727\n",
      "padnum:\t 104.84 \t 12.662591539246456\n",
      "\n",
      "tuning3protons44-800p.h5\n",
      "length:\t 14.772900519095938 \t 1.0915982461980875\n",
      "width:\t 8.709064353840205 \t 0.877021049254743\n",
      "depth:\t 4.2658749307300505 \t 1.0002681035195111\n",
      "tracesum:\t 216889.0353154096 \t 1432.0306101780388\n",
      "tracemax:\t 21027.08827016627 \t 3046.7333083592976\n",
      "tracedev:\t 4409.732827133852 \t 352.85700721995397\n",
      "padnum:\t 94.08 \t 15.579735660957347\n",
      "\n",
      "tuning3protons45-800p.h5\n",
      "length:\t 14.486205315619143 \t 1.1619711462562115\n",
      "width:\t 8.462922933941407 \t 0.8868644166142998\n",
      "depth:\t 3.967065923028414 \t 1.0201404657586697\n",
      "tracesum:\t 173416.99046484008 \t 1361.6365461754922\n",
      "tracemax:\t 16725.566708518127 \t 2268.066406964625\n",
      "tracedev:\t 3516.5697126811046 \t 266.4742018483017\n",
      "padnum:\t 100.4 \t 13.388999444411407\n",
      "\n",
      "tuning3protons46-800p.h5\n",
      "length:\t 14.389620307132132 \t 1.1206631512538876\n",
      "width:\t 8.43850510508428 \t 0.8358720276839695\n",
      "depth:\t 3.5001064741483128 \t 0.8859580660031369\n",
      "tracesum:\t 234580.88586536233 \t 2025.7900250000264\n",
      "tracemax:\t 21119.814378928775 \t 2775.7858266864773\n",
      "tracedev:\t 4579.58940497768 \t 343.70621069266537\n",
      "padnum:\t 101.3 \t 12.99018467763964\n",
      "\n",
      "tuning3protons47-800p.h5\n",
      "length:\t 14.174214605128366 \t 1.0979096115852194\n",
      "width:\t 7.909294165812392 \t 0.9039492428009319\n",
      "depth:\t 3.5837026191737293 \t 0.9182327588284314\n",
      "tracesum:\t 159488.3288241126 \t 1279.7572998186045\n",
      "tracemax:\t 14823.763951829354 \t 1967.2766357004846\n",
      "tracedev:\t 3171.1172790670685 \t 236.12569453588398\n",
      "padnum:\t 101.76 \t 12.767241243886318\n",
      "\n",
      "tuning3protons48-800p.h5\n",
      "length:\t 15.197870817071054 \t 1.1715841080239762\n",
      "width:\t 9.347561974289508 \t 1.0268103845338301\n",
      "depth:\t 3.2766727635076074 \t 0.7603364345532289\n",
      "tracesum:\t 275350.2351560045 \t 1540.6394874434866\n",
      "tracemax:\t 27706.094241055074 \t 3320.7361072488206\n",
      "tracedev:\t 5726.281619030432 \t 379.92809617192444\n",
      "padnum:\t 110.7 \t 6.421424598759299\n",
      "\n",
      "tuning3protons49-800p.h5\n",
      "length:\t 14.537101250142152 \t 1.0823492143860567\n",
      "width:\t 8.401588411693778 \t 0.8641463815532535\n",
      "depth:\t 3.998765833783165 \t 1.0385381088604957\n",
      "tracesum:\t 193238.09576129058 \t 1543.667204784531\n",
      "tracemax:\t 18396.7123657004 \t 2646.9334342705724\n",
      "tracedev:\t 3890.8039127045354 \t 314.3764888009933\n",
      "padnum:\t 95.26 \t 15.328791104803207\n",
      "\n",
      "tuning3protons5-800p.h5\n",
      "length:\t 14.586164533810877 \t 1.1172348487169779\n",
      "width:\t 8.436577291964745 \t 0.8298108971528103\n",
      "depth:\t 3.680912863125994 \t 0.8978057167195606\n",
      "tracesum:\t 177637.44552447807 \t 1362.3865613059265\n",
      "tracemax:\t 17973.042155758067 \t 2533.7547970253945\n",
      "tracedev:\t 3700.700569140925 \t 290.8586746314248\n",
      "padnum:\t 102.38 \t 13.79720468583608\n",
      "\n",
      "tuning3protons50-800p.h5\n",
      "length:\t 14.832395086528722 \t 1.2418030655160242\n",
      "width:\t 8.581491282152857 \t 0.8976103288772364\n",
      "depth:\t 3.6860748557891214 \t 0.905322749454009\n",
      "tracesum:\t 238360.24866238202 \t 1442.9038036909305\n",
      "tracemax:\t 24242.15728848276 \t 3246.097372247899\n",
      "tracedev:\t 4982.344055722957 \t 371.69233150947065\n",
      "padnum:\t 105.74 \t 11.605435039195196\n",
      "\n",
      "tuning3protons51-800p.h5\n",
      "length:\t 14.987544567293268 \t 1.1212840793421208\n",
      "width:\t 9.024854713564965 \t 0.9804920509044415\n",
      "depth:\t 3.942754687196421 \t 1.070759356548325\n",
      "tracesum:\t 191598.81130260706 \t 1538.738820823872\n",
      "tracemax:\t 19183.284495971555 \t 2705.854077231146\n",
      "tracedev:\t 3969.3481609153246 \t 313.7669725507061\n",
      "padnum:\t 101.5 \t 13.59208953616712\n",
      "\n",
      "tuning3protons52-800p.h5\n",
      "length:\t 14.697089646782462 \t 1.1703354967618045\n",
      "width:\t 8.467981816921059 \t 0.83802297575702\n",
      "depth:\t 4.112479876985435 \t 0.9808063699952592\n",
      "tracesum:\t 241183.87564094283 \t 1635.6188079830424\n",
      "tracemax:\t 23292.121747234618 \t 3312.427927390842\n",
      "tracedev:\t 4892.069221539997 \t 389.7609607188527\n",
      "padnum:\t 96.28 \t 15.453736091433472\n",
      "\n",
      "tuning3protons53-800p.h5\n",
      "length:\t 14.482854528877622 \t 1.1506858507885083\n",
      "width:\t 8.463298929142791 \t 0.8598654384508091\n",
      "depth:\t 4.550515135170368 \t 1.2735131646262798\n",
      "tracesum:\t 187184.51006055094 \t 1361.9550953110506\n",
      "tracemax:\t 17800.129703568906 \t 2580.7453191681266\n",
      "tracedev:\t 3764.7506396274553 \t 302.9868020409865\n",
      "padnum:\t 94.34 \t 15.080207328190966\n",
      "\n",
      "tuning3protons54-800p.h5\n",
      "length:\t 14.52479923647466 \t 1.0338664982978851\n",
      "width:\t 8.305345320409925 \t 0.8728587472141274\n",
      "depth:\t 3.272203240803412 \t 0.7005531224859933\n",
      "tracesum:\t 250127.21050404556 \t 1513.0263331533015\n",
      "tracemax:\t 26202.668995007843 \t 3457.1666161402245\n",
      "tracedev:\t 5316.614586899927 \t 389.3967490584995\n",
      "padnum:\t 108.64 \t 9.667450120726494\n",
      "\n",
      "tuning3protons55-800p.h5\n",
      "length:\t 14.28561051765794 \t 0.9997676894205321\n",
      "width:\t 7.881917524838176 \t 0.7945801749744866\n",
      "depth:\t 3.995132732488031 \t 1.066215607059576\n",
      "tracesum:\t 208755.58746339352 \t 1582.8990483794269\n",
      "tracemax:\t 19268.569360787074 \t 2720.2460098879424\n",
      "tracedev:\t 4132.55355357609 \t 329.13252778295333\n",
      "padnum:\t 96.9 \t 14.522677551515978\n",
      "\n",
      "tuning3protons56-800p.h5\n",
      "length:\t 14.476928078557712 \t 1.0926293458378509\n",
      "width:\t 8.251545445362185 \t 0.8480950619630377\n",
      "depth:\t 4.118955783937157 \t 0.9139138192894934\n",
      "tracesum:\t 196264.16085455476 \t 1672.6712467629657\n",
      "tracemax:\t 18431.205705014196 \t 2523.943833844843\n",
      "tracedev:\t 3924.019385455766 \t 303.01724361452716\n",
      "padnum:\t 100.6 \t 13.156824875946572\n",
      "\n",
      "tuning3protons57-800p.h5\n",
      "length:\t 14.582001394306465 \t 1.1573599527590626\n",
      "width:\t 8.426514958463247 \t 0.8809994613656141\n",
      "depth:\t 3.5086750172992236 \t 0.8893323527724469\n",
      "tracesum:\t 236364.07175667133 \t 1578.6422635961765\n",
      "tracemax:\t 22765.822998834974 \t 2958.8843937784973\n",
      "tracedev:\t 4795.777588402787 \t 346.2975771404467\n",
      "padnum:\t 104.62 \t 11.661711289689933\n",
      "\n",
      "tuning3protons58-800p.h5\n",
      "length:\t 15.045009245838573 \t 1.212707826124058\n",
      "width:\t 9.004769418839587 \t 0.9221297375293935\n",
      "depth:\t 3.7922325542713877 \t 0.7815920412117097\n",
      "tracesum:\t 225041.68576134753 \t 1654.5257662830147\n",
      "tracemax:\t 22747.654787196545 \t 3078.2531494938153\n",
      "tracedev:\t 4687.283525859207 \t 356.8963254743346\n",
      "padnum:\t 105.34 \t 11.463535801018136\n",
      "\n",
      "tuning3protons59-800p.h5\n",
      "length:\t 15.090866493204018 \t 1.2748437672314108\n",
      "width:\t 9.05208350422531 \t 0.989929541192162\n",
      "depth:\t 4.089021335590701 \t 1.0713734268234167\n",
      "tracesum:\t 301869.85542033345 \t 1991.1721962955266\n",
      "tracemax:\t 28711.506112701172 \t 3719.5347217922135\n",
      "tracedev:\t 6080.785659686826 \t 440.80828641522936\n",
      "padnum:\t 105.34 \t 11.0113299721288\n",
      "\n",
      "tuning3protons6-800p.h5\n",
      "length:\t 14.673199739924069 \t 1.1993239052257842\n",
      "width:\t 8.278361121059694 \t 0.9292344618955526\n",
      "depth:\t 3.6866489815273824 \t 0.8834641091787343\n",
      "tracesum:\t 277799.34716317593 \t 1894.8748921964532\n",
      "tracemax:\t 26267.30023965172 \t 3404.200659781989\n",
      "tracedev:\t 5578.792185759936 \t 403.8436371976842\n",
      "padnum:\t 104.32 \t 11.238490711362791\n",
      "\n",
      "tuning3protons60-800p.h5\n",
      "length:\t 14.659236719475585 \t 1.1880147617217784\n",
      "width:\t 8.673857220726505 \t 0.8894429817950861\n",
      "depth:\t 4.106274657703591 \t 1.0913637095621553\n",
      "tracesum:\t 185782.94930571516 \t 1736.02892922271\n",
      "tracemax:\t 18427.021349487513 \t 2721.904141238205\n",
      "tracedev:\t 3827.0421458014584 \t 315.57340499346714\n",
      "padnum:\t 98.5 \t 14.41406625912511\n",
      "\n",
      "tuning3protons61-800p.h5\n",
      "length:\t 15.003163186209074 \t 1.1324677333030777\n",
      "width:\t 8.908508510248533 \t 0.9428937883054596\n",
      "depth:\t 4.2333934961469195 \t 1.0212145581083536\n",
      "tracesum:\t 262533.7909470929 \t 1960.7299810987058\n",
      "tracemax:\t 24915.49805444585 \t 3266.3091261282807\n",
      "tracedev:\t 5282.4723409837225 \t 385.7817070122188\n",
      "padnum:\t 103.42 \t 12.074750176990607\n",
      "\n",
      "tuning3protons62-800p.h5\n",
      "length:\t 14.848513001141118 \t 1.1675081536179344\n",
      "width:\t 8.67061418655469 \t 0.9301338379588006\n",
      "depth:\t 3.9182107328210627 \t 0.9428268440361874\n",
      "tracesum:\t 293396.68894208816 \t 1814.9708561216046\n",
      "tracemax:\t 26788.00983268061 \t 3338.115699543907\n",
      "tracedev:\t 5776.713640457626 \t 405.5390055384157\n",
      "padnum:\t 103.86 \t 11.82527559328504\n",
      "\n",
      "tuning3protons63-800p.h5\n",
      "length:\t 14.73146096616808 \t 1.1687534679066989\n",
      "width:\t 8.797091394772757 \t 0.8611670324123029\n",
      "depth:\t 4.333329440993636 \t 1.0542948527657465\n",
      "tracesum:\t 170374.04134520813 \t 1419.1888012091874\n",
      "tracemax:\t 15833.566789699998 \t 2280.6436125394434\n",
      "tracedev:\t 3383.1508042737905 \t 275.56545115717535\n",
      "padnum:\t 93.64 \t 14.86779837674121\n",
      "\n",
      "tuning3protons64-800p.h5\n",
      "length:\t 15.422092218736065 \t 1.2976892111962062\n",
      "width:\t 9.21236555255133 \t 0.9659408345045705\n",
      "depth:\t 4.539355226954747 \t 1.0819368954042818\n",
      "tracesum:\t 284916.3431323826 \t 1882.3813227009737\n",
      "tracemax:\t 25951.6424835088 \t 3491.9398427903734\n",
      "tracedev:\t 5600.851019685773 \t 421.8766954925288\n",
      "padnum:\t 99.72 \t 13.392108550507325\n",
      "\n",
      "tuning3protons65-800p.h5\n",
      "length:\t 15.47649351798068 \t 1.1621734311468639\n",
      "width:\t 9.462394610407852 \t 1.0143360308659877\n",
      "depth:\t 3.872851263856752 \t 0.8813358549535574\n",
      "tracesum:\t 339581.76900947926 \t 1723.3987714132\n",
      "tracemax:\t 33978.38215839687 \t 4336.493851901404\n",
      "tracedev:\t 7036.122020223298 \t 499.0319448763769\n",
      "padnum:\t 106.68 \t 10.324213662797861\n",
      "\n",
      "tuning3protons66-800p.h5\n",
      "length:\t 14.581229573706453 \t 1.0582975758397928\n",
      "width:\t 8.071823804767272 \t 0.8760478927008584\n",
      "depth:\t 3.5280484009468562 \t 0.8335108600538076\n",
      "tracesum:\t 246738.35403192855 \t 1432.7609810092315\n",
      "tracemax:\t 23751.940834701956 \t 3028.610638178838\n",
      "tracedev:\t 5002.947967555021 \t 357.23158767539593\n",
      "padnum:\t 105.1 \t 11.163442523683806\n",
      "\n",
      "tuning3protons67-800p.h5\n",
      "length:\t 14.477358188068997 \t 1.1524973448605802\n",
      "width:\t 8.10996111330138 \t 0.8364758512908207\n",
      "depth:\t 3.813756420925198 \t 0.933553944993104\n",
      "tracesum:\t 247257.3390407947 \t 1847.908877529003\n",
      "tracemax:\t 23332.251944403335 \t 3206.657459054545\n",
      "tracedev:\t 4954.7447180165855 \t 382.85330124281955\n",
      "padnum:\t 99.38 \t 13.83560918906909\n",
      "\n",
      "tuning3protons68-800p.h5\n",
      "length:\t 14.917396615497822 \t 1.1275304913116988\n",
      "width:\t 8.924042771024338 \t 0.9462381860517789\n",
      "depth:\t 3.916281948620031 \t 0.9784586779919456\n",
      "tracesum:\t 213530.62599726982 \t 1619.701044369428\n",
      "tracemax:\t 20337.020368438236 \t 2638.6921683597657\n",
      "tracedev:\t 4306.845628568031 \t 313.80586531965463\n",
      "padnum:\t 105.32 \t 11.202113503208915\n",
      "\n",
      "tuning3protons69-800p.h5\n",
      "length:\t 14.850003961782962 \t 1.143096788126563\n",
      "width:\t 8.742248554471074 \t 0.9105977039816912\n",
      "depth:\t 3.5407877585520016 \t 0.9044763124318733\n",
      "tracesum:\t 263122.8097201792 \t 1657.5735501266909\n",
      "tracemax:\t 25610.54946545318 \t 3297.6706953877174\n",
      "tracedev:\t 5369.681071838738 \t 386.67575036662873\n",
      "padnum:\t 106.06 \t 10.852273344082976\n",
      "\n",
      "tuning3protons7-800p.h5\n",
      "length:\t 14.64945424040697 \t 1.1475000329545255\n",
      "width:\t 8.361307977003513 \t 0.9442403611502328\n",
      "depth:\t 4.243761823330594 \t 0.9884174761981637\n",
      "tracesum:\t 258625.86294326145 \t 1885.5438461712622\n",
      "tracemax:\t 22643.292805432386 \t 3019.197856829311\n",
      "tracedev:\t 4970.397667617199 \t 375.5275890622268\n",
      "padnum:\t 98.54 \t 12.870168005500002\n",
      "\n",
      "tuning3protons70-800p.h5\n",
      "length:\t 14.522263105496224 \t 1.050455382499108\n",
      "width:\t 8.227102013773228 \t 0.872725968707679\n",
      "depth:\t 3.5099207702216875 \t 0.8494405325798337\n",
      "tracesum:\t 202112.23481821257 \t 1370.9845676084176\n",
      "tracemax:\t 20272.811484707923 \t 2707.977860757844\n",
      "tracedev:\t 4190.04700038167 \t 308.36028217376827\n",
      "padnum:\t 102.94 \t 13.1667639710518\n",
      "\n",
      "tuning3protons71-800p.h5\n",
      "length:\t 15.014986300483715 \t 1.0968910587413359\n",
      "width:\t 9.169875019433164 \t 1.009900502036091\n",
      "depth:\t 4.36865067774109 \t 1.1069675066656777\n",
      "tracesum:\t 203482.51753762588 \t 1885.9573619614657\n",
      "tracemax:\t 19814.20696762354 \t 2877.6004256906785\n",
      "tracedev:\t 4147.522089484465 \t 335.6506724375366\n",
      "padnum:\t 97.2 \t 15.072613358982833\n",
      "\n",
      "tuning3protons72-800p.h5\n",
      "length:\t 14.422054913935288 \t 1.0488634782858237\n",
      "width:\t 8.31789904274089 \t 0.877182922760032\n",
      "depth:\t 3.538319404577615 \t 0.7778547340323885\n",
      "tracesum:\t 147243.32494665912 \t 1282.6573592440463\n",
      "tracemax:\t 15872.029582015295 \t 2314.654598024212\n",
      "tracedev:\t 3179.1480258910847 \t 255.4212580438328\n",
      "padnum:\t 101.78 \t 14.116555630079983\n",
      "\n",
      "tuning3protons73-800p.h5\n",
      "length:\t 14.55367527893568 \t 1.165202645961837\n",
      "width:\t 8.63167082230866 \t 0.838761153743727\n",
      "depth:\t 3.668530381042294 \t 0.9101896677656705\n",
      "tracesum:\t 169263.6559386205 \t 1394.256032093218\n",
      "tracemax:\t 17025.482997612577 \t 2307.142881825484\n",
      "tracedev:\t 3516.657769293202 \t 268.69338615563987\n",
      "padnum:\t 104.16 \t 12.829112301674641\n",
      "\n",
      "tuning3protons74-800p.h5\n",
      "length:\t 14.549205002068016 \t 1.1902670356461948\n",
      "width:\t 8.2245767474214 \t 0.8843749963851651\n",
      "depth:\t 3.7888496340940225 \t 1.091389205955154\n",
      "tracesum:\t 238872.42675130584 \t 1567.2576380074358\n",
      "tracemax:\t 22032.44461363244 \t 2880.7111493278394\n",
      "tracedev:\t 4730.0990882441365 \t 345.34217525283447\n",
      "padnum:\t 102.56 \t 11.60605049804908\n",
      "\n",
      "tuning3protons75-800p.h5\n",
      "length:\t 13.96724117183084 \t 0.942248510116078\n",
      "width:\t 7.8337933659229115 \t 0.8093805105355643\n",
      "depth:\t 3.4681440257461613 \t 0.8089152731591285\n",
      "tracesum:\t 139525.28607794625 \t 1331.1366310587919\n",
      "tracemax:\t 13855.975868745527 \t 1933.4568089116242\n",
      "tracedev:\t 2876.437674861501 \t 228.14562384578446\n",
      "padnum:\t 103.02 \t 12.948075264734312\n",
      "\n",
      "tuning3protons76-800p.h5\n",
      "length:\t 14.936161215578482 \t 1.1563395292261522\n",
      "width:\t 8.589778557313709 \t 0.9293424238773232\n",
      "depth:\t 3.677252965958461 \t 0.8933391188044856\n",
      "tracesum:\t 247430.171339187 \t 1705.3569706730914\n",
      "tracemax:\t 24453.53688079705 \t 3239.928325638835\n",
      "tracedev:\t 5090.815765743007 \t 377.8907278045266\n",
      "padnum:\t 104.32 \t 12.021137845563572\n",
      "\n",
      "tuning3protons77-800p.h5\n",
      "length:\t 14.274552125774544 \t 1.0030524805837333\n",
      "width:\t 7.848733967716905 \t 0.830717863541028\n",
      "depth:\t 4.075505348121771 \t 1.0045876860695686\n",
      "tracesum:\t 181170.59363748564 \t 1411.3763623199889\n",
      "tracemax:\t 17903.77978852221 \t 2658.2537483074548\n",
      "tracedev:\t 3722.197425051426 \t 303.54895723398243\n",
      "padnum:\t 92.96 \t 16.30570202007098\n",
      "\n",
      "tuning3protons78-800p.h5\n",
      "length:\t 14.744432581079025 \t 1.154786863153574\n",
      "width:\t 8.572988366405562 \t 0.8654050110833957\n",
      "depth:\t 4.228568144639631 \t 1.1477700714423773\n",
      "tracesum:\t 182694.5003492508 \t 1246.8425264975926\n",
      "tracemax:\t 17765.235248436817 \t 2558.412437170811\n",
      "tracedev:\t 3721.8828029918927 \t 296.3261681036652\n",
      "padnum:\t 93.8 \t 15.749311614370026\n",
      "\n",
      "tuning3protons79-800p.h5\n",
      "length:\t 14.96193414515331 \t 1.1355856941164633\n",
      "width:\t 8.853108225710736 \t 0.9851032457172221\n",
      "depth:\t 3.90753377588708 \t 0.9335667227318382\n",
      "tracesum:\t 256106.37854679834 \t 1926.4990110750284\n",
      "tracemax:\t 23944.575703899824 \t 3054.698811133428\n",
      "tracedev:\t 5110.378529400231 \t 369.2167405895661\n",
      "padnum:\t 103.5 \t 11.818784771260866\n",
      "\n",
      "tuning3protons8-800p.h5\n",
      "length:\t 14.773311276537314 \t 1.1539882076485948\n",
      "width:\t 8.618476090442195 \t 0.8914130076304698\n",
      "depth:\t 3.6699046134734714 \t 0.954487124089648\n",
      "tracesum:\t 226152.17917212902 \t 1744.6143156778144\n",
      "tracemax:\t 22343.41877258168 \t 2927.9141190247637\n",
      "tracedev:\t 4654.459399277069 \t 342.0101591116905\n",
      "padnum:\t 106.64 \t 10.44472330404014\n",
      "\n",
      "tuning3protons80-800p.h5\n",
      "length:\t 14.416430283873039 \t 1.0556370553577592\n",
      "width:\t 8.482789909375422 \t 0.8300081204470448\n",
      "depth:\t 4.080198752851198 \t 1.001113605060935\n",
      "tracesum:\t 168794.96507622013 \t 1838.2389587934454\n",
      "tracemax:\t 15691.01881110647 \t 2211.5996848768837\n",
      "tracedev:\t 3353.2637755877413 \t 271.3881697421495\n",
      "padnum:\t 98.94 \t 13.904059016807185\n",
      "\n",
      "tuning3protons81-800p.h5\n",
      "length:\t 14.657573382672735 \t 1.252191584113574\n",
      "width:\t 8.506816771877773 \t 0.8672891155220178\n",
      "depth:\t 3.8408731162835066 \t 0.9522721107345954\n",
      "tracesum:\t 197523.93534157876 \t 1519.5994390675246\n",
      "tracemax:\t 19017.23368748919 \t 2608.171455093652\n",
      "tracedev:\t 4001.5897042451197 \t 311.1952752166276\n",
      "padnum:\t 102.0 \t 12.40144823669183\n",
      "\n",
      "tuning3protons82-800p.h5\n",
      "length:\t 14.484881838666226 \t 1.1564700314622873\n",
      "width:\t 8.469707199426495 \t 0.8577629937270536\n",
      "depth:\t 3.57994933633605 \t 0.9900280034898892\n",
      "tracesum:\t 226237.78114831957 \t 1941.228112033949\n",
      "tracemax:\t 20496.409917461337 \t 2582.2867486282807\n",
      "tracedev:\t 4434.187460813436 \t 321.1793718716068\n",
      "padnum:\t 104.54 \t 10.431917271488672\n",
      "\n",
      "tuning3protons83-800p.h5\n",
      "length:\t 15.161643777927965 \t 1.1873215383724336\n",
      "width:\t 9.309144048975616 \t 1.0151088201258434\n",
      "depth:\t 4.338116167350328 \t 1.0824290028830992\n",
      "tracesum:\t 259377.48935481944 \t 1549.2447325860755\n",
      "tracemax:\t 24195.18462710995 \t 3217.643762965844\n",
      "tracedev:\t 5168.454296496793 \t 387.92851097059827\n",
      "padnum:\t 101.1 \t 12.612352221985738\n",
      "\n",
      "tuning3protons84-800p.h5\n",
      "length:\t 14.87601413491333 \t 1.1116875567954771\n",
      "width:\t 9.07058858014402 \t 0.9735026495440466\n",
      "depth:\t 3.3614313976137695 \t 0.7733438397523957\n",
      "tracesum:\t 238259.50076846872 \t 1760.9152111395204\n",
      "tracemax:\t 24584.187413754902 \t 3083.8912221737996\n",
      "tracedev:\t 5025.064006261866 \t 352.02888391553324\n",
      "padnum:\t 110.18 \t 6.96841269660488\n",
      "\n",
      "tuning3protons85-800p.h5\n",
      "length:\t 14.965404048465732 \t 1.1873762652665574\n",
      "width:\t 8.801566410169162 \t 0.9742375761445614\n",
      "depth:\t 4.125311906944604 \t 0.8609084611164942\n",
      "tracesum:\t 227596.63411613886 \t 1793.5116764383738\n",
      "tracemax:\t 22406.271147496052 \t 3131.42798874127\n",
      "tracedev:\t 4669.652529836942 \t 367.6229425930491\n",
      "padnum:\t 101.2 \t 13.68896471987713\n",
      "\n",
      "tuning3protons86-800p.h5\n",
      "length:\t 15.336365799255145 \t 1.0636044670523335\n",
      "width:\t 9.197778952955437 \t 1.002333155552117\n",
      "depth:\t 3.8061318363746635 \t 0.8623178005825352\n",
      "tracesum:\t 264075.87556704885 \t 1801.3432484781165\n",
      "tracemax:\t 27192.180937301888 \t 3585.8020792259267\n",
      "tracedev:\t 5559.248534298314 \t 408.7449569718096\n",
      "padnum:\t 107.16 \t 10.38318892464632\n",
      "\n",
      "tuning3protons87-800p.h5\n",
      "length:\t 14.72677903084697 \t 1.1563804192934108\n",
      "width:\t 8.61120070594714 \t 0.8752042332267927\n",
      "depth:\t 3.7789959075532153 \t 0.8583567173377021\n",
      "tracesum:\t 256952.93491817228 \t 2271.771509484942\n",
      "tracemax:\t 25125.361592689573 \t 3362.9663604372145\n",
      "tracedev:\t 5258.4519674024805 \t 400.48666219504344\n",
      "padnum:\t 105.38 \t 11.439084450305648\n",
      "\n",
      "tuning3protons88-800p.h5\n",
      "length:\t 14.679504823272195 \t 1.0779071169743515\n",
      "width:\t 8.555485262517221 \t 0.8349499926694866\n",
      "depth:\t 3.6485320558502305 \t 0.8877479498187211\n",
      "tracesum:\t 203441.20740766707 \t 1719.0319457900193\n",
      "tracemax:\t 20848.538252460803 \t 2871.620945964313\n",
      "tracedev:\t 4269.19869276348 \t 329.99488553825563\n",
      "padnum:\t 105.22 \t 11.622093667859067\n",
      "\n",
      "tuning3protons89-800p.h5\n",
      "length:\t 15.499379790334803 \t 1.1915798398338109\n",
      "width:\t 9.372049096725643 \t 1.0726594677669214\n",
      "depth:\t 4.606992617202376 \t 1.1705712683640033\n",
      "tracesum:\t 236028.75634145134 \t 1552.8213503931968\n",
      "tracemax:\t 21803.393169101946 \t 2964.8381864504163\n",
      "tracedev:\t 4675.798913465764 \t 356.96766817325744\n",
      "padnum:\t 100.18 \t 12.601732955010107\n",
      "\n",
      "tuning3protons9-800p.h5\n",
      "length:\t 14.835224781070112 \t 1.1057592919266437\n",
      "width:\t 8.326917752944615 \t 0.876650987514755\n",
      "depth:\t 4.156196621806108 \t 1.0346013143678479\n",
      "tracesum:\t 257300.636343561 \t 1658.6664111173548\n",
      "tracemax:\t 25588.00584947659 \t 3753.3865961847614\n",
      "tracedev:\t 5307.6614073374085 \t 429.6118278784438\n",
      "padnum:\t 93.28 \t 16.07639923132347\n",
      "\n",
      "tuning3protons90-800p.h5\n",
      "length:\t 14.481591559774131 \t 1.0367946046632959\n",
      "width:\t 8.402740333838073 \t 0.8388119350254692\n",
      "depth:\t 3.264574248642354 \t 0.7536828203473285\n",
      "tracesum:\t 174672.35929474444 \t 1512.1835776851456\n",
      "tracemax:\t 17611.1904905399 \t 2401.529324710134\n",
      "tracedev:\t 3633.339014569296 \t 278.43029580355466\n",
      "padnum:\t 104.88 \t 12.153172089489011\n",
      "\n",
      "tuning3protons91-800p.h5\n",
      "length:\t 14.997494073006774 \t 1.1344774283825632\n",
      "width:\t 8.989761636299487 \t 0.9056330301731925\n",
      "depth:\t 3.7869994663781186 \t 0.8660032053974043\n",
      "tracesum:\t 269382.1914044251 \t 1845.7872217049483\n",
      "tracemax:\t 25639.338554963648 \t 3320.778927851167\n",
      "tracedev:\t 5427.708405768033 \t 394.46584992072246\n",
      "padnum:\t 105.06 \t 11.350465242644892\n",
      "\n",
      "tuning3protons92-800p.h5\n",
      "length:\t 14.56671607859449 \t 1.03834267536003\n",
      "width:\t 8.514829803650667 \t 0.890849104876959\n",
      "depth:\t 4.099715943476804 \t 0.9807463597505811\n",
      "tracesum:\t 191715.3494371563 \t 1619.3892512357495\n",
      "tracemax:\t 18470.555736443806 \t 2684.8221337538616\n",
      "tracedev:\t 3884.611785040761 \t 317.46065410072646\n",
      "padnum:\t 94.24 \t 15.503205725110599\n",
      "\n",
      "tuning3protons93-800p.h5\n",
      "length:\t 14.77237408656977 \t 1.162234645055045\n",
      "width:\t 8.806510106241827 \t 0.8677129680468822\n",
      "depth:\t 3.6669473323713913 \t 0.931809140602785\n",
      "tracesum:\t 185372.33634149586 \t 1649.104827258922\n",
      "tracemax:\t 18708.614218829913 \t 2564.7154830974014\n",
      "tracedev:\t 3857.709343971874 \t 298.5138205653094\n",
      "padnum:\t 105.54 \t 11.646511258303747\n",
      "\n",
      "tuning3protons94-800p.h5\n",
      "length:\t 15.134317449152606 \t 1.099460285942302\n",
      "width:\t 9.185891499877652 \t 1.0393755981005948\n",
      "depth:\t 3.8015394617160054 \t 0.9056814458575255\n",
      "tracesum:\t 232640.75412521895 \t 1781.5459998863455\n",
      "tracemax:\t 21814.766654651627 \t 2666.423717757385\n",
      "tracedev:\t 4651.666017387869 \t 323.75293039571613\n",
      "padnum:\t 108.34 \t 8.4142978413689\n",
      "\n",
      "tuning3protons95-800p.h5\n",
      "length:\t 14.196021009047922 \t 1.101073475827006\n",
      "width:\t 7.961737617788238 \t 0.8739253217297802\n",
      "depth:\t 3.6475085095410122 \t 0.9891081450634123\n",
      "tracesum:\t 195559.05070344708 \t 1550.647043107834\n",
      "tracemax:\t 17908.449195915593 \t 2290.6490424072094\n",
      "tracedev:\t 3855.1072845895596 \t 280.4349197903575\n",
      "padnum:\t 102.82 \t 11.824723321611083\n",
      "\n",
      "tuning3protons96-800p.h5\n",
      "length:\t 15.349861010465817 \t 1.0576718229021507\n",
      "width:\t 9.164093036909405 \t 0.9899582420980378\n",
      "depth:\t 3.7098171457975333 \t 0.914659344169386\n",
      "tracesum:\t 278077.20513381955 \t 1839.7651705256444\n",
      "tracemax:\t 27841.078882081234 \t 3503.920443219944\n",
      "tracedev:\t 5767.244248010027 \t 405.04114205479914\n",
      "padnum:\t 109.6 \t 7.785386624822122\n",
      "\n",
      "tuning3protons97-800p.h5\n",
      "length:\t 14.507288854141757 \t 1.1215293645203983\n",
      "width:\t 8.06750231915352 \t 0.8809606123889822\n",
      "depth:\t 3.999391877192225 \t 1.0061867522767447\n",
      "tracesum:\t 189634.0765843576 \t 1349.0790693109548\n",
      "tracemax:\t 18516.112051206397 \t 2659.1792771412743\n",
      "tracedev:\t 3870.0900776428252 \t 311.22825546804575\n",
      "padnum:\t 96.8 \t 15.282376137504379\n",
      "\n",
      "tuning3protons98-800p.h5\n",
      "length:\t 14.692646924801151 \t 1.0944212674460987\n",
      "width:\t 8.564818773192082 \t 0.8829577792665576\n",
      "depth:\t 3.8155295755063463 \t 0.9641093344735544\n",
      "tracesum:\t 194057.82329411592 \t 1709.338554344794\n",
      "tracemax:\t 19657.761831288524 \t 2766.542655700673\n",
      "tracedev:\t 4044.9743802142893 \t 316.3514074619259\n",
      "padnum:\t 101.84 \t 13.19764975985018\n",
      "\n",
      "tuning3protons99-800p.h5\n",
      "length:\t 14.608636569627794 \t 1.0326056833682067\n",
      "width:\t 8.420318620298467 \t 0.8436811320003147\n",
      "depth:\t 3.571642726366713 \t 0.8988428578139611\n",
      "tracesum:\t 200611.6257177604 \t 1515.9445836246207\n",
      "tracemax:\t 19654.114135456548 \t 2585.8575055087126\n",
      "tracedev:\t 4109.552146432732 \t 303.58784398343096\n",
      "padnum:\t 105.08 \t 11.631835273796423\n",
      "\n"
     ]
    }
   ],
   "source": [
    "for file in file_names:\n",
    "    print(file)\n",
    "    print('length:\\t', output_df[output_df['file'] == file]['length'].mean(),'\\t', output_df[output_df['file'] == file]['length'].std())\n",
    "    print('width:\\t', output_df[output_df['file'] == file]['width'].mean(),'\\t', output_df[output_df['file'] == file]['width'].std())\n",
    "    print('depth:\\t', output_df[output_df['file'] == file]['depth'].mean(),'\\t', output_df[output_df['file'] == file]['depth'].std())\n",
    "    print('tracesum:\\t', output_df[output_df['file'] == file]['tracesum'].mean(),'\\t', output_df[output_df['file'] == file]['tracesum'].std())\n",
    "    print('tracemax:\\t', output_df[output_df['file'] == file]['tracemax'].mean(),'\\t', output_df[output_df['file'] == file]['tracemax'].std())\n",
    "    print('tracedev:\\t', output_df[output_df['file'] == file]['tracedev'].mean(),'\\t', output_df[output_df['file'] == file]['tracedev'].std())\n",
    "    print('padnum:\\t', output_df[output_df['file'] == file]['padnum'].mean(),'\\t', output_df[output_df['file'] == file]['padnum'].std())\n",
    "    print()"
   ]
  },
  {
   "cell_type": "code",
   "execution_count": 9,
   "metadata": {},
   "outputs": [],
   "source": [
    "output_df.to_csv('event summary.csv', index=False)"
   ]
  },
  {
   "cell_type": "code",
   "execution_count": 10,
   "metadata": {},
   "outputs": [],
   "source": [
    "output_df = pd.read_csv('event summary.csv')\n",
    "file_names = output_df['file'].unique() \n",
    "\n",
    "run_df = pd.DataFrame(columns=['file','length', 'width', 'depth', 'tracesum', 'tracemax', 'tracedev', 'padnum'])\n",
    "\n",
    "reference_run = '273_800p.h5'\n",
    "\n",
    "for file in file_names:\n",
    "    run_df = run_df.append({'file' : file, \n",
    "                            'length' : output_df[output_df['file'] == file]['length'].mean(), \n",
    "                            'width' : output_df[output_df['file'] == file]['width'].mean(), \n",
    "                            'depth' : output_df[output_df['file'] == file]['depth'].mean(), \n",
    "                            'tracesum' : output_df[output_df['file'] == file]['tracesum'].mean(), \n",
    "                            'tracemax' : output_df[output_df['file'] == file]['tracemax'].mean(), \n",
    "                            'tracedev' : output_df[output_df['file'] == file]['tracedev'].mean(), \n",
    "                            'padnum' : output_df[output_df['file'] == file]['padnum'].mean()}\n",
    "                           ,ignore_index = True)\n",
    "\n",
    "run_df['length'] = (run_df['length'] - output_df[output_df['file'] == reference_run]['length'].mean()) / output_df[output_df['file'] == reference_run]['length'].std()\n",
    "run_df['width'] = (run_df['width'] - output_df[output_df['file'] == reference_run]['width'].mean()) / output_df[output_df['file'] == reference_run]['width'].std()\n",
    "run_df['depth'] = (run_df['depth'] - output_df[output_df['file'] == reference_run]['depth'].mean()) / output_df[output_df['file'] == reference_run]['depth'].std()\n",
    "run_df['tracesum'] = (run_df['tracesum'] - output_df[output_df['file'] == reference_run]['tracesum'].mean()) / output_df[output_df['file'] == reference_run]['tracesum'].std()\n",
    "run_df['tracemax'] = (run_df['tracemax'] - output_df[output_df['file'] == reference_run]['tracemax'].mean()) / output_df[output_df['file'] == reference_run]['tracemax'].std()\n",
    "run_df['tracedev'] = (run_df['tracedev'] - output_df[output_df['file'] == reference_run]['tracedev'].mean()) / output_df[output_df['file'] == reference_run]['tracedev'].std()\n",
    "run_df['padnum'] = (run_df['padnum'] - output_df[output_df['file'] == reference_run]['padnum'].mean()) / output_df[output_df['file'] == reference_run]['padnum'].std()\n",
    "\n",
    "# sum of absolute deviations from reference run\n",
    "run_df['Deviation'] = abs(run_df['length']) + abs(run_df['width']) + abs(run_df['depth']) + abs(run_df['tracesum']) + abs(run_df['tracemax']) + abs(run_df['tracedev']) + abs(run_df['padnum'])"
   ]
  },
  {
   "cell_type": "code",
   "execution_count": 11,
   "metadata": {},
   "outputs": [],
   "source": [
    "run_df = run_df.sort_values(by=['Deviation'])\n",
    "best_run_df = run_df.head(10)\n",
    "\n",
    "# load in parameters for best runs\n",
    "params = pd.read_csv('C:\\\\Users\\\\Adam\\\\OneDrive - Tenundra, Inc\\\\Desktop\\\\Programming\\\\GADGET2\\\\simInput\\\\parameters.csv')\n",
    "\n",
    "best_params = params[params['Sim'].isin(best_run_df['file'].str.replace('.h5',''))]"
   ]
  },
  {
   "cell_type": "code",
   "execution_count": 12,
   "metadata": {},
   "outputs": [
    {
     "name": "stdout",
     "output_type": "stream",
     "text": [
      "Current Best Fit Parameters\n",
      "Threshold \t 23.77777777777778 \t 0.09351633689808177 \n",
      " 23.99 \t 0.09975619015210048 \n",
      "\n",
      "EIonize \t 34.077777777777776 \t 0.06723345128459007 \n",
      " 30.81299999999999 \t 0.08923407261919866 \n",
      "\n",
      "Fano \t 0.22999999999999998 \t 0.06874516652539957 \n",
      " 0.21700000000000003 \t 0.09813995157555704 \n",
      "\n",
      "CoefL \t 0.0001231111111111111 \t 0.13691368461845344 \n",
      " 0.00011979000000000002 \t 0.09952174722736559 \n",
      "\n",
      "CoefT \t 0.0021355555555555555 \t 0.07437528184632335 \n",
      " 0.0020613 \t 0.09635408327843778 \n",
      "\n",
      "Gain \t 7355.188888888889 \t 0.07137807121293253 \n",
      " 8514.405999999999 \t 0.10586381636347995 \n",
      "\n",
      "GETGain \t 139.54444444444445 \t 0.09357287956422802 \n",
      " 133.583 \t 0.09717994063943178 \n",
      "\n",
      "PeakingTime \t 560.8888888888889 \t 0.08125554875932296 \n",
      " 581.89 \t 0.09331425331027843 \n",
      "\n"
     ]
    }
   ],
   "source": [
    "parameters = ['Threshold', 'EIonize', 'Fano', 'CoefL', 'CoefT', 'Gain', 'GETGain', 'PeakingTime']\n",
    "print('Current Best Fit Parameters')\n",
    "for p in parameters:\n",
    "    print(p, '\\t', best_params[p].mean(),'\\t', best_params[p].std()/best_params[p].mean(), '\\n', params[p].mean(),'\\t', params[p].std()/params[p].mean(), '\\n')"
   ]
  },
  {
   "cell_type": "code",
   "execution_count": 13,
   "metadata": {},
   "outputs": [
    {
     "name": "stdout",
     "output_type": "stream",
     "text": [
      "Full Run Deviation: 73.20810689912018 \t 0.501081506857744\n",
      "Best Run Deviation: 19.611030850182193 \t 0.4159933817008462\n"
     ]
    }
   ],
   "source": [
    "print('Full Run Deviation:', run_df['Deviation'].mean(), '\\t', run_df['Deviation'].std()/run_df['Deviation'].mean())\n",
    "print('Best Run Deviation:', best_run_df['Deviation'].mean(), '\\t', best_run_df['Deviation'].std()/best_run_df['Deviation'].mean())"
   ]
  },
  {
   "cell_type": "code",
   "execution_count": 14,
   "metadata": {},
   "outputs": [
    {
     "data": {
      "text/html": [
       "<div>\n",
       "<style scoped>\n",
       "    .dataframe tbody tr th:only-of-type {\n",
       "        vertical-align: middle;\n",
       "    }\n",
       "\n",
       "    .dataframe tbody tr th {\n",
       "        vertical-align: top;\n",
       "    }\n",
       "\n",
       "    .dataframe thead th {\n",
       "        text-align: right;\n",
       "    }\n",
       "</style>\n",
       "<table border=\"1\" class=\"dataframe\">\n",
       "  <thead>\n",
       "    <tr style=\"text-align: right;\">\n",
       "      <th></th>\n",
       "      <th>file</th>\n",
       "      <th>length</th>\n",
       "      <th>width</th>\n",
       "      <th>depth</th>\n",
       "      <th>tracesum</th>\n",
       "      <th>tracemax</th>\n",
       "      <th>tracedev</th>\n",
       "      <th>padnum</th>\n",
       "      <th>Deviation</th>\n",
       "    </tr>\n",
       "  </thead>\n",
       "  <tbody>\n",
       "    <tr>\n",
       "      <th>0</th>\n",
       "      <td>273_800p.h5</td>\n",
       "      <td>0.000000</td>\n",
       "      <td>0.000000</td>\n",
       "      <td>0.000000</td>\n",
       "      <td>0.000000</td>\n",
       "      <td>0.000000</td>\n",
       "      <td>0.000000</td>\n",
       "      <td>0.000000</td>\n",
       "      <td>0.000000</td>\n",
       "    </tr>\n",
       "    <tr>\n",
       "      <th>4</th>\n",
       "      <td>tuning3protons11-800p.h5</td>\n",
       "      <td>1.289383</td>\n",
       "      <td>2.184066</td>\n",
       "      <td>5.474724</td>\n",
       "      <td>0.545206</td>\n",
       "      <td>-0.431869</td>\n",
       "      <td>-0.428415</td>\n",
       "      <td>2.461504</td>\n",
       "      <td>12.815166</td>\n",
       "    </tr>\n",
       "    <tr>\n",
       "      <th>43</th>\n",
       "      <td>tuning3protons47-800p.h5</td>\n",
       "      <td>1.581615</td>\n",
       "      <td>2.241685</td>\n",
       "      <td>5.160513</td>\n",
       "      <td>3.108044</td>\n",
       "      <td>-0.638056</td>\n",
       "      <td>-0.570498</td>\n",
       "      <td>2.985239</td>\n",
       "      <td>16.285652</td>\n",
       "    </tr>\n",
       "    <tr>\n",
       "      <th>71</th>\n",
       "      <td>tuning3protons72-800p.h5</td>\n",
       "      <td>2.262888</td>\n",
       "      <td>2.620358</td>\n",
       "      <td>5.062441</td>\n",
       "      <td>-5.940334</td>\n",
       "      <td>-0.363693</td>\n",
       "      <td>-0.550198</td>\n",
       "      <td>2.990089</td>\n",
       "      <td>19.790001</td>\n",
       "    </tr>\n",
       "    <tr>\n",
       "      <th>1</th>\n",
       "      <td>tuning3protons0-800p.h5</td>\n",
       "      <td>2.731733</td>\n",
       "      <td>2.857365</td>\n",
       "      <td>5.291033</td>\n",
       "      <td>6.328224</td>\n",
       "      <td>-0.324256</td>\n",
       "      <td>-0.110776</td>\n",
       "      <td>4.003614</td>\n",
       "      <td>21.647001</td>\n",
       "    </tr>\n",
       "  </tbody>\n",
       "</table>\n",
       "</div>"
      ],
      "text/plain": [
       "                        file    length     width     depth  tracesum  \\\n",
       "0                273_800p.h5  0.000000  0.000000  0.000000  0.000000   \n",
       "4   tuning3protons11-800p.h5  1.289383  2.184066  5.474724  0.545206   \n",
       "43  tuning3protons47-800p.h5  1.581615  2.241685  5.160513  3.108044   \n",
       "71  tuning3protons72-800p.h5  2.262888  2.620358  5.062441 -5.940334   \n",
       "1    tuning3protons0-800p.h5  2.731733  2.857365  5.291033  6.328224   \n",
       "\n",
       "    tracemax  tracedev    padnum  Deviation  \n",
       "0   0.000000  0.000000  0.000000   0.000000  \n",
       "4  -0.431869 -0.428415  2.461504  12.815166  \n",
       "43 -0.638056 -0.570498  2.985239  16.285652  \n",
       "71 -0.363693 -0.550198  2.990089  19.790001  \n",
       "1  -0.324256 -0.110776  4.003614  21.647001  "
      ]
     },
     "execution_count": 14,
     "metadata": {},
     "output_type": "execute_result"
    }
   ],
   "source": [
    "best_run_df.head()"
   ]
  },
  {
   "cell_type": "code",
   "execution_count": null,
   "metadata": {},
   "outputs": [],
   "source": []
  }
 ],
 "metadata": {
  "kernelspec": {
   "display_name": "Python 3",
   "language": "python",
   "name": "python3"
  },
  "language_info": {
   "codemirror_mode": {
    "name": "ipython",
    "version": 3
   },
   "file_extension": ".py",
   "mimetype": "text/x-python",
   "name": "python",
   "nbconvert_exporter": "python",
   "pygments_lexer": "ipython3",
   "version": "3.10.11"
  },
  "vscode": {
   "interpreter": {
    "hash": "c295b91a4a4f8e66f37da6a2fbf5c84e6919990d10548059361442497be2c972"
   }
  }
 },
 "nbformat": 4,
 "nbformat_minor": 4
}
