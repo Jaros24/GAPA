{
 "cells": [
  {
   "cell_type": "code",
   "execution_count": 1,
   "metadata": {},
   "outputs": [],
   "source": [
    "import numpy as np\n",
    "import h5py\n",
    "import math\n",
    "from sklearn.decomposition import PCA\n",
    "from pca import pca\n",
    "import pandas as pd\n",
    "import matplotlib.pyplot as plt\n",
    "from matplotlib.colors import LinearSegmentedColormap\n",
    "from tqdm import tqdm\n",
    "import peakutils\n",
    "import os, sys\n",
    "from BaselineRemoval import BaselineRemoval\n",
    "from sklearn.cluster import DBSCAN\n",
    "import scipy\n",
    "from sklearn.linear_model import LinearRegression\n",
    "import seaborn as sns"
   ]
  },
  {
   "cell_type": "code",
   "execution_count": 2,
   "metadata": {},
   "outputs": [],
   "source": [
    "class HiddenPrints:\n",
    "\tdef __enter__(self):\n",
    "\t\tself._original_stdout = sys.stdout\n",
    "\t\tsys.stdout = open(os.devnull, 'w')"
   ]
  },
  {
   "cell_type": "code",
   "execution_count": 3,
   "metadata": {},
   "outputs": [],
   "source": [
    "def __exit__(self, exc_type, exc_val, exc_tb):\n",
    "\tsys.stdout.close()\n",
    "\tsys.stdout = self._original_stdout"
   ]
  },
  {
   "cell_type": "code",
   "execution_count": 4,
   "metadata": {},
   "outputs": [],
   "source": [
    "def remove_outliers(xset, yset, zset, eset, threshold):\n",
    "\t\"\"\"\n",
    "\tUses DBSCAN to find and remove outliers in 3D data\n",
    "\t\"\"\"\n",
    "\tdata = np.array([xset.T, yset.T, zset.T]).T\n",
    "\tDBSCAN_cluster = DBSCAN(eps=7, min_samples=10).fit(data)\n",
    "\tout_of_cluster_index = np.where(DBSCAN_cluster.labels_==-1)\n",
    "\tdel data\n",
    "\trev = out_of_cluster_index[0][::-1]\n",
    "\t#if len(out_of_cluster_index[0]) > 0:\n",
    "\tfor i in rev:\n",
    "\t\txset = np.delete(xset, i)\n",
    "\t\tyset = np.delete(yset, i)\n",
    "\t\tzset = np.delete(zset, i)\n",
    "\t\teset = np.delete(eset, i)\n",
    "\t#if len(xset) <= threshold:\n",
    "\t#\tveto = True\n",
    "\t#else:\n",
    "    #veto = False\n",
    "\treturn xset, yset, zset, eset, False"
   ]
  },
  {
   "cell_type": "code",
   "execution_count": 5,
   "metadata": {
    "scrolled": true
   },
   "outputs": [
    {
     "name": "stdout",
     "output_type": "stream",
     "text": [
      "Veto on Length @ 70 mm\n",
      "Veto on Integrated Charge @ 800k\n"
     ]
    }
   ],
   "source": [
    "print('Veto on Length @ 70 mm')\n",
    "print('Veto on Integrated Charge @ 800k')\n",
    "def track_len(xset, yset, zset):\n",
    "    \"\"\"\n",
    "    Uses PCA to find the length of a track\n",
    "    \"\"\"\n",
    "    veto_on_length = False\n",
    " \n",
    "    # Form data matrix\n",
    "    data = np.concatenate((xset[:, np.newaxis], \n",
    "                           yset[:, np.newaxis], \n",
    "                           zset[:, np.newaxis]), \n",
    "                           axis=1)\n",
    "\n",
    "    # Use PCA to find track length\n",
    "    pca = PCA(n_components=3)\n",
    "    principalComponents = pca.fit(data)\n",
    "    principalComponents = pca.transform(data)\n",
    "    principalDf = pd.DataFrame(data = principalComponents\n",
    "             , columns = ['principal component 1', 'principal component 2', 'principal component 3'])\n",
    "    \n",
    "    track_len = 2.35*principalDf.std()[0]\n",
    "    track_width = 2.35*principalDf.std()[1]\n",
    "    track_depth = 2.35*principalDf.std()[2]\n",
    "    #if track_len > 70:\n",
    "    #    veto_on_length = True\n",
    "    \n",
    "    return track_len, veto_on_length, track_width, track_depth"
   ]
  },
  {
   "cell_type": "code",
   "execution_count": 6,
   "metadata": {},
   "outputs": [],
   "source": [
    "def main(h5file, threshold):\n",
    "    \"\"\"\n",
    "    This functions does the following: \n",
    "    - Converts h5 files into ndarrays. \n",
    "    - Removes outliers.\n",
    "    - Calls PCA to return track length.\n",
    "    - Sums mesh signal to return energy.\n",
    "    \"\"\"\n",
    "    # Converts h5 files into ndarrays, and output each event dataset as a separte list\n",
    "    num_events = int(len(list(h5file.keys()))/2) \n",
    "    \n",
    "    len_list = []\n",
    "    width_list = []\n",
    "    depth_list = []\n",
    "    good_events = []\n",
    "    tot_energy = []\n",
    "    tracemax_list = []\n",
    "    tracedev_list = []\n",
    "    pads_list = []\n",
    "    \n",
    "    skipped_events = 0\n",
    "    veto_events = 0\n",
    "    \n",
    "    pbar = tqdm(total=num_events+1)\n",
    "    for i in range(0, num_events):\n",
    "        str_event = f\"Event_[{i}]\"\n",
    "        \n",
    "        # Apply pad threshold\n",
    "        event = np.array(h5file[str_event][:])\n",
    "        if len(event) <= threshold:\n",
    "            skipped_events += 1\n",
    "            pbar.update(n=1)\n",
    "            continue\n",
    "            \n",
    "        # Make copy of datasets\n",
    "        dset_0_copyx = event['x']\n",
    "        dset_0_copyy = event['y'] \n",
    "        dset_0_copyz = event['z'] - min(event['z'])\n",
    "        dset_0_copye = event['A']\n",
    "\n",
    "        \n",
    "        # Apply veto condition\n",
    "        R = 36                           # Radius of the pad plane\n",
    "        r = np.sqrt(dset_0_copyx**2 + dset_0_copyy**2)\n",
    "        statements = np.greater(r, R)    # Check if any point lies outside of R\n",
    "      \n",
    "        if np.any(statements) == True:\n",
    "            veto_events += 1\n",
    "            pbar.update(n=1)\n",
    "            continue\n",
    "        \n",
    "        \n",
    "        # Call remove_outliers to get dataset w/ outliers removed\n",
    "        dset_0_copyx, dset_0_copyy, dset_0_copyz, dset_0_copye, veto = remove_outliers(dset_0_copyx, dset_0_copyy, dset_0_copyz, dset_0_copye, threshold)\n",
    "        if veto == True:\n",
    "            skipped_events += 1\n",
    "            pbar.update(n=1)\n",
    "            continue\n",
    "\n",
    "        \n",
    "        # Call track_len() to create lists of all track lengths\n",
    "        length, veto_on_length, width, depth = track_len(dset_0_copyx, dset_0_copyy, dset_0_copyz)\n",
    "        if veto_on_length == True:\n",
    "            veto_events += 1\n",
    "            pbar.update(n=1)\n",
    "            continue\n",
    "\n",
    "        \n",
    "       \tstr_trace = f\"Trace_[{i}]\"\n",
    "        trace = np.array(h5file[str_trace][:])\n",
    "        max_val = np.argmax(trace)\n",
    "        low_bound = max_val - 75\n",
    "        if low_bound < 0:\n",
    "            low_bound = 5\n",
    "        upper_bound = max_val + 75\n",
    "        if upper_bound > 511:\n",
    "            upper_bound = 506\n",
    "        trace = trace[low_bound:upper_bound]\n",
    "\n",
    "        polynomial_degree=2 \n",
    "        baseObj=BaselineRemoval(trace)\n",
    "        trace=baseObj.IModPoly(polynomial_degree)\n",
    "\n",
    "        #if np.sum(trace) > 800000:\n",
    "        #    veto_events += 1\n",
    "        #    pbar.update(n=1)\n",
    "        #    continue\n",
    "\n",
    "        len_list.append(length)\n",
    "        width_list.append(width)\n",
    "        depth_list.append(depth)\n",
    "        tot_energy.append(np.sum(trace))\n",
    "        tracemax_list.append(np.max(trace))\n",
    "        tracedev_list.append(np.std(trace))\n",
    "        pads_list.append(len(trace[trace > 0]))\n",
    "\n",
    "        # Track event number of good events\n",
    "        good_events.append(i)  \n",
    "        pbar.update(n=1)\n",
    "\n",
    "    return (tot_energy, skipped_events, veto_events, good_events, len_list, width_list, depth_list, tracemax_list, tracedev_list, pads_list)"
   ]
  },
  {
   "cell_type": "code",
   "execution_count": 7,
   "metadata": {
    "scrolled": true
   },
   "outputs": [
    {
     "name": "stdout",
     "output_type": "stream",
     "text": [
      "C:/Users/Adam/OneDrive - Tenundra, Inc/Desktop/Programming/GADGET2/simOutput/273_800p.h5\n"
     ]
    },
    {
     "name": "stderr",
     "output_type": "stream",
     "text": [
      "100%|█████████▉| 676/677 [00:20<00:00, 32.71it/s]\n"
     ]
    },
    {
     "name": "stdout",
     "output_type": "stream",
     "text": [
      "C:/Users/Adam/OneDrive - Tenundra, Inc/Desktop/Programming/GADGET2/simOutput/tuning1protons0-800p.h5\n"
     ]
    },
    {
     "name": "stderr",
     "output_type": "stream",
     "text": [
      " 98%|█████████▊| 50/51 [00:01<00:00, 38.63it/s]\n"
     ]
    },
    {
     "name": "stdout",
     "output_type": "stream",
     "text": [
      "C:/Users/Adam/OneDrive - Tenundra, Inc/Desktop/Programming/GADGET2/simOutput/tuning1protons1-800p.h5\n"
     ]
    },
    {
     "name": "stderr",
     "output_type": "stream",
     "text": [
      " 98%|█████████▊| 50/51 [00:01<00:00, 33.49it/s]\n"
     ]
    },
    {
     "name": "stdout",
     "output_type": "stream",
     "text": [
      "C:/Users/Adam/OneDrive - Tenundra, Inc/Desktop/Programming/GADGET2/simOutput/tuning1protons10-800p.h5\n"
     ]
    },
    {
     "name": "stderr",
     "output_type": "stream",
     "text": [
      " 98%|█████████▊| 50/51 [00:01<00:00, 40.40it/s]\n"
     ]
    },
    {
     "name": "stdout",
     "output_type": "stream",
     "text": [
      "C:/Users/Adam/OneDrive - Tenundra, Inc/Desktop/Programming/GADGET2/simOutput/tuning1protons11-800p.h5\n"
     ]
    },
    {
     "name": "stderr",
     "output_type": "stream",
     "text": [
      " 98%|█████████▊| 50/51 [00:01<00:00, 39.77it/s]\n"
     ]
    },
    {
     "name": "stdout",
     "output_type": "stream",
     "text": [
      "C:/Users/Adam/OneDrive - Tenundra, Inc/Desktop/Programming/GADGET2/simOutput/tuning1protons12-800p.h5\n"
     ]
    },
    {
     "name": "stderr",
     "output_type": "stream",
     "text": [
      " 98%|█████████▊| 50/51 [00:01<00:00, 37.04it/s]\n"
     ]
    },
    {
     "name": "stdout",
     "output_type": "stream",
     "text": [
      "C:/Users/Adam/OneDrive - Tenundra, Inc/Desktop/Programming/GADGET2/simOutput/tuning1protons13-800p.h5\n"
     ]
    },
    {
     "name": "stderr",
     "output_type": "stream",
     "text": [
      " 98%|█████████▊| 50/51 [00:01<00:00, 39.96it/s]\n"
     ]
    },
    {
     "name": "stdout",
     "output_type": "stream",
     "text": [
      "C:/Users/Adam/OneDrive - Tenundra, Inc/Desktop/Programming/GADGET2/simOutput/tuning1protons14-800p.h5\n"
     ]
    },
    {
     "name": "stderr",
     "output_type": "stream",
     "text": [
      " 98%|█████████▊| 50/51 [00:01<00:00, 44.45it/s]\n"
     ]
    },
    {
     "name": "stdout",
     "output_type": "stream",
     "text": [
      "C:/Users/Adam/OneDrive - Tenundra, Inc/Desktop/Programming/GADGET2/simOutput/tuning1protons15-800p.h5\n"
     ]
    },
    {
     "name": "stderr",
     "output_type": "stream",
     "text": [
      " 98%|█████████▊| 50/51 [00:01<00:00, 37.92it/s]\n"
     ]
    },
    {
     "name": "stdout",
     "output_type": "stream",
     "text": [
      "C:/Users/Adam/OneDrive - Tenundra, Inc/Desktop/Programming/GADGET2/simOutput/tuning1protons16-800p.h5\n"
     ]
    },
    {
     "name": "stderr",
     "output_type": "stream",
     "text": [
      " 98%|█████████▊| 50/51 [00:01<00:00, 35.02it/s]\n"
     ]
    },
    {
     "name": "stdout",
     "output_type": "stream",
     "text": [
      "C:/Users/Adam/OneDrive - Tenundra, Inc/Desktop/Programming/GADGET2/simOutput/tuning1protons17-800p.h5\n"
     ]
    },
    {
     "name": "stderr",
     "output_type": "stream",
     "text": [
      " 98%|█████████▊| 50/51 [00:01<00:00, 35.17it/s]\n"
     ]
    },
    {
     "name": "stdout",
     "output_type": "stream",
     "text": [
      "C:/Users/Adam/OneDrive - Tenundra, Inc/Desktop/Programming/GADGET2/simOutput/tuning1protons18-800p.h5\n"
     ]
    },
    {
     "name": "stderr",
     "output_type": "stream",
     "text": [
      " 98%|█████████▊| 50/51 [00:01<00:00, 39.54it/s]\n"
     ]
    },
    {
     "name": "stdout",
     "output_type": "stream",
     "text": [
      "C:/Users/Adam/OneDrive - Tenundra, Inc/Desktop/Programming/GADGET2/simOutput/tuning1protons19-800p.h5\n"
     ]
    },
    {
     "name": "stderr",
     "output_type": "stream",
     "text": [
      " 98%|█████████▊| 50/51 [00:01<00:00, 42.41it/s]\n"
     ]
    },
    {
     "name": "stdout",
     "output_type": "stream",
     "text": [
      "C:/Users/Adam/OneDrive - Tenundra, Inc/Desktop/Programming/GADGET2/simOutput/tuning1protons2-800p.h5\n"
     ]
    },
    {
     "name": "stderr",
     "output_type": "stream",
     "text": [
      " 98%|█████████▊| 50/51 [00:01<00:00, 37.15it/s]\n"
     ]
    },
    {
     "name": "stdout",
     "output_type": "stream",
     "text": [
      "C:/Users/Adam/OneDrive - Tenundra, Inc/Desktop/Programming/GADGET2/simOutput/tuning1protons20-800p.h5\n"
     ]
    },
    {
     "name": "stderr",
     "output_type": "stream",
     "text": [
      " 98%|█████████▊| 50/51 [00:01<00:00, 39.91it/s]\n"
     ]
    },
    {
     "name": "stdout",
     "output_type": "stream",
     "text": [
      "C:/Users/Adam/OneDrive - Tenundra, Inc/Desktop/Programming/GADGET2/simOutput/tuning1protons21-800p.h5\n"
     ]
    },
    {
     "name": "stderr",
     "output_type": "stream",
     "text": [
      " 98%|█████████▊| 50/51 [00:01<00:00, 40.55it/s]\n"
     ]
    },
    {
     "name": "stdout",
     "output_type": "stream",
     "text": [
      "C:/Users/Adam/OneDrive - Tenundra, Inc/Desktop/Programming/GADGET2/simOutput/tuning1protons22-800p.h5\n"
     ]
    },
    {
     "name": "stderr",
     "output_type": "stream",
     "text": [
      " 98%|█████████▊| 50/51 [00:01<00:00, 42.45it/s]\n"
     ]
    },
    {
     "name": "stdout",
     "output_type": "stream",
     "text": [
      "C:/Users/Adam/OneDrive - Tenundra, Inc/Desktop/Programming/GADGET2/simOutput/tuning1protons23-800p.h5\n"
     ]
    },
    {
     "name": "stderr",
     "output_type": "stream",
     "text": [
      " 98%|█████████▊| 50/51 [00:01<00:00, 31.05it/s]\n"
     ]
    },
    {
     "name": "stdout",
     "output_type": "stream",
     "text": [
      "C:/Users/Adam/OneDrive - Tenundra, Inc/Desktop/Programming/GADGET2/simOutput/tuning1protons24-800p.h5\n"
     ]
    },
    {
     "name": "stderr",
     "output_type": "stream",
     "text": [
      " 98%|█████████▊| 50/51 [00:01<00:00, 35.90it/s]\n"
     ]
    },
    {
     "name": "stdout",
     "output_type": "stream",
     "text": [
      "C:/Users/Adam/OneDrive - Tenundra, Inc/Desktop/Programming/GADGET2/simOutput/tuning1protons25-800p.h5\n"
     ]
    },
    {
     "name": "stderr",
     "output_type": "stream",
     "text": [
      " 98%|█████████▊| 50/51 [00:01<00:00, 40.70it/s]\n"
     ]
    },
    {
     "name": "stdout",
     "output_type": "stream",
     "text": [
      "C:/Users/Adam/OneDrive - Tenundra, Inc/Desktop/Programming/GADGET2/simOutput/tuning1protons26-800p.h5\n"
     ]
    },
    {
     "name": "stderr",
     "output_type": "stream",
     "text": [
      " 98%|█████████▊| 50/51 [00:01<00:00, 44.42it/s]\n"
     ]
    },
    {
     "name": "stdout",
     "output_type": "stream",
     "text": [
      "C:/Users/Adam/OneDrive - Tenundra, Inc/Desktop/Programming/GADGET2/simOutput/tuning1protons27-800p.h5\n"
     ]
    },
    {
     "name": "stderr",
     "output_type": "stream",
     "text": [
      " 98%|█████████▊| 50/51 [00:01<00:00, 39.57it/s]\n"
     ]
    },
    {
     "name": "stdout",
     "output_type": "stream",
     "text": [
      "C:/Users/Adam/OneDrive - Tenundra, Inc/Desktop/Programming/GADGET2/simOutput/tuning1protons28-800p.h5\n"
     ]
    },
    {
     "name": "stderr",
     "output_type": "stream",
     "text": [
      " 98%|█████████▊| 50/51 [00:01<00:00, 39.94it/s]\n"
     ]
    },
    {
     "name": "stdout",
     "output_type": "stream",
     "text": [
      "C:/Users/Adam/OneDrive - Tenundra, Inc/Desktop/Programming/GADGET2/simOutput/tuning1protons29-800p.h5\n"
     ]
    },
    {
     "name": "stderr",
     "output_type": "stream",
     "text": [
      " 98%|█████████▊| 50/51 [00:01<00:00, 43.02it/s]\n"
     ]
    },
    {
     "name": "stdout",
     "output_type": "stream",
     "text": [
      "C:/Users/Adam/OneDrive - Tenundra, Inc/Desktop/Programming/GADGET2/simOutput/tuning1protons3-800p.h5\n"
     ]
    },
    {
     "name": "stderr",
     "output_type": "stream",
     "text": [
      " 98%|█████████▊| 50/51 [00:01<00:00, 42.01it/s]\n"
     ]
    },
    {
     "name": "stdout",
     "output_type": "stream",
     "text": [
      "C:/Users/Adam/OneDrive - Tenundra, Inc/Desktop/Programming/GADGET2/simOutput/tuning1protons30-800p.h5\n"
     ]
    },
    {
     "name": "stderr",
     "output_type": "stream",
     "text": [
      " 98%|█████████▊| 50/51 [00:01<00:00, 38.81it/s]\n"
     ]
    },
    {
     "name": "stdout",
     "output_type": "stream",
     "text": [
      "C:/Users/Adam/OneDrive - Tenundra, Inc/Desktop/Programming/GADGET2/simOutput/tuning1protons31-800p.h5\n"
     ]
    },
    {
     "name": "stderr",
     "output_type": "stream",
     "text": [
      " 98%|█████████▊| 50/51 [00:01<00:00, 40.34it/s]\n"
     ]
    },
    {
     "name": "stdout",
     "output_type": "stream",
     "text": [
      "C:/Users/Adam/OneDrive - Tenundra, Inc/Desktop/Programming/GADGET2/simOutput/tuning1protons32-800p.h5\n"
     ]
    },
    {
     "name": "stderr",
     "output_type": "stream",
     "text": [
      " 98%|█████████▊| 50/51 [00:01<00:00, 41.00it/s]\n"
     ]
    },
    {
     "name": "stdout",
     "output_type": "stream",
     "text": [
      "C:/Users/Adam/OneDrive - Tenundra, Inc/Desktop/Programming/GADGET2/simOutput/tuning1protons33-800p.h5\n"
     ]
    },
    {
     "name": "stderr",
     "output_type": "stream",
     "text": [
      " 98%|█████████▊| 50/51 [00:01<00:00, 34.49it/s]\n"
     ]
    },
    {
     "name": "stdout",
     "output_type": "stream",
     "text": [
      "C:/Users/Adam/OneDrive - Tenundra, Inc/Desktop/Programming/GADGET2/simOutput/tuning1protons34-800p.h5\n"
     ]
    },
    {
     "name": "stderr",
     "output_type": "stream",
     "text": [
      " 98%|█████████▊| 50/51 [00:01<00:00, 36.26it/s]\n"
     ]
    },
    {
     "name": "stdout",
     "output_type": "stream",
     "text": [
      "C:/Users/Adam/OneDrive - Tenundra, Inc/Desktop/Programming/GADGET2/simOutput/tuning1protons35-800p.h5\n"
     ]
    },
    {
     "name": "stderr",
     "output_type": "stream",
     "text": [
      " 98%|█████████▊| 50/51 [00:01<00:00, 37.80it/s]\n"
     ]
    },
    {
     "name": "stdout",
     "output_type": "stream",
     "text": [
      "C:/Users/Adam/OneDrive - Tenundra, Inc/Desktop/Programming/GADGET2/simOutput/tuning1protons36-800p.h5\n"
     ]
    },
    {
     "name": "stderr",
     "output_type": "stream",
     "text": [
      " 98%|█████████▊| 50/51 [00:01<00:00, 36.53it/s]\n"
     ]
    },
    {
     "name": "stdout",
     "output_type": "stream",
     "text": [
      "C:/Users/Adam/OneDrive - Tenundra, Inc/Desktop/Programming/GADGET2/simOutput/tuning1protons37-800p.h5\n"
     ]
    },
    {
     "name": "stderr",
     "output_type": "stream",
     "text": [
      " 98%|█████████▊| 50/51 [00:01<00:00, 35.08it/s]\n"
     ]
    },
    {
     "name": "stdout",
     "output_type": "stream",
     "text": [
      "C:/Users/Adam/OneDrive - Tenundra, Inc/Desktop/Programming/GADGET2/simOutput/tuning1protons38-800p.h5\n"
     ]
    },
    {
     "name": "stderr",
     "output_type": "stream",
     "text": [
      " 98%|█████████▊| 50/51 [00:01<00:00, 39.29it/s]\n"
     ]
    },
    {
     "name": "stdout",
     "output_type": "stream",
     "text": [
      "C:/Users/Adam/OneDrive - Tenundra, Inc/Desktop/Programming/GADGET2/simOutput/tuning1protons39-800p.h5\n"
     ]
    },
    {
     "name": "stderr",
     "output_type": "stream",
     "text": [
      " 98%|█████████▊| 50/51 [00:01<00:00, 34.44it/s]\n"
     ]
    },
    {
     "name": "stdout",
     "output_type": "stream",
     "text": [
      "C:/Users/Adam/OneDrive - Tenundra, Inc/Desktop/Programming/GADGET2/simOutput/tuning1protons4-800p.h5\n"
     ]
    },
    {
     "name": "stderr",
     "output_type": "stream",
     "text": [
      " 98%|█████████▊| 50/51 [00:01<00:00, 37.60it/s]\n"
     ]
    },
    {
     "name": "stdout",
     "output_type": "stream",
     "text": [
      "C:/Users/Adam/OneDrive - Tenundra, Inc/Desktop/Programming/GADGET2/simOutput/tuning1protons40-800p.h5\n"
     ]
    },
    {
     "name": "stderr",
     "output_type": "stream",
     "text": [
      " 98%|█████████▊| 50/51 [00:01<00:00, 38.73it/s]\n"
     ]
    },
    {
     "name": "stdout",
     "output_type": "stream",
     "text": [
      "C:/Users/Adam/OneDrive - Tenundra, Inc/Desktop/Programming/GADGET2/simOutput/tuning1protons41-800p.h5\n"
     ]
    },
    {
     "name": "stderr",
     "output_type": "stream",
     "text": [
      " 98%|█████████▊| 50/51 [00:01<00:00, 32.06it/s]\n"
     ]
    },
    {
     "name": "stdout",
     "output_type": "stream",
     "text": [
      "C:/Users/Adam/OneDrive - Tenundra, Inc/Desktop/Programming/GADGET2/simOutput/tuning1protons42-800p.h5\n"
     ]
    },
    {
     "name": "stderr",
     "output_type": "stream",
     "text": [
      " 98%|█████████▊| 50/51 [00:02<00:00, 24.51it/s]\n"
     ]
    },
    {
     "name": "stdout",
     "output_type": "stream",
     "text": [
      "C:/Users/Adam/OneDrive - Tenundra, Inc/Desktop/Programming/GADGET2/simOutput/tuning1protons43-800p.h5\n"
     ]
    },
    {
     "name": "stderr",
     "output_type": "stream",
     "text": [
      " 98%|█████████▊| 50/51 [00:01<00:00, 31.47it/s]\n"
     ]
    },
    {
     "name": "stdout",
     "output_type": "stream",
     "text": [
      "C:/Users/Adam/OneDrive - Tenundra, Inc/Desktop/Programming/GADGET2/simOutput/tuning1protons44-800p.h5\n"
     ]
    },
    {
     "name": "stderr",
     "output_type": "stream",
     "text": [
      " 98%|█████████▊| 50/51 [00:01<00:00, 31.73it/s]\n"
     ]
    },
    {
     "name": "stdout",
     "output_type": "stream",
     "text": [
      "C:/Users/Adam/OneDrive - Tenundra, Inc/Desktop/Programming/GADGET2/simOutput/tuning1protons45-800p.h5\n"
     ]
    },
    {
     "name": "stderr",
     "output_type": "stream",
     "text": [
      " 98%|█████████▊| 50/51 [00:01<00:00, 34.68it/s]\n"
     ]
    },
    {
     "name": "stdout",
     "output_type": "stream",
     "text": [
      "C:/Users/Adam/OneDrive - Tenundra, Inc/Desktop/Programming/GADGET2/simOutput/tuning1protons46-800p.h5\n"
     ]
    },
    {
     "name": "stderr",
     "output_type": "stream",
     "text": [
      " 98%|█████████▊| 50/51 [00:01<00:00, 41.76it/s]\n"
     ]
    },
    {
     "name": "stdout",
     "output_type": "stream",
     "text": [
      "C:/Users/Adam/OneDrive - Tenundra, Inc/Desktop/Programming/GADGET2/simOutput/tuning1protons47-800p.h5\n"
     ]
    },
    {
     "name": "stderr",
     "output_type": "stream",
     "text": [
      " 98%|█████████▊| 50/51 [00:01<00:00, 39.52it/s]\n"
     ]
    },
    {
     "name": "stdout",
     "output_type": "stream",
     "text": [
      "C:/Users/Adam/OneDrive - Tenundra, Inc/Desktop/Programming/GADGET2/simOutput/tuning1protons48-800p.h5\n"
     ]
    },
    {
     "name": "stderr",
     "output_type": "stream",
     "text": [
      " 98%|█████████▊| 50/51 [00:01<00:00, 42.12it/s]\n"
     ]
    },
    {
     "name": "stdout",
     "output_type": "stream",
     "text": [
      "C:/Users/Adam/OneDrive - Tenundra, Inc/Desktop/Programming/GADGET2/simOutput/tuning1protons49-800p.h5\n"
     ]
    },
    {
     "name": "stderr",
     "output_type": "stream",
     "text": [
      " 98%|█████████▊| 50/51 [00:01<00:00, 36.49it/s]\n"
     ]
    },
    {
     "name": "stdout",
     "output_type": "stream",
     "text": [
      "C:/Users/Adam/OneDrive - Tenundra, Inc/Desktop/Programming/GADGET2/simOutput/tuning1protons5-800p.h5\n"
     ]
    },
    {
     "name": "stderr",
     "output_type": "stream",
     "text": [
      " 98%|█████████▊| 50/51 [00:01<00:00, 38.65it/s]\n"
     ]
    },
    {
     "name": "stdout",
     "output_type": "stream",
     "text": [
      "C:/Users/Adam/OneDrive - Tenundra, Inc/Desktop/Programming/GADGET2/simOutput/tuning1protons50-800p.h5\n"
     ]
    },
    {
     "name": "stderr",
     "output_type": "stream",
     "text": [
      " 98%|█████████▊| 50/51 [00:01<00:00, 40.26it/s]\n"
     ]
    },
    {
     "name": "stdout",
     "output_type": "stream",
     "text": [
      "C:/Users/Adam/OneDrive - Tenundra, Inc/Desktop/Programming/GADGET2/simOutput/tuning1protons51-800p.h5\n"
     ]
    },
    {
     "name": "stderr",
     "output_type": "stream",
     "text": [
      " 98%|█████████▊| 50/51 [00:01<00:00, 41.08it/s]\n"
     ]
    },
    {
     "name": "stdout",
     "output_type": "stream",
     "text": [
      "C:/Users/Adam/OneDrive - Tenundra, Inc/Desktop/Programming/GADGET2/simOutput/tuning1protons52-800p.h5\n"
     ]
    },
    {
     "name": "stderr",
     "output_type": "stream",
     "text": [
      " 98%|█████████▊| 50/51 [00:01<00:00, 42.79it/s]\n"
     ]
    },
    {
     "name": "stdout",
     "output_type": "stream",
     "text": [
      "C:/Users/Adam/OneDrive - Tenundra, Inc/Desktop/Programming/GADGET2/simOutput/tuning1protons53-800p.h5\n"
     ]
    },
    {
     "name": "stderr",
     "output_type": "stream",
     "text": [
      " 98%|█████████▊| 50/51 [00:01<00:00, 41.00it/s]\n"
     ]
    },
    {
     "name": "stdout",
     "output_type": "stream",
     "text": [
      "C:/Users/Adam/OneDrive - Tenundra, Inc/Desktop/Programming/GADGET2/simOutput/tuning1protons54-800p.h5\n"
     ]
    },
    {
     "name": "stderr",
     "output_type": "stream",
     "text": [
      " 98%|█████████▊| 50/51 [00:01<00:00, 41.93it/s]\n"
     ]
    },
    {
     "name": "stdout",
     "output_type": "stream",
     "text": [
      "C:/Users/Adam/OneDrive - Tenundra, Inc/Desktop/Programming/GADGET2/simOutput/tuning1protons55-800p.h5\n"
     ]
    },
    {
     "name": "stderr",
     "output_type": "stream",
     "text": [
      " 98%|█████████▊| 50/51 [00:01<00:00, 41.53it/s]\n"
     ]
    },
    {
     "name": "stdout",
     "output_type": "stream",
     "text": [
      "C:/Users/Adam/OneDrive - Tenundra, Inc/Desktop/Programming/GADGET2/simOutput/tuning1protons56-800p.h5\n"
     ]
    },
    {
     "name": "stderr",
     "output_type": "stream",
     "text": [
      " 98%|█████████▊| 50/51 [00:01<00:00, 40.98it/s]\n"
     ]
    },
    {
     "name": "stdout",
     "output_type": "stream",
     "text": [
      "C:/Users/Adam/OneDrive - Tenundra, Inc/Desktop/Programming/GADGET2/simOutput/tuning1protons57-800p.h5\n"
     ]
    },
    {
     "name": "stderr",
     "output_type": "stream",
     "text": [
      " 98%|█████████▊| 50/51 [00:01<00:00, 41.44it/s]\n"
     ]
    },
    {
     "name": "stdout",
     "output_type": "stream",
     "text": [
      "C:/Users/Adam/OneDrive - Tenundra, Inc/Desktop/Programming/GADGET2/simOutput/tuning1protons58-800p.h5\n"
     ]
    },
    {
     "name": "stderr",
     "output_type": "stream",
     "text": [
      " 98%|█████████▊| 50/51 [00:01<00:00, 42.30it/s]\n"
     ]
    },
    {
     "name": "stdout",
     "output_type": "stream",
     "text": [
      "C:/Users/Adam/OneDrive - Tenundra, Inc/Desktop/Programming/GADGET2/simOutput/tuning1protons59-800p.h5\n"
     ]
    },
    {
     "name": "stderr",
     "output_type": "stream",
     "text": [
      " 98%|█████████▊| 50/51 [00:01<00:00, 39.41it/s]\n"
     ]
    },
    {
     "name": "stdout",
     "output_type": "stream",
     "text": [
      "C:/Users/Adam/OneDrive - Tenundra, Inc/Desktop/Programming/GADGET2/simOutput/tuning1protons6-800p.h5\n"
     ]
    },
    {
     "name": "stderr",
     "output_type": "stream",
     "text": [
      " 98%|█████████▊| 50/51 [00:01<00:00, 39.69it/s]\n"
     ]
    },
    {
     "name": "stdout",
     "output_type": "stream",
     "text": [
      "C:/Users/Adam/OneDrive - Tenundra, Inc/Desktop/Programming/GADGET2/simOutput/tuning1protons60-800p.h5\n"
     ]
    },
    {
     "name": "stderr",
     "output_type": "stream",
     "text": [
      " 98%|█████████▊| 50/51 [00:01<00:00, 41.89it/s]\n"
     ]
    },
    {
     "name": "stdout",
     "output_type": "stream",
     "text": [
      "C:/Users/Adam/OneDrive - Tenundra, Inc/Desktop/Programming/GADGET2/simOutput/tuning1protons61-800p.h5\n"
     ]
    },
    {
     "name": "stderr",
     "output_type": "stream",
     "text": [
      " 98%|█████████▊| 50/51 [00:01<00:00, 36.71it/s]\n"
     ]
    },
    {
     "name": "stdout",
     "output_type": "stream",
     "text": [
      "C:/Users/Adam/OneDrive - Tenundra, Inc/Desktop/Programming/GADGET2/simOutput/tuning1protons62-800p.h5\n"
     ]
    },
    {
     "name": "stderr",
     "output_type": "stream",
     "text": [
      " 98%|█████████▊| 50/51 [00:01<00:00, 34.78it/s]\n"
     ]
    },
    {
     "name": "stdout",
     "output_type": "stream",
     "text": [
      "C:/Users/Adam/OneDrive - Tenundra, Inc/Desktop/Programming/GADGET2/simOutput/tuning1protons63-800p.h5\n"
     ]
    },
    {
     "name": "stderr",
     "output_type": "stream",
     "text": [
      " 98%|█████████▊| 50/51 [00:01<00:00, 39.69it/s]\n"
     ]
    },
    {
     "name": "stdout",
     "output_type": "stream",
     "text": [
      "C:/Users/Adam/OneDrive - Tenundra, Inc/Desktop/Programming/GADGET2/simOutput/tuning1protons64-800p.h5\n"
     ]
    },
    {
     "name": "stderr",
     "output_type": "stream",
     "text": [
      " 98%|█████████▊| 50/51 [00:01<00:00, 38.44it/s]\n"
     ]
    },
    {
     "name": "stdout",
     "output_type": "stream",
     "text": [
      "C:/Users/Adam/OneDrive - Tenundra, Inc/Desktop/Programming/GADGET2/simOutput/tuning1protons65-800p.h5\n"
     ]
    },
    {
     "name": "stderr",
     "output_type": "stream",
     "text": [
      " 98%|█████████▊| 50/51 [00:01<00:00, 45.72it/s]\n"
     ]
    },
    {
     "name": "stdout",
     "output_type": "stream",
     "text": [
      "C:/Users/Adam/OneDrive - Tenundra, Inc/Desktop/Programming/GADGET2/simOutput/tuning1protons66-800p.h5\n"
     ]
    },
    {
     "name": "stderr",
     "output_type": "stream",
     "text": [
      " 98%|█████████▊| 50/51 [00:01<00:00, 41.31it/s]\n"
     ]
    },
    {
     "name": "stdout",
     "output_type": "stream",
     "text": [
      "C:/Users/Adam/OneDrive - Tenundra, Inc/Desktop/Programming/GADGET2/simOutput/tuning1protons67-800p.h5\n"
     ]
    },
    {
     "name": "stderr",
     "output_type": "stream",
     "text": [
      " 98%|█████████▊| 50/51 [00:01<00:00, 40.11it/s]\n"
     ]
    },
    {
     "name": "stdout",
     "output_type": "stream",
     "text": [
      "C:/Users/Adam/OneDrive - Tenundra, Inc/Desktop/Programming/GADGET2/simOutput/tuning1protons68-800p.h5\n"
     ]
    },
    {
     "name": "stderr",
     "output_type": "stream",
     "text": [
      " 98%|█████████▊| 50/51 [00:01<00:00, 38.45it/s]\n"
     ]
    },
    {
     "name": "stdout",
     "output_type": "stream",
     "text": [
      "C:/Users/Adam/OneDrive - Tenundra, Inc/Desktop/Programming/GADGET2/simOutput/tuning1protons69-800p.h5\n"
     ]
    },
    {
     "name": "stderr",
     "output_type": "stream",
     "text": [
      " 98%|█████████▊| 50/51 [00:01<00:00, 37.62it/s]\n"
     ]
    },
    {
     "name": "stdout",
     "output_type": "stream",
     "text": [
      "C:/Users/Adam/OneDrive - Tenundra, Inc/Desktop/Programming/GADGET2/simOutput/tuning1protons7-800p.h5\n"
     ]
    },
    {
     "name": "stderr",
     "output_type": "stream",
     "text": [
      " 98%|█████████▊| 50/51 [00:01<00:00, 40.83it/s]\n"
     ]
    },
    {
     "name": "stdout",
     "output_type": "stream",
     "text": [
      "C:/Users/Adam/OneDrive - Tenundra, Inc/Desktop/Programming/GADGET2/simOutput/tuning1protons70-800p.h5\n"
     ]
    },
    {
     "name": "stderr",
     "output_type": "stream",
     "text": [
      " 98%|█████████▊| 50/51 [00:01<00:00, 40.83it/s]\n"
     ]
    },
    {
     "name": "stdout",
     "output_type": "stream",
     "text": [
      "C:/Users/Adam/OneDrive - Tenundra, Inc/Desktop/Programming/GADGET2/simOutput/tuning1protons71-800p.h5\n"
     ]
    },
    {
     "name": "stderr",
     "output_type": "stream",
     "text": [
      " 98%|█████████▊| 50/51 [00:01<00:00, 41.79it/s]\n"
     ]
    },
    {
     "name": "stdout",
     "output_type": "stream",
     "text": [
      "C:/Users/Adam/OneDrive - Tenundra, Inc/Desktop/Programming/GADGET2/simOutput/tuning1protons72-800p.h5\n"
     ]
    },
    {
     "name": "stderr",
     "output_type": "stream",
     "text": [
      " 98%|█████████▊| 50/51 [00:01<00:00, 44.93it/s]\n"
     ]
    },
    {
     "name": "stdout",
     "output_type": "stream",
     "text": [
      "C:/Users/Adam/OneDrive - Tenundra, Inc/Desktop/Programming/GADGET2/simOutput/tuning1protons73-800p.h5\n"
     ]
    },
    {
     "name": "stderr",
     "output_type": "stream",
     "text": [
      " 98%|█████████▊| 50/51 [00:01<00:00, 38.42it/s]\n"
     ]
    },
    {
     "name": "stdout",
     "output_type": "stream",
     "text": [
      "C:/Users/Adam/OneDrive - Tenundra, Inc/Desktop/Programming/GADGET2/simOutput/tuning1protons74-800p.h5\n"
     ]
    },
    {
     "name": "stderr",
     "output_type": "stream",
     "text": [
      " 98%|█████████▊| 50/51 [00:02<00:00, 22.32it/s]\n"
     ]
    },
    {
     "name": "stdout",
     "output_type": "stream",
     "text": [
      "C:/Users/Adam/OneDrive - Tenundra, Inc/Desktop/Programming/GADGET2/simOutput/tuning1protons75-800p.h5\n"
     ]
    },
    {
     "name": "stderr",
     "output_type": "stream",
     "text": [
      " 98%|█████████▊| 50/51 [00:01<00:00, 28.17it/s]\n"
     ]
    },
    {
     "name": "stdout",
     "output_type": "stream",
     "text": [
      "C:/Users/Adam/OneDrive - Tenundra, Inc/Desktop/Programming/GADGET2/simOutput/tuning1protons76-800p.h5\n"
     ]
    },
    {
     "name": "stderr",
     "output_type": "stream",
     "text": [
      " 98%|█████████▊| 50/51 [00:01<00:00, 33.03it/s]\n"
     ]
    },
    {
     "name": "stdout",
     "output_type": "stream",
     "text": [
      "C:/Users/Adam/OneDrive - Tenundra, Inc/Desktop/Programming/GADGET2/simOutput/tuning1protons77-800p.h5\n"
     ]
    },
    {
     "name": "stderr",
     "output_type": "stream",
     "text": [
      " 98%|█████████▊| 50/51 [00:01<00:00, 40.61it/s]\n"
     ]
    },
    {
     "name": "stdout",
     "output_type": "stream",
     "text": [
      "C:/Users/Adam/OneDrive - Tenundra, Inc/Desktop/Programming/GADGET2/simOutput/tuning1protons78-800p.h5\n"
     ]
    },
    {
     "name": "stderr",
     "output_type": "stream",
     "text": [
      " 98%|█████████▊| 50/51 [00:01<00:00, 30.38it/s]\n"
     ]
    },
    {
     "name": "stdout",
     "output_type": "stream",
     "text": [
      "C:/Users/Adam/OneDrive - Tenundra, Inc/Desktop/Programming/GADGET2/simOutput/tuning1protons79-800p.h5\n"
     ]
    },
    {
     "name": "stderr",
     "output_type": "stream",
     "text": [
      " 98%|█████████▊| 50/51 [00:01<00:00, 39.93it/s]\n"
     ]
    },
    {
     "name": "stdout",
     "output_type": "stream",
     "text": [
      "C:/Users/Adam/OneDrive - Tenundra, Inc/Desktop/Programming/GADGET2/simOutput/tuning1protons8-800p.h5\n"
     ]
    },
    {
     "name": "stderr",
     "output_type": "stream",
     "text": [
      " 98%|█████████▊| 50/51 [00:01<00:00, 44.76it/s]\n"
     ]
    },
    {
     "name": "stdout",
     "output_type": "stream",
     "text": [
      "C:/Users/Adam/OneDrive - Tenundra, Inc/Desktop/Programming/GADGET2/simOutput/tuning1protons80-800p.h5\n"
     ]
    },
    {
     "name": "stderr",
     "output_type": "stream",
     "text": [
      " 98%|█████████▊| 50/51 [00:01<00:00, 42.45it/s]\n"
     ]
    },
    {
     "name": "stdout",
     "output_type": "stream",
     "text": [
      "C:/Users/Adam/OneDrive - Tenundra, Inc/Desktop/Programming/GADGET2/simOutput/tuning1protons81-800p.h5\n"
     ]
    },
    {
     "name": "stderr",
     "output_type": "stream",
     "text": [
      " 98%|█████████▊| 50/51 [00:01<00:00, 45.17it/s]\n"
     ]
    },
    {
     "name": "stdout",
     "output_type": "stream",
     "text": [
      "C:/Users/Adam/OneDrive - Tenundra, Inc/Desktop/Programming/GADGET2/simOutput/tuning1protons82-800p.h5\n"
     ]
    },
    {
     "name": "stderr",
     "output_type": "stream",
     "text": [
      " 98%|█████████▊| 50/51 [00:01<00:00, 40.12it/s]\n"
     ]
    },
    {
     "name": "stdout",
     "output_type": "stream",
     "text": [
      "C:/Users/Adam/OneDrive - Tenundra, Inc/Desktop/Programming/GADGET2/simOutput/tuning1protons83-800p.h5\n"
     ]
    },
    {
     "name": "stderr",
     "output_type": "stream",
     "text": [
      " 98%|█████████▊| 50/51 [00:01<00:00, 41.46it/s]\n"
     ]
    },
    {
     "name": "stdout",
     "output_type": "stream",
     "text": [
      "C:/Users/Adam/OneDrive - Tenundra, Inc/Desktop/Programming/GADGET2/simOutput/tuning1protons84-800p.h5\n"
     ]
    },
    {
     "name": "stderr",
     "output_type": "stream",
     "text": [
      " 98%|█████████▊| 50/51 [00:01<00:00, 37.48it/s]\n"
     ]
    },
    {
     "name": "stdout",
     "output_type": "stream",
     "text": [
      "C:/Users/Adam/OneDrive - Tenundra, Inc/Desktop/Programming/GADGET2/simOutput/tuning1protons85-800p.h5\n"
     ]
    },
    {
     "name": "stderr",
     "output_type": "stream",
     "text": [
      " 98%|█████████▊| 50/51 [00:01<00:00, 39.79it/s]\n"
     ]
    },
    {
     "name": "stdout",
     "output_type": "stream",
     "text": [
      "C:/Users/Adam/OneDrive - Tenundra, Inc/Desktop/Programming/GADGET2/simOutput/tuning1protons86-800p.h5\n"
     ]
    },
    {
     "name": "stderr",
     "output_type": "stream",
     "text": [
      " 98%|█████████▊| 50/51 [00:01<00:00, 44.44it/s]\n"
     ]
    },
    {
     "name": "stdout",
     "output_type": "stream",
     "text": [
      "C:/Users/Adam/OneDrive - Tenundra, Inc/Desktop/Programming/GADGET2/simOutput/tuning1protons87-800p.h5\n"
     ]
    },
    {
     "name": "stderr",
     "output_type": "stream",
     "text": [
      " 98%|█████████▊| 50/51 [00:01<00:00, 41.55it/s]\n"
     ]
    },
    {
     "name": "stdout",
     "output_type": "stream",
     "text": [
      "C:/Users/Adam/OneDrive - Tenundra, Inc/Desktop/Programming/GADGET2/simOutput/tuning1protons88-800p.h5\n"
     ]
    },
    {
     "name": "stderr",
     "output_type": "stream",
     "text": [
      " 98%|█████████▊| 50/51 [00:01<00:00, 42.81it/s]\n"
     ]
    },
    {
     "name": "stdout",
     "output_type": "stream",
     "text": [
      "C:/Users/Adam/OneDrive - Tenundra, Inc/Desktop/Programming/GADGET2/simOutput/tuning1protons89-800p.h5\n"
     ]
    },
    {
     "name": "stderr",
     "output_type": "stream",
     "text": [
      " 98%|█████████▊| 50/51 [00:01<00:00, 43.37it/s]\n"
     ]
    },
    {
     "name": "stdout",
     "output_type": "stream",
     "text": [
      "C:/Users/Adam/OneDrive - Tenundra, Inc/Desktop/Programming/GADGET2/simOutput/tuning1protons9-800p.h5\n"
     ]
    },
    {
     "name": "stderr",
     "output_type": "stream",
     "text": [
      " 98%|█████████▊| 50/51 [00:01<00:00, 39.98it/s]\n"
     ]
    },
    {
     "name": "stdout",
     "output_type": "stream",
     "text": [
      "C:/Users/Adam/OneDrive - Tenundra, Inc/Desktop/Programming/GADGET2/simOutput/tuning1protons90-800p.h5\n"
     ]
    },
    {
     "name": "stderr",
     "output_type": "stream",
     "text": [
      " 98%|█████████▊| 50/51 [00:01<00:00, 36.25it/s]\n"
     ]
    },
    {
     "name": "stdout",
     "output_type": "stream",
     "text": [
      "C:/Users/Adam/OneDrive - Tenundra, Inc/Desktop/Programming/GADGET2/simOutput/tuning1protons91-800p.h5\n"
     ]
    },
    {
     "name": "stderr",
     "output_type": "stream",
     "text": [
      " 98%|█████████▊| 50/51 [00:01<00:00, 33.06it/s]\n"
     ]
    },
    {
     "name": "stdout",
     "output_type": "stream",
     "text": [
      "C:/Users/Adam/OneDrive - Tenundra, Inc/Desktop/Programming/GADGET2/simOutput/tuning1protons92-800p.h5\n"
     ]
    },
    {
     "name": "stderr",
     "output_type": "stream",
     "text": [
      " 98%|█████████▊| 50/51 [00:01<00:00, 43.84it/s]\n"
     ]
    },
    {
     "name": "stdout",
     "output_type": "stream",
     "text": [
      "C:/Users/Adam/OneDrive - Tenundra, Inc/Desktop/Programming/GADGET2/simOutput/tuning1protons93-800p.h5\n"
     ]
    },
    {
     "name": "stderr",
     "output_type": "stream",
     "text": [
      " 98%|█████████▊| 50/51 [00:01<00:00, 31.22it/s]\n"
     ]
    },
    {
     "name": "stdout",
     "output_type": "stream",
     "text": [
      "C:/Users/Adam/OneDrive - Tenundra, Inc/Desktop/Programming/GADGET2/simOutput/tuning1protons94-800p.h5\n"
     ]
    },
    {
     "name": "stderr",
     "output_type": "stream",
     "text": [
      " 98%|█████████▊| 50/51 [00:01<00:00, 41.38it/s]\n"
     ]
    },
    {
     "name": "stdout",
     "output_type": "stream",
     "text": [
      "C:/Users/Adam/OneDrive - Tenundra, Inc/Desktop/Programming/GADGET2/simOutput/tuning1protons95-800p.h5\n"
     ]
    },
    {
     "name": "stderr",
     "output_type": "stream",
     "text": [
      " 98%|█████████▊| 50/51 [00:01<00:00, 35.18it/s]\n"
     ]
    },
    {
     "name": "stdout",
     "output_type": "stream",
     "text": [
      "C:/Users/Adam/OneDrive - Tenundra, Inc/Desktop/Programming/GADGET2/simOutput/tuning1protons96-800p.h5\n"
     ]
    },
    {
     "name": "stderr",
     "output_type": "stream",
     "text": [
      " 98%|█████████▊| 50/51 [00:01<00:00, 36.61it/s]\n"
     ]
    },
    {
     "name": "stdout",
     "output_type": "stream",
     "text": [
      "C:/Users/Adam/OneDrive - Tenundra, Inc/Desktop/Programming/GADGET2/simOutput/tuning1protons97-800p.h5\n"
     ]
    },
    {
     "name": "stderr",
     "output_type": "stream",
     "text": [
      " 98%|█████████▊| 50/51 [00:01<00:00, 41.00it/s]\n"
     ]
    },
    {
     "name": "stdout",
     "output_type": "stream",
     "text": [
      "C:/Users/Adam/OneDrive - Tenundra, Inc/Desktop/Programming/GADGET2/simOutput/tuning1protons98-800p.h5\n"
     ]
    },
    {
     "name": "stderr",
     "output_type": "stream",
     "text": [
      " 98%|█████████▊| 50/51 [00:01<00:00, 36.78it/s]\n"
     ]
    },
    {
     "name": "stdout",
     "output_type": "stream",
     "text": [
      "C:/Users/Adam/OneDrive - Tenundra, Inc/Desktop/Programming/GADGET2/simOutput/tuning1protons99-800p.h5\n"
     ]
    },
    {
     "name": "stderr",
     "output_type": "stream",
     "text": [
      " 98%|█████████▊| 50/51 [00:01<00:00, 38.42it/s]\n"
     ]
    }
   ],
   "source": [
    "# assign directory\n",
    "directory = \"C:/Users/Adam/OneDrive - Tenundra, Inc/Desktop/Programming/GADGET2/simOutput/\"\n",
    "\n",
    "output_df = pd.DataFrame(columns=['file','event','length', 'width', 'depth', 'tracesum', 'tracemax', 'tracedev', 'padnum'])\n",
    "\n",
    "file_names = []\n",
    "# iterate over files in directory\n",
    "for filename in os.listdir(directory):\n",
    "    f = os.path.join(directory, filename)\n",
    "    # checking if it is a file\n",
    "    if os.path.isfile(f):\n",
    "        if f[-3:] == '.h5':\n",
    "            print(f)\n",
    "            file_names.append(filename)\n",
    "            h5f = h5py.File(directory+filename, 'r')\n",
    "            (tot_energy, skipped_events, veto_events, good_events, len_list, width_list, depth_list, tracemax_list, tracedev_list, pads_list) = main(h5file=h5f, threshold=15)\n",
    "            for event in range(len(tot_energy)):\n",
    "                output_df = output_df.append({'file' : filename, \n",
    "                                              'event' : event, \n",
    "                                              'length' : len_list[event], \n",
    "                                              'width' : width_list[event], \n",
    "                                              'depth' : depth_list[event], \n",
    "                                              'tracesum' : tot_energy[event], \n",
    "                                              'tracemax' : tracemax_list[event], \n",
    "                                              'tracedev' : tracedev_list[event], \n",
    "                                              'padnum' : pads_list[event]}\n",
    "                                             ,ignore_index = True)\n"
   ]
  },
  {
   "cell_type": "code",
   "execution_count": 8,
   "metadata": {},
   "outputs": [
    {
     "name": "stdout",
     "output_type": "stream",
     "text": [
      "273_800p.h5\n",
      "length:\t 13.598839169264538 \t 0.36378981766204926\n",
      "width:\t 5.490411630687275 \t 1.079046393352792\n",
      "depth:\t 1.1956686193850872 \t 0.46275125866424466\n",
      "tracesum:\t 155282.26997909456 \t 1353.2815542925161\n",
      "tracemax:\t 17261.596403866206 \t 3820.7164201418886\n",
      "tracedev:\t 3396.808171408027 \t 395.6029936835511\n",
      "padnum:\t 89.44822485207101 \t 4.124217163844774\n",
      "\n",
      "tuning1protons0-800p.h5\n",
      "length:\t 15.5807004698707 \t 1.149059224915356\n",
      "width:\t 9.40471491457727 \t 1.0489613822733186\n",
      "depth:\t 3.7515682960386982 \t 0.8777857252838196\n",
      "tracesum:\t 402377.50505999953 \t 1826.8953867398502\n",
      "tracemax:\t 37082.56348518972 \t 4366.255620558928\n",
      "tracedev:\t 7967.961119926421 \t 525.2674242188074\n",
      "padnum:\t 106.8 \t 9.521190115972361\n",
      "\n",
      "tuning1protons1-800p.h5\n",
      "length:\t 15.253738778857032 \t 1.1934093739769749\n",
      "width:\t 9.185302623750957 \t 1.030995961082655\n",
      "depth:\t 4.173615934485865 \t 1.0159701141749773\n",
      "tracesum:\t 423307.18194794515 \t 2092.3234388033707\n",
      "tracemax:\t 38661.96745810727 \t 5220.63626545671\n",
      "tracedev:\t 8330.978595835255 \t 629.3628901791841\n",
      "padnum:\t 98.12 \t 13.749419282727722\n",
      "\n",
      "tuning1protons10-800p.h5\n",
      "length:\t 16.10310381702518 \t 1.1508359046686736\n",
      "width:\t 9.905194827124065 \t 1.1673564821691111\n",
      "depth:\t 4.239411424930531 \t 0.8932148707608162\n",
      "tracesum:\t 430731.8040615322 \t 2386.199367788043\n",
      "tracemax:\t 40817.5703665463 \t 4701.781011790632\n",
      "tracedev:\t 8664.161156944108 \t 556.5064607223676\n",
      "padnum:\t 110.0 \t 6.298687910013887\n",
      "\n",
      "tuning1protons11-800p.h5\n",
      "length:\t 16.744021659035177 \t 1.3389904671341677\n",
      "width:\t 10.651813783218126 \t 1.2366299430084302\n",
      "depth:\t 4.226463884746517 \t 0.9861649614898401\n",
      "tracesum:\t 499590.38799843076 \t 2155.78626782563\n",
      "tracemax:\t 44896.9008378173 \t 4748.7996492874845\n",
      "tracedev:\t 9761.3098597684 \t 582.4232918479235\n",
      "padnum:\t 109.8 \t 5.703561365050608\n",
      "\n",
      "tuning1protons12-800p.h5\n",
      "length:\t 14.746313214888323 \t 1.2122526829166038\n",
      "width:\t 8.592155640695717 \t 0.89871801577637\n",
      "depth:\t 3.6859640065102464 \t 0.9331177131059902\n",
      "tracesum:\t 325468.6415512136 \t 2539.0520001745253\n",
      "tracemax:\t 30279.586303780598 \t 3900.6302695330464\n",
      "tracedev:\t 6475.005959989161 \t 469.34269606336767\n",
      "padnum:\t 103.2 \t 11.948870666472278\n",
      "\n",
      "tuning1protons13-800p.h5\n",
      "length:\t 18.99167989032864 \t 1.6094045236435286\n",
      "width:\t 12.941592983004186 \t 1.5938663495911796\n",
      "depth:\t 6.551154789198812 \t 1.1856182519468488\n",
      "tracesum:\t 641811.598485258 \t 3043.447166256951\n",
      "tracemax:\t 59321.475885009095 \t 6472.1362456965035\n",
      "tracedev:\t 12733.362708171013 \t 774.2944702194641\n",
      "padnum:\t 109.62 \t 6.314511954576521\n",
      "\n",
      "tuning1protons14-800p.h5\n",
      "length:\t 16.487468341130356 \t 1.2799426455716891\n",
      "width:\t 10.348067762626728 \t 1.2552501182991262\n",
      "depth:\t 4.388409438846939 \t 1.0744571438670862\n",
      "tracesum:\t 460871.0772596428 \t 2805.934453209051\n",
      "tracemax:\t 45246.72763951106 \t 4884.660479133065\n",
      "tracedev:\t 9466.766364890718 \t 570.9145444607576\n",
      "padnum:\t 112.26 \t 2.7315989187765517\n",
      "\n",
      "tuning1protons15-800p.h5\n",
      "length:\t 15.935663838931386 \t 1.238278687762206\n",
      "width:\t 9.859072339236501 \t 1.08383509868559\n",
      "depth:\t 4.1887320933428365 \t 0.8349771600445824\n",
      "tracesum:\t 496487.1048929812 \t 2776.1944185511734\n",
      "tracemax:\t 46071.92596836208 \t 5620.5444736094105\n",
      "tracedev:\t 9869.053647177421 \t 670.3639170728236\n",
      "padnum:\t 105.44 \t 10.51754607834946\n",
      "\n",
      "tuning1protons16-800p.h5\n",
      "length:\t 16.944659954903365 \t 1.2884724635769926\n",
      "width:\t 11.099857276904027 \t 1.2767722201330962\n",
      "depth:\t 4.032409941189396 \t 0.8224563934286199\n",
      "tracesum:\t 517498.0615781041 \t 2384.455839938039\n",
      "tracemax:\t 51487.27857802878 \t 5779.557918455012\n",
      "tracedev:\t 10698.847660260364 \t 667.2192630003317\n",
      "padnum:\t 112.1 \t 3.1638906557643\n",
      "\n",
      "tuning1protons17-800p.h5\n",
      "length:\t 15.448867812881653 \t 1.2312723116371624\n",
      "width:\t 9.664183780857893 \t 1.1075812827883114\n",
      "depth:\t 4.074517539943637 \t 0.9951624007221226\n",
      "tracesum:\t 410935.7883875661 \t 2386.438634235297\n",
      "tracemax:\t 36767.12199549905 \t 4341.082691137276\n",
      "tracedev:\t 8004.657537983319 \t 532.4463123258655\n",
      "padnum:\t 106.56 \t 9.536524845164982\n",
      "\n",
      "tuning1protons18-800p.h5\n",
      "length:\t 15.669002503982494 \t 1.2462520453604895\n",
      "width:\t 9.86453128152659 \t 1.080169819115924\n",
      "depth:\t 3.4604578698068473 \t 0.7320522107297133\n",
      "tracesum:\t 515588.6559694077 \t 2730.293366818342\n",
      "tracemax:\t 49383.54781089481 \t 5458.85177331357\n",
      "tracedev:\t 10439.73891780709 \t 651.3689202616366\n",
      "padnum:\t 110.96 \t 5.364128778377753\n",
      "\n",
      "tuning1protons19-800p.h5\n",
      "length:\t 16.19926739224788 \t 1.3983458561229438\n",
      "width:\t 10.447460672456662 \t 1.1637371016119342\n",
      "depth:\t 3.85986178511345 \t 0.8764088207457161\n",
      "tracesum:\t 631923.8466962515 \t 3810.5192930180383\n",
      "tracemax:\t 58487.807819074194 \t 6093.916013242365\n",
      "tracedev:\t 12554.190859143215 \t 737.7112109721454\n",
      "padnum:\t 111.5 \t 3.424104232630538\n",
      "\n",
      "tuning1protons2-800p.h5\n",
      "length:\t 15.175466836532905 \t 1.1694586138547822\n",
      "width:\t 8.818256906103052 \t 0.960833731307912\n",
      "depth:\t 3.879311984687596 \t 0.8534746354913616\n",
      "tracesum:\t 455006.9921556711 \t 2857.520551043597\n",
      "tracemax:\t 42297.27426954666 \t 5266.1660421319075\n",
      "tracedev:\t 9044.58711242293 \t 630.0202834572499\n",
      "padnum:\t 103.7 \t 12.03947588526331\n",
      "\n",
      "tuning1protons20-800p.h5\n",
      "length:\t 17.05122081933944 \t 1.46486068685563\n",
      "width:\t 10.671743561763938 \t 1.358005702695905\n",
      "depth:\t 4.909908507987655 \t 1.1197466739921205\n",
      "tracesum:\t 480705.46512772195 \t 2747.064311449501\n",
      "tracemax:\t 47269.85601432424 \t 5362.107736713066\n",
      "tracedev:\t 9873.986789871524 \t 625.1166636666096\n",
      "padnum:\t 112.08 \t 2.995506839332836\n",
      "\n",
      "tuning1protons21-800p.h5\n",
      "length:\t 16.71065284632332 \t 1.3470485058711918\n",
      "width:\t 10.863603530154487 \t 1.287038340271137\n",
      "depth:\t 4.351963245056802 \t 0.9811245261609001\n",
      "tracesum:\t 499069.069420073 \t 2198.1107642826337\n",
      "tracemax:\t 47164.53413682244 \t 5484.461841709574\n",
      "tracedev:\t 10025.40569864968 \t 641.5529099719959\n",
      "padnum:\t 109.52 \t 7.273771724630958\n",
      "\n",
      "tuning1protons22-800p.h5\n",
      "length:\t 16.058318406209338 \t 1.2307483877204308\n",
      "width:\t 9.744561599967001 \t 1.2039502589857851\n",
      "depth:\t 4.123862169993577 \t 1.1074649829626213\n",
      "tracesum:\t 456892.8229433154 \t 2978.421184548361\n",
      "tracemax:\t 43369.79364387714 \t 4769.379901527455\n",
      "tracedev:\t 9208.831432315419 \t 562.4659741477238\n",
      "padnum:\t 111.4 \t 4.05573416187954\n",
      "\n",
      "tuning1protons23-800p.h5\n",
      "length:\t 17.124343986915072 \t 1.333693543232835\n",
      "width:\t 10.91991119435557 \t 1.2920853995447732\n",
      "depth:\t 5.518714630898114 \t 0.9740883021075899\n",
      "tracesum:\t 509727.3095672271 \t 2309.3606563283724\n",
      "tracemax:\t 45078.49841888026 \t 5380.0099268519425\n",
      "tracedev:\t 9865.385893908564 \t 654.0202853117605\n",
      "padnum:\t 103.32 \t 11.350519182587453\n",
      "\n",
      "tuning1protons24-800p.h5\n",
      "length:\t 16.791516050838858 \t 1.2935332116317724\n",
      "width:\t 11.146082155023981 \t 1.2970555699796367\n",
      "depth:\t 5.235187536792971 \t 1.0412136442919817\n",
      "tracesum:\t 476095.8407536654 \t 2487.70098253496\n",
      "tracemax:\t 42309.8662487027 \t 5173.56088306347\n",
      "tracedev:\t 9229.029486966989 \t 635.6512853636059\n",
      "padnum:\t 101.68 \t 12.456356462727397\n",
      "\n",
      "tuning1protons25-800p.h5\n",
      "length:\t 17.102767921605984 \t 1.4920945597885662\n",
      "width:\t 11.404985680119012 \t 1.365788538370242\n",
      "depth:\t 4.954863578489315 \t 1.1423429567549157\n",
      "tracesum:\t 388946.75240981055 \t 2086.1305241900304\n",
      "tracemax:\t 36210.77218398059 \t 4135.9269269583765\n",
      "tracedev:\t 7751.109091238616 \t 494.37720538970626\n",
      "padnum:\t 108.64 \t 7.631192701066874\n",
      "\n",
      "tuning1protons26-800p.h5\n",
      "length:\t 17.204745393681783 \t 1.2546146129871194\n",
      "width:\t 11.304584918188334 \t 1.4044268810061047\n",
      "depth:\t 4.998985489902278 \t 1.0822715082926468\n",
      "tracesum:\t 380239.79809166084 \t 2146.4984063816783\n",
      "tracemax:\t 36980.892572755474 \t 4249.603309816603\n",
      "tracedev:\t 7760.628760286005 \t 494.8378490993\n",
      "padnum:\t 110.84 \t 5.747617074998675\n",
      "\n",
      "tuning1protons27-800p.h5\n",
      "length:\t 14.844855012208933 \t 1.2126261918339287\n",
      "width:\t 8.846272153513784 \t 0.9265024117046798\n",
      "depth:\t 3.2419663751596 \t 0.7117432114710969\n",
      "tracesum:\t 436625.3992371338 \t 3867.986185181284\n",
      "tracemax:\t 38668.62620764536 \t 4577.64277406054\n",
      "tracedev:\t 8456.108989423417 \t 580.5863779189739\n",
      "padnum:\t 106.18 \t 9.460314530733541\n",
      "\n",
      "tuning1protons28-800p.h5\n",
      "length:\t 15.285166134559972 \t 1.1291109856697477\n",
      "width:\t 9.634431345307444 \t 1.0674874632895608\n",
      "depth:\t 3.4766633817290806 \t 0.8107436139443822\n",
      "tracesum:\t 405715.28357701586 \t 2770.7832236334675\n",
      "tracemax:\t 36694.4428142425 \t 4130.432813279289\n",
      "tracedev:\t 7952.407434256276 \t 507.7514047566795\n",
      "padnum:\t 108.46 \t 7.683031927034844\n",
      "\n",
      "tuning1protons29-800p.h5\n",
      "length:\t 15.330154103038039 \t 1.184746040792155\n",
      "width:\t 9.211887922363855 \t 0.9802144216491652\n",
      "depth:\t 3.291122416436565 \t 0.7894722502306686\n",
      "tracesum:\t 501840.2288131506 \t 2871.294881415252\n",
      "tracemax:\t 45908.64489791632 \t 4726.376928267778\n",
      "tracedev:\t 9902.729144046807 \t 577.0002347263538\n",
      "padnum:\t 111.1 \t 3.9188190640986296\n",
      "\n",
      "tuning1protons3-800p.h5\n",
      "length:\t 17.329629601377732 \t 1.3551468862476013\n",
      "width:\t 11.622899312456736 \t 1.358256142274717\n",
      "depth:\t 4.942975611749729 \t 1.1057880429311673\n",
      "tracesum:\t 579193.3868120735 \t 2779.5164538946774\n",
      "tracemax:\t 53381.06111779976 \t 6057.730249416571\n",
      "tracedev:\t 11478.703689199237 \t 729.6493865646127\n",
      "padnum:\t 107.66 \t 9.01610803404843\n",
      "\n",
      "tuning1protons30-800p.h5\n",
      "length:\t 15.122374201982666 \t 1.2170642195589838\n",
      "width:\t 9.251576400431981 \t 1.024722509747492\n",
      "depth:\t 3.5220546644429795 \t 0.7877119763800134\n",
      "tracesum:\t 441068.9383252241 \t 3186.5348276612276\n",
      "tracemax:\t 40155.296196933974 \t 4871.649647782052\n",
      "tracedev:\t 8671.631020830851 \t 604.4371881467504\n",
      "padnum:\t 105.84 \t 9.968030530303427\n",
      "\n",
      "tuning1protons31-800p.h5\n",
      "length:\t 18.043257389637194 \t 1.4295764463132283\n",
      "width:\t 12.308481514483772 \t 1.4285109708045345\n",
      "depth:\t 5.4079067698856935 \t 1.1387999242893385\n",
      "tracesum:\t 775393.7880444048 \t 3359.6157921301215\n",
      "tracemax:\t 72428.63689841717 \t 8150.267566822991\n",
      "tracedev:\t 15478.80603517097 \t 967.1345048224404\n",
      "padnum:\t 109.86 \t 5.576956964115093\n",
      "\n",
      "tuning1protons32-800p.h5\n",
      "length:\t 18.893416430244823 \t 1.3338315093977853\n",
      "width:\t 12.773348377914504 \t 1.599276582003965\n",
      "depth:\t 6.3912220688445425 \t 1.1633580222081503\n",
      "tracesum:\t 709326.9541882303 \t 3202.9995771963027\n",
      "tracemax:\t 61670.98518681968 \t 6534.990591666626\n",
      "tracedev:\t 13605.767970055285 \t 808.6574828995565\n",
      "padnum:\t 108.26 \t 7.283781256171489\n",
      "\n",
      "tuning1protons33-800p.h5\n",
      "length:\t 15.835256457515715 \t 1.1284863166765757\n",
      "width:\t 9.826586717584387 \t 1.108036127011292\n",
      "depth:\t 3.980901598669905 \t 0.9018229543645588\n",
      "tracesum:\t 559056.5275231127 \t 2880.5267861106977\n",
      "tracemax:\t 53732.46323692164 \t 6397.7890925400625\n",
      "tracedev:\t 11332.88562138455 \t 749.8468061956935\n",
      "padnum:\t 108.26 \t 9.09319099375899\n",
      "\n",
      "tuning1protons34-800p.h5\n",
      "length:\t 14.577120958770104 \t 1.15870564602026\n",
      "width:\t 8.415693744960217 \t 0.8725575994964111\n",
      "depth:\t 3.416300144046734 \t 0.93063654480775\n",
      "tracesum:\t 322967.59388586273 \t 2552.4667582410043\n",
      "tracemax:\t 28422.06861195638 \t 3318.2616031893617\n",
      "tracedev:\t 6233.8901014695175 \t 417.315303166432\n",
      "padnum:\t 105.84 \t 9.3380066045671\n",
      "\n",
      "tuning1protons35-800p.h5\n",
      "length:\t 15.879080378396974 \t 1.3466091156131315\n",
      "width:\t 9.971233282568706 \t 1.1799575604803363\n",
      "depth:\t 3.946697634270523 \t 0.9137486406537014\n",
      "tracesum:\t 398926.97169976676 \t 2301.0674428171387\n",
      "tracemax:\t 36432.263218930435 \t 4191.352991194005\n",
      "tracedev:\t 7862.842430034983 \t 510.80538170189567\n",
      "padnum:\t 108.0 \t 8.576189154173505\n",
      "\n",
      "tuning1protons36-800p.h5\n",
      "length:\t 15.97818015423009 \t 1.2466677037065859\n",
      "width:\t 9.876461586887963 \t 1.180700010946745\n",
      "depth:\t 4.042953990420815 \t 0.991836059495304\n",
      "tracesum:\t 388754.5955979939 \t 2371.605116372398\n",
      "tracemax:\t 35865.474941480745 \t 3976.249896463919\n",
      "tracedev:\t 7708.235678437204 \t 471.5488656966984\n",
      "padnum:\t 109.56 \t 6.131750757078991\n",
      "\n",
      "tuning1protons37-800p.h5\n",
      "length:\t 15.9952930795413 \t 1.1834700445037292\n",
      "width:\t 10.082581385135814 \t 1.1483115086133395\n",
      "depth:\t 4.081453644448831 \t 0.942394125502472\n",
      "tracesum:\t 410362.57382651465 \t 2385.277072000728\n",
      "tracemax:\t 39871.54434969696 \t 5229.045896921249\n",
      "tracedev:\t 8361.179761144982 \t 614.249876415525\n",
      "padnum:\t 104.28 \t 12.030641152100426\n",
      "\n",
      "tuning1protons38-800p.h5\n",
      "length:\t 14.783721370770825 \t 1.1582060681880275\n",
      "width:\t 8.42601314759315 \t 0.9190007982096117\n",
      "depth:\t 3.0107445824075905 \t 0.6948560086878948\n",
      "tracesum:\t 507579.2591337439 \t 2817.127421762048\n",
      "tracemax:\t 46658.060612955705 \t 4798.386320828415\n",
      "tracedev:\t 10044.284868282968 \t 584.6877724611337\n",
      "padnum:\t 111.38 \t 3.521884931309902\n",
      "\n",
      "tuning1protons39-800p.h5\n",
      "length:\t 16.153099004966506 \t 1.2296747051059123\n",
      "width:\t 10.221397487033117 \t 1.2403840163015207\n",
      "depth:\t 4.499096632605239 \t 1.0456857591141901\n",
      "tracesum:\t 463853.6591397313 \t 2455.3862366347016\n",
      "tracemax:\t 42065.928070903865 \t 4934.646572696307\n",
      "tracedev:\t 9106.008718197543 \t 599.0018439899262\n",
      "padnum:\t 106.22 \t 9.626260850360522\n",
      "\n",
      "tuning1protons4-800p.h5\n",
      "length:\t 15.3852314287006 \t 1.2387216535233683\n",
      "width:\t 9.310478227791041 \t 1.0637247676465225\n",
      "depth:\t 3.7022731308595866 \t 0.880013775171423\n",
      "tracesum:\t 460731.7376093732 \t 3183.594148737788\n",
      "tracemax:\t 41872.375385115105 \t 4680.378604915689\n",
      "tracedev:\t 9057.56547408788 \t 571.2868755597251\n",
      "padnum:\t 109.18 \t 6.492350286675694\n",
      "\n",
      "tuning1protons40-800p.h5\n",
      "length:\t 15.711041106963703 \t 1.1483446860288886\n",
      "width:\t 9.8252346190757 \t 1.058790777684524\n",
      "depth:\t 3.3101474907840487 \t 0.7890711895808157\n",
      "tracesum:\t 447700.98422258295 \t 2695.621810342823\n",
      "tracemax:\t 43100.2823263649 \t 4658.1953276997865\n",
      "tracedev:\t 9092.413020995235 \t 556.0999044709706\n",
      "padnum:\t 111.6 \t 3.6477558099439156\n",
      "\n",
      "tuning1protons41-800p.h5\n",
      "length:\t 18.36981961323964 \t 1.4438343391534885\n",
      "width:\t 12.12492223772042 \t 1.5272003754401668\n",
      "depth:\t 6.147705918831511 \t 1.0307516962105057\n",
      "tracesum:\t 527978.4719920659 \t 2972.378043682074\n",
      "tracemax:\t 46970.83343096288 \t 5070.626805333137\n",
      "tracedev:\t 10253.48043882704 \t 616.0195559055477\n",
      "padnum:\t 108.06 \t 8.135109095765095\n",
      "\n",
      "tuning1protons42-800p.h5\n",
      "length:\t 15.390665638502028 \t 1.140248450372091\n",
      "width:\t 9.427101133249868 \t 1.0202004726111278\n",
      "depth:\t 3.28658013822866 \t 0.7597274605348606\n",
      "tracesum:\t 533454.7317358706 \t 3452.1287938722176\n",
      "tracemax:\t 47315.013695773065 \t 4914.573392575414\n",
      "tracedev:\t 10346.455829017676 \t 616.2766058719407\n",
      "padnum:\t 110.04 \t 5.094855348330133\n",
      "\n",
      "tuning1protons43-800p.h5\n",
      "length:\t 16.051686452288628 \t 1.1351641828341823\n",
      "width:\t 10.273407461925723 \t 1.2118268624029582\n",
      "depth:\t 3.743809134687908 \t 0.8565609538662156\n",
      "tracesum:\t 533355.8204765638 \t 2833.6286752788915\n",
      "tracemax:\t 51024.113859948535 \t 5981.41783657761\n",
      "tracedev:\t 10785.59144799758 \t 708.6427064101678\n",
      "padnum:\t 109.74 \t 7.441773982055623\n",
      "\n",
      "tuning1protons44-800p.h5\n",
      "length:\t 15.541949656498371 \t 1.3354612005747957\n",
      "width:\t 9.472147260070786 \t 1.0481075680435432\n",
      "depth:\t 3.8019087803049394 \t 0.869117268978129\n",
      "tracesum:\t 347670.082043919 \t 2049.7650665625897\n",
      "tracemax:\t 30618.626756951107 \t 3173.175983504959\n",
      "tracedev:\t 6719.923574354957 \t 397.48934764735947\n",
      "padnum:\t 109.72 \t 5.566078016862135\n",
      "\n",
      "tuning1protons45-800p.h5\n",
      "length:\t 15.22338045494741 \t 1.1244796678111832\n",
      "width:\t 9.09742932580056 \t 0.9593692860490567\n",
      "depth:\t 3.481512658699659 \t 0.7510975640827455\n",
      "tracesum:\t 477053.65090631926 \t 2418.744567879875\n",
      "tracemax:\t 44046.12677918677 \t 5174.7655597931625\n",
      "tracedev:\t 9459.015883117405 \t 626.5754198769101\n",
      "padnum:\t 107.94 \t 8.21250912464936\n",
      "\n",
      "tuning1protons46-800p.h5\n",
      "length:\t 15.02891687145027 \t 1.239042725926867\n",
      "width:\t 9.221164653349334 \t 0.911499553443767\n",
      "depth:\t 3.2114925144197075 \t 0.7401774151199599\n",
      "tracesum:\t 494693.21260332264 \t 3373.775084523183\n",
      "tracemax:\t 46286.99281844679 \t 5152.905256708302\n",
      "tracedev:\t 9884.731188390173 \t 622.8994341752897\n",
      "padnum:\t 110.6 \t 4.969293465978882\n",
      "\n",
      "tuning1protons47-800p.h5\n",
      "length:\t 17.40079879859965 \t 1.328004337087037\n",
      "width:\t 11.398704713783879 \t 1.4165901523568118\n",
      "depth:\t 5.1116164740849275 \t 1.0730500052715792\n",
      "tracesum:\t 631096.2280104103 \t 3538.6537527279215\n",
      "tracemax:\t 56005.77126044668 \t 6131.604189050267\n",
      "tracedev:\t 12238.144961742924 \t 747.8233543276798\n",
      "padnum:\t 107.46 \t 8.762652659591902\n",
      "\n",
      "tuning1protons48-800p.h5\n",
      "length:\t 16.367316044280322 \t 1.2826497786204507\n",
      "width:\t 10.236779094113805 \t 1.2124709859891118\n",
      "depth:\t 4.301088403314242 \t 0.9788132839330586\n",
      "tracesum:\t 592020.5986671842 \t 3736.761673652665\n",
      "tracemax:\t 51700.96929700404 \t 5206.911292875497\n",
      "tracedev:\t 11392.395400112951 \t 654.6249561140615\n",
      "padnum:\t 110.1 \t 3.91360786622935\n",
      "\n",
      "tuning1protons49-800p.h5\n",
      "length:\t 15.47543640979915 \t 1.3400947558532752\n",
      "width:\t 9.473147096595936 \t 1.0397086299250495\n",
      "depth:\t 4.164278025039763 \t 0.9812278671441608\n",
      "tracesum:\t 418351.13563953707 \t 2093.3929748693877\n",
      "tracemax:\t 36684.62749701026 \t 4294.691083125515\n",
      "tracedev:\t 8056.769430931246 \t 527.0308535364486\n",
      "padnum:\t 105.04 \t 9.98970899047043\n",
      "\n",
      "tuning1protons5-800p.h5\n",
      "length:\t 15.695300138619508 \t 1.1432228700082587\n",
      "width:\t 9.526454075103446 \t 1.0164099028477287\n",
      "depth:\t 4.136284755719026 \t 0.9278963721126033\n",
      "tracesum:\t 571333.0670864856 \t 3236.050594300198\n",
      "tracemax:\t 50663.52241796096 \t 5697.102719349805\n",
      "tracedev:\t 11075.0761070672 \t 696.0963212357962\n",
      "padnum:\t 107.36 \t 8.238188824131237\n",
      "\n",
      "tuning1protons50-800p.h5\n",
      "length:\t 16.060244682715286 \t 1.1943005469201002\n",
      "width:\t 10.318111469478858 \t 1.1616188091040907\n",
      "depth:\t 4.073282048013491 \t 0.9271472677546214\n",
      "tracesum:\t 451208.36939280847 \t 2696.1332375799802\n",
      "tracemax:\t 41095.38001172252 \t 4706.176565280564\n",
      "tracedev:\t 8882.652848346035 \t 572.2376595352565\n",
      "padnum:\t 107.86 \t 8.10142340730873\n",
      "\n",
      "tuning1protons51-800p.h5\n",
      "length:\t 16.376836506503217 \t 1.1625082461230913\n",
      "width:\t 10.420963422316422 \t 1.2428532656740099\n",
      "depth:\t 4.321924800460518 \t 0.8963662026135013\n",
      "tracesum:\t 450908.00500573457 \t 2174.2271084178283\n",
      "tracemax:\t 39467.39842185575 \t 4059.621312184511\n",
      "tracedev:\t 8684.456202967101 \t 502.40151134215733\n",
      "padnum:\t 109.18 \t 6.2944419927424855\n",
      "\n",
      "tuning1protons52-800p.h5\n",
      "length:\t 15.719309569620425 \t 1.1512623934498518\n",
      "width:\t 9.550563272440218 \t 1.1104472125794718\n",
      "depth:\t 3.4936844819539705 \t 0.8458007165880589\n",
      "tracesum:\t 539678.0962774489 \t 2586.124934457715\n",
      "tracemax:\t 49923.72567490279 \t 5519.76673824849\n",
      "tracedev:\t 10716.189306480617 \t 666.9114445294813\n",
      "padnum:\t 110.22 \t 5.452166766431452\n",
      "\n",
      "tuning1protons53-800p.h5\n",
      "length:\t 16.652753354454923 \t 1.335121320963952\n",
      "width:\t 10.763748994607603 \t 1.2203980107920456\n",
      "depth:\t 4.3402601007475035 \t 0.8748245608242529\n",
      "tracesum:\t 473933.129885921 \t 2152.8235022446975\n",
      "tracemax:\t 45562.91687385172 \t 5073.731730350224\n",
      "tracedev:\t 9615.236067473365 \t 594.5686032215285\n",
      "padnum:\t 111.06 \t 5.084630703183379\n",
      "\n",
      "tuning1protons54-800p.h5\n",
      "length:\t 15.54726434718418 \t 1.1617102512459179\n",
      "width:\t 9.23496982882896 \t 1.0668637496054234\n",
      "depth:\t 3.558925135506138 \t 0.8219428134474862\n",
      "tracesum:\t 586405.4687352333 \t 3421.3918865604724\n",
      "tracemax:\t 54870.39591981794 \t 6367.168107332413\n",
      "tracedev:\t 11715.756646446602 \t 764.7708490854417\n",
      "padnum:\t 109.72 \t 6.465102552969146\n",
      "\n",
      "tuning1protons55-800p.h5\n",
      "length:\t 16.45303445943795 \t 1.2696081429727633\n",
      "width:\t 10.636454823499125 \t 1.227454081237137\n",
      "depth:\t 4.136216309615058 \t 0.9519008772975522\n",
      "tracesum:\t 611841.6216056533 \t 3473.6057910586537\n",
      "tracemax:\t 56553.23833813456 \t 6077.90492745262\n",
      "tracedev:\t 12144.06961132797 \t 732.4948249877448\n",
      "padnum:\t 110.66 \t 4.809047595471498\n",
      "\n",
      "tuning1protons56-800p.h5\n",
      "length:\t 15.760939686216165 \t 1.2697695800340383\n",
      "width:\t 9.633755176874171 \t 1.0929064831791016\n",
      "depth:\t 4.058620362104789 \t 0.9503312502409585\n",
      "tracesum:\t 540405.1361740569 \t 2966.223191348727\n",
      "tracemax:\t 52875.19557071122 \t 6508.182074013245\n",
      "tracedev:\t 11057.741743178398 \t 754.7471588373331\n",
      "padnum:\t 107.88 \t 9.29919899995781\n",
      "\n",
      "tuning1protons57-800p.h5\n",
      "length:\t 18.60788471671438 \t 1.3204417311705074\n",
      "width:\t 12.677135029571502 \t 1.603497568247096\n",
      "depth:\t 5.853150503700387 \t 1.050363851996965\n",
      "tracesum:\t 502702.30650102184 \t 2298.692944916005\n",
      "tracemax:\t 45630.55471464617 \t 4822.665015435113\n",
      "tracedev:\t 9877.253694750061 \t 580.2432926375557\n",
      "padnum:\t 110.16 \t 5.726273140676461\n",
      "\n",
      "tuning1protons58-800p.h5\n",
      "length:\t 16.16276330781104 \t 1.3246025468716194\n",
      "width:\t 9.851903345669108 \t 1.1114998824986755\n",
      "depth:\t 4.323470517427541 \t 1.0241935974483785\n",
      "tracesum:\t 474883.5102246485 \t 2409.222186213377\n",
      "tracemax:\t 46870.411312220545 \t 5585.5581814047\n",
      "tracedev:\t 9769.051791449761 \t 639.9680462872209\n",
      "padnum:\t 109.86 \t 6.960559442681461\n",
      "\n",
      "tuning1protons59-800p.h5\n",
      "length:\t 18.917038332267396 \t 1.6481064501536473\n",
      "width:\t 13.010753184410557 \t 1.6242717152453423\n",
      "depth:\t 6.390255639007204 \t 1.128450391383265\n",
      "tracesum:\t 579713.1667113944 \t 2601.620761616546\n",
      "tracemax:\t 53637.642320246276 \t 6032.487892398178\n",
      "tracedev:\t 11512.161590841875 \t 716.2444372386284\n",
      "padnum:\t 108.74 \t 8.143634048150991\n",
      "\n",
      "tuning1protons6-800p.h5\n",
      "length:\t 16.175456766027466 \t 1.1964484331341736\n",
      "width:\t 10.170682258865199 \t 1.1681858182467502\n",
      "depth:\t 4.290364310503063 \t 0.9344720444445509\n",
      "tracesum:\t 426552.9340104737 \t 2327.6808897758788\n",
      "tracemax:\t 37856.50930830669 \t 4254.7113305960565\n",
      "tracedev:\t 8273.259704043212 \t 521.9496375397189\n",
      "padnum:\t 107.34 \t 9.018371272472834\n",
      "\n",
      "tuning1protons60-800p.h5\n",
      "length:\t 15.644678614445745 \t 1.199394836099392\n",
      "width:\t 9.975146025343145 \t 1.0751458355770538\n",
      "depth:\t 3.6949457211859844 \t 0.8180831627333338\n",
      "tracesum:\t 371118.4189611923 \t 2335.905204694554\n",
      "tracemax:\t 34528.925530643726 \t 3962.680200809223\n",
      "tracedev:\t 7393.159212196321 \t 479.78928513984744\n",
      "padnum:\t 109.22 \t 7.180728176366039\n",
      "\n",
      "tuning1protons61-800p.h5\n",
      "length:\t 16.22562654682467 \t 1.3000944208918035\n",
      "width:\t 10.420417494946296 \t 1.20376822962599\n",
      "depth:\t 4.127525693700026 \t 0.9920341241855717\n",
      "tracesum:\t 541661.0049291805 \t 2608.136575395367\n",
      "tracemax:\t 48981.562889023815 \t 5530.07460980718\n",
      "tracedev:\t 10616.129142812719 \t 673.1208679824565\n",
      "padnum:\t 107.74 \t 8.146139689247581\n",
      "\n",
      "tuning1protons62-800p.h5\n",
      "length:\t 16.02648733251033 \t 1.1823220681607938\n",
      "width:\t 10.158202744947692 \t 1.1853571875099143\n",
      "depth:\t 4.1284072426801295 \t 0.9218055273765976\n",
      "tracesum:\t 557529.9407264852 \t 3381.4931925203973\n",
      "tracemax:\t 51434.17783098996 \t 5850.429301796507\n",
      "tracedev:\t 11050.64241338299 \t 705.6798541013876\n",
      "padnum:\t 108.58 \t 7.822234139858989\n",
      "\n",
      "tuning1protons63-800p.h5\n",
      "length:\t 16.16274973466079 \t 1.145651405705021\n",
      "width:\t 10.056000554995679 \t 1.183163785728771\n",
      "depth:\t 4.580785384261352 \t 1.066728069144564\n",
      "tracesum:\t 534381.8499043796 \t 2340.5399856971635\n",
      "tracemax:\t 50861.95427061288 \t 6229.166983210565\n",
      "tracedev:\t 10766.459213438227 \t 726.2112094708617\n",
      "padnum:\t 105.64 \t 10.470093463902657\n",
      "\n",
      "tuning1protons64-800p.h5\n",
      "length:\t 16.01970386629006 \t 1.225261401142453\n",
      "width:\t 10.11998399516231 \t 1.08473932449576\n",
      "depth:\t 4.532859774378931 \t 1.0750541604245536\n",
      "tracesum:\t 384029.89818229096 \t 1976.3530396713522\n",
      "tracemax:\t 36200.741090631884 \t 4534.605406561057\n",
      "tracedev:\t 7698.001884125927 \t 535.6772999517541\n",
      "padnum:\t 105.02 \t 11.325409394771725\n",
      "\n",
      "tuning1protons65-800p.h5\n",
      "length:\t 16.087900336620077 \t 1.2884500497365226\n",
      "width:\t 9.815397228770527 \t 1.1332439201158375\n",
      "depth:\t 3.847399800005978 \t 0.7853970309501306\n",
      "tracesum:\t 431688.31365761644 \t 2568.328465899388\n",
      "tracemax:\t 39928.97970352968 \t 3947.4962497141973\n",
      "tracedev:\t 8575.448211897878 \t 479.1436850393646\n",
      "padnum:\t 111.88 \t 2.654530205562728\n",
      "\n",
      "tuning1protons66-800p.h5\n",
      "length:\t 16.3522691072035 \t 1.301439434759134\n",
      "width:\t 10.330820187528793 \t 1.2461895514615873\n",
      "depth:\t 4.13780831824545 \t 0.9054688663145807\n",
      "tracesum:\t 679471.7426610683 \t 2916.2949827542543\n",
      "tracemax:\t 61239.653934281414 \t 6651.0427634233865\n",
      "tracedev:\t 13296.856880177536 \t 801.0850652967384\n",
      "padnum:\t 109.14 \t 6.9164400421852035\n",
      "\n",
      "tuning1protons67-800p.h5\n",
      "length:\t 15.592644296820573 \t 1.2297033236509747\n",
      "width:\t 9.618834186106485 \t 1.1365931029486764\n",
      "depth:\t 3.9509658369564624 \t 1.0384530588964995\n",
      "tracesum:\t 504622.3310362639 \t 2807.989359158189\n",
      "tracemax:\t 45265.12144317525 \t 5234.108524590314\n",
      "tracedev:\t 9845.131905576854 \t 642.7014505175742\n",
      "padnum:\t 106.32 \t 9.451141816344364\n",
      "\n",
      "tuning1protons68-800p.h5\n",
      "length:\t 16.144300412495053 \t 1.0683742102032652\n",
      "width:\t 10.016530793510809 \t 1.171650002278771\n",
      "depth:\t 4.54379716871393 \t 1.020214890839354\n",
      "tracesum:\t 389549.56443529093 \t 1625.6673991106363\n",
      "tracemax:\t 35732.59047709058 \t 4268.444051082232\n",
      "tracedev:\t 7692.243324685937 \t 510.45750897496555\n",
      "padnum:\t 105.66 \t 10.522298965064815\n",
      "\n",
      "tuning1protons69-800p.h5\n",
      "length:\t 18.346394505732526 \t 1.6748795423663767\n",
      "width:\t 12.555475073079615 \t 1.5639883783442068\n",
      "depth:\t 6.496641983160828 \t 1.1672396064263222\n",
      "tracesum:\t 448883.22486051073 \t 2158.8447023467857\n",
      "tracemax:\t 41062.39895587166 \t 5068.231187716907\n",
      "tracedev:\t 8846.197301833352 \t 604.7906180352861\n",
      "padnum:\t 103.26 \t 12.156815506756123\n",
      "\n",
      "tuning1protons7-800p.h5\n",
      "length:\t 15.315593272350903 \t 1.189147531089008\n",
      "width:\t 9.346315857605006 \t 1.0215963343723382\n",
      "depth:\t 3.8208749797332393 \t 0.897331804714829\n",
      "tracesum:\t 376179.7505690838 \t 2676.8916563918915\n",
      "tracemax:\t 34943.66793796115 \t 4232.717794652097\n",
      "tracedev:\t 7479.641759178789 \t 509.02833116393157\n",
      "padnum:\t 105.36 \t 11.21726075187299\n",
      "\n",
      "tuning1protons70-800p.h5\n",
      "length:\t 16.56676853120352 \t 1.3133640250829377\n",
      "width:\t 10.663745554254943 \t 1.2321822191743284\n",
      "depth:\t 4.6942798683607725 \t 0.9527167417033438\n",
      "tracesum:\t 531162.3197783821 \t 2852.865952046729\n",
      "tracemax:\t 47499.25159108946 \t 5209.999565950875\n",
      "tracedev:\t 10345.875100686339 \t 636.1927074871985\n",
      "padnum:\t 108.76 \t 7.008915605083548\n",
      "\n",
      "tuning1protons71-800p.h5\n",
      "length:\t 16.773579958776303 \t 1.3238985861706356\n",
      "width:\t 10.972334934486568 \t 1.272951113149187\n",
      "depth:\t 4.502576626137196 \t 0.9846704947974136\n",
      "tracesum:\t 445244.4016734904 \t 2517.147171904532\n",
      "tracemax:\t 41944.071900445044 \t 4704.455297514701\n",
      "tracedev:\t 8931.53593998914 \t 563.5171336042436\n",
      "padnum:\t 109.72 \t 6.812473553590307\n",
      "\n",
      "tuning1protons72-800p.h5\n",
      "length:\t 16.191328771079842 \t 1.256390195880893\n",
      "width:\t 10.02621555841156 \t 1.2022035177187729\n",
      "depth:\t 3.653024184179162 \t 0.9376415907824918\n",
      "tracesum:\t 536790.6926727613 \t 2552.418896266787\n",
      "tracemax:\t 50500.65254382156 \t 5323.15130623546\n",
      "tracedev:\t 10760.737639630986 \t 630.7630362282174\n",
      "padnum:\t 111.52 \t 3.5870515434699577\n",
      "\n",
      "tuning1protons73-800p.h5\n",
      "length:\t 17.843931407554397 \t 1.304519399035826\n",
      "width:\t 11.651334071553459 \t 1.3518839534250282\n",
      "depth:\t 6.437377413238854 \t 1.1197006387304151\n",
      "tracesum:\t 357625.22081365896 \t 2205.6757692067217\n",
      "tracemax:\t 34540.75228450811 \t 4554.362222421682\n",
      "tracedev:\t 7266.716727598844 \t 534.6611569860535\n",
      "padnum:\t 103.98 \t 11.400841358139733\n",
      "\n",
      "tuning1protons74-800p.h5\n",
      "length:\t 15.885728089767854 \t 1.1362353407572845\n",
      "width:\t 9.760866803518612 \t 1.1809588248472909\n",
      "depth:\t 4.296804777479899 \t 1.0098098440941172\n",
      "tracesum:\t 380730.7973607532 \t 2214.618324116201\n",
      "tracemax:\t 34224.75146071417 \t 4065.235009897537\n",
      "tracedev:\t 7438.440694501608 \t 499.3132498972842\n",
      "padnum:\t 105.96 \t 9.52967438465507\n",
      "\n",
      "tuning1protons75-800p.h5\n",
      "length:\t 17.11102373913941 \t 1.3044828547624552\n",
      "width:\t 11.162372973141194 \t 1.3185997689091469\n",
      "depth:\t 5.417746045953816 \t 1.1908708909825152\n",
      "tracesum:\t 366333.32799973653 \t 1952.6010353767977\n",
      "tracemax:\t 34655.424242499685 \t 4166.2606186299745\n",
      "tracedev:\t 7359.728274679136 \t 489.8263454929021\n",
      "padnum:\t 107.5 \t 9.287362491085203\n",
      "\n",
      "tuning1protons76-800p.h5\n",
      "length:\t 15.955557418582451 \t 1.1989534187600834\n",
      "width:\t 9.710246266032371 \t 1.0690273959539176\n",
      "depth:\t 3.8643859333376698 \t 0.8745054939598484\n",
      "tracesum:\t 498179.15759704413 \t 3218.5974115169197\n",
      "tracemax:\t 44743.82761006226 \t 4495.534720064452\n",
      "tracedev:\t 9737.757829534985 \t 557.2662309444102\n",
      "padnum:\t 111.12 \t 3.3723969553553146\n",
      "\n",
      "tuning1protons77-800p.h5\n",
      "length:\t 18.3247194768966 \t 1.440710186641161\n",
      "width:\t 12.433879542216538 \t 1.4799776987133686\n",
      "depth:\t 5.208415784187971 \t 1.0643523331816862\n",
      "tracesum:\t 820539.3193786724 \t 4299.085959114404\n",
      "tracemax:\t 73235.56612359382 \t 7404.179796307487\n",
      "tracedev:\t 15977.611955335511 \t 910.1169404810475\n",
      "padnum:\t 110.74 \t 3.5617583366898424\n",
      "\n",
      "tuning1protons78-800p.h5\n",
      "length:\t 17.197895788668294 \t 1.266874092185185\n",
      "width:\t 11.200327979985468 \t 1.3851479895976977\n",
      "depth:\t 5.988856513559989 \t 1.2252432273638194\n",
      "tracesum:\t 443300.5143330762 \t 2210.7899767007075\n",
      "tracemax:\t 40178.31317406302 \t 5148.718754962593\n",
      "tracedev:\t 8689.730903986943 \t 619.0074552168458\n",
      "padnum:\t 101.54 \t 12.549022240145783\n",
      "\n",
      "tuning1protons79-800p.h5\n",
      "length:\t 18.902794596332196 \t 1.6824070720201292\n",
      "width:\t 13.12204717154086 \t 1.5483749289607038\n",
      "depth:\t 6.670164056197409 \t 1.1986620990589363\n",
      "tracesum:\t 634676.1304931301 \t 3482.8062809984526\n",
      "tracemax:\t 53681.05604510654 \t 5440.680509124506\n",
      "tracedev:\t 11989.593443863327 \t 683.8241221461212\n",
      "padnum:\t 108.3 \t 6.581513999879681\n",
      "\n",
      "tuning1protons8-800p.h5\n",
      "length:\t 16.667061933555654 \t 1.2207405249656103\n",
      "width:\t 10.80403410588287 \t 1.256915735476667\n",
      "depth:\t 3.7002593938393504 \t 0.7847034672860553\n",
      "tracesum:\t 638907.026548166 \t 2887.593471113143\n",
      "tracemax:\t 62609.297751037215 \t 6645.477653546704\n",
      "tracedev:\t 13109.25045509839 \t 770.9679622928206\n",
      "padnum:\t 112.28 \t 2.8502774659062684\n",
      "\n",
      "tuning1protons80-800p.h5\n",
      "length:\t 15.112632076526486 \t 1.1183188258928338\n",
      "width:\t 9.119236391893844 \t 0.9853659399614202\n",
      "depth:\t 3.462478680500783 \t 0.7722977677487872\n",
      "tracesum:\t 417388.0808178836 \t 2827.5716401780446\n",
      "tracemax:\t 39043.65659764178 \t 4442.508104203638\n",
      "tracedev:\t 8339.657884771934 \t 540.4000745118241\n",
      "padnum:\t 109.76 \t 5.773125634510021\n",
      "\n",
      "tuning1protons81-800p.h5\n",
      "length:\t 16.11641783593236 \t 1.1855538052485752\n",
      "width:\t 9.902274094101143 \t 1.1768669669191127\n",
      "depth:\t 3.7940873688756214 \t 0.7909749685723126\n",
      "tracesum:\t 404926.6643797502 \t 2197.7239419390885\n",
      "tracemax:\t 39073.96556720496 \t 4258.740407155268\n",
      "tracedev:\t 8235.878104410107 \t 498.23356769120625\n",
      "padnum:\t 111.6 \t 4.095791767666129\n",
      "\n",
      "tuning1protons82-800p.h5\n",
      "length:\t 17.443950569393742 \t 1.4631107716193705\n",
      "width:\t 11.218581140400442 \t 1.427785362135042\n",
      "depth:\t 5.628325632045031 \t 1.3425532044333297\n",
      "tracesum:\t 461496.4728612934 \t 2140.8319041467867\n",
      "tracemax:\t 41860.3909916141 \t 4740.856281679643\n",
      "tracedev:\t 9065.041090063374 \t 566.8459078393086\n",
      "padnum:\t 107.5 \t 8.313377466346587\n",
      "\n",
      "tuning1protons83-800p.h5\n",
      "length:\t 15.1731264064016 \t 1.247026995184279\n",
      "width:\t 8.964983589845367 \t 0.9287513939237841\n",
      "depth:\t 3.493222338657639 \t 0.7735816617608527\n",
      "tracesum:\t 437665.85181511723 \t 2806.877088509175\n",
      "tracemax:\t 42524.777544237 \t 4945.331219432019\n",
      "tracedev:\t 8927.61394668546 \t 586.7419317829253\n",
      "padnum:\t 110.8 \t 5.364280958719597\n",
      "\n",
      "tuning1protons84-800p.h5\n",
      "length:\t 15.768938017907335 \t 1.0780152598274553\n",
      "width:\t 9.52488922380837 \t 1.124572584389281\n",
      "depth:\t 4.069918120146246 \t 0.9602500867994073\n",
      "tracesum:\t 393582.6748258753 \t 1685.4424637512325\n",
      "tracemax:\t 35486.09226037174 \t 4105.119411872565\n",
      "tracedev:\t 7702.098870668178 \t 495.13483892938416\n",
      "padnum:\t 106.78 \t 9.329107400923156\n",
      "\n",
      "tuning1protons85-800p.h5\n",
      "length:\t 15.691160496636199 \t 1.125248661644022\n",
      "width:\t 9.582022376042193 \t 1.104662399049462\n",
      "depth:\t 4.07034566040126 \t 1.0000934213218289\n",
      "tracesum:\t 417562.0194182635 \t 1880.0779630499435\n",
      "tracemax:\t 40525.05015590346 \t 5144.494166715812\n",
      "tracedev:\t 8507.072185377345 \t 595.5773170738679\n",
      "padnum:\t 105.98 \t 10.895589821162524\n",
      "\n",
      "tuning1protons86-800p.h5\n",
      "length:\t 16.425028395631507 \t 1.3080360707895475\n",
      "width:\t 10.228417332066163 \t 1.2596118553787012\n",
      "depth:\t 4.3244225309398026 \t 0.9511088974150116\n",
      "tracesum:\t 429241.16598776064 \t 2070.2803867803514\n",
      "tracemax:\t 40584.01006350392 \t 4375.747984126887\n",
      "tracedev:\t 8630.844395008047 \t 513.3372284692961\n",
      "padnum:\t 111.08 \t 4.05492897343367\n",
      "\n",
      "tuning1protons87-800p.h5\n",
      "length:\t 16.195027647236174 \t 1.2075874720442328\n",
      "width:\t 10.461290430909914 \t 1.1796882881594877\n",
      "depth:\t 4.1974719374412395 \t 0.9322098426528391\n",
      "tracesum:\t 534758.8712761151 \t 3354.6934967990987\n",
      "tracemax:\t 52606.47935044221 \t 6643.101426826321\n",
      "tracedev:\t 10979.788591317581 \t 776.8859207295111\n",
      "padnum:\t 108.18 \t 9.323417959577894\n",
      "\n",
      "tuning1protons88-800p.h5\n",
      "length:\t 15.982113094088579 \t 1.2102560778517335\n",
      "width:\t 9.512552970206041 \t 1.1395181511823604\n",
      "depth:\t 4.0729907263132334 \t 0.8809721082767206\n",
      "tracesum:\t 621653.5851099791 \t 3109.3514486547588\n",
      "tracemax:\t 58479.11279083269 \t 6429.183673910218\n",
      "tracedev:\t 12462.174940447538 \t 769.095023194378\n",
      "padnum:\t 110.24 \t 5.885159474544112\n",
      "\n",
      "tuning1protons89-800p.h5\n",
      "length:\t 15.676033344885944 \t 1.2596918526899186\n",
      "width:\t 9.486671157026699 \t 1.1043386361959089\n",
      "depth:\t 4.092034612373921 \t 0.9518729723830389\n",
      "tracesum:\t 464653.33101528225 \t 2198.0604497237096\n",
      "tracemax:\t 46396.67751098532 \t 5546.029952197705\n",
      "tracedev:\t 9625.15733034345 \t 634.1638576283929\n",
      "padnum:\t 110.86 \t 5.45860115145009\n",
      "\n",
      "tuning1protons9-800p.h5\n",
      "length:\t 17.226808931303815 \t 1.4006967621335962\n",
      "width:\t 11.423034873488202 \t 1.4505552758172995\n",
      "depth:\t 5.428686312724831 \t 1.070515026219148\n",
      "tracesum:\t 448322.45574109926 \t 2230.1194331210427\n",
      "tracemax:\t 44869.87948450363 \t 5573.483932771482\n",
      "tracedev:\t 9290.243307009903 \t 630.2944505155366\n",
      "padnum:\t 108.04 \t 9.53395649930354\n",
      "\n",
      "tuning1protons90-800p.h5\n",
      "length:\t 14.625048720563427 \t 1.134443254648048\n",
      "width:\t 8.705863713625336 \t 0.8955022868220249\n",
      "depth:\t 3.4560503773205706 \t 0.8099091032731498\n",
      "tracesum:\t 282241.0044401761 \t 2216.635051308401\n",
      "tracemax:\t 27339.98489444251 \t 3507.817569582155\n",
      "tracedev:\t 5742.424573865707 \t 413.70928552362176\n",
      "padnum:\t 106.46 \t 10.633428229802812\n",
      "\n",
      "tuning1protons91-800p.h5\n",
      "length:\t 16.993976979937845 \t 1.2720739372708696\n",
      "width:\t 10.908953877417833 \t 1.2785099552240766\n",
      "depth:\t 5.520162991276402 \t 1.127935069090389\n",
      "tracesum:\t 710998.8067409634 \t 3888.341285593277\n",
      "tracemax:\t 64203.48527241577 \t 7596.712646456362\n",
      "tracedev:\t 13919.107235112187 \t 928.1961676771132\n",
      "padnum:\t 105.66 \t 9.665022144890537\n",
      "\n",
      "tuning1protons92-800p.h5\n",
      "length:\t 15.020996508705474 \t 1.2586247718855594\n",
      "width:\t 8.743949702858984 \t 0.9548811596539296\n",
      "depth:\t 3.540117589248364 \t 0.8541981116734858\n",
      "tracesum:\t 353395.51192667097 \t 2556.3708203830115\n",
      "tracemax:\t 35301.14368310663 \t 4223.907344634884\n",
      "tracedev:\t 7321.044490406997 \t 493.3537078757944\n",
      "padnum:\t 111.7 \t 4.532197736918659\n",
      "\n",
      "tuning1protons93-800p.h5\n",
      "length:\t 15.484494245055068 \t 1.2483932664966004\n",
      "width:\t 9.474304561782525 \t 1.0352170345424925\n",
      "depth:\t 3.573006971033781 \t 0.8327028232544967\n",
      "tracesum:\t 453130.61833053397 \t 2458.1899053656416\n",
      "tracemax:\t 43849.31608612028 \t 5141.242540903478\n",
      "tracedev:\t 9220.7815168703 \t 602.3168930539348\n",
      "padnum:\t 109.82 \t 6.826389370431099\n",
      "\n",
      "tuning1protons94-800p.h5\n",
      "length:\t 15.932542402163367 \t 1.1737328238200666\n",
      "width:\t 10.125288554113768 \t 1.1102555212525775\n",
      "depth:\t 3.671119590871048 \t 0.8981142378655549\n",
      "tracesum:\t 516082.02867530356 \t 2885.518280956736\n",
      "tracemax:\t 49252.09370387566 \t 5415.865767362592\n",
      "tracedev:\t 10433.299199927129 \t 644.2787419351899\n",
      "padnum:\t 110.54 \t 5.739977956297002\n",
      "\n",
      "tuning1protons95-800p.h5\n",
      "length:\t 16.834178257823442 \t 1.4569810355880686\n",
      "width:\t 11.080223942187608 \t 1.2636682779192143\n",
      "depth:\t 5.340308395354982 \t 1.1612796349365078\n",
      "tracesum:\t 394338.9153762478 \t 2346.0207733970287\n",
      "tracemax:\t 36853.54969784907 \t 4529.202102889828\n",
      "tracedev:\t 7869.080378936069 \t 538.0241423576845\n",
      "padnum:\t 106.32 \t 9.528560719634163\n",
      "\n",
      "tuning1protons96-800p.h5\n",
      "length:\t 17.679916700873093 \t 1.4565085357827452\n",
      "width:\t 11.583297427729692 \t 1.3968857188902415\n",
      "depth:\t 5.560115826066636 \t 1.0644890273917877\n",
      "tracesum:\t 451601.91786348826 \t 2082.3023059695483\n",
      "tracemax:\t 43140.76376177282 \t 5233.0762733349075\n",
      "tracedev:\t 9120.26887665451 \t 612.909071567553\n",
      "padnum:\t 106.66 \t 10.078487900838446\n",
      "\n",
      "tuning1protons97-800p.h5\n",
      "length:\t 16.55121936961504 \t 1.2448135292237141\n",
      "width:\t 10.526834998783071 \t 1.2248448560118272\n",
      "depth:\t 4.515194711340368 \t 0.9963774183391371\n",
      "tracesum:\t 436910.3310214641 \t 1702.2968261384515\n",
      "tracemax:\t 40556.8723335456 \t 4408.912802652955\n",
      "tracedev:\t 8691.551661127798 \t 526.0561972707955\n",
      "padnum:\t 109.94 \t 6.2381643035071646\n",
      "\n",
      "tuning1protons98-800p.h5\n",
      "length:\t 16.243946539892633 \t 1.2506947278789284\n",
      "width:\t 10.421753187043896 \t 1.1949143024878743\n",
      "depth:\t 4.2795174928818955 \t 1.0114178236354459\n",
      "tracesum:\t 553070.105105133 \t 3094.484944883494\n",
      "tracemax:\t 51653.3266842938 \t 6102.928386784132\n",
      "tracedev:\t 11031.924315979937 \t 728.3006674024294\n",
      "padnum:\t 107.4 \t 9.465296441987112\n",
      "\n",
      "tuning1protons99-800p.h5\n",
      "length:\t 15.864265823418577 \t 1.1822402979326632\n",
      "width:\t 9.823054358396922 \t 1.1289122147322526\n",
      "depth:\t 3.7454690715266405 \t 1.0349623321419472\n",
      "tracesum:\t 699837.9211969275 \t 2883.9725238581327\n",
      "tracemax:\t 64517.80025919306 \t 7054.7436928705\n",
      "tracedev:\t 13868.993596939159 \t 841.6165518741968\n",
      "padnum:\t 109.56 \t 6.17156084514332\n",
      "\n"
     ]
    }
   ],
   "source": [
    "for file in file_names:\n",
    "    print(file)\n",
    "    print('length:\\t', output_df[output_df['file'] == file]['length'].mean(),'\\t', output_df[output_df['file'] == file]['length'].std())\n",
    "    print('width:\\t', output_df[output_df['file'] == file]['width'].mean(),'\\t', output_df[output_df['file'] == file]['width'].std())\n",
    "    print('depth:\\t', output_df[output_df['file'] == file]['depth'].mean(),'\\t', output_df[output_df['file'] == file]['depth'].std())\n",
    "    print('tracesum:\\t', output_df[output_df['file'] == file]['tracesum'].mean(),'\\t', output_df[output_df['file'] == file]['tracesum'].std())\n",
    "    print('tracemax:\\t', output_df[output_df['file'] == file]['tracemax'].mean(),'\\t', output_df[output_df['file'] == file]['tracemax'].std())\n",
    "    print('tracedev:\\t', output_df[output_df['file'] == file]['tracedev'].mean(),'\\t', output_df[output_df['file'] == file]['tracedev'].std())\n",
    "    print('padnum:\\t', output_df[output_df['file'] == file]['padnum'].mean(),'\\t', output_df[output_df['file'] == file]['padnum'].std())\n",
    "    print()"
   ]
  },
  {
   "cell_type": "code",
   "execution_count": 9,
   "metadata": {},
   "outputs": [],
   "source": [
    "output_df.to_csv('event summary.csv', index=False)"
   ]
  },
  {
   "cell_type": "code",
   "execution_count": 9,
   "metadata": {},
   "outputs": [],
   "source": [
    "output_df = pd.read_csv('event summary.csv')\n",
    "file_names = output_df['file'].unique() \n",
    "\n",
    "run_df = pd.DataFrame(columns=['file','length', 'width', 'depth', 'tracesum', 'tracemax', 'tracedev', 'padnum'])\n",
    "\n",
    "reference_run = '273_800p.h5'\n",
    "\n",
    "for file in file_names:\n",
    "    run_df = run_df.append({'file' : file, \n",
    "                            'length' : output_df[output_df['file'] == file]['length'].mean(), \n",
    "                            'width' : output_df[output_df['file'] == file]['width'].mean(), \n",
    "                            'depth' : output_df[output_df['file'] == file]['depth'].mean(), \n",
    "                            'tracesum' : output_df[output_df['file'] == file]['tracesum'].mean(), \n",
    "                            'tracemax' : output_df[output_df['file'] == file]['tracemax'].mean(), \n",
    "                            'tracedev' : output_df[output_df['file'] == file]['tracedev'].mean(), \n",
    "                            'padnum' : output_df[output_df['file'] == file]['padnum'].mean()}\n",
    "                           ,ignore_index = True)\n",
    "\n",
    "run_df['length'] = (run_df['length'] - output_df[output_df['file'] == reference_run]['length'].mean()) / output_df[output_df['file'] == reference_run]['length'].std()\n",
    "run_df['width'] = (run_df['width'] - output_df[output_df['file'] == reference_run]['width'].mean()) / output_df[output_df['file'] == reference_run]['width'].std()\n",
    "run_df['depth'] = (run_df['depth'] - output_df[output_df['file'] == reference_run]['depth'].mean()) / output_df[output_df['file'] == reference_run]['depth'].std()\n",
    "run_df['tracesum'] = (run_df['tracesum'] - output_df[output_df['file'] == reference_run]['tracesum'].mean()) / output_df[output_df['file'] == reference_run]['tracesum'].std()\n",
    "run_df['tracemax'] = (run_df['tracemax'] - output_df[output_df['file'] == reference_run]['tracemax'].mean()) / output_df[output_df['file'] == reference_run]['tracemax'].std()\n",
    "run_df['tracedev'] = (run_df['tracedev'] - output_df[output_df['file'] == reference_run]['tracedev'].mean()) / output_df[output_df['file'] == reference_run]['tracedev'].std()\n",
    "run_df['padnum'] = (run_df['padnum'] - output_df[output_df['file'] == reference_run]['padnum'].mean()) / output_df[output_df['file'] == reference_run]['padnum'].std()\n",
    "\n",
    "# sum of absolute deviations from reference run\n",
    "run_df['Deviation'] = abs(run_df['length']) + abs(run_df['width']) + abs(run_df['depth']) + abs(run_df['tracesum']) + abs(run_df['tracemax']) + abs(run_df['tracedev']) + abs(run_df['padnum'])"
   ]
  },
  {
   "cell_type": "code",
   "execution_count": 34,
   "metadata": {},
   "outputs": [],
   "source": [
    "run_df = run_df.sort_values(by=['Deviation'])\n",
    "best_run_df = run_df.head(10)\n",
    "\n",
    "# load in parameters for best runs\n",
    "params = pd.read_csv('C:\\\\Users\\\\Adam\\\\OneDrive - Tenundra, Inc\\\\Desktop\\\\Programming\\\\GADGET2\\\\simInput\\\\parameters.csv')\n",
    "\n",
    "best_params = params[params['Sim'].isin(best_run_df['file'].str.replace('.h5',''))]"
   ]
  },
  {
   "cell_type": "code",
   "execution_count": 36,
   "metadata": {},
   "outputs": [
    {
     "name": "stdout",
     "output_type": "stream",
     "text": [
      "Current Best Fit Parameters\n",
      "Threshold \t 23.0 \t 0.4919003695210766 \n",
      " 19.36 \t 0.501574144794301 \n",
      "\n",
      "EIonize \t 29.144444444444446 \t 0.04562029128901058 \n",
      " 26.346999999999998 \t 0.11388853820671897 \n",
      "\n",
      "Fano \t 0.23333333333333334 \t 0.090913729009699 \n",
      " 0.2364 \t 0.09440087240658564 \n",
      "\n",
      "CoefL \t 0.00011666666666666667 \t 0.0829925002758732 \n",
      " 0.00011410000000000002 \t 0.09363037496087145 \n",
      "\n",
      "CoefT \t 0.0021677777777777776 \t 0.11261289617916548 \n",
      " 0.0022305000000000003 \t 0.1025153374596653 \n",
      "\n",
      "Gain \t 9880.777777777777 \t 0.11265757512246295 \n",
      " 11020.028999999999 \t 0.10017267627813087 \n",
      "\n",
      "GETGain \t 126.72222222222223 \t 0.08043565589205029 \n",
      " 120.03 \t 0.10325683193544301 \n",
      "\n",
      "PeakingTime \t 692.3333333333334 \t 0.11099747388938512 \n",
      " 728.51 \t 0.08586231305985313 \n",
      "\n"
     ]
    }
   ],
   "source": [
    "parameters = ['Threshold', 'EIonize', 'Fano', 'CoefL', 'CoefT', 'Gain', 'GETGain', 'PeakingTime']\n",
    "print('Current Best Fit Parameters')\n",
    "for p in parameters:\n",
    "    print(p, '\\t', best_params[p].mean(),'\\t', best_params[p].std()/best_params[p].mean(), '\\n', params[p].mean(),'\\t', params[p].std()/params[p].mean(), '\\n')"
   ]
  },
  {
   "cell_type": "code",
   "execution_count": null,
   "metadata": {},
   "outputs": [],
   "source": []
  }
 ],
 "metadata": {
  "kernelspec": {
   "display_name": "Python 3",
   "language": "python",
   "name": "python3"
  },
  "language_info": {
   "codemirror_mode": {
    "name": "ipython",
    "version": 3
   },
   "file_extension": ".py",
   "mimetype": "text/x-python",
   "name": "python",
   "nbconvert_exporter": "python",
   "pygments_lexer": "ipython3",
   "version": "3.10.2"
  },
  "vscode": {
   "interpreter": {
    "hash": "c295b91a4a4f8e66f37da6a2fbf5c84e6919990d10548059361442497be2c972"
   }
  }
 },
 "nbformat": 4,
 "nbformat_minor": 4
}
