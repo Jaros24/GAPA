{
 "cells": [
  {
   "cell_type": "code",
   "execution_count": 13,
   "metadata": {},
   "outputs": [],
   "source": [
    "import numpy as np\n",
    "import matplotlib.pyplot as plt\n",
    "from PIL import Image\n",
    "import os\n",
    "import sys\n",
    "import tqdm"
   ]
  },
  {
   "cell_type": "code",
   "execution_count": 14,
   "metadata": {},
   "outputs": [],
   "source": [
    "image_dir = '/mnt/analysis/e17023/Adam/GADGET2/simOutput/images/'\n",
    "output_dir = '/mnt/analysis/e17023/Adam/GADGET2/simOutput/aug_images/'\n",
    "image_list = [i for i in os.listdir(image_dir) if i.endswith('.png')]"
   ]
  },
  {
   "cell_type": "code",
   "execution_count": 16,
   "metadata": {},
   "outputs": [
    {
     "name": "stderr",
     "output_type": "stream",
     "text": [
      "100%|██████████| 64/64 [00:04<00:00, 13.28it/s]\n"
     ]
    }
   ],
   "source": [
    "for img_name in tqdm.tqdm(image_list):\n",
    "    img = Image.open(image_dir + img_name)\n",
    "    img = np.array(img)\n",
    "    \n",
    "    title = img_name.split('.')[0]\n",
    "    event_num = int(title.split('_')[1])\n",
    "    title = title.split('_')[0]\n",
    "    plt.rcParams['figure.figsize'] = [7, 7]\n",
    "    plt.title(f' Image {event_num} of {title} Event:', fontdict = {'fontsize' : 20})\n",
    "    plt.tick_params(top=False, bottom=False, left=False, right=False, labelleft=False, labelbottom=False)\n",
    "\n",
    "    str_event_num = f\"sim{title}_image_{event_num}.jpg\"\n",
    "    str_imgSave = os.path.join(output_dir, str_event_num)\n",
    "    plt.imshow(img)\n",
    "    plt.savefig(str_imgSave)\n",
    "    plt.close()"
   ]
  },
  {
   "cell_type": "code",
   "execution_count": null,
   "metadata": {},
   "outputs": [],
   "source": []
  }
 ],
 "metadata": {
  "kernelspec": {
   "display_name": "Python 3",
   "language": "python",
   "name": "python3"
  },
  "language_info": {
   "codemirror_mode": {
    "name": "ipython",
    "version": 3
   },
   "file_extension": ".py",
   "mimetype": "text/x-python",
   "name": "python",
   "nbconvert_exporter": "python",
   "pygments_lexer": "ipython3",
   "version": "3.7.3"
  }
 },
 "nbformat": 4,
 "nbformat_minor": 2
}
