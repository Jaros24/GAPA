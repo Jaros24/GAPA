{
 "cells": [
  {
   "cell_type": "code",
   "execution_count": 1,
   "metadata": {},
   "outputs": [],
   "source": [
    "import numpy as np\n",
    "import matplotlib.pyplot as plt\n",
    "import random\n",
    "import math\n",
    "import os, sys\n",
    "from PIL import Image\n",
    "from tqdm import tqdm"
   ]
  },
  {
   "cell_type": "code",
   "execution_count": 2,
   "metadata": {},
   "outputs": [],
   "source": [
    "image_dir = '/mnt/analysis/e17023/Adam/10% var PA/images/' # directory of images\n",
    "output_dir = '/mnt/analysis/e17023/Adam/10% var PA/aug_images/' # directory to save augmented images\n",
    "image_list = os.listdir(image_dir) # list of images"
   ]
  },
  {
   "cell_type": "code",
   "execution_count": 3,
   "metadata": {},
   "outputs": [],
   "source": [
    "# generate circle mask for padplane validation\n",
    "circle_mask = np.ones((145,145))\n",
    "for i in range(145):\n",
    "    for j in range(145):\n",
    "        if math.sqrt((i-72)**2 + (j-72)**2) <= 72:\n",
    "            circle_mask[i,j] = 0"
   ]
  },
  {
   "cell_type": "code",
   "execution_count": 4,
   "metadata": {},
   "outputs": [
    {
     "name": "stderr",
     "output_type": "stream",
     "text": [
      "  0%|          | 0/19027 [00:00<?, ?it/s]"
     ]
    },
    {
     "name": "stderr",
     "output_type": "stream",
     "text": [
      "100%|██████████| 19027/19027 [05:39<00:00, 56.06it/s]\n"
     ]
    }
   ],
   "source": [
    "for i in tqdm(range(len(image_list))):\n",
    "    image = Image.open(image_dir + image_list[i]) # open image\n",
    "    image = np.array(image)[:,:,:3] # convert to numpy array\n",
    "    \n",
    "    # extract padplane from image\n",
    "    padplane_bounds = ((3,40),(148,185))\n",
    "    padplane = image[padplane_bounds[0][0]:padplane_bounds[1][0], padplane_bounds[0][1]:padplane_bounds[1][1], :]\n",
    "    \n",
    "    # extract track from padplane\n",
    "    track = padplane[:,:,0].copy() # copy red channel for track\n",
    "    track[track == 255] = 0 # set white to black\n",
    "    track_bounds = np.where(track != 0) # get track bounds\n",
    "    track_bounds = ((min(track_bounds[0]), max(track_bounds[0])+1), (min(track_bounds[1]), max(track_bounds[1])+1))\n",
    "    track = track[track_bounds[0][0]:track_bounds[0][1], track_bounds[1][0]:track_bounds[1][1]] # crop track\n",
    "    \n",
    "    # place track in random valid location on padplane\n",
    "    in_bounds = False\n",
    "    iters = 0\n",
    "    while not in_bounds:\n",
    "        padplane[:,:,0] = padplane[:,:,2]; padplane[:,:,1] = padplane[:,:,2] # blank padplane\n",
    "        loc = (random.randint(0, 36 - (track.shape[0] + 1) // 4), random.randint(0, 36 - (track.shape[1] + 1)//4)) # random location\n",
    "        \n",
    "        # insert track into padplane    \n",
    "        padplane[loc[0]*4+1:loc[0]*4+track.shape[0]+1, loc[1]*4+1:loc[1]*4+track.shape[1]+1,0] += track # red\n",
    "        padplane[loc[0]*4+1:loc[0]*4+track.shape[0]+1, loc[1]*4+1:loc[1]*4+track.shape[1]+1,1] += track # green\n",
    "        \n",
    "        # test for track within radius of padplane\n",
    "        test_padplane = padplane.copy()\n",
    "        test_padplane *= circle_mask[:,:,np.newaxis].astype(padplane.dtype)\n",
    "        if np.sum(test_padplane[:,:,0]) == np.sum(test_padplane[:,:,2]):\n",
    "            in_bounds = True\n",
    "        else: # track is outside radius, try again\n",
    "            iters += 1\n",
    "            if iters > 100:\n",
    "                print('too many iterations')\n",
    "                break\n",
    "    \n",
    "    # randomly rotate padplane\n",
    "    padplane = np.rot90(padplane, random.randint(0,3), (0,1)) \n",
    "    \n",
    "    # place padplane back into image\n",
    "    image[padplane_bounds[0][0]:padplane_bounds[1][0], padplane_bounds[0][1]:padplane_bounds[1][1], :] = padplane\n",
    "    \n",
    "    # save image\n",
    "    plt.imsave(output_dir + image_list[i], image)"
   ]
  }
 ],
 "metadata": {
  "kernelspec": {
   "display_name": "Python 3",
   "language": "python",
   "name": "python3"
  },
  "language_info": {
   "codemirror_mode": {
    "name": "ipython",
    "version": 3
   },
   "file_extension": ".py",
   "mimetype": "text/x-python",
   "name": "python",
   "nbconvert_exporter": "python",
   "pygments_lexer": "ipython3",
   "version": "3.7.3"
  }
 },
 "nbformat": 4,
 "nbformat_minor": 2
}
