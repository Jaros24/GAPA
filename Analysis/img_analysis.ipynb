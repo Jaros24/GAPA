{
 "cells": [
  {
   "cell_type": "code",
   "execution_count": 1,
   "metadata": {},
   "outputs": [],
   "source": [
    "import numpy as np\n",
    "import matplotlib.pyplot as plt\n",
    "import pandas as pd\n",
    "import random\n",
    "import math\n",
    "import os, sys\n",
    "from PIL import Image\n",
    "from tqdm import tqdm\n",
    "import time"
   ]
  },
  {
   "cell_type": "code",
   "execution_count": 2,
   "metadata": {},
   "outputs": [],
   "source": [
    "def get_energy(image, scale=3000):\n",
    "    # extract energy bar from image\n",
    "    ebar_bounds = ((5,8),(145,17))\n",
    "    ebar = image[ebar_bounds[0][0]:ebar_bounds[1][0], ebar_bounds[0][1]:ebar_bounds[1][1], :]\n",
    "\n",
    "    ebar_slice = np.array([np.mean(ebar[i,1,:]) for i in range(ebar.shape[0])]) # 1d slice of energy bar\n",
    "    for i in range(ebar_slice.shape[0]):\n",
    "        if ebar_slice[i] != 255:\n",
    "            break\n",
    "    proportion_filled = 1 - (i-1)/ebar_slice.shape[0] # proportion of energy bar filled (0-1)\n",
    "    event_energy = (proportion_filled * scale) # scale to max energy\n",
    "    return event_energy"
   ]
  },
  {
   "cell_type": "code",
   "execution_count": 3,
   "metadata": {},
   "outputs": [],
   "source": [
    "def get_track(image):\n",
    "    # extract padplane from image\n",
    "    padplane_bounds = ((3,40),(148,185))\n",
    "    padplane = image[padplane_bounds[0][0]:padplane_bounds[1][0], padplane_bounds[0][1]:padplane_bounds[1][1], :]\n",
    "    \n",
    "    # extract track from padplane\n",
    "    track = padplane[:,:,0].copy() # copy red channel for track\n",
    "    track[track == 255] = 0 # set white to black\n",
    "    track_bounds = np.where(track != 0) # get track bounds\n",
    "    track_bounds = ((min(track_bounds[0]), max(track_bounds[0])+1), (min(track_bounds[1]), max(track_bounds[1])+1))\n",
    "    track = track[track_bounds[0][0]:track_bounds[0][1], track_bounds[1][0]:track_bounds[1][1]] # crop track\n",
    "    track = track[::4,::4] # downsample track to remove grid effect\n",
    "    return track"
   ]
  },
  {
   "cell_type": "code",
   "execution_count": 4,
   "metadata": {},
   "outputs": [],
   "source": [
    "def get_trace(image):\n",
    "    trace_img = image[150:,:,0] # extract trace from image\n",
    "    trace_cumsum = np.cumsum(255-trace_img, axis=0) # cumulative sum of trace\n",
    "    trace = trace_cumsum[-1,:].astype(float) # height of trace at each pixel\n",
    "    \n",
    "    trace_diff = np.abs(np.diff(trace))\n",
    "    edges = np.arange(trace_diff.shape[0])[trace_diff > 100] # find edges of trace\n",
    "    \n",
    "    # crop trace_height to edges\n",
    "    trace = trace[edges[0]+5:edges[-1]-5]\n",
    "    \n",
    "    # set baseline to average of first and last 10 pixels\n",
    "    baseline = np.mean(np.concatenate((trace[:10], trace[-10:])))\n",
    "    trace -= baseline # subtract baseline\n",
    "    trace[trace < 0] = 0 # set negative values to 0\n",
    "    \n",
    "    return trace"
   ]
  },
  {
   "cell_type": "code",
   "execution_count": 5,
   "metadata": {},
   "outputs": [],
   "source": [
    "def get_trace_width(trace):\n",
    "    tsum1 = np.cumsum(trace)\n",
    "    tsum2 = np.cumsum(trace[::-1])[::-1]\n",
    "    # find edges of trace peak\n",
    "    cutoff=np.mean(trace) \n",
    "    ledge=np.arange(tsum1.shape[0])[tsum1 >= cutoff][0]\n",
    "    redge=np.arange(tsum2.shape[0])[tsum2 >= cutoff][-1]\n",
    "    return redge - ledge"
   ]
  },
  {
   "cell_type": "code",
   "execution_count": 6,
   "metadata": {},
   "outputs": [],
   "source": [
    "def get_track_dimensions(track):\n",
    "    length = (track.shape[0]**2 + track.shape[1]**2)**0.5 # length of track\n",
    "    num_pads = track[track>0].reshape(-1).shape[0] # pads in track\n",
    "    width = num_pads / length # width of track\n",
    "    return length, width, num_pads"
   ]
  },
  {
   "cell_type": "code",
   "execution_count": 7,
   "metadata": {},
   "outputs": [],
   "source": [
    "def get_event_length(length, trace_width):\n",
    "    # weight of trace in length calculation\n",
    "    # obtained by minimizing the standard deviation of the length calculation for events of the same energy\n",
    "    trace_weight = 0.59176\n",
    "    \n",
    "    scale = 1/2.2 # scale factor for length calculation (pads to mm)\n",
    "    overshoot = 0 # overshoot of length calculation (mm)\n",
    "    \n",
    "    return scale*(length**2 + trace_weight*trace_width**2)**0.5 - overshoot"
   ]
  },
  {
   "cell_type": "code",
   "execution_count": 8,
   "metadata": {},
   "outputs": [
    {
     "name": "stderr",
     "output_type": "stream",
     "text": [
      "1001it [00:07, 128.79it/s]\n"
     ]
    }
   ],
   "source": [
    "image_dir = \"/mnt/analysis/e17023/Adam/GADGET2/simOutput/images/\"\n",
    "i = 0\n",
    "\n",
    "data_df = pd.DataFrame(columns=['sim','event','energy','length','width','padnum'])\n",
    "\n",
    "for i, img in tqdm(enumerate([f for f in os.listdir(image_dir) if f.endswith('.png')])):\n",
    "    img_array = np.array(Image.open(image_dir + img))[:,:,:3]\n",
    "    \n",
    "    # extract data from image\n",
    "    event_energy = get_energy(img_array)\n",
    "    track = get_track(img_array)\n",
    "    trace = get_trace(img_array)\n",
    "    \n",
    "    # normalize energy\n",
    "    track = event_energy * track / np.sum(track) # assumes all energy is represented in track pixels, bad with high threshold\n",
    "    trace = event_energy * trace / np.sum(trace)\n",
    "    \n",
    "    trace_width = get_trace_width(trace)\n",
    "    track_length, track_width, num_pads = get_track_dimensions(track)\n",
    "    \n",
    "    event_length = get_event_length(track_length, trace_width)\n",
    "    \n",
    "    sim_name = img.split('_')[0]\n",
    "    event = img.split('_')[1].split('.')[0]\n",
    "    data_df.loc[i] = [sim_name, event, event_energy, event_length, track_width, num_pads]\n",
    "    \n",
    "    if i > 1000:\n",
    "        break    "
   ]
  },
  {
   "cell_type": "code",
   "execution_count": 9,
   "metadata": {},
   "outputs": [
    {
     "name": "stdout",
     "output_type": "stream",
     "text": [
      "VarSim199_73.png | 1842.857142857143 keV\n"
     ]
    },
    {
     "data": {
      "image/png": "[encoded data removed]",
      "text/plain": [
       "<Figure size 1200x400 with 3 Axes>"
      ]
     },
     "metadata": {},
     "output_type": "display_data"
    }
   ],
   "source": [
    "# display img_array, track, and trace\n",
    "print(f\"{img} | {event_energy} keV\")\n",
    "fig, ax = plt.subplots(1,3, figsize=(12,4))\n",
    "ax[0].imshow(img_array)\n",
    "ax[1].imshow(track, cmap='inferno')\n",
    "ax[2].plot(trace, color='black')\n",
    "\n",
    "# hide axes for 0 and 1\n",
    "ax[0].axis('off')\n",
    "ax[1].axis('off')\n",
    "\n",
    "plt.show()"
   ]
  },
  {
   "cell_type": "code",
   "execution_count": null,
   "metadata": {},
   "outputs": [],
   "source": []
  }
 ],
 "metadata": {
  "kernelspec": {
   "display_name": "Python 3",
   "language": "python",
   "name": "python3"
  },
  "language_info": {
   "codemirror_mode": {
    "name": "ipython",
    "version": 3
   },
   "file_extension": ".py",
   "mimetype": "text/x-python",
   "name": "python",
   "nbconvert_exporter": "python",
   "pygments_lexer": "ipython3",
   "version": "3.7.3"
  }
 },
 "nbformat": 4,
 "nbformat_minor": 2
}
