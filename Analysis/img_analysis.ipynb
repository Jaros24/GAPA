{
 "cells": [
  {
   "cell_type": "code",
   "execution_count": 14,
   "metadata": {},
   "outputs": [],
   "source": [
    "import numpy as np\n",
    "import matplotlib.pyplot as plt\n",
    "import pandas as pd\n",
    "import random\n",
    "import math\n",
    "import os, sys\n",
    "from PIL import Image\n",
    "from tqdm import tqdm\n",
    "import time"
   ]
  },
  {
   "cell_type": "code",
   "execution_count": 15,
   "metadata": {},
   "outputs": [],
   "source": [
    "def get_energy(image, scale=3000):\n",
    "    # extract energy bar from image\n",
    "    ebar_bounds = ((5,8),(145,17))\n",
    "    ebar = image[ebar_bounds[0][0]:ebar_bounds[1][0], ebar_bounds[0][1]:ebar_bounds[1][1], :]\n",
    "\n",
    "    ebar_slice = np.array([np.mean(ebar[i,1,:]) for i in range(ebar.shape[0])]) # 1d slice of energy bar\n",
    "    for i in range(ebar_slice.shape[0]):\n",
    "        if ebar_slice[i] != 255:\n",
    "            break\n",
    "    proportion_filled = 1 - (i-1)/ebar_slice.shape[0] # proportion of energy bar filled (0-1)\n",
    "    event_energy = (proportion_filled * scale) # scale to max energy\n",
    "    event_energy += 27.766 # offset to match data\n",
    "    return event_energy"
   ]
  },
  {
   "cell_type": "code",
   "execution_count": 16,
   "metadata": {},
   "outputs": [],
   "source": [
    "def get_track(image):\n",
    "    # extract padplane from image\n",
    "    padplane_bounds = ((3,40),(148,185))\n",
    "    padplane = image[padplane_bounds[0][0]:padplane_bounds[1][0], padplane_bounds[0][1]:padplane_bounds[1][1], :]\n",
    "    \n",
    "    # extract track from padplane\n",
    "    track = padplane[:,:,0].copy() # copy red channel for track\n",
    "    track[track == 255] = 0 # set white to black\n",
    "    track_bounds = np.where(track != 0) # get track bounds\n",
    "    track_bounds = ((min(track_bounds[0]), max(track_bounds[0])+1), (min(track_bounds[1]), max(track_bounds[1])+1))\n",
    "    track = track[track_bounds[0][0]:track_bounds[0][1], track_bounds[1][0]:track_bounds[1][1]] # crop track\n",
    "    track = track[::4,::4] # downsample track to remove grid effect\n",
    "    return track"
   ]
  },
  {
   "cell_type": "code",
   "execution_count": 17,
   "metadata": {},
   "outputs": [],
   "source": [
    "def get_trace(image):\n",
    "    trace_img = image[150:,:,0] # extract trace from image\n",
    "    trace_cumsum = np.cumsum(255-trace_img, axis=0) # cumulative sum of trace\n",
    "    trace = trace_cumsum[-1,:].astype(float) # height of trace at each pixel\n",
    "    \n",
    "    trace_diff = np.abs(np.diff(trace))\n",
    "    edges = np.arange(trace_diff.shape[0])[trace_diff > 100] # find edges of trace\n",
    "    \n",
    "    # crop trace_height to edges\n",
    "    trace = trace[edges[0]+5:edges[-1]-5]\n",
    "    \n",
    "    # set baseline to average of first and last 10 pixels\n",
    "    baseline = np.mean(np.concatenate((trace[:10], trace[-10:])))\n",
    "    trace -= baseline # subtract baseline\n",
    "    trace[trace < 0] = 0 # set negative values to 0\n",
    "    \n",
    "    return trace"
   ]
  },
  {
   "cell_type": "code",
   "execution_count": 18,
   "metadata": {},
   "outputs": [],
   "source": [
    "def analyze_trace(trace):\n",
    "    tsum1 = np.cumsum(trace)\n",
    "    tsum2 = np.cumsum(trace[::-1])[::-1]\n",
    "    # find edges of trace peak\n",
    "    cutoff=np.mean(trace) \n",
    "    ledge=np.arange(tsum1.shape[0])[tsum1 >= cutoff][0]\n",
    "    redge=np.arange(tsum2.shape[0])[tsum2 >= cutoff][-1]\n",
    "    \n",
    "    trace_width = redge - ledge # width of trace peak\n",
    "    \n",
    "    trace = trace[ledge:redge] # crop trace to edges\n",
    "    \n",
    "    trace_max = np.max(trace) # peak height of trace\n",
    "    trace_avg = np.mean(trace) # average height of trace (ignoring baseline)\n",
    "    \n",
    "    # determine number of peaks in trace\n",
    "    trace_diff = np.diff(trace)\n",
    "    trace_diff = np.convolve(trace_diff, np.ones(5), mode='same') # smooth trace_diff with moving average\n",
    "    trace_diff[trace_diff <= 0] = -1 # set negative values to -1\n",
    "    trace_diff[trace_diff > 0] = 1 # set positive values to 1\n",
    "    trace_diff = -1*np.diff(trace_diff) # separate to only look for changes in slope direction\n",
    "    num_peaks = np.sum(trace_diff > 0) # number of peaks in trace\n",
    "    \n",
    "    return trace_width, trace_max, trace_avg, num_peaks"
   ]
  },
  {
   "cell_type": "code",
   "execution_count": 19,
   "metadata": {},
   "outputs": [],
   "source": [
    "def analyze_track(track):\n",
    "    length = (track.shape[0]**2 + track.shape[1]**2)**0.5 # length of track\n",
    "    num_pads = track[track>0].reshape(-1).shape[0] # pads in track\n",
    "    width = num_pads / length # width of track\n",
    "    \n",
    "    # number of pixels in track larger than all surrounding pixels in 3x3 window\n",
    "    num_peaks = np.sum(track[1:-1,1:-1] > np.max(np.array([track[:-2,:-2], track[:-2,1:-1], track[:-2,2:], track[1:-1,:-2], track[1:-1,2:], track[2:,:-2], track[2:,1:-1], track[2:,2:]]), axis=0))\n",
    "    \n",
    "    # pad energy statistics\n",
    "    track = track[track > 0] # remove 0s\n",
    "    max_pad = np.max(track) # highest measured pad energy\n",
    "    min_pad = np.min(track) # lowest measured pad energy\n",
    "    avg_pad = np.mean(track) # average pad energy\n",
    "    \n",
    "    return length, width, num_pads, num_peaks, max_pad, min_pad, avg_pad"
   ]
  },
  {
   "cell_type": "code",
   "execution_count": 20,
   "metadata": {},
   "outputs": [],
   "source": [
    "def get_event_length(length, trace_width):\n",
    "    # weight of trace in length calculation\n",
    "    # obtained by minimizing the standard deviation of the length calculation for events of the same energy\n",
    "    trace_weight = 0.59176\n",
    "    \n",
    "    scale = 1/2.2 # scale factor for length calculation (pads to mm)\n",
    "    overshoot = 0 # overshoot of length calculation (mm)\n",
    "    \n",
    "    return scale*(length**2 + trace_weight*trace_width**2)**0.5 - overshoot"
   ]
  },
  {
   "cell_type": "code",
   "execution_count": 21,
   "metadata": {},
   "outputs": [
    {
     "name": "stderr",
     "output_type": "stream",
     "text": [
      "18it [00:00, 85.85it/s]"
     ]
    },
    {
     "name": "stderr",
     "output_type": "stream",
     "text": [
      "11638it [02:23, 80.88it/s]\n"
     ]
    }
   ],
   "source": [
    "image_dir = \"/mnt/analysis/e17023/Adam/GADGET2/simOutput/images/\"\n",
    "i = 0\n",
    "\n",
    "data_df = pd.DataFrame(columns=[\n",
    "    'sim','event', # from image name\n",
    "    'energy', # from energy bar\n",
    "    'trace_width','trace_max','trace_avg','trace_peaks', # from trace\n",
    "    'track_length','track_width','num_pads','track_peaks','max_pad','min_pad','avg_pad', # from track\n",
    "    'event_length', 'num_peaks', # calculated from track and trace\n",
    "    ])\n",
    "\n",
    "for i, img in tqdm(enumerate([f for f in os.listdir(image_dir) if f.endswith('.png')])):\n",
    "    img_array = np.array(Image.open(image_dir + img))[:,:,:3]\n",
    "    \n",
    "    # name of image and event\n",
    "    sim_name = img.split('_')[0]\n",
    "    event = img.split('_')[1].split('.')[0]\n",
    "    \n",
    "    # extract data from image\n",
    "    event_energy = get_energy(img_array)\n",
    "    track = get_track(img_array)\n",
    "    trace = get_trace(img_array)\n",
    "    \n",
    "    # normalize energy\n",
    "    track = event_energy * track / np.sum(track) # assumes all energy is represented in track pixels, bad with high threshold\n",
    "    trace = event_energy * trace / np.sum(trace)\n",
    "    \n",
    "    trace_width, trace_max, trace_avg, trace_peaks = analyze_trace(trace)\n",
    "    track_length, track_width, num_pads, track_peaks, max_pad, min_pad, avg_pad = analyze_track(track)\n",
    "    \n",
    "    event_length = get_event_length(track_length, trace_width)\n",
    "    num_peaks = np.max((trace_peaks, track_peaks))\n",
    "    \n",
    "    data_df.loc[i] = [sim_name, event,\n",
    "                        event_energy,\n",
    "                        trace_width, trace_max, trace_avg, trace_peaks,\n",
    "                        track_length, track_width, num_pads, track_peaks, max_pad, min_pad, avg_pad,\n",
    "                        event_length, num_peaks\n",
    "                        ]\n",
    "# clean data\n",
    "int_cols = ['event', 'trace_peaks', 'num_pads', 'track_peaks', 'num_peaks', 'trace_width']\n",
    "float_cols = ['energy', 'trace_max', 'trace_avg', 'track_length', 'track_width', 'max_pad', 'min_pad', 'avg_pad', 'event_length']\n",
    "data_df[int_cols] = data_df[int_cols].astype(int)\n",
    "data_df[float_cols] = data_df[float_cols].astype(float).round(3)"
   ]
  },
  {
   "cell_type": "code",
   "execution_count": 22,
   "metadata": {},
   "outputs": [],
   "source": [
    "# save data\n",
    "data_df.to_csv('event_data.csv', index=False)"
   ]
  },
  {
   "cell_type": "code",
   "execution_count": 23,
   "metadata": {},
   "outputs": [],
   "source": [
    "# Per-Simulation Data Analysis\n",
    "analysis_cols = ['sim', 'N']\n",
    "for col in data_df.columns:\n",
    "    if col not in ['sim', 'event']:\n",
    "        analysis_cols.append(col)\n",
    "        analysis_cols.append(col + '_std')\n",
    "\n",
    "sim_data_df = pd.DataFrame(columns=analysis_cols)\n",
    "for sim in data_df['sim'].unique():\n",
    "    sim_data = data_df[data_df['sim'] == sim]\n",
    "    sim_data_df.loc[sim, 'sim'] = sim\n",
    "    sim_data_df.loc[sim, 'N'] = sim_data.shape[0]\n",
    "    for col in sim_data.columns:\n",
    "        if col not in ['sim', 'event']:\n",
    "            sim_data_df.loc[sim, col] = np.mean(sim_data[col])\n",
    "            sim_data_df.loc[sim, col + '_std'] = np.std(sim_data[col])\n",
    "sim_data_df.to_csv('sim_data.csv', index=False)"
   ]
  },
  {
   "cell_type": "code",
   "execution_count": 24,
   "metadata": {},
   "outputs": [],
   "source": [
    "def display_event(sim, event):\n",
    "    img = f\"{sim}_{event}.png\"\n",
    "    img_array = np.array(Image.open(image_dir + img))[:,:,:3]\n",
    "    event_energy = get_energy(img_array)\n",
    "    track = get_track(img_array)\n",
    "    trace = get_trace(img_array)\n",
    "    \n",
    "    print(f\"{img} | {event_energy} keV\")\n",
    "    fig, ax = plt.subplots(1,3, figsize=(12,4))\n",
    "    ax[0].imshow(img_array) \n",
    "    ax[1].imshow(track, cmap='inferno')\n",
    "    ax[2].plot(trace, color='black')\n",
    "    \n",
    "    # hide axes for 0 and 1\n",
    "    ax[0].axis('off')\n",
    "    ax[1].axis('off')\n",
    "    plt.show()\n",
    "    return 0\n"
   ]
  },
  {
   "cell_type": "code",
   "execution_count": 25,
   "metadata": {},
   "outputs": [],
   "source": [
    "#data_df.sort_values(by=['trace_max'], inplace=True, ascending=True)\n",
    "#for [sim, event] in data_df[['sim','event']].values[:10]:\n",
    "#    display_event(sim, event)"
   ]
  },
  {
   "cell_type": "code",
   "execution_count": null,
   "metadata": {},
   "outputs": [],
   "source": []
  }
 ],
 "metadata": {
  "kernelspec": {
   "display_name": "Python 3",
   "language": "python",
   "name": "python3"
  },
  "language_info": {
   "codemirror_mode": {
    "name": "ipython",
    "version": 3
   },
   "file_extension": ".py",
   "mimetype": "text/x-python",
   "name": "python",
   "nbconvert_exporter": "python",
   "pygments_lexer": "ipython3",
   "version": "3.7.3"
  }
 },
 "nbformat": 4,
 "nbformat_minor": 2
}
