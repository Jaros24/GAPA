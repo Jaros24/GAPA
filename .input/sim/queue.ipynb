{
 "cells": [
  {
   "cell_type": "code",
   "execution_count": 81,
   "metadata": {},
   "outputs": [],
   "source": [
    "# Load Packages - KEEP MINIMAL FOR FISHTANK COMPATIBILITY\n",
    "import pandas as pd\n",
    "import numpy as np\n",
    "import os\n",
    "import sys\n",
    "import time\n",
    "from particle import Particle"
   ]
  },
  {
   "cell_type": "code",
   "execution_count": 82,
   "metadata": {},
   "outputs": [
    {
     "name": "stdout",
     "output_type": "stream",
     "text": [
      "Usage: python3 iter-params.py <automation_dir> <attpcroot_dir>\n",
      "Assuming testing directories\n"
     ]
    }
   ],
   "source": [
    "# set locations for working files\n",
    "if len(sys.argv) != 3:\n",
    "    print(\"Usage: python3 iter-params.py <automation_dir> <attpcroot_dir>\")\n",
    "    print('Assuming testing directories')\n",
    "    automation_dir = '/mnt/analysis/e17023/Adam/.sims/0/'\n",
    "    attpcroot_dir = automation_dir + 'ATTPCROOTv2/'\n",
    "else:\n",
    "    # Automation directory\n",
    "    automation_dir = sys.argv[1]\n",
    "    \n",
    "    # ATTPCROOTv2 directory\n",
    "    attpcroot_dir = sys.argv[2]"
   ]
  },
  {
   "cell_type": "code",
   "execution_count": 83,
   "metadata": {},
   "outputs": [],
   "source": [
    "def indicator_file(file_type, indicator_directory=automation_dir):\n",
    "    # remove old indicator file(s)\n",
    "    for file in os.listdir(indicator_directory):\n",
    "        if file.endswith('.tmp'):\n",
    "            os.remove(indicator_directory + file)\n",
    "    \n",
    "    with open(indicator_directory + file_type + '.tmp', 'w') as f:\n",
    "        f.write('1')\n",
    "    if file_type == 'STOP':\n",
    "        print('STOPPING')\n",
    "        sys.exit()\n",
    "    return None"
   ]
  },
  {
   "cell_type": "code",
   "execution_count": 84,
   "metadata": {},
   "outputs": [],
   "source": [
    "def stop_check(indicator_directory):\n",
    "    if os.path.isfile(indicator_directory + 'STOP.tmp'):\n",
    "        print('Stop file found. Stopping.')\n",
    "        indicator_file('STOP')\n",
    "        sys.exit(0)\n",
    "    return None"
   ]
  },
  {
   "cell_type": "code",
   "execution_count": 85,
   "metadata": {},
   "outputs": [],
   "source": [
    "def pdgid_lookup(P):\n",
    "    lookup = {\n",
    "        # for short-hand notations of particles\n",
    "        'p': 2212, # proton\n",
    "        'proton' : 2212,\n",
    "        'a': 1000020040, # alpha\n",
    "        'alpha' : 1000020040,\n",
    "        'b' : 11, # beta\n",
    "        'beta' : 11,\n",
    "        'e' : 11, # electron\n",
    "        'electron' : 11,\n",
    "        'g' : 22, # gamma\n",
    "        'gamma' : 22,\n",
    "    }\n",
    "    try:\n",
    "        int(P) # check if P is an integer (PDGID)\n",
    "        return P\n",
    "    except ValueError:\n",
    "        return lookup[P.lower()]\n",
    "    except KeyError:\n",
    "        indicator_file('STOP')\n",
    "        raise Exception('Error: Unsupported particle type specified')"
   ]
  },
  {
   "cell_type": "code",
   "execution_count": 86,
   "metadata": {},
   "outputs": [],
   "source": [
    "def energy_to_momentum(energy, particle):\n",
    "    # input energy in KeV, convert to MeV\n",
    "    energy = energy/1000\n",
    "    \n",
    "    pdgid = pdgid_lookup(particle)\n",
    "    P = Particle.from_pdgid(pdgid)\n",
    "    mass = P.mass # MeV/c^2 (rest mass)\n",
    "    \n",
    "    momentum = np.sqrt(2*mass*energy)/1000 # GeV/c\n",
    "    return momentum"
   ]
  },
  {
   "cell_type": "code",
   "execution_count": 87,
   "metadata": {},
   "outputs": [],
   "source": [
    "def write_gadgetsimpar(parameters, active_sim, automation_dir=automation_dir, attpcroot_dir=attpcroot_dir):\n",
    "    with open(automation_dir + 'GADGET.sim.par', 'r') as file:\n",
    "        filedata = file.readlines()\n",
    "    for param in parameters.columns:\n",
    "        for i, line in enumerate(filedata):\n",
    "            if param == line.split(':')[0]:\n",
    "                # Line composition:     param:ptype_t   paramval   # units / comments\n",
    "                ptype = line.split(':')[1].split('_')[0]\n",
    "                paramval = parameters.loc[active_sim, param]\n",
    "                filedata[i] = param + ': ' + ptype + '_t     ' + str(paramval) + '     #' + line.split('#')[1]\n",
    "    with open(attpcroot_dir + 'parameters/GADGET.sim.par', 'w') as file:\n",
    "        file.writelines(filedata)\n",
    "    return None"
   ]
  },
  {
   "cell_type": "code",
   "execution_count": 88,
   "metadata": {},
   "outputs": [],
   "source": [
    "def write_AtTPC20MgDecay_pag(parameters, active_sim, automation_dir=automation_dir, attpcroot_dir=attpcroot_dir):\n",
    "    P0 = parameters.loc[active_sim, 'P0']; E0 = parameters.loc[active_sim, 'E0']\n",
    "    P1 = parameters.loc[active_sim, 'P1']; E1 = parameters.loc[active_sim, 'E1']\n",
    "    b2b = False\n",
    "    if str(P1).startswith('-'):\n",
    "        b2b = True # back-to-back event\n",
    "        P1 = str(P1)[1:]\n",
    "    with open(automation_dir + 'AtTPC20MgDecay_pag.cxx', 'r') as file :\n",
    "        filedata = file.readlines()\n",
    "    for i, line in enumerate(filedata):\n",
    "        if 'P0' in line.split('//')[-1]:\n",
    "            filedata[i] = line.split('=')[0] + '= ' + str(pdgid_lookup(P0)) + '; // P0\\n'\n",
    "        if 'E0' in line.split('//')[-1]:\n",
    "            filedata[i] = line.split('=')[0] + '= ' + str(energy_to_momentum(E0, P0)) + '; // E0\\n'\n",
    "\n",
    "        if 'P1' in line.split('//')[-1]:\n",
    "            filedata[i] = line.split('=')[0] + '= ' + str(pdgid_lookup(P1)) + '; // P1\\n'\n",
    "        if 'E1' in line.split('//')[-1]:\n",
    "            filedata[i] = line.split('=')[0] + '= ' + str(energy_to_momentum(E1, P1)) + '; // E1\\n'\n",
    "\n",
    "        if \"Seed\" in line.split('//')[-1]:\n",
    "            if 'Seed' in parameters.columns:\n",
    "                if parameters.loc[active_sim, 'Seed'] != 0:\n",
    "                    filedata[i] = line.split('(')[0] + '(' + str(parameters.loc[active_sim, 'Seed']) + '); // Seed\\n'\n",
    "\n",
    "        if 'Efficiency Fix' in line.split('//')[-1]: # place event origin on opposite side of detector to avoid efficiency issues\n",
    "            if 'Xb' in parameters.columns:\n",
    "                if parameters.loc[active_sim, 'Xb'] != 99:\n",
    "                    filedata[i] = '// ' + line # comment out line if Xb is not 99 (default behavior unless specified)\n",
    "            else:\n",
    "                filedata[i] = '// ' + line # comment out line if Xb isn't specified (default behavior)\n",
    "\n",
    "        if 'b2b' in line.split('//')[-1]:\n",
    "            if b2b: # back-to-back event\n",
    "                if 'thetaAlpha' in line: # reference and flip proton theta\n",
    "                    filedata[i] = line.split('=')[0] + '= -1 * ' + line.split('=')[1].split('(')[0] + '(thetaProton); // b2b\\n'\n",
    "                if 'phiAlpha' in line: # reference proton phi\n",
    "                    filedata[i] = line.split('(')[0] + '(phiProton); // b2b\\n'\n",
    "    \n",
    "    with open(attpcroot_dir + \"AtGenerators/AtTPC20MgDecay_pag.cxx\" , 'w') as file:\n",
    "        file.writelines(filedata)\n",
    "    return None"
   ]
  },
  {
   "cell_type": "code",
   "execution_count": 89,
   "metadata": {},
   "outputs": [],
   "source": [
    "def write_Mg20_test_sim(parameters, active_sim, automation_dir=automation_dir, attpcroot_dir=attpcroot_dir):\n",
    "    with open(automation_dir + 'Mg20_test_sim_pag.C', 'r') as file:\n",
    "        filedata = file.readlines()\n",
    "    E0 = parameters.loc[active_sim, 'E0']; E1 = parameters.loc[active_sim, 'E1']\n",
    "    \n",
    "    # Modify particle momentum\n",
    "    for i, line in enumerate(filedata):\n",
    "        if 'P0 E0' in line.split('//')[-1]:\n",
    "            filedata[i] = line.split('(')[0] + '(' + str(E0 / 1000000) + ', 1); // P0 E0\\n'\n",
    "\n",
    "        if 'P1 E1' in line.split('//')[-1]:\n",
    "            if E1 == 0:\n",
    "                filedata[i] = '// ' + line\n",
    "            else:\n",
    "                filedata[i] = line.split('(')[0] + '(' + str(E1 / 1000000) + ', 1); // P1 E1\\n'\n",
    "\n",
    "    # modify particle origin\n",
    "    for i, line in enumerate(filedata):\n",
    "        if 'bounds' in line.split('//')[-1]:\n",
    "            Xb1 = -2; Xb2 = 2; Yb1 = -2; Yb2 = 2; Zb1 = 10; Zb2 = 40\n",
    "            if 'Xb' in parameters.columns:\n",
    "                Xb1 = -1*parameters.loc[active_sim, 'Xb']\n",
    "                Xb2 = parameters.loc[active_sim, 'Xb']\n",
    "            if 'Yb' in parameters.columns:\n",
    "                Yb1 = -1*parameters.loc[active_sim, 'Yb']\n",
    "                Yb2 = parameters.loc[active_sim, 'Yb']\n",
    "            if 'Zb1' in parameters.columns:\n",
    "                Zb1 = parameters.loc[active_sim, 'Zb1']\n",
    "            if 'Zb2' in parameters.columns:\n",
    "                Zb2 = parameters.loc[active_sim, 'Zb2']\n",
    "\n",
    "            filedata[i] = line.split('(')[0] + '(' + str(Xb1) + ', ' + str(Yb1) + ', ' + str(Zb1) + ', ' + str(Xb2) + ', ' + str(Yb2) + ', ' + str(Zb2) + '); // bounds\\n'\n",
    "\n",
    "    # modify number of particles\n",
    "    if 'N' in parameters.columns:\n",
    "        filedata[0] = filedata[0].split('=')[0] + '= ' + str(int(parameters.loc[active_sim, 'N'])) + ',' + filedata[0].split(',')[-1]\n",
    "\n",
    "    with open(attpcroot_dir + 'macro/Simulation/Charge_Dispersion/Mg20_test_sim_pag.C', 'w') as file:\n",
    "        file.writelines(filedata)\n",
    "    return None"
   ]
  },
  {
   "cell_type": "code",
   "execution_count": 90,
   "metadata": {},
   "outputs": [],
   "source": [
    "def write_rundigi_sim_CD(parameters, active_sim, automation_dir=automation_dir, attpcroot_dir=attpcroot_dir):\n",
    "    with open(automation_dir + 'rundigi_sim_CD.C', 'r') as file:\n",
    "        filedata = file.readlines()\n",
    "\n",
    "    # modify number of particles\n",
    "    for i, line in enumerate(filedata):\n",
    "        if ' N\\n' == line.split('//')[-1]:\n",
    "            if 'N' in parameters.columns:\n",
    "                filedata[i] = line.split(',')[0] + ', ' + str(int(parameters.loc[active_sim, 'N'])) + '); // N\\n'\n",
    "\n",
    "    # modify Threshold\n",
    "    for i, line in enumerate(filedata):\n",
    "        if 'Threshold' in line.split('//')[-1]:\n",
    "            if 'Threshold' in parameters.columns:\n",
    "                threshold = parameters.loc[active_sim, 'Threshold']\n",
    "            else:\n",
    "                threshold = 87\n",
    "\n",
    "            filedata[i] = line.split('(')[0] + '(' + str(threshold) + '); // Threshold\\n'\n",
    "\n",
    "    # modify Charge Dispersion Adjacent Pads\n",
    "    for i, line in enumerate(filedata):\n",
    "        if 'Charge Dispersion' in line.split('//')[-1]:\n",
    "            if 'CD' in parameters.columns:\n",
    "                filedata[i] = line.split('(')[0] + '(' + str(int(str(parameters.loc[active_sim, 'CD'])[0])) + '); // Charge Dispersion\\n'\n",
    "\n",
    "    # write file\n",
    "    with open(attpcroot_dir + 'macro/Simulation/Charge_Dispersion/rundigi_sim_CD.C', 'w') as file:\n",
    "        file.writelines(filedata)\n",
    "    return None"
   ]
  },
  {
   "cell_type": "code",
   "execution_count": 91,
   "metadata": {},
   "outputs": [],
   "source": [
    "def write_AtPulseGADGET(parameters, active_sim, automation_dir=automation_dir, attpcroot_dir=attpcroot_dir):\n",
    "    # Charge Dispersion in AtPulseGADGET.h\n",
    "    with open(automation_dir + 'AtPulseGADGET.h', 'r') as file:\n",
    "        filedata = file.readlines()\n",
    "    for i, line in enumerate(filedata):\n",
    "        if 'CDH' in line.split('//')[-1]:\n",
    "            # set value to CDH, or CD if CDH is not specified\n",
    "            if 'CD' in parameters.columns:\n",
    "                filedata[i] = line.split('=')[0] + '= ' + str(int(str(parameters.loc[active_sim, 'CD'])[0])) + '; // CDH\\n'\n",
    "                indicator_file('BUILD')\n",
    "            \n",
    "            if 'CDH' in parameters.columns:\n",
    "                filedata[i] = line.split('=')[0] + '= ' + str(int(parameters.loc[active_sim, 'CDH'])) + '; // CDH\\n'\n",
    "                indicator_file('BUILD')\n",
    "\n",
    "    with open(attpcroot_dir + 'AtDigitization/AtPulseGADGET.h', 'w') as file:\n",
    "        file.writelines(filedata)\n",
    "    return None"
   ]
  },
  {
   "cell_type": "code",
   "execution_count": null,
   "metadata": {},
   "outputs": [],
   "source": [
    "def write_AtPulseGADGETcxx(parameters, active_sim, automation_dir=automation_dir, attpcroot_dir=attpcroot_dir):\n",
    "    # Charge Dispersion approximation in AtPulseGADGET.cxx\n",
    "    with open(automation_dir + 'AtPulseGADGET.cxx', 'r') as file:\n",
    "        filedata = file.readlines()\n",
    "    \n",
    "    # if CD contains 'a', use approximation\n",
    "    if 'CD' in parameters.columns:\n",
    "        if 'a' in str(parameters.loc[active_sim, 'CD']):\n",
    "            for i, line in enumerate(filedata):\n",
    "                if 'TMath::Erf' in line:\n",
    "                    filedata[i] = line.split('TMath::Erf')[0] + 'erfApproxWinitzki' + line.split('TMath::Erf')[1]\n",
    "    \n",
    "    with open(attpcroot_dir + 'AtDigitization/AtPulseGADGET.cxx', 'w') as file:\n",
    "        file.writelines(filedata)\n",
    "    return None\n"
   ]
  },
  {
   "cell_type": "code",
   "execution_count": null,
   "metadata": {},
   "outputs": [],
   "source": [
    "def write_mediageo(parameters, active_sim, automation_dir=automation_dir, attpcroot_dir=attpcroot_dir):\n",
    "    with open(automation_dir + 'media.geo', 'r') as file:\n",
    "        filedata = file.readlines()\n",
    "    changed = False\n",
    "    \n",
    "    # no current parameters to modify\n",
    "    \n",
    "    if changed: # create geo.temp to indicate geometry update\n",
    "        os.system(f\"touch {automation_dir}geo.temp\")\n",
    "    \n",
    "    with open(attpcroot_dir + 'geometry/media.geo', 'w') as file:\n",
    "        file.writelines(filedata)\n",
    "    return None"
   ]
  },
  {
   "cell_type": "code",
   "execution_count": null,
   "metadata": {},
   "outputs": [],
   "source": [
    "def write_geometry(parameters, active_sim, automation_dir=automation_dir, attpcroot_dir=attpcroot_dir):\n",
    "    with open(automation_dir + 'GADGET_II.C', 'r') as file:\n",
    "        filedata = file.readlines()\n",
    "    \n",
    "    changed = False\n",
    "    \n",
    "    if 'MediumGas' in parameters.columns:\n",
    "        # replace all instances of 'GADGET_5IsoAr_800' with MediumGas\n",
    "        for i, line in enumerate(filedata):\n",
    "            if 'GADGET_5IsoAr_800' in line:\n",
    "                filedata[i] = line.replace('GADGET_5IsoAr_800', parameters.loc[active_sim, 'MediumGas'])\n",
    "                changed = True\n",
    "    \n",
    "    if changed: # create geo.temp to indicate geometry update\n",
    "        os.system(f\"touch {automation_dir}geo.temp\")\n",
    "    \n",
    "    with open(attpcroot_dir + 'geometry/GADGET_II.C', 'w') as file:\n",
    "        file.writelines(filedata)\n",
    "    return None"
   ]
  },
  {
   "cell_type": "code",
   "execution_count": 92,
   "metadata": {},
   "outputs": [
    {
     "name": "stdout",
     "output_type": "stream",
     "text": [
      "ParticleTest.h5\n"
     ]
    },
    {
     "ename": "SystemExit",
     "evalue": "0",
     "output_type": "error",
     "traceback": [
      "An exception has occurred, use %tb to see the full traceback.\n",
      "\u001b[0;31mSystemExit\u001b[0m\u001b[0;31m:\u001b[0m 0\n"
     ]
    },
    {
     "name": "stderr",
     "output_type": "stream",
     "text": [
      "/user/jaros/.local/lib/python3.7/site-packages/IPython/core/interactiveshell.py:3561: UserWarning: To exit: use 'exit', 'quit', or Ctrl-D.\n",
      "  warn(\"To exit: use 'exit', 'quit', or Ctrl-D.\", stacklevel=1)\n"
     ]
    }
   ],
   "source": [
    "start_time = time.time()\n",
    "while True: # WAIT LOOP\n",
    "    stop_check(automation_dir)\n",
    "    parameters = pd.read_csv(automation_dir + 'param.csv')\n",
    "    \n",
    "    if len(parameters[parameters['Status'] == 1]) > 0:\n",
    "        indicator_file('STOP') # error if this file detects active simulations\n",
    "    \n",
    "    if not parameters['Sim'].is_unique:\n",
    "        indicator_file('STOP') # sim names must be unique\n",
    "    \n",
    "    inactive_sims = parameters[parameters['Status'] == 0]\n",
    "    if len(inactive_sims) == 0:\n",
    "        indicator_file('WAIT') # no inactive simulations\n",
    "    else:\n",
    "        active_sim = inactive_sims.index[0] # first inactive simulation\n",
    "        parameters.loc[active_sim, 'Status'] = 1\n",
    "        if 'Time' in parameters.columns:\n",
    "            parameters.loc[active_sim, 'Time'] = time.time()\n",
    "        print(f\"{parameters.loc[active_sim, 'Sim']}.h5\")\n",
    "        \n",
    "        write_gadgetsimpar(parameters, active_sim)\n",
    "        write_AtTPC20MgDecay_pag(parameters, active_sim)\n",
    "        write_Mg20_test_sim(parameters, active_sim)\n",
    "        write_rundigi_sim_CD(parameters, active_sim)\n",
    "        write_AtPulseGADGET(parameters, active_sim)\n",
    "        write_AtPulseGADGETcxx(parameters, active_sim)\n",
    "        \n",
    "        parameters.to_csv(automation_dir + 'param.csv', index=False)\n",
    "        indicator_file('RUN')\n",
    "        sys.exit(0)\n",
    "    \n",
    "    time.sleep(1) # wait 1 second before checking again\n",
    "    \n",
    "    if time.time() - start_time > 300:\n",
    "        print('Timeout') # timeout after 5 minutes of waiting\n",
    "        indicator_file('STOP')"
   ]
  }
 ],
 "metadata": {
  "kernelspec": {
   "display_name": "Python 3",
   "language": "python",
   "name": "python3"
  },
  "language_info": {
   "codemirror_mode": {
    "name": "ipython",
    "version": 3
   },
   "file_extension": ".py",
   "mimetype": "text/x-python",
   "name": "python",
   "nbconvert_exporter": "python",
   "pygments_lexer": "ipython3",
   "version": "3.7.3"
  },
  "vscode": {
   "interpreter": {
    "hash": "916dbcbb3f70747c44a77c7bcd40155683ae19c65e1c03b4aa3499c5328201f1"
   }
  }
 },
 "nbformat": 4,
 "nbformat_minor": 4
}
