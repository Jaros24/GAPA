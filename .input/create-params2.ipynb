{
 "cells": [
  {
   "cell_type": "code",
   "execution_count": 14,
   "metadata": {},
   "outputs": [],
   "source": [
    "import pandas as pd\n",
    "import numpy as np\n",
    "import matplotlib.pyplot as plt\n",
    "import random\n",
    "import math\n",
    "import sys, os"
   ]
  },
  {
   "cell_type": "code",
   "execution_count": null,
   "metadata": {},
   "outputs": [],
   "source": [
    "automation_dir = \"/mnt/analysis/e17023/Adam/GADGET2/\""
   ]
  },
  {
   "cell_type": "code",
   "execution_count": 15,
   "metadata": {},
   "outputs": [],
   "source": [
    "P0 = 'p'\n",
    "P1 = 'a'\n",
    "N = 100\n",
    "N_full = 20000\n",
    "uniform_params = {\n",
    "    'E0' : [500, 2200],\n",
    "    'E1' : [0.001, 0.01],\n",
    "    'CD' : [1, 3],\n",
    "    'CDH' : [1, 3]}\n",
    "pv = 1.3\n",
    "multiplicative_params = {\n",
    "    'Threshold' : [100,4],\n",
    "    'EIonize' : [22.3, pv],\n",
    "    'Fano' : [0.24, pv],\n",
    "    'CoefL' : [0.000114, pv],\n",
    "    'CoefT' : [0.00284, pv],\n",
    "    'Gain' : [8000, pv],\n",
    "    'GETGain' : [120, pv],\n",
    "    'PeakingTime' : [1014, pv],\n",
    "    'GasPressure' : [800, pv]}"
   ]
  },
  {
   "cell_type": "code",
   "execution_count": 16,
   "metadata": {},
   "outputs": [],
   "source": [
    "param_df = pd.DataFrame(columns=['Sim', 'Status', 'P0', 'E0', 'P1', 'E1', 'N'])\n",
    "N_sim = N_full // N\n",
    "for i in range(N_sim):\n",
    "    param_df = param_df.append({'Sim' : f'VarSimCDA{i}', 'Status' : 0, 'N' : N}, ignore_index=True)\n",
    "\n",
    "param_df['P0'] = P0\n",
    "param_df['P1'] = P1\n",
    "\n",
    "for key, value in uniform_params.items():\n",
    "    param_df[key] = np.random.randint(value[0], value[1]+1, N_sim)\n",
    "for key, value in multiplicative_params.items():\n",
    "    dev_k = np.random.uniform(-1,1,N_sim)\n",
    "    param_df[key] = value[0] * (value[1] ** dev_k)\n",
    "\n",
    "# integer keys fix\n",
    "for key in ['CD', 'CDH', 'Threshold', 'Gain', 'GETGain', 'PeakingTime', 'E0', 'E1', 'N']:\n",
    "    param_df[key] = param_df[key].astype(int)\n",
    "\n",
    "# if energy is 0, set to 0.001 to avoid zero-energy errors\n",
    "param_df.loc[param_df['E0'] == 0, 'E0'] = 0.001\n",
    "param_df.loc[param_df['E1'] == 0, 'E1'] = 0.001"
   ]
  },
  {
   "cell_type": "code",
   "execution_count": 17,
   "metadata": {},
   "outputs": [],
   "source": [
    "try: \n",
    "    old_params = pd.read_csv(automation_dir+'.input/parameters_old.csv')\n",
    "except:\n",
    "    old_params = pd.read_csv(automation_dir+'parameters.csv')\n",
    "old_params.to_csv(automation_dir+'.input/parameters_old.csv', index=False)\n",
    "new_params = old_params.append(param_df, ignore_index=True)\n",
    "\n",
    "# set nan values in columns to central values\n",
    "for key, value in uniform_params.items():\n",
    "    new_params.loc[new_params[key].isna(), key] = np.mean(value)\n",
    "for key, value in multiplicative_params.items():\n",
    "    new_params.loc[new_params[key].isna(), key] = value[0]\n",
    "new_params\n",
    "\n",
    "new_params.to_csv(automation_dir+'parameters.csv', index=False)"
   ]
  }
 ],
 "metadata": {
  "kernelspec": {
   "display_name": "Python 3",
   "language": "python",
   "name": "python3"
  },
  "language_info": {
   "codemirror_mode": {
    "name": "ipython",
    "version": 3
   },
   "file_extension": ".py",
   "mimetype": "text/x-python",
   "name": "python",
   "nbconvert_exporter": "python",
   "pygments_lexer": "ipython3",
   "version": "3.7.3"
  }
 },
 "nbformat": 4,
 "nbformat_minor": 2
}
